{
 "cells": [
  {
   "cell_type": "code",
   "execution_count": 1,
   "metadata": {},
   "outputs": [
    {
     "name": "stderr",
     "output_type": "stream",
     "text": [
      "Using TensorFlow backend.\n"
     ]
    }
   ],
   "source": [
    "import tensorflow as tf\n",
    "import numpy as np\n",
    "from tensorflow import keras\n",
    "\n",
    "from tensorflow.keras.utils import to_categorical\n",
    "from tensorflow.keras.metrics import categorical_accuracy, top_k_categorical_accuracy, categorical_crossentropy\n",
    "from keras.preprocessing.sequence import pad_sequences\n",
    "\n",
    "import pandas as pd\n",
    "import matplotlib as mpl\n",
    "import matplotlib.pylab as plt\n",
    "\n",
    "from sklearn.model_selection import train_test_split\n",
    "from sklearn.preprocessing import LabelEncoder\n",
    "\n",
    "\n",
    "import keras.backend as K \n",
    "\n",
    "from keras.callbacks import EarlyStopping,ModelCheckpoint\n",
    "\n",
    "from keras.utils import np_utils\n",
    "from keras.models import Sequential, load_model\n",
    "\n",
    "from keras.layers import BatchNormalization, Conv1D, LSTM,Input, Dense, Dropout,TimeDistributed, Flatten,MaxPooling1D\n",
    "from keras.optimizers import Adam\n",
    "from keras.models import Model\n",
    "\n",
    "from keras.callbacks import ReduceLROnPlateau\n",
    "from keras.applications.mobilenet import MobileNet, decode_predictions\n",
    "from keras.applications.resnet50 import ResNet50, decode_predictions\n",
    "\n",
    "from keras.preprocessing.image import ImageDataGenerator\n",
    "\n",
    "from sklearn.metrics import confusion_matrix, classification_report\n",
    "\n",
    "\n",
    "import random\n",
    "\n",
    "from collections import Counter\n",
    "\n",
    "import ast\n",
    "import os\n",
    "import cv2"
   ]
  },
  {
   "cell_type": "markdown",
   "metadata": {},
   "source": [
    "# ================================================="
   ]
  },
  {
   "cell_type": "code",
   "execution_count": 2,
   "metadata": {},
   "outputs": [],
   "source": [
    "all_data = pd.read_csv(\"true_split_data/dataset_1.csv\")"
   ]
  },
  {
   "cell_type": "markdown",
   "metadata": {},
   "source": [
    "# ================================================="
   ]
  },
  {
   "cell_type": "code",
   "execution_count": 2,
   "metadata": {},
   "outputs": [],
   "source": [
    "path_dir = \"E:/경희대학교/2019_2/데이터분석캡스톤디자인/quick_draw/quickdraw-doodle-recognition/top10/\"\n",
    "file_lst = os.listdir(path_dir)"
   ]
  },
  {
   "cell_type": "code",
   "execution_count": 3,
   "metadata": {},
   "outputs": [
    {
     "name": "stdout",
     "output_type": "stream",
     "text": [
      "airplane.csv\n",
      "bear.csv\n",
      "butterfly.csv\n",
      "cat.csv\n",
      "circle.csv\n",
      "cloud.csv\n",
      "dog.csv\n",
      "door.csv\n",
      "mouse.csv\n",
      "star.csv\n"
     ]
    }
   ],
   "source": [
    "all_data = pd.DataFrame()\n",
    "for i in file_lst:\n",
    "    print(i)\n",
    "    tmp = pd.read_csv(path_dir + i)\n",
    "    tmp = tmp[tmp[\"recognized\"] == True]\n",
    "    ttmp = tmp.iloc[:50000]\n",
    "    all_data = pd.concat([all_data,ttmp],axis = 0)"
   ]
  },
  {
   "cell_type": "code",
   "execution_count": 4,
   "metadata": {},
   "outputs": [],
   "source": [
    "all_data['drawing'] = all_data['drawing'].apply(ast.literal_eval)"
   ]
  },
  {
   "cell_type": "code",
   "execution_count": 5,
   "metadata": {},
   "outputs": [
    {
     "data": {
      "text/plain": [
       "(500000, 6)"
      ]
     },
     "execution_count": 5,
     "metadata": {},
     "output_type": "execute_result"
    }
   ],
   "source": [
    "all_data.shape"
   ]
  },
  {
   "cell_type": "code",
   "execution_count": 6,
   "metadata": {},
   "outputs": [],
   "source": [
    "word_lst = list(all_data['word'].unique())"
   ]
  },
  {
   "cell_type": "code",
   "execution_count": 7,
   "metadata": {},
   "outputs": [],
   "source": [
    "train2, test = train_test_split(all_data, test_size=0.3, shuffle = True, \n",
    "                                random_state = 42,\n",
    "                                stratify = all_data['word'])"
   ]
  },
  {
   "cell_type": "code",
   "execution_count": 8,
   "metadata": {},
   "outputs": [],
   "source": [
    "train, valid=  train_test_split(train2, test_size=0.3, shuffle = True,\n",
    "                                random_state= 42,\n",
    "                                stratify = train2['word'])"
   ]
  },
  {
   "cell_type": "code",
   "execution_count": 9,
   "metadata": {},
   "outputs": [
    {
     "data": {
      "text/html": [
       "<div>\n",
       "<style scoped>\n",
       "    .dataframe tbody tr th:only-of-type {\n",
       "        vertical-align: middle;\n",
       "    }\n",
       "\n",
       "    .dataframe tbody tr th {\n",
       "        vertical-align: top;\n",
       "    }\n",
       "\n",
       "    .dataframe thead th {\n",
       "        text-align: right;\n",
       "    }\n",
       "</style>\n",
       "<table border=\"1\" class=\"dataframe\">\n",
       "  <thead>\n",
       "    <tr style=\"text-align: right;\">\n",
       "      <th></th>\n",
       "      <th>index</th>\n",
       "      <th>countrycode</th>\n",
       "      <th>drawing</th>\n",
       "      <th>key_id</th>\n",
       "      <th>recognized</th>\n",
       "      <th>timestamp</th>\n",
       "      <th>word</th>\n",
       "    </tr>\n",
       "  </thead>\n",
       "  <tbody>\n",
       "    <tr>\n",
       "      <th>0</th>\n",
       "      <td>10343</td>\n",
       "      <td>BR</td>\n",
       "      <td>[[[75, 77, 85, 96, 88, 97, 87, 86, 90, 114, 11...</td>\n",
       "      <td>5066628142202880</td>\n",
       "      <td>True</td>\n",
       "      <td>2017-01-27 20:36:06.652010</td>\n",
       "      <td>bear</td>\n",
       "    </tr>\n",
       "    <tr>\n",
       "      <th>1</th>\n",
       "      <td>10788</td>\n",
       "      <td>GB</td>\n",
       "      <td>[[[27, 46, 67, 83, 97, 113, 123, 130, 203, 255...</td>\n",
       "      <td>6301025445085184</td>\n",
       "      <td>True</td>\n",
       "      <td>2017-03-28 21:30:18.115600</td>\n",
       "      <td>star</td>\n",
       "    </tr>\n",
       "    <tr>\n",
       "      <th>2</th>\n",
       "      <td>10033</td>\n",
       "      <td>US</td>\n",
       "      <td>[[[47, 37, 24, 18, 15, 15, 22, 30, 42, 63, 76,...</td>\n",
       "      <td>5868152388845568</td>\n",
       "      <td>True</td>\n",
       "      <td>2017-01-27 02:22:31.794880</td>\n",
       "      <td>cloud</td>\n",
       "    </tr>\n",
       "    <tr>\n",
       "      <th>3</th>\n",
       "      <td>39276</td>\n",
       "      <td>MX</td>\n",
       "      <td>[[[58, 41, 17, 4, 0, 3, 16, 39, 56], [15, 4, 3...</td>\n",
       "      <td>6746232816926720</td>\n",
       "      <td>True</td>\n",
       "      <td>2017-01-28 20:55:21.474700</td>\n",
       "      <td>bear</td>\n",
       "    </tr>\n",
       "    <tr>\n",
       "      <th>4</th>\n",
       "      <td>5099</td>\n",
       "      <td>US</td>\n",
       "      <td>[[[83, 71, 32, 25, 10, 5, 2, 1, 19, 34, 65, 71...</td>\n",
       "      <td>5098434669314048</td>\n",
       "      <td>True</td>\n",
       "      <td>2017-03-26 06:43:12.735870</td>\n",
       "      <td>dog</td>\n",
       "    </tr>\n",
       "    <tr>\n",
       "      <th>...</th>\n",
       "      <td>...</td>\n",
       "      <td>...</td>\n",
       "      <td>...</td>\n",
       "      <td>...</td>\n",
       "      <td>...</td>\n",
       "      <td>...</td>\n",
       "      <td>...</td>\n",
       "    </tr>\n",
       "    <tr>\n",
       "      <th>244995</th>\n",
       "      <td>26969</td>\n",
       "      <td>GB</td>\n",
       "      <td>[[[137, 128, 117, 67, 25, 0, 18, 49, 102, 116,...</td>\n",
       "      <td>6349830433538048</td>\n",
       "      <td>True</td>\n",
       "      <td>2017-03-26 18:40:08.820320</td>\n",
       "      <td>mouse</td>\n",
       "    </tr>\n",
       "    <tr>\n",
       "      <th>244996</th>\n",
       "      <td>14433</td>\n",
       "      <td>US</td>\n",
       "      <td>[[[28, 92, 147, 147, 144, 148, 144, 104, 34], ...</td>\n",
       "      <td>6362241194524672</td>\n",
       "      <td>True</td>\n",
       "      <td>2017-03-11 15:00:08.495430</td>\n",
       "      <td>door</td>\n",
       "    </tr>\n",
       "    <tr>\n",
       "      <th>244997</th>\n",
       "      <td>35990</td>\n",
       "      <td>US</td>\n",
       "      <td>[[[78, 42, 28, 16, 16, 27, 43, 75, 91, 98, 98,...</td>\n",
       "      <td>4922004023017472</td>\n",
       "      <td>True</td>\n",
       "      <td>2017-03-22 00:36:32.252780</td>\n",
       "      <td>dog</td>\n",
       "    </tr>\n",
       "    <tr>\n",
       "      <th>244998</th>\n",
       "      <td>20527</td>\n",
       "      <td>US</td>\n",
       "      <td>[[[188, 164, 133, 86, 64, 64, 73, 92, 126, 174...</td>\n",
       "      <td>4682216489615360</td>\n",
       "      <td>True</td>\n",
       "      <td>2017-01-31 19:34:54.671140</td>\n",
       "      <td>dog</td>\n",
       "    </tr>\n",
       "    <tr>\n",
       "      <th>244999</th>\n",
       "      <td>23196</td>\n",
       "      <td>US</td>\n",
       "      <td>[[[94, 83, 53, 29, 15, 0, 5, 23, 45, 65, 78, 1...</td>\n",
       "      <td>6041499013742592</td>\n",
       "      <td>True</td>\n",
       "      <td>2017-01-27 19:37:18.691810</td>\n",
       "      <td>circle</td>\n",
       "    </tr>\n",
       "  </tbody>\n",
       "</table>\n",
       "<p>245000 rows × 7 columns</p>\n",
       "</div>"
      ],
      "text/plain": [
       "        index countrycode                                            drawing  \\\n",
       "0       10343          BR  [[[75, 77, 85, 96, 88, 97, 87, 86, 90, 114, 11...   \n",
       "1       10788          GB  [[[27, 46, 67, 83, 97, 113, 123, 130, 203, 255...   \n",
       "2       10033          US  [[[47, 37, 24, 18, 15, 15, 22, 30, 42, 63, 76,...   \n",
       "3       39276          MX  [[[58, 41, 17, 4, 0, 3, 16, 39, 56], [15, 4, 3...   \n",
       "4        5099          US  [[[83, 71, 32, 25, 10, 5, 2, 1, 19, 34, 65, 71...   \n",
       "...       ...         ...                                                ...   \n",
       "244995  26969          GB  [[[137, 128, 117, 67, 25, 0, 18, 49, 102, 116,...   \n",
       "244996  14433          US  [[[28, 92, 147, 147, 144, 148, 144, 104, 34], ...   \n",
       "244997  35990          US  [[[78, 42, 28, 16, 16, 27, 43, 75, 91, 98, 98,...   \n",
       "244998  20527          US  [[[188, 164, 133, 86, 64, 64, 73, 92, 126, 174...   \n",
       "244999  23196          US  [[[94, 83, 53, 29, 15, 0, 5, 23, 45, 65, 78, 1...   \n",
       "\n",
       "                  key_id  recognized                   timestamp    word  \n",
       "0       5066628142202880        True  2017-01-27 20:36:06.652010    bear  \n",
       "1       6301025445085184        True  2017-03-28 21:30:18.115600    star  \n",
       "2       5868152388845568        True  2017-01-27 02:22:31.794880   cloud  \n",
       "3       6746232816926720        True  2017-01-28 20:55:21.474700    bear  \n",
       "4       5098434669314048        True  2017-03-26 06:43:12.735870     dog  \n",
       "...                  ...         ...                         ...     ...  \n",
       "244995  6349830433538048        True  2017-03-26 18:40:08.820320   mouse  \n",
       "244996  6362241194524672        True  2017-03-11 15:00:08.495430    door  \n",
       "244997  4922004023017472        True  2017-03-22 00:36:32.252780     dog  \n",
       "244998  4682216489615360        True  2017-01-31 19:34:54.671140     dog  \n",
       "244999  6041499013742592        True  2017-01-27 19:37:18.691810  circle  \n",
       "\n",
       "[245000 rows x 7 columns]"
      ]
     },
     "execution_count": 9,
     "metadata": {},
     "output_type": "execute_result"
    }
   ],
   "source": [
    "train.reset_index()"
   ]
  },
  {
   "cell_type": "code",
   "execution_count": 10,
   "metadata": {
    "scrolled": true
   },
   "outputs": [
    {
     "name": "stdout",
     "output_type": "stream",
     "text": [
      "(245000, 6)\n",
      "(105000, 6)\n",
      "(150000, 6)\n"
     ]
    }
   ],
   "source": [
    "print(train.shape)\n",
    "print(valid.shape)\n",
    "print(test.shape)"
   ]
  },
  {
   "cell_type": "code",
   "execution_count": 11,
   "metadata": {},
   "outputs": [
    {
     "data": {
      "text/plain": [
       "LabelEncoder()"
      ]
     },
     "execution_count": 11,
     "metadata": {},
     "output_type": "execute_result"
    }
   ],
   "source": [
    "word_le = LabelEncoder()\n",
    "word_le.fit(all_data['word'])"
   ]
  },
  {
   "cell_type": "code",
   "execution_count": 12,
   "metadata": {
    "scrolled": true
   },
   "outputs": [
    {
     "data": {
      "text/plain": [
       "array(['airplane', 'bear', 'butterfly', 'cat', 'circle', 'cloud', 'dog',\n",
       "       'door', 'mouse', 'star'], dtype=object)"
      ]
     },
     "execution_count": 12,
     "metadata": {},
     "output_type": "execute_result"
    }
   ],
   "source": [
    "word_le.classes_"
   ]
  },
  {
   "cell_type": "markdown",
   "metadata": {},
   "source": [
    "### Split"
   ]
  },
  {
   "cell_type": "code",
   "execution_count": 13,
   "metadata": {},
   "outputs": [],
   "source": [
    "size = 64\n",
    "word_num = len(word_lst)\n",
    "BASE_SIZE = 256"
   ]
  },
  {
   "cell_type": "markdown",
   "metadata": {},
   "source": [
    "#### cv2.line\n",
    "* img: 선분이 그려질 이미지  \n",
    "* (x1,y1) 선분의 시작점\n",
    "* (x2,y2) 선분의 끝점\n",
    "* color: 색상(0~255)\n",
    "* thickness"
   ]
  },
  {
   "cell_type": "code",
   "execution_count": 14,
   "metadata": {},
   "outputs": [],
   "source": [
    "def reshape_draw(rs, size=256, lw=6):\n",
    "    img = np.zeros((BASE_SIZE, BASE_SIZE), np.uint8)\n",
    "    for s in rs:\n",
    "        for i in range(len(s[0]) - 1):\n",
    "            cv2.line(img, (s[0][i], s[1][i]), (s[0][i + 1], s[1][i + 1]), 255, lw) \n",
    "            #c2.line(img:이미지 파일, pt1:시작점 좌표(x,y), pt2:종료점좌표(x,y), color:색상(0~255), thickness:선두께(defalut1), lineType:선종류, shift)\n",
    "            \n",
    "    if size != BASE_SIZE:\n",
    "        return cv2.resize(img, (size, size)) #cv2.resize(원본 이미지, 결과 이미지 크기, 보간법)\n",
    "    else:\n",
    "        return img"
   ]
  },
  {
   "cell_type": "code",
   "execution_count": 15,
   "metadata": {},
   "outputs": [],
   "source": [
    "def drawing_make_array(df, size = size, lw = 6):\n",
    "    x = np.zeros((len(df),size,size))\n",
    "    for i, rs in enumerate(df.drawing.values):\n",
    "        x[i] = reshape_draw(rs,size=size,lw=lw)\n",
    "    x = x/255 # 정규화\n",
    "    x = x.reshape((len(df),size,size,1)).astype(np.float32)\n",
    "    return x"
   ]
  },
  {
   "cell_type": "code",
   "execution_count": 17,
   "metadata": {},
   "outputs": [],
   "source": [
    "train_X = drawing_make_array(train, size)\n",
    "train_y = to_categorical(word_le.transform(train['word'].values))"
   ]
  },
  {
   "cell_type": "code",
   "execution_count": 18,
   "metadata": {},
   "outputs": [],
   "source": [
    "valid_X = drawing_make_array(valid, size)\n",
    "valid_y = to_categorical(word_le.transform(valid['word'].values))"
   ]
  },
  {
   "cell_type": "code",
   "execution_count": 19,
   "metadata": {},
   "outputs": [],
   "source": [
    "test_X = drawing_make_array(test, size)\n",
    "test_y = to_categorical(word_le.transform(test['word'].values))"
   ]
  },
  {
   "cell_type": "code",
   "execution_count": 20,
   "metadata": {},
   "outputs": [
    {
     "data": {
      "text/plain": [
       "(245000, 64, 64, 1)"
      ]
     },
     "execution_count": 20,
     "metadata": {},
     "output_type": "execute_result"
    }
   ],
   "source": [
    "train_X.shape"
   ]
  },
  {
   "cell_type": "code",
   "execution_count": 21,
   "metadata": {},
   "outputs": [
    {
     "data": {
      "text/plain": [
       "(105000, 64, 64, 1)"
      ]
     },
     "execution_count": 21,
     "metadata": {},
     "output_type": "execute_result"
    }
   ],
   "source": [
    "valid_X.shape"
   ]
  },
  {
   "cell_type": "code",
   "execution_count": 22,
   "metadata": {},
   "outputs": [
    {
     "data": {
      "text/plain": [
       "(150000, 64, 64, 1)"
      ]
     },
     "execution_count": 22,
     "metadata": {},
     "output_type": "execute_result"
    }
   ],
   "source": [
    "test_X.shape"
   ]
  },
  {
   "cell_type": "markdown",
   "metadata": {},
   "source": [
    "## Model"
   ]
  },
  {
   "cell_type": "code",
   "execution_count": 23,
   "metadata": {},
   "outputs": [],
   "source": [
    "STEPS= 100\n",
    "batch = 100\n",
    "epochs = 100"
   ]
  },
  {
   "cell_type": "code",
   "execution_count": 24,
   "metadata": {},
   "outputs": [],
   "source": [
    "datagen = ImageDataGenerator()"
   ]
  },
  {
   "cell_type": "code",
   "execution_count": 25,
   "metadata": {},
   "outputs": [],
   "source": [
    "K.clear_session()"
   ]
  },
  {
   "cell_type": "code",
   "execution_count": 26,
   "metadata": {},
   "outputs": [
    {
     "name": "stderr",
     "output_type": "stream",
     "text": [
      "C:\\Users\\julia\\Desktop\\tf\\lib\\site-packages\\keras_applications\\resnet50.py:265: UserWarning: The output shape of `ResNet50(include_top=False)` has been changed since Keras 2.2.0.\n",
      "  warnings.warn('The output shape of `ResNet50(include_top=False)` '\n"
     ]
    }
   ],
   "source": [
    "base_model = ResNet50(include_top=False, input_shape=(size, size, 1), weights=None, classes=word_num)"
   ]
  },
  {
   "cell_type": "code",
   "execution_count": 27,
   "metadata": {},
   "outputs": [],
   "source": [
    "x = base_model.output\n",
    "x = Flatten()(x)\n",
    "x = Dense(32, activation='relu')(x)\n",
    "x = Dropout(0.3)(x)\n",
    "predictions = Dense(word_num, activation='softmax')(x)"
   ]
  },
  {
   "cell_type": "code",
   "execution_count": 28,
   "metadata": {},
   "outputs": [],
   "source": [
    "# this is the model we will train\n",
    "model = Model(inputs=base_model.input, outputs=predictions)"
   ]
  },
  {
   "cell_type": "code",
   "execution_count": 29,
   "metadata": {},
   "outputs": [],
   "source": [
    "model.compile(optimizer=Adam(lr=0.001), loss='categorical_crossentropy',\n",
    "              metrics=[categorical_crossentropy, categorical_accuracy])"
   ]
  },
  {
   "cell_type": "code",
   "execution_count": 30,
   "metadata": {},
   "outputs": [
    {
     "name": "stdout",
     "output_type": "stream",
     "text": [
      "Model: \"model_1\"\n",
      "__________________________________________________________________________________________________\n",
      "Layer (type)                    Output Shape         Param #     Connected to                     \n",
      "==================================================================================================\n",
      "input_1 (InputLayer)            (None, 64, 64, 1)    0                                            \n",
      "__________________________________________________________________________________________________\n",
      "conv1_pad (ZeroPadding2D)       (None, 70, 70, 1)    0           input_1[0][0]                    \n",
      "__________________________________________________________________________________________________\n",
      "conv1 (Conv2D)                  (None, 32, 32, 64)   3200        conv1_pad[0][0]                  \n",
      "__________________________________________________________________________________________________\n",
      "bn_conv1 (BatchNormalization)   (None, 32, 32, 64)   256         conv1[0][0]                      \n",
      "__________________________________________________________________________________________________\n",
      "activation_1 (Activation)       (None, 32, 32, 64)   0           bn_conv1[0][0]                   \n",
      "__________________________________________________________________________________________________\n",
      "pool1_pad (ZeroPadding2D)       (None, 34, 34, 64)   0           activation_1[0][0]               \n",
      "__________________________________________________________________________________________________\n",
      "max_pooling2d_1 (MaxPooling2D)  (None, 16, 16, 64)   0           pool1_pad[0][0]                  \n",
      "__________________________________________________________________________________________________\n",
      "res2a_branch2a (Conv2D)         (None, 16, 16, 64)   4160        max_pooling2d_1[0][0]            \n",
      "__________________________________________________________________________________________________\n",
      "bn2a_branch2a (BatchNormalizati (None, 16, 16, 64)   256         res2a_branch2a[0][0]             \n",
      "__________________________________________________________________________________________________\n",
      "activation_2 (Activation)       (None, 16, 16, 64)   0           bn2a_branch2a[0][0]              \n",
      "__________________________________________________________________________________________________\n",
      "res2a_branch2b (Conv2D)         (None, 16, 16, 64)   36928       activation_2[0][0]               \n",
      "__________________________________________________________________________________________________\n",
      "bn2a_branch2b (BatchNormalizati (None, 16, 16, 64)   256         res2a_branch2b[0][0]             \n",
      "__________________________________________________________________________________________________\n",
      "activation_3 (Activation)       (None, 16, 16, 64)   0           bn2a_branch2b[0][0]              \n",
      "__________________________________________________________________________________________________\n",
      "res2a_branch2c (Conv2D)         (None, 16, 16, 256)  16640       activation_3[0][0]               \n",
      "__________________________________________________________________________________________________\n",
      "res2a_branch1 (Conv2D)          (None, 16, 16, 256)  16640       max_pooling2d_1[0][0]            \n",
      "__________________________________________________________________________________________________\n",
      "bn2a_branch2c (BatchNormalizati (None, 16, 16, 256)  1024        res2a_branch2c[0][0]             \n",
      "__________________________________________________________________________________________________\n",
      "bn2a_branch1 (BatchNormalizatio (None, 16, 16, 256)  1024        res2a_branch1[0][0]              \n",
      "__________________________________________________________________________________________________\n",
      "add_1 (Add)                     (None, 16, 16, 256)  0           bn2a_branch2c[0][0]              \n",
      "                                                                 bn2a_branch1[0][0]               \n",
      "__________________________________________________________________________________________________\n",
      "activation_4 (Activation)       (None, 16, 16, 256)  0           add_1[0][0]                      \n",
      "__________________________________________________________________________________________________\n",
      "res2b_branch2a (Conv2D)         (None, 16, 16, 64)   16448       activation_4[0][0]               \n",
      "__________________________________________________________________________________________________\n",
      "bn2b_branch2a (BatchNormalizati (None, 16, 16, 64)   256         res2b_branch2a[0][0]             \n",
      "__________________________________________________________________________________________________\n",
      "activation_5 (Activation)       (None, 16, 16, 64)   0           bn2b_branch2a[0][0]              \n",
      "__________________________________________________________________________________________________\n",
      "res2b_branch2b (Conv2D)         (None, 16, 16, 64)   36928       activation_5[0][0]               \n",
      "__________________________________________________________________________________________________\n",
      "bn2b_branch2b (BatchNormalizati (None, 16, 16, 64)   256         res2b_branch2b[0][0]             \n",
      "__________________________________________________________________________________________________\n",
      "activation_6 (Activation)       (None, 16, 16, 64)   0           bn2b_branch2b[0][0]              \n",
      "__________________________________________________________________________________________________\n",
      "res2b_branch2c (Conv2D)         (None, 16, 16, 256)  16640       activation_6[0][0]               \n",
      "__________________________________________________________________________________________________\n",
      "bn2b_branch2c (BatchNormalizati (None, 16, 16, 256)  1024        res2b_branch2c[0][0]             \n",
      "__________________________________________________________________________________________________\n",
      "add_2 (Add)                     (None, 16, 16, 256)  0           bn2b_branch2c[0][0]              \n",
      "                                                                 activation_4[0][0]               \n",
      "__________________________________________________________________________________________________\n",
      "activation_7 (Activation)       (None, 16, 16, 256)  0           add_2[0][0]                      \n",
      "__________________________________________________________________________________________________\n",
      "res2c_branch2a (Conv2D)         (None, 16, 16, 64)   16448       activation_7[0][0]               \n",
      "__________________________________________________________________________________________________\n",
      "bn2c_branch2a (BatchNormalizati (None, 16, 16, 64)   256         res2c_branch2a[0][0]             \n",
      "__________________________________________________________________________________________________\n",
      "activation_8 (Activation)       (None, 16, 16, 64)   0           bn2c_branch2a[0][0]              \n",
      "__________________________________________________________________________________________________\n",
      "res2c_branch2b (Conv2D)         (None, 16, 16, 64)   36928       activation_8[0][0]               \n",
      "__________________________________________________________________________________________________\n",
      "bn2c_branch2b (BatchNormalizati (None, 16, 16, 64)   256         res2c_branch2b[0][0]             \n",
      "__________________________________________________________________________________________________\n",
      "activation_9 (Activation)       (None, 16, 16, 64)   0           bn2c_branch2b[0][0]              \n",
      "__________________________________________________________________________________________________\n",
      "res2c_branch2c (Conv2D)         (None, 16, 16, 256)  16640       activation_9[0][0]               \n",
      "__________________________________________________________________________________________________\n",
      "bn2c_branch2c (BatchNormalizati (None, 16, 16, 256)  1024        res2c_branch2c[0][0]             \n",
      "__________________________________________________________________________________________________\n",
      "add_3 (Add)                     (None, 16, 16, 256)  0           bn2c_branch2c[0][0]              \n",
      "                                                                 activation_7[0][0]               \n",
      "__________________________________________________________________________________________________\n",
      "activation_10 (Activation)      (None, 16, 16, 256)  0           add_3[0][0]                      \n",
      "__________________________________________________________________________________________________\n",
      "res3a_branch2a (Conv2D)         (None, 8, 8, 128)    32896       activation_10[0][0]              \n",
      "__________________________________________________________________________________________________\n",
      "bn3a_branch2a (BatchNormalizati (None, 8, 8, 128)    512         res3a_branch2a[0][0]             \n",
      "__________________________________________________________________________________________________\n",
      "activation_11 (Activation)      (None, 8, 8, 128)    0           bn3a_branch2a[0][0]              \n",
      "__________________________________________________________________________________________________\n",
      "res3a_branch2b (Conv2D)         (None, 8, 8, 128)    147584      activation_11[0][0]              \n",
      "__________________________________________________________________________________________________\n",
      "bn3a_branch2b (BatchNormalizati (None, 8, 8, 128)    512         res3a_branch2b[0][0]             \n",
      "__________________________________________________________________________________________________\n",
      "activation_12 (Activation)      (None, 8, 8, 128)    0           bn3a_branch2b[0][0]              \n",
      "__________________________________________________________________________________________________\n",
      "res3a_branch2c (Conv2D)         (None, 8, 8, 512)    66048       activation_12[0][0]              \n",
      "__________________________________________________________________________________________________\n",
      "res3a_branch1 (Conv2D)          (None, 8, 8, 512)    131584      activation_10[0][0]              \n",
      "__________________________________________________________________________________________________\n",
      "bn3a_branch2c (BatchNormalizati (None, 8, 8, 512)    2048        res3a_branch2c[0][0]             \n",
      "__________________________________________________________________________________________________\n",
      "bn3a_branch1 (BatchNormalizatio (None, 8, 8, 512)    2048        res3a_branch1[0][0]              \n",
      "__________________________________________________________________________________________________\n",
      "add_4 (Add)                     (None, 8, 8, 512)    0           bn3a_branch2c[0][0]              \n",
      "                                                                 bn3a_branch1[0][0]               \n",
      "__________________________________________________________________________________________________\n",
      "activation_13 (Activation)      (None, 8, 8, 512)    0           add_4[0][0]                      \n",
      "__________________________________________________________________________________________________\n",
      "res3b_branch2a (Conv2D)         (None, 8, 8, 128)    65664       activation_13[0][0]              \n",
      "__________________________________________________________________________________________________\n",
      "bn3b_branch2a (BatchNormalizati (None, 8, 8, 128)    512         res3b_branch2a[0][0]             \n",
      "__________________________________________________________________________________________________\n",
      "activation_14 (Activation)      (None, 8, 8, 128)    0           bn3b_branch2a[0][0]              \n",
      "__________________________________________________________________________________________________\n",
      "res3b_branch2b (Conv2D)         (None, 8, 8, 128)    147584      activation_14[0][0]              \n",
      "__________________________________________________________________________________________________\n",
      "bn3b_branch2b (BatchNormalizati (None, 8, 8, 128)    512         res3b_branch2b[0][0]             \n",
      "__________________________________________________________________________________________________\n",
      "activation_15 (Activation)      (None, 8, 8, 128)    0           bn3b_branch2b[0][0]              \n",
      "__________________________________________________________________________________________________\n",
      "res3b_branch2c (Conv2D)         (None, 8, 8, 512)    66048       activation_15[0][0]              \n",
      "__________________________________________________________________________________________________\n",
      "bn3b_branch2c (BatchNormalizati (None, 8, 8, 512)    2048        res3b_branch2c[0][0]             \n",
      "__________________________________________________________________________________________________\n",
      "add_5 (Add)                     (None, 8, 8, 512)    0           bn3b_branch2c[0][0]              \n",
      "                                                                 activation_13[0][0]              \n",
      "__________________________________________________________________________________________________\n",
      "activation_16 (Activation)      (None, 8, 8, 512)    0           add_5[0][0]                      \n",
      "__________________________________________________________________________________________________\n",
      "res3c_branch2a (Conv2D)         (None, 8, 8, 128)    65664       activation_16[0][0]              \n",
      "__________________________________________________________________________________________________\n",
      "bn3c_branch2a (BatchNormalizati (None, 8, 8, 128)    512         res3c_branch2a[0][0]             \n",
      "__________________________________________________________________________________________________\n",
      "activation_17 (Activation)      (None, 8, 8, 128)    0           bn3c_branch2a[0][0]              \n",
      "__________________________________________________________________________________________________\n",
      "res3c_branch2b (Conv2D)         (None, 8, 8, 128)    147584      activation_17[0][0]              \n",
      "__________________________________________________________________________________________________\n",
      "bn3c_branch2b (BatchNormalizati (None, 8, 8, 128)    512         res3c_branch2b[0][0]             \n",
      "__________________________________________________________________________________________________\n",
      "activation_18 (Activation)      (None, 8, 8, 128)    0           bn3c_branch2b[0][0]              \n",
      "__________________________________________________________________________________________________\n",
      "res3c_branch2c (Conv2D)         (None, 8, 8, 512)    66048       activation_18[0][0]              \n",
      "__________________________________________________________________________________________________\n",
      "bn3c_branch2c (BatchNormalizati (None, 8, 8, 512)    2048        res3c_branch2c[0][0]             \n",
      "__________________________________________________________________________________________________\n",
      "add_6 (Add)                     (None, 8, 8, 512)    0           bn3c_branch2c[0][0]              \n",
      "                                                                 activation_16[0][0]              \n",
      "__________________________________________________________________________________________________\n",
      "activation_19 (Activation)      (None, 8, 8, 512)    0           add_6[0][0]                      \n",
      "__________________________________________________________________________________________________\n",
      "res3d_branch2a (Conv2D)         (None, 8, 8, 128)    65664       activation_19[0][0]              \n",
      "__________________________________________________________________________________________________\n",
      "bn3d_branch2a (BatchNormalizati (None, 8, 8, 128)    512         res3d_branch2a[0][0]             \n",
      "__________________________________________________________________________________________________\n",
      "activation_20 (Activation)      (None, 8, 8, 128)    0           bn3d_branch2a[0][0]              \n",
      "__________________________________________________________________________________________________\n",
      "res3d_branch2b (Conv2D)         (None, 8, 8, 128)    147584      activation_20[0][0]              \n",
      "__________________________________________________________________________________________________\n",
      "bn3d_branch2b (BatchNormalizati (None, 8, 8, 128)    512         res3d_branch2b[0][0]             \n",
      "__________________________________________________________________________________________________\n",
      "activation_21 (Activation)      (None, 8, 8, 128)    0           bn3d_branch2b[0][0]              \n",
      "__________________________________________________________________________________________________\n",
      "res3d_branch2c (Conv2D)         (None, 8, 8, 512)    66048       activation_21[0][0]              \n",
      "__________________________________________________________________________________________________\n",
      "bn3d_branch2c (BatchNormalizati (None, 8, 8, 512)    2048        res3d_branch2c[0][0]             \n",
      "__________________________________________________________________________________________________\n",
      "add_7 (Add)                     (None, 8, 8, 512)    0           bn3d_branch2c[0][0]              \n",
      "                                                                 activation_19[0][0]              \n",
      "__________________________________________________________________________________________________\n",
      "activation_22 (Activation)      (None, 8, 8, 512)    0           add_7[0][0]                      \n",
      "__________________________________________________________________________________________________\n",
      "res4a_branch2a (Conv2D)         (None, 4, 4, 256)    131328      activation_22[0][0]              \n",
      "__________________________________________________________________________________________________\n",
      "bn4a_branch2a (BatchNormalizati (None, 4, 4, 256)    1024        res4a_branch2a[0][0]             \n",
      "__________________________________________________________________________________________________\n",
      "activation_23 (Activation)      (None, 4, 4, 256)    0           bn4a_branch2a[0][0]              \n",
      "__________________________________________________________________________________________________\n",
      "res4a_branch2b (Conv2D)         (None, 4, 4, 256)    590080      activation_23[0][0]              \n",
      "__________________________________________________________________________________________________\n",
      "bn4a_branch2b (BatchNormalizati (None, 4, 4, 256)    1024        res4a_branch2b[0][0]             \n",
      "__________________________________________________________________________________________________\n",
      "activation_24 (Activation)      (None, 4, 4, 256)    0           bn4a_branch2b[0][0]              \n",
      "__________________________________________________________________________________________________\n",
      "res4a_branch2c (Conv2D)         (None, 4, 4, 1024)   263168      activation_24[0][0]              \n",
      "__________________________________________________________________________________________________\n",
      "res4a_branch1 (Conv2D)          (None, 4, 4, 1024)   525312      activation_22[0][0]              \n",
      "__________________________________________________________________________________________________\n",
      "bn4a_branch2c (BatchNormalizati (None, 4, 4, 1024)   4096        res4a_branch2c[0][0]             \n",
      "__________________________________________________________________________________________________\n",
      "bn4a_branch1 (BatchNormalizatio (None, 4, 4, 1024)   4096        res4a_branch1[0][0]              \n",
      "__________________________________________________________________________________________________\n",
      "add_8 (Add)                     (None, 4, 4, 1024)   0           bn4a_branch2c[0][0]              \n",
      "                                                                 bn4a_branch1[0][0]               \n",
      "__________________________________________________________________________________________________\n",
      "activation_25 (Activation)      (None, 4, 4, 1024)   0           add_8[0][0]                      \n",
      "__________________________________________________________________________________________________\n",
      "res4b_branch2a (Conv2D)         (None, 4, 4, 256)    262400      activation_25[0][0]              \n",
      "__________________________________________________________________________________________________\n",
      "bn4b_branch2a (BatchNormalizati (None, 4, 4, 256)    1024        res4b_branch2a[0][0]             \n",
      "__________________________________________________________________________________________________\n",
      "activation_26 (Activation)      (None, 4, 4, 256)    0           bn4b_branch2a[0][0]              \n",
      "__________________________________________________________________________________________________\n",
      "res4b_branch2b (Conv2D)         (None, 4, 4, 256)    590080      activation_26[0][0]              \n",
      "__________________________________________________________________________________________________\n",
      "bn4b_branch2b (BatchNormalizati (None, 4, 4, 256)    1024        res4b_branch2b[0][0]             \n",
      "__________________________________________________________________________________________________\n",
      "activation_27 (Activation)      (None, 4, 4, 256)    0           bn4b_branch2b[0][0]              \n",
      "__________________________________________________________________________________________________\n",
      "res4b_branch2c (Conv2D)         (None, 4, 4, 1024)   263168      activation_27[0][0]              \n",
      "__________________________________________________________________________________________________\n",
      "bn4b_branch2c (BatchNormalizati (None, 4, 4, 1024)   4096        res4b_branch2c[0][0]             \n",
      "__________________________________________________________________________________________________\n",
      "add_9 (Add)                     (None, 4, 4, 1024)   0           bn4b_branch2c[0][0]              \n",
      "                                                                 activation_25[0][0]              \n",
      "__________________________________________________________________________________________________\n",
      "activation_28 (Activation)      (None, 4, 4, 1024)   0           add_9[0][0]                      \n",
      "__________________________________________________________________________________________________\n",
      "res4c_branch2a (Conv2D)         (None, 4, 4, 256)    262400      activation_28[0][0]              \n",
      "__________________________________________________________________________________________________\n",
      "bn4c_branch2a (BatchNormalizati (None, 4, 4, 256)    1024        res4c_branch2a[0][0]             \n",
      "__________________________________________________________________________________________________\n",
      "activation_29 (Activation)      (None, 4, 4, 256)    0           bn4c_branch2a[0][0]              \n",
      "__________________________________________________________________________________________________\n",
      "res4c_branch2b (Conv2D)         (None, 4, 4, 256)    590080      activation_29[0][0]              \n",
      "__________________________________________________________________________________________________\n",
      "bn4c_branch2b (BatchNormalizati (None, 4, 4, 256)    1024        res4c_branch2b[0][0]             \n",
      "__________________________________________________________________________________________________\n",
      "activation_30 (Activation)      (None, 4, 4, 256)    0           bn4c_branch2b[0][0]              \n",
      "__________________________________________________________________________________________________\n",
      "res4c_branch2c (Conv2D)         (None, 4, 4, 1024)   263168      activation_30[0][0]              \n",
      "__________________________________________________________________________________________________\n",
      "bn4c_branch2c (BatchNormalizati (None, 4, 4, 1024)   4096        res4c_branch2c[0][0]             \n",
      "__________________________________________________________________________________________________\n",
      "add_10 (Add)                    (None, 4, 4, 1024)   0           bn4c_branch2c[0][0]              \n",
      "                                                                 activation_28[0][0]              \n",
      "__________________________________________________________________________________________________\n",
      "activation_31 (Activation)      (None, 4, 4, 1024)   0           add_10[0][0]                     \n",
      "__________________________________________________________________________________________________\n",
      "res4d_branch2a (Conv2D)         (None, 4, 4, 256)    262400      activation_31[0][0]              \n",
      "__________________________________________________________________________________________________\n",
      "bn4d_branch2a (BatchNormalizati (None, 4, 4, 256)    1024        res4d_branch2a[0][0]             \n",
      "__________________________________________________________________________________________________\n",
      "activation_32 (Activation)      (None, 4, 4, 256)    0           bn4d_branch2a[0][0]              \n",
      "__________________________________________________________________________________________________\n",
      "res4d_branch2b (Conv2D)         (None, 4, 4, 256)    590080      activation_32[0][0]              \n",
      "__________________________________________________________________________________________________\n",
      "bn4d_branch2b (BatchNormalizati (None, 4, 4, 256)    1024        res4d_branch2b[0][0]             \n",
      "__________________________________________________________________________________________________\n",
      "activation_33 (Activation)      (None, 4, 4, 256)    0           bn4d_branch2b[0][0]              \n",
      "__________________________________________________________________________________________________\n",
      "res4d_branch2c (Conv2D)         (None, 4, 4, 1024)   263168      activation_33[0][0]              \n",
      "__________________________________________________________________________________________________\n",
      "bn4d_branch2c (BatchNormalizati (None, 4, 4, 1024)   4096        res4d_branch2c[0][0]             \n",
      "__________________________________________________________________________________________________\n",
      "add_11 (Add)                    (None, 4, 4, 1024)   0           bn4d_branch2c[0][0]              \n",
      "                                                                 activation_31[0][0]              \n",
      "__________________________________________________________________________________________________\n",
      "activation_34 (Activation)      (None, 4, 4, 1024)   0           add_11[0][0]                     \n",
      "__________________________________________________________________________________________________\n",
      "res4e_branch2a (Conv2D)         (None, 4, 4, 256)    262400      activation_34[0][0]              \n",
      "__________________________________________________________________________________________________\n",
      "bn4e_branch2a (BatchNormalizati (None, 4, 4, 256)    1024        res4e_branch2a[0][0]             \n",
      "__________________________________________________________________________________________________\n",
      "activation_35 (Activation)      (None, 4, 4, 256)    0           bn4e_branch2a[0][0]              \n",
      "__________________________________________________________________________________________________\n",
      "res4e_branch2b (Conv2D)         (None, 4, 4, 256)    590080      activation_35[0][0]              \n",
      "__________________________________________________________________________________________________\n",
      "bn4e_branch2b (BatchNormalizati (None, 4, 4, 256)    1024        res4e_branch2b[0][0]             \n",
      "__________________________________________________________________________________________________\n",
      "activation_36 (Activation)      (None, 4, 4, 256)    0           bn4e_branch2b[0][0]              \n",
      "__________________________________________________________________________________________________\n",
      "res4e_branch2c (Conv2D)         (None, 4, 4, 1024)   263168      activation_36[0][0]              \n",
      "__________________________________________________________________________________________________\n",
      "bn4e_branch2c (BatchNormalizati (None, 4, 4, 1024)   4096        res4e_branch2c[0][0]             \n",
      "__________________________________________________________________________________________________\n",
      "add_12 (Add)                    (None, 4, 4, 1024)   0           bn4e_branch2c[0][0]              \n",
      "                                                                 activation_34[0][0]              \n",
      "__________________________________________________________________________________________________\n",
      "activation_37 (Activation)      (None, 4, 4, 1024)   0           add_12[0][0]                     \n",
      "__________________________________________________________________________________________________\n",
      "res4f_branch2a (Conv2D)         (None, 4, 4, 256)    262400      activation_37[0][0]              \n",
      "__________________________________________________________________________________________________\n",
      "bn4f_branch2a (BatchNormalizati (None, 4, 4, 256)    1024        res4f_branch2a[0][0]             \n",
      "__________________________________________________________________________________________________\n",
      "activation_38 (Activation)      (None, 4, 4, 256)    0           bn4f_branch2a[0][0]              \n",
      "__________________________________________________________________________________________________\n",
      "res4f_branch2b (Conv2D)         (None, 4, 4, 256)    590080      activation_38[0][0]              \n",
      "__________________________________________________________________________________________________\n",
      "bn4f_branch2b (BatchNormalizati (None, 4, 4, 256)    1024        res4f_branch2b[0][0]             \n",
      "__________________________________________________________________________________________________\n",
      "activation_39 (Activation)      (None, 4, 4, 256)    0           bn4f_branch2b[0][0]              \n",
      "__________________________________________________________________________________________________\n",
      "res4f_branch2c (Conv2D)         (None, 4, 4, 1024)   263168      activation_39[0][0]              \n",
      "__________________________________________________________________________________________________\n",
      "bn4f_branch2c (BatchNormalizati (None, 4, 4, 1024)   4096        res4f_branch2c[0][0]             \n",
      "__________________________________________________________________________________________________\n",
      "add_13 (Add)                    (None, 4, 4, 1024)   0           bn4f_branch2c[0][0]              \n",
      "                                                                 activation_37[0][0]              \n",
      "__________________________________________________________________________________________________\n",
      "activation_40 (Activation)      (None, 4, 4, 1024)   0           add_13[0][0]                     \n",
      "__________________________________________________________________________________________________\n",
      "res5a_branch2a (Conv2D)         (None, 2, 2, 512)    524800      activation_40[0][0]              \n",
      "__________________________________________________________________________________________________\n",
      "bn5a_branch2a (BatchNormalizati (None, 2, 2, 512)    2048        res5a_branch2a[0][0]             \n",
      "__________________________________________________________________________________________________\n",
      "activation_41 (Activation)      (None, 2, 2, 512)    0           bn5a_branch2a[0][0]              \n",
      "__________________________________________________________________________________________________\n",
      "res5a_branch2b (Conv2D)         (None, 2, 2, 512)    2359808     activation_41[0][0]              \n",
      "__________________________________________________________________________________________________\n",
      "bn5a_branch2b (BatchNormalizati (None, 2, 2, 512)    2048        res5a_branch2b[0][0]             \n",
      "__________________________________________________________________________________________________\n",
      "activation_42 (Activation)      (None, 2, 2, 512)    0           bn5a_branch2b[0][0]              \n",
      "__________________________________________________________________________________________________\n",
      "res5a_branch2c (Conv2D)         (None, 2, 2, 2048)   1050624     activation_42[0][0]              \n",
      "__________________________________________________________________________________________________\n",
      "res5a_branch1 (Conv2D)          (None, 2, 2, 2048)   2099200     activation_40[0][0]              \n",
      "__________________________________________________________________________________________________\n",
      "bn5a_branch2c (BatchNormalizati (None, 2, 2, 2048)   8192        res5a_branch2c[0][0]             \n",
      "__________________________________________________________________________________________________\n",
      "bn5a_branch1 (BatchNormalizatio (None, 2, 2, 2048)   8192        res5a_branch1[0][0]              \n",
      "__________________________________________________________________________________________________\n",
      "add_14 (Add)                    (None, 2, 2, 2048)   0           bn5a_branch2c[0][0]              \n",
      "                                                                 bn5a_branch1[0][0]               \n",
      "__________________________________________________________________________________________________\n",
      "activation_43 (Activation)      (None, 2, 2, 2048)   0           add_14[0][0]                     \n",
      "__________________________________________________________________________________________________\n",
      "res5b_branch2a (Conv2D)         (None, 2, 2, 512)    1049088     activation_43[0][0]              \n",
      "__________________________________________________________________________________________________\n",
      "bn5b_branch2a (BatchNormalizati (None, 2, 2, 512)    2048        res5b_branch2a[0][0]             \n",
      "__________________________________________________________________________________________________\n",
      "activation_44 (Activation)      (None, 2, 2, 512)    0           bn5b_branch2a[0][0]              \n",
      "__________________________________________________________________________________________________\n",
      "res5b_branch2b (Conv2D)         (None, 2, 2, 512)    2359808     activation_44[0][0]              \n",
      "__________________________________________________________________________________________________\n",
      "bn5b_branch2b (BatchNormalizati (None, 2, 2, 512)    2048        res5b_branch2b[0][0]             \n",
      "__________________________________________________________________________________________________\n",
      "activation_45 (Activation)      (None, 2, 2, 512)    0           bn5b_branch2b[0][0]              \n",
      "__________________________________________________________________________________________________\n",
      "res5b_branch2c (Conv2D)         (None, 2, 2, 2048)   1050624     activation_45[0][0]              \n",
      "__________________________________________________________________________________________________\n",
      "bn5b_branch2c (BatchNormalizati (None, 2, 2, 2048)   8192        res5b_branch2c[0][0]             \n",
      "__________________________________________________________________________________________________\n",
      "add_15 (Add)                    (None, 2, 2, 2048)   0           bn5b_branch2c[0][0]              \n",
      "                                                                 activation_43[0][0]              \n",
      "__________________________________________________________________________________________________\n",
      "activation_46 (Activation)      (None, 2, 2, 2048)   0           add_15[0][0]                     \n",
      "__________________________________________________________________________________________________\n",
      "res5c_branch2a (Conv2D)         (None, 2, 2, 512)    1049088     activation_46[0][0]              \n",
      "__________________________________________________________________________________________________\n",
      "bn5c_branch2a (BatchNormalizati (None, 2, 2, 512)    2048        res5c_branch2a[0][0]             \n",
      "__________________________________________________________________________________________________\n",
      "activation_47 (Activation)      (None, 2, 2, 512)    0           bn5c_branch2a[0][0]              \n",
      "__________________________________________________________________________________________________\n",
      "res5c_branch2b (Conv2D)         (None, 2, 2, 512)    2359808     activation_47[0][0]              \n",
      "__________________________________________________________________________________________________\n",
      "bn5c_branch2b (BatchNormalizati (None, 2, 2, 512)    2048        res5c_branch2b[0][0]             \n",
      "__________________________________________________________________________________________________\n",
      "activation_48 (Activation)      (None, 2, 2, 512)    0           bn5c_branch2b[0][0]              \n",
      "__________________________________________________________________________________________________\n",
      "res5c_branch2c (Conv2D)         (None, 2, 2, 2048)   1050624     activation_48[0][0]              \n",
      "__________________________________________________________________________________________________\n",
      "bn5c_branch2c (BatchNormalizati (None, 2, 2, 2048)   8192        res5c_branch2c[0][0]             \n",
      "__________________________________________________________________________________________________\n",
      "add_16 (Add)                    (None, 2, 2, 2048)   0           bn5c_branch2c[0][0]              \n",
      "                                                                 activation_46[0][0]              \n",
      "__________________________________________________________________________________________________\n",
      "activation_49 (Activation)      (None, 2, 2, 2048)   0           add_16[0][0]                     \n",
      "__________________________________________________________________________________________________\n",
      "flatten_1 (Flatten)             (None, 8192)         0           activation_49[0][0]              \n",
      "__________________________________________________________________________________________________\n",
      "dense_1 (Dense)                 (None, 32)           262176      flatten_1[0][0]                  \n",
      "__________________________________________________________________________________________________\n",
      "dropout_1 (Dropout)             (None, 32)           0           dense_1[0][0]                    \n",
      "__________________________________________________________________________________________________\n",
      "dense_2 (Dense)                 (None, 10)           330         dropout_1[0][0]                  \n",
      "==================================================================================================\n",
      "Total params: 23,843,946\n",
      "Trainable params: 23,790,826\n",
      "Non-trainable params: 53,120\n",
      "__________________________________________________________________________________________________\n"
     ]
    }
   ],
   "source": [
    "model.summary()"
   ]
  },
  {
   "cell_type": "code",
   "execution_count": 31,
   "metadata": {},
   "outputs": [],
   "source": [
    "check_point = ModelCheckpoint('model_1223_resnet_v3.h5', monitor='val_loss', mode='min', save_best_only=True)\n",
    "reduceRP = ReduceLROnPlateau(monitor='val_loss', factor=0.75, patience=10,\n",
    "                          mode='min', min_lr= 0.00001, verbose=1)\n",
    "early = EarlyStopping(monitor=\"val_loss\", \n",
    "                      mode=\"min\", \n",
    "                      patience=10)\n",
    "\n",
    "callbacks = [check_point, early, reduceRP]"
   ]
  },
  {
   "cell_type": "code",
   "execution_count": 32,
   "metadata": {},
   "outputs": [
    {
     "name": "stdout",
     "output_type": "stream",
     "text": [
      "Epoch 1/100\n",
      "100/100 [==============================] - 242s 2s/step - loss: 2.4298 - categorical_crossentropy: 2.4298 - categorical_accuracy: 0.0995 - val_loss: 2.3026 - val_categorical_crossentropy: 2.3026 - val_categorical_accuracy: 0.1000\n",
      "Epoch 2/100\n",
      "100/100 [==============================] - 234s 2s/step - loss: 2.3025 - categorical_crossentropy: 2.3025 - categorical_accuracy: 0.1000 - val_loss: 2.3026 - val_categorical_crossentropy: 2.3027 - val_categorical_accuracy: 0.1000\n",
      "Epoch 3/100\n",
      "100/100 [==============================] - 234s 2s/step - loss: 2.3027 - categorical_crossentropy: 2.3027 - categorical_accuracy: 0.0971 - val_loss: 2.3026 - val_categorical_crossentropy: 2.3026 - val_categorical_accuracy: 0.1000\n",
      "Epoch 4/100\n",
      "100/100 [==============================] - 237s 2s/step - loss: 2.3027 - categorical_crossentropy: 2.3027 - categorical_accuracy: 0.0952 - val_loss: 2.3026 - val_categorical_crossentropy: 2.3026 - val_categorical_accuracy: 0.1000\n",
      "Epoch 5/100\n",
      "100/100 [==============================] - 237s 2s/step - loss: 2.3027 - categorical_crossentropy: 2.3027 - categorical_accuracy: 0.0941 - val_loss: 2.3026 - val_categorical_crossentropy: 2.3026 - val_categorical_accuracy: 0.1000\n",
      "Epoch 6/100\n",
      "100/100 [==============================] - 237s 2s/step - loss: 2.3027 - categorical_crossentropy: 2.3027 - categorical_accuracy: 0.0955 - val_loss: 2.3026 - val_categorical_crossentropy: 2.3026 - val_categorical_accuracy: 0.1000\n",
      "Epoch 7/100\n",
      "100/100 [==============================] - 237s 2s/step - loss: 2.3027 - categorical_crossentropy: 2.3027 - categorical_accuracy: 0.0986 - val_loss: 2.3026 - val_categorical_crossentropy: 2.3026 - val_categorical_accuracy: 0.1000\n",
      "Epoch 8/100\n",
      "100/100 [==============================] - 239s 2s/step - loss: 2.3025 - categorical_crossentropy: 2.3025 - categorical_accuracy: 0.0992 - val_loss: 2.3027 - val_categorical_crossentropy: 2.3027 - val_categorical_accuracy: 0.1000\n",
      "Epoch 9/100\n",
      "100/100 [==============================] - 238s 2s/step - loss: 2.3029 - categorical_crossentropy: 2.3028 - categorical_accuracy: 0.1004 - val_loss: 2.3026 - val_categorical_crossentropy: 2.3026 - val_categorical_accuracy: 0.1000\n",
      "Epoch 10/100\n",
      "100/100 [==============================] - 239s 2s/step - loss: 2.3026 - categorical_crossentropy: 2.3026 - categorical_accuracy: 0.1013 - val_loss: 2.3027 - val_categorical_crossentropy: 2.3027 - val_categorical_accuracy: 0.1000\n",
      "Epoch 11/100\n",
      "100/100 [==============================] - 242s 2s/step - loss: 2.3028 - categorical_crossentropy: 2.3028 - categorical_accuracy: 0.0979 - val_loss: 2.3026 - val_categorical_crossentropy: 2.3026 - val_categorical_accuracy: 0.1000\n",
      "\n",
      "Epoch 00011: ReduceLROnPlateau reducing learning rate to 0.0007500000356230885.\n",
      "Epoch 12/100\n",
      "100/100 [==============================] - 240s 2s/step - loss: 2.3026 - categorical_crossentropy: 2.3026 - categorical_accuracy: 0.1055 - val_loss: 2.3026 - val_categorical_crossentropy: 2.3026 - val_categorical_accuracy: 0.1000\n",
      "Epoch 13/100\n",
      "100/100 [==============================] - 239s 2s/step - loss: 2.3027 - categorical_crossentropy: 2.3027 - categorical_accuracy: 0.0983 - val_loss: 2.3026 - val_categorical_crossentropy: 2.3026 - val_categorical_accuracy: 0.1000\n",
      "Epoch 14/100\n",
      "100/100 [==============================] - 238s 2s/step - loss: 2.3027 - categorical_crossentropy: 2.3027 - categorical_accuracy: 0.0994 - val_loss: 2.3026 - val_categorical_crossentropy: 2.3026 - val_categorical_accuracy: 0.1000\n",
      "Epoch 15/100\n",
      "100/100 [==============================] - 239s 2s/step - loss: 2.3027 - categorical_crossentropy: 2.3027 - categorical_accuracy: 0.0967 - val_loss: 2.3026 - val_categorical_crossentropy: 2.3026 - val_categorical_accuracy: 0.1000\n",
      "Epoch 16/100\n",
      "100/100 [==============================] - 237s 2s/step - loss: 2.3026 - categorical_crossentropy: 2.3026 - categorical_accuracy: 0.0987 - val_loss: 2.3026 - val_categorical_crossentropy: 2.3026 - val_categorical_accuracy: 0.1000\n",
      "Epoch 17/100\n",
      "100/100 [==============================] - 238s 2s/step - loss: 2.3027 - categorical_crossentropy: 2.3027 - categorical_accuracy: 0.0929 - val_loss: 2.3026 - val_categorical_crossentropy: 2.3026 - val_categorical_accuracy: 0.1000\n",
      "Epoch 18/100\n",
      "100/100 [==============================] - 250s 2s/step - loss: 2.3027 - categorical_crossentropy: 2.3027 - categorical_accuracy: 0.0962 - val_loss: 2.3026 - val_categorical_crossentropy: 2.3026 - val_categorical_accuracy: 0.1000\n",
      "Epoch 19/100\n",
      "100/100 [==============================] - 243s 2s/step - loss: 2.3026 - categorical_crossentropy: 2.3026 - categorical_accuracy: 0.1045 - val_loss: 2.3026 - val_categorical_crossentropy: 2.3026 - val_categorical_accuracy: 0.1000\n",
      "Epoch 20/100\n",
      "100/100 [==============================] - 243s 2s/step - loss: 2.3027 - categorical_crossentropy: 2.3027 - categorical_accuracy: 0.0983 - val_loss: 2.3026 - val_categorical_crossentropy: 2.3026 - val_categorical_accuracy: 0.1000\n",
      "Epoch 21/100\n",
      "100/100 [==============================] - 246s 2s/step - loss: 2.3027 - categorical_crossentropy: 2.3027 - categorical_accuracy: 0.0979 - val_loss: 2.3026 - val_categorical_crossentropy: 2.3026 - val_categorical_accuracy: 0.1000\n",
      "\n",
      "Epoch 00021: ReduceLROnPlateau reducing learning rate to 0.0005625000048894435.\n",
      "Epoch 22/100\n",
      "100/100 [==============================] - 246s 2s/step - loss: 2.3027 - categorical_crossentropy: 2.3027 - categorical_accuracy: 0.0969 - val_loss: 2.3026 - val_categorical_crossentropy: 2.3026 - val_categorical_accuracy: 0.1000\n",
      "Epoch 23/100\n",
      "100/100 [==============================] - 247s 2s/step - loss: 2.3027 - categorical_crossentropy: 2.3027 - categorical_accuracy: 0.0980 - val_loss: 2.3026 - val_categorical_crossentropy: 2.3026 - val_categorical_accuracy: 0.1000\n",
      "Epoch 24/100\n",
      "100/100 [==============================] - 246s 2s/step - loss: 2.3026 - categorical_crossentropy: 2.3026 - categorical_accuracy: 0.1036 - val_loss: 2.3026 - val_categorical_crossentropy: 2.3026 - val_categorical_accuracy: 0.1000\n",
      "Epoch 25/100\n",
      "100/100 [==============================] - 245s 2s/step - loss: 2.3026 - categorical_crossentropy: 2.3026 - categorical_accuracy: 0.0981 - val_loss: 2.3026 - val_categorical_crossentropy: 2.3026 - val_categorical_accuracy: 0.1000\n",
      "Epoch 26/100\n",
      "100/100 [==============================] - 246s 2s/step - loss: 2.3025 - categorical_crossentropy: 2.3025 - categorical_accuracy: 0.0990 - val_loss: 2.3026 - val_categorical_crossentropy: 2.3026 - val_categorical_accuracy: 0.1000\n",
      "Epoch 27/100\n",
      "100/100 [==============================] - 246s 2s/step - loss: 2.3027 - categorical_crossentropy: 2.3027 - categorical_accuracy: 0.1010 - val_loss: 2.3026 - val_categorical_crossentropy: 2.3026 - val_categorical_accuracy: 0.1000\n"
     ]
    }
   ],
   "source": [
    "hist = model.fit_generator(\n",
    "    datagen.flow(train_X,train_y,batch_size = batch),\n",
    "    steps_per_epoch = STEPS,\n",
    "    validation_steps=STEPS, epochs=epochs, verbose=1,\n",
    "    validation_data=(valid_X, valid_y),\n",
    "    callbacks = callbacks\n",
    ")"
   ]
  },
  {
   "cell_type": "code",
   "execution_count": 35,
   "metadata": {},
   "outputs": [
    {
     "name": "stdout",
     "output_type": "stream",
     "text": [
      "Epoch 1/100\n",
      "100/100 [==============================] - 210s 2s/step - loss: 2.3026 - categorical_crossentropy: 2.3026 - categorical_accuracy: 0.0979 - val_loss: 2.3026 - val_categorical_crossentropy: 2.3026 - val_categorical_accuracy: 0.1000\n",
      "Epoch 2/100\n",
      "100/100 [==============================] - 219s 2s/step - loss: 2.3025 - categorical_crossentropy: 2.3025 - categorical_accuracy: 0.1053 - val_loss: 2.3026 - val_categorical_crossentropy: 2.3026 - val_categorical_accuracy: 0.1000\n",
      "Epoch 3/100\n",
      "100/100 [==============================] - 225s 2s/step - loss: 2.3025 - categorical_crossentropy: 2.3025 - categorical_accuracy: 0.1013 - val_loss: 2.3027 - val_categorical_crossentropy: 2.3027 - val_categorical_accuracy: 0.1000\n",
      "Epoch 4/100\n",
      "100/100 [==============================] - 229s 2s/step - loss: 2.3028 - categorical_crossentropy: 2.3028 - categorical_accuracy: 0.0949 - val_loss: 2.3026 - val_categorical_crossentropy: 2.3026 - val_categorical_accuracy: 0.1000\n",
      "Epoch 5/100\n",
      "100/100 [==============================] - 230s 2s/step - loss: 2.3027 - categorical_crossentropy: 2.3027 - categorical_accuracy: 0.0985 - val_loss: 2.3026 - val_categorical_crossentropy: 2.3026 - val_categorical_accuracy: 0.1000\n",
      "Epoch 6/100\n",
      "100/100 [==============================] - 232s 2s/step - loss: 2.3027 - categorical_crossentropy: 2.3027 - categorical_accuracy: 0.0999 - val_loss: 2.3026 - val_categorical_crossentropy: 2.3026 - val_categorical_accuracy: 0.1000\n",
      "Epoch 7/100\n",
      "100/100 [==============================] - 233s 2s/step - loss: 2.3027 - categorical_crossentropy: 2.3027 - categorical_accuracy: 0.0955 - val_loss: 2.3026 - val_categorical_crossentropy: 2.3026 - val_categorical_accuracy: 0.1000\n",
      "Epoch 8/100\n",
      "100/100 [==============================] - 233s 2s/step - loss: 2.3027 - categorical_crossentropy: 2.3027 - categorical_accuracy: 0.0949 - val_loss: 2.3026 - val_categorical_crossentropy: 2.3026 - val_categorical_accuracy: 0.1000\n",
      "Epoch 9/100\n",
      "100/100 [==============================] - 234s 2s/step - loss: 2.3026 - categorical_crossentropy: 2.3026 - categorical_accuracy: 0.0999 - val_loss: 2.3026 - val_categorical_crossentropy: 2.3026 - val_categorical_accuracy: 0.1000\n",
      "Epoch 10/100\n",
      "100/100 [==============================] - 235s 2s/step - loss: 2.3024 - categorical_crossentropy: 2.3024 - categorical_accuracy: 0.1062 - val_loss: 2.3026 - val_categorical_crossentropy: 2.3026 - val_categorical_accuracy: 0.1000\n",
      "Epoch 11/100\n",
      "100/100 [==============================] - 235s 2s/step - loss: 2.3027 - categorical_crossentropy: 2.3027 - categorical_accuracy: 0.0977 - val_loss: 2.3026 - val_categorical_crossentropy: 2.3026 - val_categorical_accuracy: 0.1000\n",
      "\n",
      "Epoch 00011: ReduceLROnPlateau reducing learning rate to 0.0004218749818392098.\n",
      "Epoch 12/100\n",
      "100/100 [==============================] - 234s 2s/step - loss: 2.3027 - categorical_crossentropy: 2.3027 - categorical_accuracy: 0.0934 - val_loss: 2.3026 - val_categorical_crossentropy: 2.3026 - val_categorical_accuracy: 0.1000\n",
      "Epoch 13/100\n",
      "100/100 [==============================] - 235s 2s/step - loss: 2.3026 - categorical_crossentropy: 2.3026 - categorical_accuracy: 0.1027 - val_loss: 2.3026 - val_categorical_crossentropy: 2.3026 - val_categorical_accuracy: 0.1000\n",
      "Epoch 14/100\n",
      "100/100 [==============================] - 236s 2s/step - loss: 2.3026 - categorical_crossentropy: 2.3026 - categorical_accuracy: 0.1006 - val_loss: 2.3026 - val_categorical_crossentropy: 2.3026 - val_categorical_accuracy: 0.1000\n",
      "Epoch 15/100\n",
      "100/100 [==============================] - 236s 2s/step - loss: 2.3027 - categorical_crossentropy: 2.3027 - categorical_accuracy: 0.0987 - val_loss: 2.3026 - val_categorical_crossentropy: 2.3026 - val_categorical_accuracy: 0.1000\n",
      "Epoch 16/100\n",
      "100/100 [==============================] - 237s 2s/step - loss: 2.3026 - categorical_crossentropy: 2.3026 - categorical_accuracy: 0.1002 - val_loss: 2.3026 - val_categorical_crossentropy: 2.3026 - val_categorical_accuracy: 0.1000\n",
      "Epoch 17/100\n",
      "100/100 [==============================] - 236s 2s/step - loss: 2.3027 - categorical_crossentropy: 2.3027 - categorical_accuracy: 0.0971 - val_loss: 2.3026 - val_categorical_crossentropy: 2.3026 - val_categorical_accuracy: 0.1000\n",
      "Epoch 18/100\n",
      "100/100 [==============================] - 248s 2s/step - loss: 2.3027 - categorical_crossentropy: 2.3027 - categorical_accuracy: 0.0999 - val_loss: 2.3026 - val_categorical_crossentropy: 2.3026 - val_categorical_accuracy: 0.1000\n"
     ]
    }
   ],
   "source": [
    "hist2 = model.fit_generator(\n",
    "    datagen.flow(train_X,train_y,batch_size = batch),\n",
    "    steps_per_epoch = STEPS,\n",
    "    validation_steps=STEPS, epochs=epochs, verbose=1,\n",
    "    validation_data=(valid_X, valid_y),\n",
    "    callbacks = callbacks\n",
    ")"
   ]
  },
  {
   "cell_type": "code",
   "execution_count": 33,
   "metadata": {},
   "outputs": [],
   "source": [
    "import winsound as ws\n",
    "\n",
    "def beepsound():\n",
    "    freq = 2000    # range : 37 ~ 32767\n",
    "    dur = 1000     # ms\n",
    "    ws.Beep(freq, dur) # winsound.Beep(frequency, duration)\n"
   ]
  },
  {
   "cell_type": "code",
   "execution_count": 34,
   "metadata": {},
   "outputs": [
    {
     "name": "stdout",
     "output_type": "stream",
     "text": [
      "None\n"
     ]
    }
   ],
   "source": [
    "print(beepsound())"
   ]
  },
  {
   "cell_type": "code",
   "execution_count": null,
   "metadata": {},
   "outputs": [],
   "source": []
  },
  {
   "cell_type": "code",
   "execution_count": null,
   "metadata": {},
   "outputs": [],
   "source": []
  },
  {
   "cell_type": "code",
   "execution_count": null,
   "metadata": {},
   "outputs": [],
   "source": []
  },
  {
   "cell_type": "code",
   "execution_count": null,
   "metadata": {},
   "outputs": [],
   "source": []
  },
  {
   "cell_type": "code",
   "execution_count": null,
   "metadata": {},
   "outputs": [],
   "source": []
  },
  {
   "cell_type": "code",
   "execution_count": null,
   "metadata": {},
   "outputs": [],
   "source": []
  },
  {
   "cell_type": "code",
   "execution_count": null,
   "metadata": {},
   "outputs": [],
   "source": []
  },
  {
   "cell_type": "code",
   "execution_count": null,
   "metadata": {},
   "outputs": [],
   "source": []
  },
  {
   "cell_type": "code",
   "execution_count": null,
   "metadata": {},
   "outputs": [],
   "source": []
  },
  {
   "cell_type": "code",
   "execution_count": 51,
   "metadata": {},
   "outputs": [
    {
     "name": "stdout",
     "output_type": "stream",
     "text": [
      "Epoch 1/100\n",
      "100/100 [==============================] - 98s 978ms/step - loss: 4.6052 - categorical_crossentropy: 4.6052 - categorical_accuracy: 0.0107 - val_loss: 4.6052 - val_categorical_crossentropy: 4.6052 - val_categorical_accuracy: 0.0100\n",
      "Epoch 2/100\n",
      "100/100 [==============================] - 103s 1s/step - loss: 4.6053 - categorical_crossentropy: 4.6053 - categorical_accuracy: 0.0088 - val_loss: 4.6053 - val_categorical_crossentropy: 4.6052 - val_categorical_accuracy: 0.0100\n",
      "Epoch 3/100\n",
      "100/100 [==============================] - 104s 1s/step - loss: 4.6053 - categorical_crossentropy: 4.6053 - categorical_accuracy: 0.0097 - val_loss: 4.6053 - val_categorical_crossentropy: 4.6053 - val_categorical_accuracy: 0.0100\n",
      "Epoch 4/100\n",
      "100/100 [==============================] - 106s 1s/step - loss: 4.6053 - categorical_crossentropy: 4.6053 - categorical_accuracy: 0.0101 - val_loss: 4.6053 - val_categorical_crossentropy: 4.6053 - val_categorical_accuracy: 0.0100\n",
      "Epoch 5/100\n",
      "100/100 [==============================] - 109s 1s/step - loss: 4.6055 - categorical_crossentropy: 4.6055 - categorical_accuracy: 0.0109 - val_loss: 4.6052 - val_categorical_crossentropy: 4.6052 - val_categorical_accuracy: 0.0100\n",
      "Epoch 6/100\n",
      "100/100 [==============================] - 109s 1s/step - loss: 4.6054 - categorical_crossentropy: 4.6054 - categorical_accuracy: 0.0100 - val_loss: 4.6052 - val_categorical_crossentropy: 4.6052 - val_categorical_accuracy: 0.0100\n",
      "Epoch 7/100\n",
      "100/100 [==============================] - 109s 1s/step - loss: 4.6053 - categorical_crossentropy: 4.6053 - categorical_accuracy: 0.0098 - val_loss: 4.6053 - val_categorical_crossentropy: 4.6053 - val_categorical_accuracy: 0.0100\n",
      "Epoch 8/100\n",
      "100/100 [==============================] - 109s 1s/step - loss: 4.6053 - categorical_crossentropy: 4.6053 - categorical_accuracy: 0.0097 - val_loss: 4.6053 - val_categorical_crossentropy: 4.6053 - val_categorical_accuracy: 0.0100\n",
      "Epoch 9/100\n",
      "100/100 [==============================] - 109s 1s/step - loss: 4.6054 - categorical_crossentropy: 4.6054 - categorical_accuracy: 0.0100 - val_loss: 4.6053 - val_categorical_crossentropy: 4.6053 - val_categorical_accuracy: 0.0100\n",
      "Epoch 10/100\n",
      "100/100 [==============================] - 109s 1s/step - loss: 4.6054 - categorical_crossentropy: 4.6054 - categorical_accuracy: 0.0110 - val_loss: 4.6053 - val_categorical_crossentropy: 4.6053 - val_categorical_accuracy: 0.0100\n",
      "Epoch 11/100\n",
      "100/100 [==============================] - 109s 1s/step - loss: 4.6054 - categorical_crossentropy: 4.6054 - categorical_accuracy: 0.0098 - val_loss: 4.6052 - val_categorical_crossentropy: 4.6053 - val_categorical_accuracy: 0.0100\n",
      "Epoch 12/100\n",
      "100/100 [==============================] - 109s 1s/step - loss: 4.6055 - categorical_crossentropy: 4.6055 - categorical_accuracy: 0.0101 - val_loss: 4.6052 - val_categorical_crossentropy: 4.6052 - val_categorical_accuracy: 0.0100\n",
      "Epoch 13/100\n",
      "100/100 [==============================] - 106s 1s/step - loss: 4.6054 - categorical_crossentropy: 4.6054 - categorical_accuracy: 0.0090 - val_loss: 4.6052 - val_categorical_crossentropy: 4.6052 - val_categorical_accuracy: 0.0100\n",
      "Epoch 14/100\n",
      "100/100 [==============================] - 105s 1s/step - loss: 4.6054 - categorical_crossentropy: 4.6054 - categorical_accuracy: 0.0105 - val_loss: 4.6052 - val_categorical_crossentropy: 4.6052 - val_categorical_accuracy: 0.0100\n",
      "Epoch 15/100\n",
      "100/100 [==============================] - 106s 1s/step - loss: 4.6056 - categorical_crossentropy: 4.6056 - categorical_accuracy: 0.0106 - val_loss: 4.6052 - val_categorical_crossentropy: 4.6052 - val_categorical_accuracy: 0.0100\n",
      "Epoch 16/100\n",
      "100/100 [==============================] - 106s 1s/step - loss: 4.6057 - categorical_crossentropy: 4.6057 - categorical_accuracy: 0.0084 - val_loss: 4.6052 - val_categorical_crossentropy: 4.6052 - val_categorical_accuracy: 0.0100\n",
      "Epoch 17/100\n",
      "100/100 [==============================] - 105s 1s/step - loss: 4.6053 - categorical_crossentropy: 4.6053 - categorical_accuracy: 0.0093 - val_loss: 4.6052 - val_categorical_crossentropy: 4.6052 - val_categorical_accuracy: 0.0100\n",
      "Epoch 18/100\n",
      "100/100 [==============================] - 107s 1s/step - loss: 4.6054 - categorical_crossentropy: 4.6054 - categorical_accuracy: 0.0108 - val_loss: 4.6052 - val_categorical_crossentropy: 4.6052 - val_categorical_accuracy: 0.0100\n",
      "Epoch 19/100\n",
      "100/100 [==============================] - 105s 1s/step - loss: 4.6056 - categorical_crossentropy: 4.6056 - categorical_accuracy: 0.0087 - val_loss: 4.6052 - val_categorical_crossentropy: 4.6052 - val_categorical_accuracy: 0.0100\n",
      "Epoch 20/100\n",
      "100/100 [==============================] - 105s 1s/step - loss: 4.6054 - categorical_crossentropy: 4.6054 - categorical_accuracy: 0.0088 - val_loss: 4.6052 - val_categorical_crossentropy: 4.6052 - val_categorical_accuracy: 0.0100\n",
      "Epoch 21/100\n",
      "100/100 [==============================] - 105s 1s/step - loss: 4.6055 - categorical_crossentropy: 4.6055 - categorical_accuracy: 0.0101 - val_loss: 4.6052 - val_categorical_crossentropy: 4.6052 - val_categorical_accuracy: 0.0100\n",
      "Epoch 22/100\n",
      "100/100 [==============================] - 105s 1s/step - loss: 4.6055 - categorical_crossentropy: 4.6055 - categorical_accuracy: 0.0083 - val_loss: 4.6052 - val_categorical_crossentropy: 4.6052 - val_categorical_accuracy: 0.0100\n",
      "Epoch 23/100\n",
      "100/100 [==============================] - 105s 1s/step - loss: 4.6055 - categorical_crossentropy: 4.6055 - categorical_accuracy: 0.0077 - val_loss: 4.6052 - val_categorical_crossentropy: 4.6052 - val_categorical_accuracy: 0.0100\n",
      "Epoch 24/100\n",
      "100/100 [==============================] - 106s 1s/step - loss: 4.6055 - categorical_crossentropy: 4.6055 - categorical_accuracy: 0.0095 - val_loss: 4.6052 - val_categorical_crossentropy: 4.6052 - val_categorical_accuracy: 0.0100\n",
      "Epoch 25/100\n",
      "100/100 [==============================] - 106s 1s/step - loss: 4.6053 - categorical_crossentropy: 4.6053 - categorical_accuracy: 0.0101 - val_loss: 4.6052 - val_categorical_crossentropy: 4.6052 - val_categorical_accuracy: 0.0100\n",
      "Epoch 26/100\n",
      "100/100 [==============================] - 105s 1s/step - loss: 4.6052 - categorical_crossentropy: 4.6052 - categorical_accuracy: 0.0110 - val_loss: 4.6052 - val_categorical_crossentropy: 4.6052 - val_categorical_accuracy: 0.0100\n",
      "Epoch 27/100\n",
      "100/100 [==============================] - 105s 1s/step - loss: 4.6051 - categorical_crossentropy: 4.6051 - categorical_accuracy: 0.0104 - val_loss: 4.6052 - val_categorical_crossentropy: 4.6052 - val_categorical_accuracy: 0.0100\n",
      "Epoch 28/100\n",
      "100/100 [==============================] - 106s 1s/step - loss: 4.6053 - categorical_crossentropy: 4.6053 - categorical_accuracy: 0.0085 - val_loss: 4.6052 - val_categorical_crossentropy: 4.6052 - val_categorical_accuracy: 0.0100\n",
      "Epoch 29/100\n",
      "100/100 [==============================] - 106s 1s/step - loss: 4.6053 - categorical_crossentropy: 4.6053 - categorical_accuracy: 0.0096 - val_loss: 4.6052 - val_categorical_crossentropy: 4.6052 - val_categorical_accuracy: 0.0100\n",
      "Epoch 30/100\n",
      "100/100 [==============================] - 105s 1s/step - loss: 4.6055 - categorical_crossentropy: 4.6055 - categorical_accuracy: 0.0089 - val_loss: 4.6052 - val_categorical_crossentropy: 4.6052 - val_categorical_accuracy: 0.0100\n",
      "Epoch 31/100\n",
      "100/100 [==============================] - 106s 1s/step - loss: 4.6051 - categorical_crossentropy: 4.6051 - categorical_accuracy: 0.0116 - val_loss: 4.6052 - val_categorical_crossentropy: 4.6052 - val_categorical_accuracy: 0.0100\n",
      "\n",
      "Epoch 00031: ReduceLROnPlateau reducing learning rate to 0.0004218749818392098.\n",
      "Epoch 32/100\n",
      "100/100 [==============================] - 106s 1s/step - loss: 4.6053 - categorical_crossentropy: 4.6053 - categorical_accuracy: 0.0119 - val_loss: 4.6052 - val_categorical_crossentropy: 4.6052 - val_categorical_accuracy: 0.0100\n",
      "Epoch 33/100\n",
      "100/100 [==============================] - 106s 1s/step - loss: 4.6053 - categorical_crossentropy: 4.6053 - categorical_accuracy: 0.0098 - val_loss: 4.6052 - val_categorical_crossentropy: 4.6052 - val_categorical_accuracy: 0.0100\n",
      "Epoch 34/100\n",
      "100/100 [==============================] - 106s 1s/step - loss: 4.6055 - categorical_crossentropy: 4.6055 - categorical_accuracy: 0.0091 - val_loss: 4.6052 - val_categorical_crossentropy: 4.6052 - val_categorical_accuracy: 0.0100\n",
      "Epoch 35/100\n",
      "100/100 [==============================] - 106s 1s/step - loss: 4.6052 - categorical_crossentropy: 4.6052 - categorical_accuracy: 0.0091 - val_loss: 4.6052 - val_categorical_crossentropy: 4.6052 - val_categorical_accuracy: 0.0100\n",
      "Epoch 36/100\n",
      "100/100 [==============================] - 105s 1s/step - loss: 4.6056 - categorical_crossentropy: 4.6056 - categorical_accuracy: 0.0094 - val_loss: 4.6052 - val_categorical_crossentropy: 4.6052 - val_categorical_accuracy: 0.0100\n",
      "Epoch 37/100\n",
      "100/100 [==============================] - 103s 1s/step - loss: 4.6054 - categorical_crossentropy: 4.6054 - categorical_accuracy: 0.0088 - val_loss: 4.6052 - val_categorical_crossentropy: 4.6052 - val_categorical_accuracy: 0.0100\n",
      "Epoch 38/100\n",
      "100/100 [==============================] - 101s 1s/step - loss: 4.6053 - categorical_crossentropy: 4.6053 - categorical_accuracy: 0.0103 - val_loss: 4.6052 - val_categorical_crossentropy: 4.6052 - val_categorical_accuracy: 0.0100\n",
      "Epoch 39/100\n",
      "100/100 [==============================] - 102s 1s/step - loss: 4.6057 - categorical_crossentropy: 4.6057 - categorical_accuracy: 0.0080 - val_loss: 4.6052 - val_categorical_crossentropy: 4.6052 - val_categorical_accuracy: 0.0100\n",
      "Epoch 40/100\n",
      "100/100 [==============================] - 102s 1s/step - loss: 4.6055 - categorical_crossentropy: 4.6055 - categorical_accuracy: 0.0095 - val_loss: 4.6052 - val_categorical_crossentropy: 4.6052 - val_categorical_accuracy: 0.0100\n",
      "Epoch 41/100\n",
      "100/100 [==============================] - 102s 1s/step - loss: 4.6054 - categorical_crossentropy: 4.6054 - categorical_accuracy: 0.0083 - val_loss: 4.6052 - val_categorical_crossentropy: 4.6052 - val_categorical_accuracy: 0.0100\n",
      "Epoch 42/100\n",
      "100/100 [==============================] - 101s 1s/step - loss: 4.6054 - categorical_crossentropy: 4.6054 - categorical_accuracy: 0.0093 - val_loss: 4.6052 - val_categorical_crossentropy: 4.6052 - val_categorical_accuracy: 0.0100\n",
      "Epoch 43/100\n",
      "100/100 [==============================] - 101s 1s/step - loss: 4.6054 - categorical_crossentropy: 4.6054 - categorical_accuracy: 0.0097 - val_loss: 4.6052 - val_categorical_crossentropy: 4.6052 - val_categorical_accuracy: 0.0100\n",
      "Epoch 44/100\n",
      "100/100 [==============================] - 101s 1s/step - loss: 4.6055 - categorical_crossentropy: 4.6055 - categorical_accuracy: 0.0100 - val_loss: 4.6052 - val_categorical_crossentropy: 4.6052 - val_categorical_accuracy: 0.0100\n",
      "Epoch 45/100\n",
      "100/100 [==============================] - 101s 1s/step - loss: 4.6053 - categorical_crossentropy: 4.6053 - categorical_accuracy: 0.0091 - val_loss: 4.6052 - val_categorical_crossentropy: 4.6052 - val_categorical_accuracy: 0.0100\n",
      "Epoch 46/100\n",
      "100/100 [==============================] - 101s 1s/step - loss: 4.6054 - categorical_crossentropy: 4.6054 - categorical_accuracy: 0.0085 - val_loss: 4.6052 - val_categorical_crossentropy: 4.6052 - val_categorical_accuracy: 0.0100\n",
      "Epoch 47/100\n",
      "100/100 [==============================] - 106s 1s/step - loss: 4.6055 - categorical_crossentropy: 4.6055 - categorical_accuracy: 0.0092 - val_loss: 4.6052 - val_categorical_crossentropy: 4.6052 - val_categorical_accuracy: 0.0100\n",
      "Epoch 48/100\n",
      "100/100 [==============================] - 106s 1s/step - loss: 4.6055 - categorical_crossentropy: 4.6055 - categorical_accuracy: 0.0096 - val_loss: 4.6052 - val_categorical_crossentropy: 4.6052 - val_categorical_accuracy: 0.0100\n",
      "Epoch 49/100\n",
      "100/100 [==============================] - 101s 1s/step - loss: 4.6055 - categorical_crossentropy: 4.6055 - categorical_accuracy: 0.0078 - val_loss: 4.6052 - val_categorical_crossentropy: 4.6052 - val_categorical_accuracy: 0.0100\n",
      "Epoch 50/100\n",
      "100/100 [==============================] - 101s 1s/step - loss: 4.6051 - categorical_crossentropy: 4.6051 - categorical_accuracy: 0.0088 - val_loss: 4.6052 - val_categorical_crossentropy: 4.6052 - val_categorical_accuracy: 0.0100\n",
      "Epoch 51/100\n",
      "100/100 [==============================] - 101s 1s/step - loss: 4.6052 - categorical_crossentropy: 4.6052 - categorical_accuracy: 0.0099 - val_loss: 4.6052 - val_categorical_crossentropy: 4.6052 - val_categorical_accuracy: 0.0100\n",
      "Epoch 52/100\n",
      "100/100 [==============================] - 101s 1s/step - loss: 4.6054 - categorical_crossentropy: 4.6054 - categorical_accuracy: 0.0095 - val_loss: 4.6052 - val_categorical_crossentropy: 4.6052 - val_categorical_accuracy: 0.0100\n",
      "Epoch 53/100\n",
      "100/100 [==============================] - 101s 1s/step - loss: 4.6053 - categorical_crossentropy: 4.6053 - categorical_accuracy: 0.0106 - val_loss: 4.6052 - val_categorical_crossentropy: 4.6052 - val_categorical_accuracy: 0.0100\n",
      "Epoch 54/100\n",
      "100/100 [==============================] - 101s 1s/step - loss: 4.6053 - categorical_crossentropy: 4.6053 - categorical_accuracy: 0.0104 - val_loss: 4.6052 - val_categorical_crossentropy: 4.6052 - val_categorical_accuracy: 0.0100\n",
      "Epoch 55/100\n",
      "100/100 [==============================] - 101s 1s/step - loss: 4.6053 - categorical_crossentropy: 4.6053 - categorical_accuracy: 0.0089 - val_loss: 4.6052 - val_categorical_crossentropy: 4.6052 - val_categorical_accuracy: 0.0100\n",
      "Epoch 56/100\n",
      "100/100 [==============================] - 142s 1s/step - loss: 4.6053 - categorical_crossentropy: 4.6053 - categorical_accuracy: 0.0091 - val_loss: 4.6052 - val_categorical_crossentropy: 4.6052 - val_categorical_accuracy: 0.0100\n",
      "Epoch 57/100\n",
      "100/100 [==============================] - 105s 1s/step - loss: 4.6053 - categorical_crossentropy: 4.6053 - categorical_accuracy: 0.0100 - val_loss: 4.6052 - val_categorical_crossentropy: 4.6052 - val_categorical_accuracy: 0.0100\n",
      "Epoch 58/100\n",
      "100/100 [==============================] - 101s 1s/step - loss: 4.6052 - categorical_crossentropy: 4.6052 - categorical_accuracy: 0.0101 - val_loss: 4.6052 - val_categorical_crossentropy: 4.6052 - val_categorical_accuracy: 0.0100\n",
      "Epoch 59/100\n",
      "100/100 [==============================] - 101s 1s/step - loss: 4.6052 - categorical_crossentropy: 4.6052 - categorical_accuracy: 0.0098 - val_loss: 4.6052 - val_categorical_crossentropy: 4.6052 - val_categorical_accuracy: 0.0100\n",
      "Epoch 60/100\n",
      "100/100 [==============================] - 101s 1s/step - loss: 4.6054 - categorical_crossentropy: 4.6054 - categorical_accuracy: 0.0095 - val_loss: 4.6052 - val_categorical_crossentropy: 4.6052 - val_categorical_accuracy: 0.0100\n",
      "Epoch 61/100\n",
      "100/100 [==============================] - 101s 1s/step - loss: 4.6053 - categorical_crossentropy: 4.6053 - categorical_accuracy: 0.0098 - val_loss: 4.6052 - val_categorical_crossentropy: 4.6052 - val_categorical_accuracy: 0.0100\n",
      "\n",
      "Epoch 00061: ReduceLROnPlateau reducing learning rate to 0.00031640623637940735.\n",
      "Epoch 62/100\n",
      "100/100 [==============================] - 101s 1s/step - loss: 4.6054 - categorical_crossentropy: 4.6054 - categorical_accuracy: 0.0092 - val_loss: 4.6052 - val_categorical_crossentropy: 4.6052 - val_categorical_accuracy: 0.0100\n",
      "Epoch 63/100\n",
      "100/100 [==============================] - 101s 1s/step - loss: 4.6054 - categorical_crossentropy: 4.6054 - categorical_accuracy: 0.0102 - val_loss: 4.6052 - val_categorical_crossentropy: 4.6052 - val_categorical_accuracy: 0.0100\n",
      "Epoch 64/100\n",
      "100/100 [==============================] - 101s 1s/step - loss: 4.6054 - categorical_crossentropy: 4.6054 - categorical_accuracy: 0.0091 - val_loss: 4.6052 - val_categorical_crossentropy: 4.6052 - val_categorical_accuracy: 0.0100\n",
      "Epoch 65/100\n",
      "100/100 [==============================] - 101s 1s/step - loss: 4.6055 - categorical_crossentropy: 4.6055 - categorical_accuracy: 0.0083 - val_loss: 4.6052 - val_categorical_crossentropy: 4.6052 - val_categorical_accuracy: 0.0100\n",
      "Epoch 66/100\n",
      "100/100 [==============================] - 101s 1s/step - loss: 4.6054 - categorical_crossentropy: 4.6054 - categorical_accuracy: 0.0108 - val_loss: 4.6052 - val_categorical_crossentropy: 4.6052 - val_categorical_accuracy: 0.0100\n",
      "Epoch 67/100\n"
     ]
    },
    {
     "name": "stdout",
     "output_type": "stream",
     "text": [
      "100/100 [==============================] - 101s 1s/step - loss: 4.6054 - categorical_crossentropy: 4.6054 - categorical_accuracy: 0.0093 - val_loss: 4.6052 - val_categorical_crossentropy: 4.6052 - val_categorical_accuracy: 0.0100\n",
      "Epoch 68/100\n",
      "100/100 [==============================] - 101s 1s/step - loss: 4.6053 - categorical_crossentropy: 4.6053 - categorical_accuracy: 0.0109 - val_loss: 4.6052 - val_categorical_crossentropy: 4.6052 - val_categorical_accuracy: 0.0100\n",
      "Epoch 69/100\n",
      "100/100 [==============================] - 101s 1s/step - loss: 4.6054 - categorical_crossentropy: 4.6054 - categorical_accuracy: 0.0098 - val_loss: 4.6052 - val_categorical_crossentropy: 4.6052 - val_categorical_accuracy: 0.0100\n",
      "Epoch 70/100\n",
      "100/100 [==============================] - 101s 1s/step - loss: 4.6054 - categorical_crossentropy: 4.6054 - categorical_accuracy: 0.0096 - val_loss: 4.6052 - val_categorical_crossentropy: 4.6052 - val_categorical_accuracy: 0.0100\n",
      "Epoch 71/100\n",
      "100/100 [==============================] - 101s 1s/step - loss: 4.6054 - categorical_crossentropy: 4.6054 - categorical_accuracy: 0.0101 - val_loss: 4.6052 - val_categorical_crossentropy: 4.6052 - val_categorical_accuracy: 0.0100\n",
      "Epoch 72/100\n",
      "100/100 [==============================] - 101s 1s/step - loss: 4.6053 - categorical_crossentropy: 4.6053 - categorical_accuracy: 0.0090 - val_loss: 4.6052 - val_categorical_crossentropy: 4.6052 - val_categorical_accuracy: 0.0100\n",
      "Epoch 73/100\n",
      "100/100 [==============================] - 101s 1s/step - loss: 4.6054 - categorical_crossentropy: 4.6054 - categorical_accuracy: 0.0085 - val_loss: 4.6052 - val_categorical_crossentropy: 4.6052 - val_categorical_accuracy: 0.0100\n",
      "Epoch 74/100\n",
      "100/100 [==============================] - 1415s 14s/step - loss: 4.6053 - categorical_crossentropy: 4.6053 - categorical_accuracy: 0.0089 - val_loss: 4.6052 - val_categorical_crossentropy: 4.6052 - val_categorical_accuracy: 0.0100\n",
      "Epoch 75/100\n",
      "100/100 [==============================] - 90s 904ms/step - loss: 4.6052 - categorical_crossentropy: 4.6052 - categorical_accuracy: 0.0105 - val_loss: 4.6052 - val_categorical_crossentropy: 4.6052 - val_categorical_accuracy: 0.0100\n",
      "Epoch 76/100\n",
      "100/100 [==============================] - 93s 928ms/step - loss: 4.6052 - categorical_crossentropy: 4.6052 - categorical_accuracy: 0.0103 - val_loss: 4.6052 - val_categorical_crossentropy: 4.6052 - val_categorical_accuracy: 0.0100\n",
      "Epoch 77/100\n",
      "100/100 [==============================] - 95s 950ms/step - loss: 4.6052 - categorical_crossentropy: 4.6052 - categorical_accuracy: 0.0094 - val_loss: 4.6052 - val_categorical_crossentropy: 4.6052 - val_categorical_accuracy: 0.0100\n",
      "Epoch 78/100\n",
      "100/100 [==============================] - 97s 968ms/step - loss: 4.6053 - categorical_crossentropy: 4.6053 - categorical_accuracy: 0.0090 - val_loss: 4.6052 - val_categorical_crossentropy: 4.6052 - val_categorical_accuracy: 0.0100\n",
      "Epoch 79/100\n",
      "100/100 [==============================] - 98s 981ms/step - loss: 4.6053 - categorical_crossentropy: 4.6053 - categorical_accuracy: 0.0109 - val_loss: 4.6052 - val_categorical_crossentropy: 4.6052 - val_categorical_accuracy: 0.0100\n",
      "Epoch 80/100\n",
      "100/100 [==============================] - 99s 986ms/step - loss: 4.6053 - categorical_crossentropy: 4.6053 - categorical_accuracy: 0.0098 - val_loss: 4.6052 - val_categorical_crossentropy: 4.6052 - val_categorical_accuracy: 0.0100\n",
      "Epoch 81/100\n",
      "100/100 [==============================] - 100s 997ms/step - loss: 4.6052 - categorical_crossentropy: 4.6052 - categorical_accuracy: 0.0112 - val_loss: 4.6052 - val_categorical_crossentropy: 4.6052 - val_categorical_accuracy: 0.0100\n",
      "Epoch 82/100\n",
      "100/100 [==============================] - 100s 996ms/step - loss: 4.6054 - categorical_crossentropy: 4.6054 - categorical_accuracy: 0.0092 - val_loss: 4.6052 - val_categorical_crossentropy: 4.6052 - val_categorical_accuracy: 0.0100\n",
      "Epoch 83/100\n",
      "100/100 [==============================] - 100s 999ms/step - loss: 4.6053 - categorical_crossentropy: 4.6053 - categorical_accuracy: 0.0097 - val_loss: 4.6052 - val_categorical_crossentropy: 4.6052 - val_categorical_accuracy: 0.0100\n",
      "Epoch 84/100\n",
      "100/100 [==============================] - 101s 1s/step - loss: 4.6052 - categorical_crossentropy: 4.6052 - categorical_accuracy: 0.0090 - val_loss: 4.6052 - val_categorical_crossentropy: 4.6052 - val_categorical_accuracy: 0.0100\n",
      "Epoch 85/100\n",
      "100/100 [==============================] - 100s 1s/step - loss: 4.6053 - categorical_crossentropy: 4.6053 - categorical_accuracy: 0.0090 - val_loss: 4.6052 - val_categorical_crossentropy: 4.6052 - val_categorical_accuracy: 0.0100\n",
      "Epoch 86/100\n",
      "100/100 [==============================] - 101s 1s/step - loss: 4.6054 - categorical_crossentropy: 4.6054 - categorical_accuracy: 0.0097 - val_loss: 4.6052 - val_categorical_crossentropy: 4.6052 - val_categorical_accuracy: 0.0100\n",
      "Epoch 87/100\n",
      "100/100 [==============================] - 101s 1s/step - loss: 4.6053 - categorical_crossentropy: 4.6053 - categorical_accuracy: 0.0100 - val_loss: 4.6052 - val_categorical_crossentropy: 4.6052 - val_categorical_accuracy: 0.0100\n",
      "Epoch 88/100\n",
      "100/100 [==============================] - 101s 1s/step - loss: 4.6053 - categorical_crossentropy: 4.6053 - categorical_accuracy: 0.0094 - val_loss: 4.6052 - val_categorical_crossentropy: 4.6052 - val_categorical_accuracy: 0.0100\n",
      "Epoch 89/100\n",
      "100/100 [==============================] - 101s 1s/step - loss: 4.6053 - categorical_crossentropy: 4.6053 - categorical_accuracy: 0.0104 - val_loss: 4.6052 - val_categorical_crossentropy: 4.6052 - val_categorical_accuracy: 0.0100\n",
      "Epoch 90/100\n",
      "100/100 [==============================] - 101s 1s/step - loss: 4.6054 - categorical_crossentropy: 4.6054 - categorical_accuracy: 0.0095 - val_loss: 4.6052 - val_categorical_crossentropy: 4.6052 - val_categorical_accuracy: 0.0100\n",
      "Epoch 91/100\n",
      "100/100 [==============================] - 102s 1s/step - loss: 4.6054 - categorical_crossentropy: 4.6054 - categorical_accuracy: 0.0087 - val_loss: 4.6052 - val_categorical_crossentropy: 4.6052 - val_categorical_accuracy: 0.0100\n",
      "\n",
      "Epoch 00091: ReduceLROnPlateau reducing learning rate to 0.00023730468819849193.\n",
      "Epoch 92/100\n",
      "100/100 [==============================] - 101s 1s/step - loss: 4.6053 - categorical_crossentropy: 4.6053 - categorical_accuracy: 0.0096 - val_loss: 4.6052 - val_categorical_crossentropy: 4.6052 - val_categorical_accuracy: 0.0100\n",
      "Epoch 93/100\n",
      "100/100 [==============================] - 101s 1s/step - loss: 4.6053 - categorical_crossentropy: 4.6053 - categorical_accuracy: 0.0086 - val_loss: 4.6052 - val_categorical_crossentropy: 4.6052 - val_categorical_accuracy: 0.0100\n",
      "Epoch 94/100\n",
      "100/100 [==============================] - 101s 1s/step - loss: 4.6054 - categorical_crossentropy: 4.6054 - categorical_accuracy: 0.0089 - val_loss: 4.6052 - val_categorical_crossentropy: 4.6052 - val_categorical_accuracy: 0.0100\n",
      "Epoch 95/100\n",
      "100/100 [==============================] - 101s 1s/step - loss: 4.6054 - categorical_crossentropy: 4.6054 - categorical_accuracy: 0.0106 - val_loss: 4.6052 - val_categorical_crossentropy: 4.6052 - val_categorical_accuracy: 0.0100\n",
      "Epoch 96/100\n",
      "100/100 [==============================] - 101s 1s/step - loss: 4.6054 - categorical_crossentropy: 4.6054 - categorical_accuracy: 0.0098 - val_loss: 4.6052 - val_categorical_crossentropy: 4.6052 - val_categorical_accuracy: 0.0100\n",
      "Epoch 97/100\n",
      "100/100 [==============================] - 101s 1s/step - loss: 4.6054 - categorical_crossentropy: 4.6054 - categorical_accuracy: 0.0079 - val_loss: 4.6052 - val_categorical_crossentropy: 4.6052 - val_categorical_accuracy: 0.0100\n",
      "Epoch 98/100\n",
      "100/100 [==============================] - 101s 1s/step - loss: 4.6054 - categorical_crossentropy: 4.6054 - categorical_accuracy: 0.0086 - val_loss: 4.6052 - val_categorical_crossentropy: 4.6052 - val_categorical_accuracy: 0.0100\n",
      "Epoch 99/100\n",
      "100/100 [==============================] - 101s 1s/step - loss: 4.6051 - categorical_crossentropy: 4.6051 - categorical_accuracy: 0.0088 - val_loss: 4.6052 - val_categorical_crossentropy: 4.6052 - val_categorical_accuracy: 0.0100\n",
      "Epoch 100/100\n",
      "100/100 [==============================] - 102s 1s/step - loss: 4.6052 - categorical_crossentropy: 4.6052 - categorical_accuracy: 0.0106 - val_loss: 4.6052 - val_categorical_crossentropy: 4.6052 - val_categorical_accuracy: 0.0100\n"
     ]
    }
   ],
   "source": [
    "hist2 = model.fit_generator(\n",
    "    datagen.flow(train_X,train_y,batch_size = batch),\n",
    "    steps_per_epoch = STEPS,\n",
    "    validation_steps=STEPS, epochs=epochs, verbose=1,\n",
    "    validation_data=(valid_X, valid_y),\n",
    "    callbacks = callbacks\n",
    ")"
   ]
  },
  {
   "cell_type": "code",
   "execution_count": null,
   "metadata": {},
   "outputs": [
    {
     "name": "stdout",
     "output_type": "stream",
     "text": [
      "Epoch 1/100\n",
      "100/100 [==============================] - 98s 980ms/step - loss: 4.6051 - categorical_crossentropy: 4.6051 - categorical_accuracy: 0.0095 - val_loss: 4.6052 - val_categorical_crossentropy: 4.6052 - val_categorical_accuracy: 0.0100\n",
      "Epoch 2/100\n",
      "100/100 [==============================] - 101s 1s/step - loss: 4.6052 - categorical_crossentropy: 4.6052 - categorical_accuracy: 0.0096 - val_loss: 4.6052 - val_categorical_crossentropy: 4.6052 - val_categorical_accuracy: 0.0100\n",
      "Epoch 3/100\n",
      "100/100 [==============================] - 101s 1s/step - loss: 4.6051 - categorical_crossentropy: 4.6051 - categorical_accuracy: 0.0104 - val_loss: 4.6052 - val_categorical_crossentropy: 4.6052 - val_categorical_accuracy: 0.0100\n",
      "Epoch 4/100\n",
      "100/100 [==============================] - 101s 1s/step - loss: 4.6051 - categorical_crossentropy: 4.6051 - categorical_accuracy: 0.0123 - val_loss: 4.6052 - val_categorical_crossentropy: 4.6052 - val_categorical_accuracy: 0.0100\n",
      "Epoch 5/100\n",
      "100/100 [==============================] - 101s 1s/step - loss: 4.6053 - categorical_crossentropy: 4.6053 - categorical_accuracy: 0.0099 - val_loss: 4.6052 - val_categorical_crossentropy: 4.6052 - val_categorical_accuracy: 0.0100\n",
      "Epoch 6/100\n",
      "100/100 [==============================] - 101s 1s/step - loss: 4.6052 - categorical_crossentropy: 4.6052 - categorical_accuracy: 0.0108 - val_loss: 4.6052 - val_categorical_crossentropy: 4.6052 - val_categorical_accuracy: 0.0100\n",
      "Epoch 7/100\n",
      "100/100 [==============================] - 101s 1s/step - loss: 4.6052 - categorical_crossentropy: 4.6052 - categorical_accuracy: 0.0093 - val_loss: 4.6052 - val_categorical_crossentropy: 4.6052 - val_categorical_accuracy: 0.0100\n",
      "Epoch 8/100\n",
      "100/100 [==============================] - 101s 1s/step - loss: 4.6054 - categorical_crossentropy: 4.6054 - categorical_accuracy: 0.0098 - val_loss: 4.6052 - val_categorical_crossentropy: 4.6052 - val_categorical_accuracy: 0.0100\n",
      "Epoch 9/100\n",
      "100/100 [==============================] - 101s 1s/step - loss: 4.6053 - categorical_crossentropy: 4.6053 - categorical_accuracy: 0.0088 - val_loss: 4.6052 - val_categorical_crossentropy: 4.6052 - val_categorical_accuracy: 0.0100\n",
      "Epoch 10/100\n",
      "100/100 [==============================] - 101s 1s/step - loss: 4.6052 - categorical_crossentropy: 4.6052 - categorical_accuracy: 0.0096 - val_loss: 4.6052 - val_categorical_crossentropy: 4.6052 - val_categorical_accuracy: 0.0100\n",
      "Epoch 11/100\n",
      "100/100 [==============================] - 101s 1s/step - loss: 4.6053 - categorical_crossentropy: 4.6053 - categorical_accuracy: 0.0084 - val_loss: 4.6052 - val_categorical_crossentropy: 4.6052 - val_categorical_accuracy: 0.0100\n",
      "Epoch 12/100\n",
      "100/100 [==============================] - 101s 1s/step - loss: 4.6053 - categorical_crossentropy: 4.6053 - categorical_accuracy: 0.0105 - val_loss: 4.6052 - val_categorical_crossentropy: 4.6052 - val_categorical_accuracy: 0.0100\n",
      "Epoch 13/100\n",
      "100/100 [==============================] - 101s 1s/step - loss: 4.6052 - categorical_crossentropy: 4.6052 - categorical_accuracy: 0.0099 - val_loss: 4.6052 - val_categorical_crossentropy: 4.6052 - val_categorical_accuracy: 0.0100\n",
      "Epoch 14/100\n",
      "100/100 [==============================] - 101s 1s/step - loss: 4.6054 - categorical_crossentropy: 4.6054 - categorical_accuracy: 0.0075 - val_loss: 4.6052 - val_categorical_crossentropy: 4.6052 - val_categorical_accuracy: 0.0100\n",
      "Epoch 15/100\n",
      "100/100 [==============================] - 101s 1s/step - loss: 4.6054 - categorical_crossentropy: 4.6054 - categorical_accuracy: 0.0104 - val_loss: 4.6052 - val_categorical_crossentropy: 4.6052 - val_categorical_accuracy: 0.0100\n",
      "Epoch 16/100\n",
      "100/100 [==============================] - 101s 1s/step - loss: 4.6052 - categorical_crossentropy: 4.6052 - categorical_accuracy: 0.0091 - val_loss: 4.6052 - val_categorical_crossentropy: 4.6052 - val_categorical_accuracy: 0.0100\n",
      "Epoch 17/100\n",
      "100/100 [==============================] - 102s 1s/step - loss: 4.6053 - categorical_crossentropy: 4.6053 - categorical_accuracy: 0.0078 - val_loss: 4.6052 - val_categorical_crossentropy: 4.6052 - val_categorical_accuracy: 0.0100\n",
      "Epoch 18/100\n",
      "100/100 [==============================] - 101s 1s/step - loss: 4.6054 - categorical_crossentropy: 4.6054 - categorical_accuracy: 0.0083 - val_loss: 4.6052 - val_categorical_crossentropy: 4.6052 - val_categorical_accuracy: 0.0100\n",
      "Epoch 19/100\n",
      "100/100 [==============================] - 2338s 23s/step - loss: 4.6053 - categorical_crossentropy: 4.6053 - categorical_accuracy: 0.0100 - val_loss: 4.6052 - val_categorical_crossentropy: 4.6052 - val_categorical_accuracy: 0.0100\n",
      "Epoch 20/100\n",
      "100/100 [==============================] - 92s 915ms/step - loss: 4.6054 - categorical_crossentropy: 4.6054 - categorical_accuracy: 0.0093 - val_loss: 4.6052 - val_categorical_crossentropy: 4.6052 - val_categorical_accuracy: 0.0100\n",
      "Epoch 21/100\n",
      "100/100 [==============================] - 93s 934ms/step - loss: 4.6054 - categorical_crossentropy: 4.6054 - categorical_accuracy: 0.0076 - val_loss: 4.6052 - val_categorical_crossentropy: 4.6052 - val_categorical_accuracy: 0.0100\n",
      "Epoch 22/100\n",
      "100/100 [==============================] - 95s 952ms/step - loss: 4.6053 - categorical_crossentropy: 4.6053 - categorical_accuracy: 0.0105 - val_loss: 4.6052 - val_categorical_crossentropy: 4.6052 - val_categorical_accuracy: 0.0100\n",
      "Epoch 23/100\n",
      "100/100 [==============================] - 96s 962ms/step - loss: 4.6053 - categorical_crossentropy: 4.6053 - categorical_accuracy: 0.0087 - val_loss: 4.6052 - val_categorical_crossentropy: 4.6052 - val_categorical_accuracy: 0.0100\n",
      "Epoch 24/100\n",
      "100/100 [==============================] - 97s 971ms/step - loss: 4.6053 - categorical_crossentropy: 4.6053 - categorical_accuracy: 0.0089 - val_loss: 4.6052 - val_categorical_crossentropy: 4.6052 - val_categorical_accuracy: 0.0100\n",
      "Epoch 25/100\n",
      "100/100 [==============================] - 98s 980ms/step - loss: 4.6052 - categorical_crossentropy: 4.6052 - categorical_accuracy: 0.0105 - val_loss: 4.6052 - val_categorical_crossentropy: 4.6052 - val_categorical_accuracy: 0.0100\n",
      "Epoch 26/100\n",
      "100/100 [==============================] - 98s 984ms/step - loss: 4.6052 - categorical_crossentropy: 4.6052 - categorical_accuracy: 0.0099 - val_loss: 4.6052 - val_categorical_crossentropy: 4.6052 - val_categorical_accuracy: 0.0100\n",
      "Epoch 27/100\n",
      "100/100 [==============================] - 99s 991ms/step - loss: 4.6052 - categorical_crossentropy: 4.6052 - categorical_accuracy: 0.0111 - val_loss: 4.6052 - val_categorical_crossentropy: 4.6052 - val_categorical_accuracy: 0.0100\n",
      "Epoch 28/100\n",
      "100/100 [==============================] - 100s 999ms/step - loss: 4.6053 - categorical_crossentropy: 4.6053 - categorical_accuracy: 0.0097 - val_loss: 4.6052 - val_categorical_crossentropy: 4.6052 - val_categorical_accuracy: 0.0100\n",
      "Epoch 29/100\n",
      "100/100 [==============================] - 100s 997ms/step - loss: 4.6053 - categorical_crossentropy: 4.6053 - categorical_accuracy: 0.0104 - val_loss: 4.6052 - val_categorical_crossentropy: 4.6052 - val_categorical_accuracy: 0.0100\n",
      "Epoch 30/100\n",
      "100/100 [==============================] - 100s 1000ms/step - loss: 4.6053 - categorical_crossentropy: 4.6053 - categorical_accuracy: 0.0078 - val_loss: 4.6052 - val_categorical_crossentropy: 4.6052 - val_categorical_accuracy: 0.0100\n",
      "Epoch 31/100\n",
      "100/100 [==============================] - 100s 1s/step - loss: 4.6053 - categorical_crossentropy: 4.6053 - categorical_accuracy: 0.0101 - val_loss: 4.6052 - val_categorical_crossentropy: 4.6052 - val_categorical_accuracy: 0.0100\n",
      "\n",
      "Epoch 00031: ReduceLROnPlateau reducing learning rate to 0.00017797851614886895.\n",
      "Epoch 32/100\n",
      "100/100 [==============================] - 100s 1s/step - loss: 4.6053 - categorical_crossentropy: 4.6053 - categorical_accuracy: 0.0094 - val_loss: 4.6052 - val_categorical_crossentropy: 4.6052 - val_categorical_accuracy: 0.0100\n",
      "Epoch 33/100\n",
      "100/100 [==============================] - 100s 1s/step - loss: 4.6052 - categorical_crossentropy: 4.6052 - categorical_accuracy: 0.0106 - val_loss: 4.6052 - val_categorical_crossentropy: 4.6052 - val_categorical_accuracy: 0.0100\n",
      "Epoch 34/100\n",
      "100/100 [==============================] - 100s 1s/step - loss: 4.6052 - categorical_crossentropy: 4.6052 - categorical_accuracy: 0.0086 - val_loss: 4.6052 - val_categorical_crossentropy: 4.6052 - val_categorical_accuracy: 0.0100\n",
      "Epoch 35/100\n",
      "100/100 [==============================] - 101s 1s/step - loss: 4.6053 - categorical_crossentropy: 4.6053 - categorical_accuracy: 0.0084 - val_loss: 4.6052 - val_categorical_crossentropy: 4.6052 - val_categorical_accuracy: 0.0100\n",
      "Epoch 36/100\n",
      "100/100 [==============================] - 100s 1s/step - loss: 4.6053 - categorical_crossentropy: 4.6053 - categorical_accuracy: 0.0096 - val_loss: 4.6052 - val_categorical_crossentropy: 4.6052 - val_categorical_accuracy: 0.0100\n",
      "Epoch 37/100\n",
      "100/100 [==============================] - 100s 1s/step - loss: 4.6053 - categorical_crossentropy: 4.6053 - categorical_accuracy: 0.0118 - val_loss: 4.6052 - val_categorical_crossentropy: 4.6052 - val_categorical_accuracy: 0.0100\n",
      "Epoch 38/100\n",
      "100/100 [==============================] - 1876s 19s/step - loss: 4.6053 - categorical_crossentropy: 4.6053 - categorical_accuracy: 0.0091 - val_loss: 4.6052 - val_categorical_crossentropy: 4.6052 - val_categorical_accuracy: 0.0100\n",
      "Epoch 39/100\n",
      "100/100 [==============================] - 92s 918ms/step - loss: 4.6052 - categorical_crossentropy: 4.6052 - categorical_accuracy: 0.0105 - val_loss: 4.6052 - val_categorical_crossentropy: 4.6052 - val_categorical_accuracy: 0.0100\n",
      "Epoch 40/100\n",
      "100/100 [==============================] - 94s 936ms/step - loss: 4.6053 - categorical_crossentropy: 4.6053 - categorical_accuracy: 0.0087 - val_loss: 4.6052 - val_categorical_crossentropy: 4.6052 - val_categorical_accuracy: 0.0100\n",
      "Epoch 41/100\n",
      "100/100 [==============================] - 95s 950ms/step - loss: 4.6053 - categorical_crossentropy: 4.6053 - categorical_accuracy: 0.0100 - val_loss: 4.6052 - val_categorical_crossentropy: 4.6052 - val_categorical_accuracy: 0.0100\n",
      "Epoch 42/100\n",
      "100/100 [==============================] - 97s 969ms/step - loss: 4.6052 - categorical_crossentropy: 4.6052 - categorical_accuracy: 0.0093 - val_loss: 4.6052 - val_categorical_crossentropy: 4.6052 - val_categorical_accuracy: 0.0100\n",
      "Epoch 43/100\n",
      "100/100 [==============================] - 98s 980ms/step - loss: 4.6053 - categorical_crossentropy: 4.6053 - categorical_accuracy: 0.0109 - val_loss: 4.6052 - val_categorical_crossentropy: 4.6052 - val_categorical_accuracy: 0.0100\n",
      "Epoch 44/100\n",
      "100/100 [==============================] - 101s 1s/step - loss: 4.6053 - categorical_crossentropy: 4.6053 - categorical_accuracy: 0.0090 - val_loss: 4.6052 - val_categorical_crossentropy: 4.6052 - val_categorical_accuracy: 0.0100\n",
      "Epoch 45/100\n",
      "100/100 [==============================] - 100s 1s/step - loss: 4.6053 - categorical_crossentropy: 4.6053 - categorical_accuracy: 0.0088 - val_loss: 4.6052 - val_categorical_crossentropy: 4.6052 - val_categorical_accuracy: 0.0100\n",
      "Epoch 46/100\n",
      "100/100 [==============================] - 98s 979ms/step - loss: 4.6053 - categorical_crossentropy: 4.6053 - categorical_accuracy: 0.0068 - val_loss: 4.6052 - val_categorical_crossentropy: 4.6052 - val_categorical_accuracy: 0.0100\n",
      "Epoch 47/100\n",
      "100/100 [==============================] - 99s 990ms/step - loss: 4.6053 - categorical_crossentropy: 4.6053 - categorical_accuracy: 0.0095 - val_loss: 4.6052 - val_categorical_crossentropy: 4.6052 - val_categorical_accuracy: 0.0100\n",
      "Epoch 48/100\n",
      "100/100 [==============================] - 99s 987ms/step - loss: 4.6054 - categorical_crossentropy: 4.6054 - categorical_accuracy: 0.0084 - val_loss: 4.6052 - val_categorical_crossentropy: 4.6052 - val_categorical_accuracy: 0.0100\n",
      "Epoch 49/100\n",
      "100/100 [==============================] - 99s 994ms/step - loss: 4.6053 - categorical_crossentropy: 4.6053 - categorical_accuracy: 0.0092 - val_loss: 4.6052 - val_categorical_crossentropy: 4.6052 - val_categorical_accuracy: 0.0100\n",
      "Epoch 50/100\n",
      "100/100 [==============================] - 99s 993ms/step - loss: 4.6051 - categorical_crossentropy: 4.6051 - categorical_accuracy: 0.0112 - val_loss: 4.6052 - val_categorical_crossentropy: 4.6052 - val_categorical_accuracy: 0.0100\n",
      "Epoch 51/100\n",
      "100/100 [==============================] - 99s 994ms/step - loss: 4.6052 - categorical_crossentropy: 4.6052 - categorical_accuracy: 0.0117 - val_loss: 4.6052 - val_categorical_crossentropy: 4.6052 - val_categorical_accuracy: 0.0100\n",
      "Epoch 52/100\n",
      "100/100 [==============================] - 99s 993ms/step - loss: 4.6052 - categorical_crossentropy: 4.6052 - categorical_accuracy: 0.0108 - val_loss: 4.6052 - val_categorical_crossentropy: 4.6052 - val_categorical_accuracy: 0.0100\n",
      "Epoch 53/100\n",
      "100/100 [==============================] - 99s 995ms/step - loss: 4.6052 - categorical_crossentropy: 4.6052 - categorical_accuracy: 0.0109 - val_loss: 4.6052 - val_categorical_crossentropy: 4.6052 - val_categorical_accuracy: 0.0100\n",
      "Epoch 54/100\n",
      "100/100 [==============================] - 100s 995ms/step - loss: 4.6052 - categorical_crossentropy: 4.6052 - categorical_accuracy: 0.0100 - val_loss: 4.6052 - val_categorical_crossentropy: 4.6052 - val_categorical_accuracy: 0.0100\n",
      "Epoch 55/100\n",
      "100/100 [==============================] - 100s 995ms/step - loss: 4.6053 - categorical_crossentropy: 4.6053 - categorical_accuracy: 0.0100 - val_loss: 4.6052 - val_categorical_crossentropy: 4.6052 - val_categorical_accuracy: 0.0100\n",
      "Epoch 56/100\n",
      "100/100 [==============================] - 100s 997ms/step - loss: 4.6052 - categorical_crossentropy: 4.6052 - categorical_accuracy: 0.0098 - val_loss: 4.6052 - val_categorical_crossentropy: 4.6052 - val_categorical_accuracy: 0.0100\n",
      "Epoch 57/100\n",
      "100/100 [==============================] - 105s 1s/step - loss: 4.6052 - categorical_crossentropy: 4.6052 - categorical_accuracy: 0.0093 - val_loss: 4.6052 - val_categorical_crossentropy: 4.6052 - val_categorical_accuracy: 0.0100\n",
      "Epoch 58/100\n",
      "100/100 [==============================] - 102s 1s/step - loss: 4.6052 - categorical_crossentropy: 4.6052 - categorical_accuracy: 0.0105 - val_loss: 4.6052 - val_categorical_crossentropy: 4.6052 - val_categorical_accuracy: 0.0100\n",
      "Epoch 59/100\n",
      "100/100 [==============================] - 102s 1s/step - loss: 4.6052 - categorical_crossentropy: 4.6052 - categorical_accuracy: 0.0093 - val_loss: 4.6052 - val_categorical_crossentropy: 4.6052 - val_categorical_accuracy: 0.0100\n",
      "Epoch 60/100\n",
      "100/100 [==============================] - 102s 1s/step - loss: 4.6052 - categorical_crossentropy: 4.6052 - categorical_accuracy: 0.0098 - val_loss: 4.6052 - val_categorical_crossentropy: 4.6052 - val_categorical_accuracy: 0.0100\n",
      "Epoch 61/100\n",
      "100/100 [==============================] - 102s 1s/step - loss: 4.6053 - categorical_crossentropy: 4.6053 - categorical_accuracy: 0.0082 - val_loss: 4.6052 - val_categorical_crossentropy: 4.6052 - val_categorical_accuracy: 0.0100\n",
      "\n",
      "Epoch 00061: ReduceLROnPlateau reducing learning rate to 0.0001334838816546835.\n",
      "Epoch 62/100\n",
      "100/100 [==============================] - 102s 1s/step - loss: 4.6053 - categorical_crossentropy: 4.6053 - categorical_accuracy: 0.0093 - val_loss: 4.6052 - val_categorical_crossentropy: 4.6052 - val_categorical_accuracy: 0.0100\n",
      "Epoch 63/100\n",
      "100/100 [==============================] - 102s 1s/step - loss: 4.6053 - categorical_crossentropy: 4.6053 - categorical_accuracy: 0.0087 - val_loss: 4.6052 - val_categorical_crossentropy: 4.6052 - val_categorical_accuracy: 0.0100\n",
      "Epoch 64/100\n",
      "100/100 [==============================] - 102s 1s/step - loss: 4.6052 - categorical_crossentropy: 4.6052 - categorical_accuracy: 0.0081 - val_loss: 4.6052 - val_categorical_crossentropy: 4.6052 - val_categorical_accuracy: 0.0100\n",
      "Epoch 65/100\n",
      "100/100 [==============================] - 102s 1s/step - loss: 4.6052 - categorical_crossentropy: 4.6052 - categorical_accuracy: 0.0096 - val_loss: 4.6052 - val_categorical_crossentropy: 4.6052 - val_categorical_accuracy: 0.0100\n",
      "Epoch 66/100\n",
      "100/100 [==============================] - 102s 1s/step - loss: 4.6053 - categorical_crossentropy: 4.6053 - categorical_accuracy: 0.0096 - val_loss: 4.6052 - val_categorical_crossentropy: 4.6052 - val_categorical_accuracy: 0.0100\n",
      "Epoch 67/100\n"
     ]
    },
    {
     "name": "stdout",
     "output_type": "stream",
     "text": [
      "100/100 [==============================] - 102s 1s/step - loss: 4.6053 - categorical_crossentropy: 4.6053 - categorical_accuracy: 0.0102 - val_loss: 4.6052 - val_categorical_crossentropy: 4.6052 - val_categorical_accuracy: 0.0100\n",
      "Epoch 68/100\n",
      "100/100 [==============================] - 102s 1s/step - loss: 4.6054 - categorical_crossentropy: 4.6054 - categorical_accuracy: 0.0095 - val_loss: 4.6052 - val_categorical_crossentropy: 4.6052 - val_categorical_accuracy: 0.0100\n",
      "Epoch 69/100\n",
      "100/100 [==============================] - 102s 1s/step - loss: 4.6053 - categorical_crossentropy: 4.6053 - categorical_accuracy: 0.0092 - val_loss: 4.6052 - val_categorical_crossentropy: 4.6052 - val_categorical_accuracy: 0.0100\n",
      "Epoch 70/100\n",
      "100/100 [==============================] - 102s 1s/step - loss: 4.6053 - categorical_crossentropy: 4.6053 - categorical_accuracy: 0.0085 - val_loss: 4.6052 - val_categorical_crossentropy: 4.6052 - val_categorical_accuracy: 0.0100\n",
      "Epoch 71/100\n",
      "100/100 [==============================] - 102s 1s/step - loss: 4.6053 - categorical_crossentropy: 4.6053 - categorical_accuracy: 0.0100 - val_loss: 4.6052 - val_categorical_crossentropy: 4.6052 - val_categorical_accuracy: 0.0100\n",
      "Epoch 72/100\n",
      "100/100 [==============================] - 102s 1s/step - loss: 4.6053 - categorical_crossentropy: 4.6053 - categorical_accuracy: 0.0081 - val_loss: 4.6052 - val_categorical_crossentropy: 4.6052 - val_categorical_accuracy: 0.0100\n",
      "Epoch 73/100\n",
      "100/100 [==============================] - 12436s 124s/step - loss: 4.6053 - categorical_crossentropy: 4.6053 - categorical_accuracy: 0.0071 - val_loss: 4.6052 - val_categorical_crossentropy: 4.6052 - val_categorical_accuracy: 0.0100\n",
      "Epoch 74/100\n",
      " 99/100 [============================>.] - ETA: 0s - loss: 4.6052 - categorical_crossentropy: 4.6052 - categorical_accuracy: 0.0087"
     ]
    }
   ],
   "source": [
    "hist3 = model.fit_generator(\n",
    "    datagen.flow(train_X,train_y,batch_size = batch),\n",
    "    steps_per_epoch = STEPS,\n",
    "    validation_steps=STEPS, epochs=epochs, verbose=1,\n",
    "    validation_data=(valid_X, valid_y),\n",
    "    callbacks = callbacks\n",
    ")"
   ]
  },
  {
   "cell_type": "code",
   "execution_count": null,
   "metadata": {},
   "outputs": [],
   "source": []
  },
  {
   "cell_type": "code",
   "execution_count": null,
   "metadata": {},
   "outputs": [],
   "source": []
  },
  {
   "cell_type": "code",
   "execution_count": null,
   "metadata": {},
   "outputs": [],
   "source": []
  },
  {
   "cell_type": "code",
   "execution_count": 31,
   "metadata": {},
   "outputs": [],
   "source": [
    "K.clear_session()\n",
    "base_model = MobileNet(input_shape=(size, size, 1), include_top=False, weights=None, classes=word_num)"
   ]
  },
  {
   "cell_type": "code",
   "execution_count": 32,
   "metadata": {},
   "outputs": [],
   "source": [
    "x = base_model.output\n",
    "x = Flatten()(x)\n",
    "# let's add a fully-connected layer\n",
    "x = Dense(1024, activation='relu')(x)\n",
    "x = Dropout(0.3)(x)\n",
    "predictions = Dense(word_num, activation='softmax')(x)"
   ]
  },
  {
   "cell_type": "code",
   "execution_count": 33,
   "metadata": {},
   "outputs": [],
   "source": [
    "# this is the model we will train\n",
    "model = Model(inputs=base_model.input, outputs=predictions)"
   ]
  },
  {
   "cell_type": "code",
   "execution_count": 34,
   "metadata": {},
   "outputs": [],
   "source": [
    "model.compile(optimizer=Adam(lr=0.001), loss='categorical_crossentropy',\n",
    "              metrics=[categorical_crossentropy, categorical_accuracy])\n"
   ]
  },
  {
   "cell_type": "code",
   "execution_count": 35,
   "metadata": {
    "scrolled": true
   },
   "outputs": [
    {
     "name": "stdout",
     "output_type": "stream",
     "text": [
      "Model: \"model_1\"\n",
      "_________________________________________________________________\n",
      "Layer (type)                 Output Shape              Param #   \n",
      "=================================================================\n",
      "input_1 (InputLayer)         (None, 64, 64, 1)         0         \n",
      "_________________________________________________________________\n",
      "conv1_pad (ZeroPadding2D)    (None, 65, 65, 1)         0         \n",
      "_________________________________________________________________\n",
      "conv1 (Conv2D)               (None, 32, 32, 32)        288       \n",
      "_________________________________________________________________\n",
      "conv1_bn (BatchNormalization (None, 32, 32, 32)        128       \n",
      "_________________________________________________________________\n",
      "conv1_relu (ReLU)            (None, 32, 32, 32)        0         \n",
      "_________________________________________________________________\n",
      "conv_dw_1 (DepthwiseConv2D)  (None, 32, 32, 32)        288       \n",
      "_________________________________________________________________\n",
      "conv_dw_1_bn (BatchNormaliza (None, 32, 32, 32)        128       \n",
      "_________________________________________________________________\n",
      "conv_dw_1_relu (ReLU)        (None, 32, 32, 32)        0         \n",
      "_________________________________________________________________\n",
      "conv_pw_1 (Conv2D)           (None, 32, 32, 64)        2048      \n",
      "_________________________________________________________________\n",
      "conv_pw_1_bn (BatchNormaliza (None, 32, 32, 64)        256       \n",
      "_________________________________________________________________\n",
      "conv_pw_1_relu (ReLU)        (None, 32, 32, 64)        0         \n",
      "_________________________________________________________________\n",
      "conv_pad_2 (ZeroPadding2D)   (None, 33, 33, 64)        0         \n",
      "_________________________________________________________________\n",
      "conv_dw_2 (DepthwiseConv2D)  (None, 16, 16, 64)        576       \n",
      "_________________________________________________________________\n",
      "conv_dw_2_bn (BatchNormaliza (None, 16, 16, 64)        256       \n",
      "_________________________________________________________________\n",
      "conv_dw_2_relu (ReLU)        (None, 16, 16, 64)        0         \n",
      "_________________________________________________________________\n",
      "conv_pw_2 (Conv2D)           (None, 16, 16, 128)       8192      \n",
      "_________________________________________________________________\n",
      "conv_pw_2_bn (BatchNormaliza (None, 16, 16, 128)       512       \n",
      "_________________________________________________________________\n",
      "conv_pw_2_relu (ReLU)        (None, 16, 16, 128)       0         \n",
      "_________________________________________________________________\n",
      "conv_dw_3 (DepthwiseConv2D)  (None, 16, 16, 128)       1152      \n",
      "_________________________________________________________________\n",
      "conv_dw_3_bn (BatchNormaliza (None, 16, 16, 128)       512       \n",
      "_________________________________________________________________\n",
      "conv_dw_3_relu (ReLU)        (None, 16, 16, 128)       0         \n",
      "_________________________________________________________________\n",
      "conv_pw_3 (Conv2D)           (None, 16, 16, 128)       16384     \n",
      "_________________________________________________________________\n",
      "conv_pw_3_bn (BatchNormaliza (None, 16, 16, 128)       512       \n",
      "_________________________________________________________________\n",
      "conv_pw_3_relu (ReLU)        (None, 16, 16, 128)       0         \n",
      "_________________________________________________________________\n",
      "conv_pad_4 (ZeroPadding2D)   (None, 17, 17, 128)       0         \n",
      "_________________________________________________________________\n",
      "conv_dw_4 (DepthwiseConv2D)  (None, 8, 8, 128)         1152      \n",
      "_________________________________________________________________\n",
      "conv_dw_4_bn (BatchNormaliza (None, 8, 8, 128)         512       \n",
      "_________________________________________________________________\n",
      "conv_dw_4_relu (ReLU)        (None, 8, 8, 128)         0         \n",
      "_________________________________________________________________\n",
      "conv_pw_4 (Conv2D)           (None, 8, 8, 256)         32768     \n",
      "_________________________________________________________________\n",
      "conv_pw_4_bn (BatchNormaliza (None, 8, 8, 256)         1024      \n",
      "_________________________________________________________________\n",
      "conv_pw_4_relu (ReLU)        (None, 8, 8, 256)         0         \n",
      "_________________________________________________________________\n",
      "conv_dw_5 (DepthwiseConv2D)  (None, 8, 8, 256)         2304      \n",
      "_________________________________________________________________\n",
      "conv_dw_5_bn (BatchNormaliza (None, 8, 8, 256)         1024      \n",
      "_________________________________________________________________\n",
      "conv_dw_5_relu (ReLU)        (None, 8, 8, 256)         0         \n",
      "_________________________________________________________________\n",
      "conv_pw_5 (Conv2D)           (None, 8, 8, 256)         65536     \n",
      "_________________________________________________________________\n",
      "conv_pw_5_bn (BatchNormaliza (None, 8, 8, 256)         1024      \n",
      "_________________________________________________________________\n",
      "conv_pw_5_relu (ReLU)        (None, 8, 8, 256)         0         \n",
      "_________________________________________________________________\n",
      "conv_pad_6 (ZeroPadding2D)   (None, 9, 9, 256)         0         \n",
      "_________________________________________________________________\n",
      "conv_dw_6 (DepthwiseConv2D)  (None, 4, 4, 256)         2304      \n",
      "_________________________________________________________________\n",
      "conv_dw_6_bn (BatchNormaliza (None, 4, 4, 256)         1024      \n",
      "_________________________________________________________________\n",
      "conv_dw_6_relu (ReLU)        (None, 4, 4, 256)         0         \n",
      "_________________________________________________________________\n",
      "conv_pw_6 (Conv2D)           (None, 4, 4, 512)         131072    \n",
      "_________________________________________________________________\n",
      "conv_pw_6_bn (BatchNormaliza (None, 4, 4, 512)         2048      \n",
      "_________________________________________________________________\n",
      "conv_pw_6_relu (ReLU)        (None, 4, 4, 512)         0         \n",
      "_________________________________________________________________\n",
      "conv_dw_7 (DepthwiseConv2D)  (None, 4, 4, 512)         4608      \n",
      "_________________________________________________________________\n",
      "conv_dw_7_bn (BatchNormaliza (None, 4, 4, 512)         2048      \n",
      "_________________________________________________________________\n",
      "conv_dw_7_relu (ReLU)        (None, 4, 4, 512)         0         \n",
      "_________________________________________________________________\n",
      "conv_pw_7 (Conv2D)           (None, 4, 4, 512)         262144    \n",
      "_________________________________________________________________\n",
      "conv_pw_7_bn (BatchNormaliza (None, 4, 4, 512)         2048      \n",
      "_________________________________________________________________\n",
      "conv_pw_7_relu (ReLU)        (None, 4, 4, 512)         0         \n",
      "_________________________________________________________________\n",
      "conv_dw_8 (DepthwiseConv2D)  (None, 4, 4, 512)         4608      \n",
      "_________________________________________________________________\n",
      "conv_dw_8_bn (BatchNormaliza (None, 4, 4, 512)         2048      \n",
      "_________________________________________________________________\n",
      "conv_dw_8_relu (ReLU)        (None, 4, 4, 512)         0         \n",
      "_________________________________________________________________\n",
      "conv_pw_8 (Conv2D)           (None, 4, 4, 512)         262144    \n",
      "_________________________________________________________________\n",
      "conv_pw_8_bn (BatchNormaliza (None, 4, 4, 512)         2048      \n",
      "_________________________________________________________________\n",
      "conv_pw_8_relu (ReLU)        (None, 4, 4, 512)         0         \n",
      "_________________________________________________________________\n",
      "conv_dw_9 (DepthwiseConv2D)  (None, 4, 4, 512)         4608      \n",
      "_________________________________________________________________\n",
      "conv_dw_9_bn (BatchNormaliza (None, 4, 4, 512)         2048      \n",
      "_________________________________________________________________\n",
      "conv_dw_9_relu (ReLU)        (None, 4, 4, 512)         0         \n",
      "_________________________________________________________________\n",
      "conv_pw_9 (Conv2D)           (None, 4, 4, 512)         262144    \n",
      "_________________________________________________________________\n",
      "conv_pw_9_bn (BatchNormaliza (None, 4, 4, 512)         2048      \n",
      "_________________________________________________________________\n",
      "conv_pw_9_relu (ReLU)        (None, 4, 4, 512)         0         \n",
      "_________________________________________________________________\n",
      "conv_dw_10 (DepthwiseConv2D) (None, 4, 4, 512)         4608      \n",
      "_________________________________________________________________\n",
      "conv_dw_10_bn (BatchNormaliz (None, 4, 4, 512)         2048      \n",
      "_________________________________________________________________\n",
      "conv_dw_10_relu (ReLU)       (None, 4, 4, 512)         0         \n",
      "_________________________________________________________________\n",
      "conv_pw_10 (Conv2D)          (None, 4, 4, 512)         262144    \n",
      "_________________________________________________________________\n",
      "conv_pw_10_bn (BatchNormaliz (None, 4, 4, 512)         2048      \n",
      "_________________________________________________________________\n",
      "conv_pw_10_relu (ReLU)       (None, 4, 4, 512)         0         \n",
      "_________________________________________________________________\n",
      "conv_dw_11 (DepthwiseConv2D) (None, 4, 4, 512)         4608      \n",
      "_________________________________________________________________\n",
      "conv_dw_11_bn (BatchNormaliz (None, 4, 4, 512)         2048      \n",
      "_________________________________________________________________\n",
      "conv_dw_11_relu (ReLU)       (None, 4, 4, 512)         0         \n",
      "_________________________________________________________________\n",
      "conv_pw_11 (Conv2D)          (None, 4, 4, 512)         262144    \n",
      "_________________________________________________________________\n",
      "conv_pw_11_bn (BatchNormaliz (None, 4, 4, 512)         2048      \n",
      "_________________________________________________________________\n",
      "conv_pw_11_relu (ReLU)       (None, 4, 4, 512)         0         \n",
      "_________________________________________________________________\n",
      "conv_pad_12 (ZeroPadding2D)  (None, 5, 5, 512)         0         \n",
      "_________________________________________________________________\n",
      "conv_dw_12 (DepthwiseConv2D) (None, 2, 2, 512)         4608      \n",
      "_________________________________________________________________\n",
      "conv_dw_12_bn (BatchNormaliz (None, 2, 2, 512)         2048      \n",
      "_________________________________________________________________\n",
      "conv_dw_12_relu (ReLU)       (None, 2, 2, 512)         0         \n",
      "_________________________________________________________________\n",
      "conv_pw_12 (Conv2D)          (None, 2, 2, 1024)        524288    \n",
      "_________________________________________________________________\n",
      "conv_pw_12_bn (BatchNormaliz (None, 2, 2, 1024)        4096      \n",
      "_________________________________________________________________\n",
      "conv_pw_12_relu (ReLU)       (None, 2, 2, 1024)        0         \n",
      "_________________________________________________________________\n",
      "conv_dw_13 (DepthwiseConv2D) (None, 2, 2, 1024)        9216      \n",
      "_________________________________________________________________\n",
      "conv_dw_13_bn (BatchNormaliz (None, 2, 2, 1024)        4096      \n",
      "_________________________________________________________________\n",
      "conv_dw_13_relu (ReLU)       (None, 2, 2, 1024)        0         \n",
      "_________________________________________________________________\n",
      "conv_pw_13 (Conv2D)          (None, 2, 2, 1024)        1048576   \n",
      "_________________________________________________________________\n",
      "conv_pw_13_bn (BatchNormaliz (None, 2, 2, 1024)        4096      \n",
      "_________________________________________________________________\n",
      "conv_pw_13_relu (ReLU)       (None, 2, 2, 1024)        0         \n",
      "_________________________________________________________________\n",
      "flatten_1 (Flatten)          (None, 4096)              0         \n",
      "_________________________________________________________________\n",
      "dense_1 (Dense)              (None, 1024)              4195328   \n",
      "_________________________________________________________________\n",
      "dropout_1 (Dropout)          (None, 1024)              0         \n",
      "_________________________________________________________________\n",
      "dense_2 (Dense)              (None, 340)               348500    \n",
      "=================================================================\n",
      "Total params: 7,772,116\n",
      "Trainable params: 7,750,228\n",
      "Non-trainable params: 21,888\n",
      "_________________________________________________________________\n"
     ]
    }
   ],
   "source": [
    "model.summary()"
   ]
  },
  {
   "cell_type": "code",
   "execution_count": 36,
   "metadata": {},
   "outputs": [],
   "source": [
    "check_point = ModelCheckpoint('model.h5', monitor='val_loss', mode='min', save_best_only=True,\n",
    "                    save_weights_only=True)\n",
    "reduceRP = ReduceLROnPlateau(monitor='val_loss', factor=0.75, patience=10,\n",
    "                          mode='min', min_lr= 0.0001, verbose=1)\n",
    "early = EarlyStopping(monitor=\"val_loss\", \n",
    "                      mode=\"min\", \n",
    "                      patience=15)\n",
    "\n",
    "callbacks = [check_point, early, reduceRP]"
   ]
  },
  {
   "cell_type": "code",
   "execution_count": 37,
   "metadata": {
    "scrolled": true
   },
   "outputs": [
    {
     "name": "stdout",
     "output_type": "stream",
     "text": [
      "Epoch 1/100\n",
      "100/100 [==============================] - 288s 3s/step - loss: 5.8698 - categorical_crossentropy: 5.8698 - categorical_accuracy: 0.0054 - val_loss: 5.8325 - val_categorical_crossentropy: 5.8325 - val_categorical_accuracy: 0.0029\n",
      "Epoch 2/100\n",
      "100/100 [==============================] - 139s 1s/step - loss: 5.6210 - categorical_crossentropy: 5.6210 - categorical_accuracy: 0.0092 - val_loss: 5.8489 - val_categorical_crossentropy: 5.8489 - val_categorical_accuracy: 0.0031\n",
      "Epoch 3/100\n",
      "100/100 [==============================] - 139s 1s/step - loss: 5.4970 - categorical_crossentropy: 5.4970 - categorical_accuracy: 0.0097 - val_loss: 5.8962 - val_categorical_crossentropy: 5.8962 - val_categorical_accuracy: 0.0029\n",
      "Epoch 4/100\n",
      "100/100 [==============================] - 140s 1s/step - loss: 5.3961 - categorical_crossentropy: 5.3961 - categorical_accuracy: 0.0130 - val_loss: 5.9486 - val_categorical_crossentropy: 5.9486 - val_categorical_accuracy: 0.0029\n",
      "Epoch 5/100\n",
      "100/100 [==============================] - 142s 1s/step - loss: 5.3302 - categorical_crossentropy: 5.3302 - categorical_accuracy: 0.0140 - val_loss: 6.1590 - val_categorical_crossentropy: 6.1590 - val_categorical_accuracy: 0.0029\n",
      "Epoch 6/100\n",
      "100/100 [==============================] - 142s 1s/step - loss: 5.2554 - categorical_crossentropy: 5.2554 - categorical_accuracy: 0.0162 - val_loss: 6.1956 - val_categorical_crossentropy: 6.1956 - val_categorical_accuracy: 0.0033\n",
      "Epoch 7/100\n",
      "100/100 [==============================] - 144s 1s/step - loss: 5.1952 - categorical_crossentropy: 5.1952 - categorical_accuracy: 0.0197 - val_loss: 6.0928 - val_categorical_crossentropy: 6.0928 - val_categorical_accuracy: 0.0076\n",
      "Epoch 8/100\n",
      "100/100 [==============================] - 146s 1s/step - loss: 5.1631 - categorical_crossentropy: 5.1631 - categorical_accuracy: 0.0219 - val_loss: 4.9216 - val_categorical_crossentropy: 4.9216 - val_categorical_accuracy: 0.0281\n",
      "Epoch 9/100\n",
      "100/100 [==============================] - 144s 1s/step - loss: 5.1153 - categorical_crossentropy: 5.1153 - categorical_accuracy: 0.0223 - val_loss: 4.8756 - val_categorical_crossentropy: 4.8756 - val_categorical_accuracy: 0.0309\n",
      "Epoch 10/100\n",
      "100/100 [==============================] - 147s 1s/step - loss: 5.0664 - categorical_crossentropy: 5.0664 - categorical_accuracy: 0.0247 - val_loss: 4.9151 - val_categorical_crossentropy: 4.9151 - val_categorical_accuracy: 0.0315\n",
      "Epoch 11/100\n",
      "100/100 [==============================] - 143s 1s/step - loss: 5.0448 - categorical_crossentropy: 5.0448 - categorical_accuracy: 0.0278 - val_loss: 4.8382 - val_categorical_crossentropy: 4.8382 - val_categorical_accuracy: 0.0379\n",
      "Epoch 12/100\n",
      "100/100 [==============================] - 145s 1s/step - loss: 4.9792 - categorical_crossentropy: 4.9792 - categorical_accuracy: 0.0260 - val_loss: 4.8500 - val_categorical_crossentropy: 4.8500 - val_categorical_accuracy: 0.0350\n",
      "Epoch 13/100\n",
      "100/100 [==============================] - 147s 1s/step - loss: 4.9583 - categorical_crossentropy: 4.9583 - categorical_accuracy: 0.0283 - val_loss: 4.8226 - val_categorical_crossentropy: 4.8226 - val_categorical_accuracy: 0.0371\n",
      "Epoch 14/100\n",
      "100/100 [==============================] - 146s 1s/step - loss: 4.9266 - categorical_crossentropy: 4.9266 - categorical_accuracy: 0.0352 - val_loss: 4.7992 - val_categorical_crossentropy: 4.7992 - val_categorical_accuracy: 0.0398\n",
      "Epoch 15/100\n",
      "100/100 [==============================] - 147s 1s/step - loss: 4.9066 - categorical_crossentropy: 4.9066 - categorical_accuracy: 0.0348 - val_loss: 4.6059 - val_categorical_crossentropy: 4.6059 - val_categorical_accuracy: 0.0549\n",
      "Epoch 16/100\n",
      "100/100 [==============================] - 147s 1s/step - loss: 4.9016 - categorical_crossentropy: 4.9016 - categorical_accuracy: 0.0323 - val_loss: 4.6703 - val_categorical_crossentropy: 4.6703 - val_categorical_accuracy: 0.0502\n",
      "Epoch 17/100\n",
      "100/100 [==============================] - 147s 1s/step - loss: 4.8646 - categorical_crossentropy: 4.8646 - categorical_accuracy: 0.0345 - val_loss: 4.6733 - val_categorical_crossentropy: 4.6733 - val_categorical_accuracy: 0.0444\n",
      "Epoch 18/100\n",
      "100/100 [==============================] - 147s 1s/step - loss: 4.8156 - categorical_crossentropy: 4.8156 - categorical_accuracy: 0.0365 - val_loss: 4.5360 - val_categorical_crossentropy: 4.5360 - val_categorical_accuracy: 0.0575\n",
      "Epoch 19/100\n",
      "100/100 [==============================] - 148s 1s/step - loss: 4.8048 - categorical_crossentropy: 4.8048 - categorical_accuracy: 0.0403 - val_loss: 4.4691 - val_categorical_crossentropy: 4.4691 - val_categorical_accuracy: 0.0662\n",
      "Epoch 20/100\n",
      "100/100 [==============================] - 148s 1s/step - loss: 4.7926 - categorical_crossentropy: 4.7926 - categorical_accuracy: 0.0441 - val_loss: 4.5459 - val_categorical_crossentropy: 4.5459 - val_categorical_accuracy: 0.0662\n",
      "Epoch 21/100\n",
      "100/100 [==============================] - 147s 1s/step - loss: 4.7576 - categorical_crossentropy: 4.7576 - categorical_accuracy: 0.0451 - val_loss: 4.4483 - val_categorical_crossentropy: 4.4483 - val_categorical_accuracy: 0.0709\n",
      "Epoch 22/100\n",
      "100/100 [==============================] - 148s 1s/step - loss: 4.7238 - categorical_crossentropy: 4.7238 - categorical_accuracy: 0.0468 - val_loss: 4.3842 - val_categorical_crossentropy: 4.3843 - val_categorical_accuracy: 0.0791\n",
      "Epoch 23/100\n",
      "100/100 [==============================] - 147s 1s/step - loss: 4.7255 - categorical_crossentropy: 4.7255 - categorical_accuracy: 0.0463 - val_loss: 4.3618 - val_categorical_crossentropy: 4.3618 - val_categorical_accuracy: 0.0723\n",
      "Epoch 24/100\n",
      "100/100 [==============================] - 145s 1s/step - loss: 4.6768 - categorical_crossentropy: 4.6768 - categorical_accuracy: 0.0516 - val_loss: 4.2168 - val_categorical_crossentropy: 4.2168 - val_categorical_accuracy: 0.0869\n",
      "Epoch 25/100\n",
      "100/100 [==============================] - 145s 1s/step - loss: 4.6622 - categorical_crossentropy: 4.6622 - categorical_accuracy: 0.0523 - val_loss: 4.1530 - val_categorical_crossentropy: 4.1530 - val_categorical_accuracy: 0.1003\n",
      "Epoch 26/100\n",
      "100/100 [==============================] - 146s 1s/step - loss: 4.6319 - categorical_crossentropy: 4.6319 - categorical_accuracy: 0.0503 - val_loss: 4.1385 - val_categorical_crossentropy: 4.1385 - val_categorical_accuracy: 0.1042\n",
      "Epoch 27/100\n",
      "100/100 [==============================] - 146s 1s/step - loss: 4.6041 - categorical_crossentropy: 4.6041 - categorical_accuracy: 0.0556 - val_loss: 4.1438 - val_categorical_crossentropy: 4.1438 - val_categorical_accuracy: 0.1080\n",
      "Epoch 28/100\n",
      "100/100 [==============================] - 148s 1s/step - loss: 4.5885 - categorical_crossentropy: 4.5885 - categorical_accuracy: 0.0556 - val_loss: 4.1236 - val_categorical_crossentropy: 4.1236 - val_categorical_accuracy: 0.1086\n",
      "Epoch 29/100\n",
      "100/100 [==============================] - 147s 1s/step - loss: 4.5638 - categorical_crossentropy: 4.5638 - categorical_accuracy: 0.0605 - val_loss: 4.0254 - val_categorical_crossentropy: 4.0254 - val_categorical_accuracy: 0.1106\n",
      "Epoch 30/100\n",
      "100/100 [==============================] - 148s 1s/step - loss: 4.5305 - categorical_crossentropy: 4.5305 - categorical_accuracy: 0.0617 - val_loss: 4.0880 - val_categorical_crossentropy: 4.0880 - val_categorical_accuracy: 0.1169\n",
      "Epoch 31/100\n",
      "100/100 [==============================] - 150s 2s/step - loss: 4.5159 - categorical_crossentropy: 4.5159 - categorical_accuracy: 0.0672 - val_loss: 3.9962 - val_categorical_crossentropy: 3.9962 - val_categorical_accuracy: 0.1310\n",
      "Epoch 32/100\n",
      "100/100 [==============================] - 151s 2s/step - loss: 4.5062 - categorical_crossentropy: 4.5062 - categorical_accuracy: 0.0659 - val_loss: 3.9024 - val_categorical_crossentropy: 3.9024 - val_categorical_accuracy: 0.1423\n",
      "Epoch 33/100\n",
      "100/100 [==============================] - 150s 1s/step - loss: 4.4522 - categorical_crossentropy: 4.4522 - categorical_accuracy: 0.0722 - val_loss: 3.9579 - val_categorical_crossentropy: 3.9579 - val_categorical_accuracy: 0.1330\n",
      "Epoch 34/100\n",
      "100/100 [==============================] - 162s 2s/step - loss: 4.4243 - categorical_crossentropy: 4.4243 - categorical_accuracy: 0.0708 - val_loss: 4.0608 - val_categorical_crossentropy: 4.0608 - val_categorical_accuracy: 0.1127\n"
     ]
    },
    {
     "name": "stdout",
     "output_type": "stream",
     "text": [
      "Epoch 35/100\n",
      "100/100 [==============================] - 152s 2s/step - loss: 4.4076 - categorical_crossentropy: 4.4076 - categorical_accuracy: 0.0791 - val_loss: 3.9329 - val_categorical_crossentropy: 3.9329 - val_categorical_accuracy: 0.1316\n",
      "Epoch 36/100\n",
      "100/100 [==============================] - 170s 2s/step - loss: 4.3794 - categorical_crossentropy: 4.3794 - categorical_accuracy: 0.0814 - val_loss: 3.8205 - val_categorical_crossentropy: 3.8205 - val_categorical_accuracy: 0.1467\n",
      "Epoch 37/100\n",
      "100/100 [==============================] - 160s 2s/step - loss: 4.3265 - categorical_crossentropy: 4.3265 - categorical_accuracy: 0.0846 - val_loss: 3.7295 - val_categorical_crossentropy: 3.7295 - val_categorical_accuracy: 0.1615\n",
      "Epoch 38/100\n",
      "100/100 [==============================] - 159s 2s/step - loss: 4.3011 - categorical_crossentropy: 4.3011 - categorical_accuracy: 0.0871 - val_loss: 3.6861 - val_categorical_crossentropy: 3.6861 - val_categorical_accuracy: 0.1690\n",
      "Epoch 39/100\n",
      "100/100 [==============================] - 151s 2s/step - loss: 4.2652 - categorical_crossentropy: 4.2652 - categorical_accuracy: 0.0907 - val_loss: 3.7486 - val_categorical_crossentropy: 3.7486 - val_categorical_accuracy: 0.1684\n",
      "Epoch 40/100\n",
      "100/100 [==============================] - 152s 2s/step - loss: 4.2144 - categorical_crossentropy: 4.2144 - categorical_accuracy: 0.0974 - val_loss: 3.6563 - val_categorical_crossentropy: 3.6563 - val_categorical_accuracy: 0.1713\n",
      "Epoch 41/100\n",
      "100/100 [==============================] - 156s 2s/step - loss: 4.1918 - categorical_crossentropy: 4.1918 - categorical_accuracy: 0.0994 - val_loss: 3.6933 - val_categorical_crossentropy: 3.6933 - val_categorical_accuracy: 0.1770\n",
      "Epoch 42/100\n",
      "100/100 [==============================] - 150s 1s/step - loss: 4.0947 - categorical_crossentropy: 4.0947 - categorical_accuracy: 0.1135 - val_loss: 3.6594 - val_categorical_crossentropy: 3.6594 - val_categorical_accuracy: 0.1779\n",
      "Epoch 43/100\n",
      "100/100 [==============================] - 149s 1s/step - loss: 4.0009 - categorical_crossentropy: 4.0009 - categorical_accuracy: 0.1260 - val_loss: 3.4740 - val_categorical_crossentropy: 3.4740 - val_categorical_accuracy: 0.2003\n",
      "Epoch 44/100\n",
      "100/100 [==============================] - 152s 2s/step - loss: 3.9472 - categorical_crossentropy: 3.9472 - categorical_accuracy: 0.1278 - val_loss: 3.3653 - val_categorical_crossentropy: 3.3653 - val_categorical_accuracy: 0.2203\n",
      "Epoch 45/100\n",
      "100/100 [==============================] - 151s 2s/step - loss: 3.8660 - categorical_crossentropy: 3.8660 - categorical_accuracy: 0.1430 - val_loss: 3.3177 - val_categorical_crossentropy: 3.3177 - val_categorical_accuracy: 0.2260\n",
      "Epoch 46/100\n",
      "100/100 [==============================] - 148s 1s/step - loss: 3.7677 - categorical_crossentropy: 3.7677 - categorical_accuracy: 0.1548 - val_loss: 3.2577 - val_categorical_crossentropy: 3.2577 - val_categorical_accuracy: 0.2413\n",
      "Epoch 47/100\n",
      "100/100 [==============================] - 149s 1s/step - loss: 3.7025 - categorical_crossentropy: 3.7025 - categorical_accuracy: 0.1660 - val_loss: 3.3221 - val_categorical_crossentropy: 3.3221 - val_categorical_accuracy: 0.2417\n",
      "Epoch 48/100\n",
      "100/100 [==============================] - 150s 1s/step - loss: 3.6258 - categorical_crossentropy: 3.6258 - categorical_accuracy: 0.1782 - val_loss: 3.2026 - val_categorical_crossentropy: 3.2026 - val_categorical_accuracy: 0.2524\n",
      "Epoch 49/100\n",
      "100/100 [==============================] - 153s 2s/step - loss: 3.5456 - categorical_crossentropy: 3.5456 - categorical_accuracy: 0.1924 - val_loss: 3.1467 - val_categorical_crossentropy: 3.1467 - val_categorical_accuracy: 0.2673\n",
      "Epoch 50/100\n",
      "100/100 [==============================] - 171s 2s/step - loss: 3.4873 - categorical_crossentropy: 3.4873 - categorical_accuracy: 0.2076 - val_loss: 3.0795 - val_categorical_crossentropy: 3.0795 - val_categorical_accuracy: 0.2802\n",
      "Epoch 51/100\n",
      "100/100 [==============================] - 159s 2s/step - loss: 3.3660 - categorical_crossentropy: 3.3660 - categorical_accuracy: 0.2273 - val_loss: 2.9312 - val_categorical_crossentropy: 2.9312 - val_categorical_accuracy: 0.3026\n",
      "Epoch 52/100\n",
      "100/100 [==============================] - 156s 2s/step - loss: 3.3096 - categorical_crossentropy: 3.3096 - categorical_accuracy: 0.2341 - val_loss: 2.9077 - val_categorical_crossentropy: 2.9077 - val_categorical_accuracy: 0.3136\n",
      "Epoch 53/100\n",
      "100/100 [==============================] - 153s 2s/step - loss: 3.2174 - categorical_crossentropy: 3.2174 - categorical_accuracy: 0.2521 - val_loss: 2.8509 - val_categorical_crossentropy: 2.8509 - val_categorical_accuracy: 0.3223\n",
      "Epoch 54/100\n",
      "100/100 [==============================] - 157s 2s/step - loss: 3.1439 - categorical_crossentropy: 3.1439 - categorical_accuracy: 0.2638 - val_loss: 2.8563 - val_categorical_crossentropy: 2.8563 - val_categorical_accuracy: 0.3246\n",
      "Epoch 55/100\n",
      "100/100 [==============================] - 150s 1s/step - loss: 3.1145 - categorical_crossentropy: 3.1145 - categorical_accuracy: 0.2659 - val_loss: 2.7755 - val_categorical_crossentropy: 2.7755 - val_categorical_accuracy: 0.3384\n",
      "Epoch 56/100\n",
      "100/100 [==============================] - 152s 2s/step - loss: 3.0703 - categorical_crossentropy: 3.0703 - categorical_accuracy: 0.2865 - val_loss: 2.6574 - val_categorical_crossentropy: 2.6574 - val_categorical_accuracy: 0.3583\n",
      "Epoch 57/100\n",
      "100/100 [==============================] - 160s 2s/step - loss: 2.9884 - categorical_crossentropy: 2.9884 - categorical_accuracy: 0.2982 - val_loss: 2.6277 - val_categorical_crossentropy: 2.6277 - val_categorical_accuracy: 0.3686\n",
      "Epoch 58/100\n",
      "100/100 [==============================] - 151s 2s/step - loss: 2.9128 - categorical_crossentropy: 2.9128 - categorical_accuracy: 0.3166 - val_loss: 2.6700 - val_categorical_crossentropy: 2.6700 - val_categorical_accuracy: 0.3585\n",
      "Epoch 59/100\n",
      "100/100 [==============================] - 150s 1s/step - loss: 2.9319 - categorical_crossentropy: 2.9319 - categorical_accuracy: 0.3120 - val_loss: 2.6587 - val_categorical_crossentropy: 2.6587 - val_categorical_accuracy: 0.3622\n",
      "Epoch 60/100\n",
      "100/100 [==============================] - 150s 2s/step - loss: 2.8590 - categorical_crossentropy: 2.8590 - categorical_accuracy: 0.3248 - val_loss: 2.4575 - val_categorical_crossentropy: 2.4575 - val_categorical_accuracy: 0.4016\n",
      "Epoch 61/100\n",
      "100/100 [==============================] - 149s 1s/step - loss: 2.7543 - categorical_crossentropy: 2.7543 - categorical_accuracy: 0.3401 - val_loss: 2.4299 - val_categorical_crossentropy: 2.4299 - val_categorical_accuracy: 0.4048\n",
      "Epoch 62/100\n",
      "100/100 [==============================] - 160s 2s/step - loss: 2.7311 - categorical_crossentropy: 2.7311 - categorical_accuracy: 0.3508 - val_loss: 2.4011 - val_categorical_crossentropy: 2.4011 - val_categorical_accuracy: 0.4073\n",
      "Epoch 63/100\n",
      "100/100 [==============================] - 161s 2s/step - loss: 2.6413 - categorical_crossentropy: 2.6413 - categorical_accuracy: 0.3589 - val_loss: 2.4733 - val_categorical_crossentropy: 2.4733 - val_categorical_accuracy: 0.3976\n",
      "Epoch 64/100\n",
      "100/100 [==============================] - 150s 2s/step - loss: 2.6421 - categorical_crossentropy: 2.6421 - categorical_accuracy: 0.3633 - val_loss: 2.5165 - val_categorical_crossentropy: 2.5165 - val_categorical_accuracy: 0.3991\n",
      "Epoch 65/100\n",
      "100/100 [==============================] - 146s 1s/step - loss: 2.6213 - categorical_crossentropy: 2.6213 - categorical_accuracy: 0.3710 - val_loss: 2.4922 - val_categorical_crossentropy: 2.4922 - val_categorical_accuracy: 0.3956\n",
      "Epoch 66/100\n",
      "100/100 [==============================] - 149s 1s/step - loss: 2.5974 - categorical_crossentropy: 2.5974 - categorical_accuracy: 0.3764 - val_loss: 2.3235 - val_categorical_crossentropy: 2.3235 - val_categorical_accuracy: 0.4256\n",
      "Epoch 67/100\n",
      "100/100 [==============================] - 154s 2s/step - loss: 2.5185 - categorical_crossentropy: 2.5185 - categorical_accuracy: 0.3933 - val_loss: 2.2918 - val_categorical_crossentropy: 2.2918 - val_categorical_accuracy: 0.4341\n",
      "Epoch 68/100\n",
      "100/100 [==============================] - 147s 1s/step - loss: 2.4997 - categorical_crossentropy: 2.4997 - categorical_accuracy: 0.4008 - val_loss: 2.1933 - val_categorical_crossentropy: 2.1933 - val_categorical_accuracy: 0.4534\n"
     ]
    },
    {
     "name": "stdout",
     "output_type": "stream",
     "text": [
      "Epoch 69/100\n",
      "100/100 [==============================] - 145s 1s/step - loss: 2.4149 - categorical_crossentropy: 2.4149 - categorical_accuracy: 0.4115 - val_loss: 2.2052 - val_categorical_crossentropy: 2.2052 - val_categorical_accuracy: 0.4534\n",
      "Epoch 70/100\n",
      "100/100 [==============================] - 145s 1s/step - loss: 2.4009 - categorical_crossentropy: 2.4009 - categorical_accuracy: 0.4084 - val_loss: 2.1621 - val_categorical_crossentropy: 2.1621 - val_categorical_accuracy: 0.4566\n",
      "Epoch 71/100\n",
      "100/100 [==============================] - 144s 1s/step - loss: 2.3660 - categorical_crossentropy: 2.3660 - categorical_accuracy: 0.4320 - val_loss: 2.3026 - val_categorical_crossentropy: 2.3026 - val_categorical_accuracy: 0.4399\n",
      "Epoch 72/100\n",
      "100/100 [==============================] - 828s 8s/step - loss: 2.3314 - categorical_crossentropy: 2.3314 - categorical_accuracy: 0.4316 - val_loss: 2.3342 - val_categorical_crossentropy: 2.3342 - val_categorical_accuracy: 0.4400\n",
      "Epoch 73/100\n",
      "100/100 [==============================] - 131s 1s/step - loss: 2.3368 - categorical_crossentropy: 2.3368 - categorical_accuracy: 0.4281 - val_loss: 2.1398 - val_categorical_crossentropy: 2.1398 - val_categorical_accuracy: 0.4623\n",
      "Epoch 74/100\n",
      "100/100 [==============================] - 137s 1s/step - loss: 2.2632 - categorical_crossentropy: 2.2632 - categorical_accuracy: 0.4480 - val_loss: 2.0114 - val_categorical_crossentropy: 2.0114 - val_categorical_accuracy: 0.4909\n",
      "Epoch 75/100\n",
      "100/100 [==============================] - 140s 1s/step - loss: 2.2552 - categorical_crossentropy: 2.2552 - categorical_accuracy: 0.4464 - val_loss: 2.0470 - val_categorical_crossentropy: 2.0470 - val_categorical_accuracy: 0.4836\n",
      "Epoch 76/100\n",
      "100/100 [==============================] - 149s 1s/step - loss: 2.2053 - categorical_crossentropy: 2.2053 - categorical_accuracy: 0.4582 - val_loss: 1.9672 - val_categorical_crossentropy: 1.9672 - val_categorical_accuracy: 0.5030\n",
      "Epoch 77/100\n",
      "100/100 [==============================] - 153s 2s/step - loss: 2.1892 - categorical_crossentropy: 2.1892 - categorical_accuracy: 0.4639 - val_loss: 2.0286 - val_categorical_crossentropy: 2.0286 - val_categorical_accuracy: 0.4901\n",
      "Epoch 78/100\n",
      "100/100 [==============================] - 152s 2s/step - loss: 2.1971 - categorical_crossentropy: 2.1971 - categorical_accuracy: 0.4514 - val_loss: 1.9369 - val_categorical_crossentropy: 1.9369 - val_categorical_accuracy: 0.5073\n",
      "Epoch 79/100\n",
      "100/100 [==============================] - 150s 2s/step - loss: 2.1489 - categorical_crossentropy: 2.1489 - categorical_accuracy: 0.4685 - val_loss: 1.9137 - val_categorical_crossentropy: 1.9137 - val_categorical_accuracy: 0.5155\n",
      "Epoch 80/100\n",
      "100/100 [==============================] - 153s 2s/step - loss: 2.1688 - categorical_crossentropy: 2.1688 - categorical_accuracy: 0.4707 - val_loss: 1.9294 - val_categorical_crossentropy: 1.9294 - val_categorical_accuracy: 0.5102\n",
      "Epoch 81/100\n",
      "100/100 [==============================] - 147s 1s/step - loss: 2.0958 - categorical_crossentropy: 2.0958 - categorical_accuracy: 0.4775 - val_loss: 1.9347 - val_categorical_crossentropy: 1.9347 - val_categorical_accuracy: 0.5112\n",
      "Epoch 82/100\n",
      "100/100 [==============================] - 147s 1s/step - loss: 2.0337 - categorical_crossentropy: 2.0337 - categorical_accuracy: 0.4940 - val_loss: 1.8865 - val_categorical_crossentropy: 1.8865 - val_categorical_accuracy: 0.5204\n",
      "Epoch 83/100\n",
      "100/100 [==============================] - 146s 1s/step - loss: 2.0892 - categorical_crossentropy: 2.0892 - categorical_accuracy: 0.4882 - val_loss: 1.8621 - val_categorical_crossentropy: 1.8621 - val_categorical_accuracy: 0.5247\n",
      "Epoch 84/100\n",
      "100/100 [==============================] - 146s 1s/step - loss: 1.9634 - categorical_crossentropy: 1.9634 - categorical_accuracy: 0.5094 - val_loss: 1.8422 - val_categorical_crossentropy: 1.8422 - val_categorical_accuracy: 0.5285\n",
      "Epoch 85/100\n",
      "100/100 [==============================] - 146s 1s/step - loss: 1.9556 - categorical_crossentropy: 1.9556 - categorical_accuracy: 0.5083 - val_loss: 1.7996 - val_categorical_crossentropy: 1.7996 - val_categorical_accuracy: 0.5386\n",
      "Epoch 86/100\n",
      "100/100 [==============================] - 146s 1s/step - loss: 1.9316 - categorical_crossentropy: 1.9316 - categorical_accuracy: 0.5155 - val_loss: 1.8218 - val_categorical_crossentropy: 1.8218 - val_categorical_accuracy: 0.5323\n",
      "Epoch 87/100\n",
      "100/100 [==============================] - 147s 1s/step - loss: 1.8946 - categorical_crossentropy: 1.8946 - categorical_accuracy: 0.5229 - val_loss: 1.7901 - val_categorical_crossentropy: 1.7901 - val_categorical_accuracy: 0.5389\n",
      "Epoch 88/100\n",
      "100/100 [==============================] - 146s 1s/step - loss: 1.9148 - categorical_crossentropy: 1.9148 - categorical_accuracy: 0.5148 - val_loss: 1.7862 - val_categorical_crossentropy: 1.7862 - val_categorical_accuracy: 0.5426\n",
      "Epoch 89/100\n",
      "100/100 [==============================] - 151s 2s/step - loss: 1.9157 - categorical_crossentropy: 1.9157 - categorical_accuracy: 0.5171 - val_loss: 1.7648 - val_categorical_crossentropy: 1.7648 - val_categorical_accuracy: 0.5462\n",
      "Epoch 90/100\n",
      "100/100 [==============================] - 164s 2s/step - loss: 1.8326 - categorical_crossentropy: 1.8326 - categorical_accuracy: 0.5298 - val_loss: 1.8166 - val_categorical_crossentropy: 1.8166 - val_categorical_accuracy: 0.5346\n",
      "Epoch 91/100\n",
      "100/100 [==============================] - 162s 2s/step - loss: 1.8734 - categorical_crossentropy: 1.8734 - categorical_accuracy: 0.5257 - val_loss: 1.7928 - val_categorical_crossentropy: 1.7928 - val_categorical_accuracy: 0.5401\n",
      "Epoch 92/100\n",
      "100/100 [==============================] - 161s 2s/step - loss: 1.9010 - categorical_crossentropy: 1.9010 - categorical_accuracy: 0.5166 - val_loss: 1.7989 - val_categorical_crossentropy: 1.7989 - val_categorical_accuracy: 0.5377\n",
      "Epoch 93/100\n",
      "100/100 [==============================] - 159s 2s/step - loss: 1.8517 - categorical_crossentropy: 1.8517 - categorical_accuracy: 0.5332 - val_loss: 1.7239 - val_categorical_crossentropy: 1.7239 - val_categorical_accuracy: 0.5531\n",
      "Epoch 94/100\n",
      "100/100 [==============================] - 160s 2s/step - loss: 1.8886 - categorical_crossentropy: 1.8886 - categorical_accuracy: 0.5268 - val_loss: 1.7977 - val_categorical_crossentropy: 1.7977 - val_categorical_accuracy: 0.5363\n",
      "Epoch 95/100\n",
      "100/100 [==============================] - 160s 2s/step - loss: 1.8208 - categorical_crossentropy: 1.8208 - categorical_accuracy: 0.5372 - val_loss: 1.7552 - val_categorical_crossentropy: 1.7552 - val_categorical_accuracy: 0.5473\n",
      "Epoch 96/100\n",
      "100/100 [==============================] - 163s 2s/step - loss: 1.8227 - categorical_crossentropy: 1.8227 - categorical_accuracy: 0.5365 - val_loss: 1.7571 - val_categorical_crossentropy: 1.7571 - val_categorical_accuracy: 0.5457\n",
      "Epoch 97/100\n",
      "100/100 [==============================] - 164s 2s/step - loss: 1.8402 - categorical_crossentropy: 1.8402 - categorical_accuracy: 0.5412 - val_loss: 1.7728 - val_categorical_crossentropy: 1.7728 - val_categorical_accuracy: 0.5455\n",
      "Epoch 98/100\n",
      "100/100 [==============================] - 163s 2s/step - loss: 1.7649 - categorical_crossentropy: 1.7649 - categorical_accuracy: 0.5518 - val_loss: 1.7099 - val_categorical_crossentropy: 1.7099 - val_categorical_accuracy: 0.5583\n",
      "Epoch 99/100\n",
      "100/100 [==============================] - 162s 2s/step - loss: 1.7879 - categorical_crossentropy: 1.7879 - categorical_accuracy: 0.5519 - val_loss: 1.6904 - val_categorical_crossentropy: 1.6904 - val_categorical_accuracy: 0.5638\n",
      "Epoch 100/100\n",
      "100/100 [==============================] - 161s 2s/step - loss: 1.7895 - categorical_crossentropy: 1.7895 - categorical_accuracy: 0.5398 - val_loss: 1.6588 - val_categorical_crossentropy: 1.6588 - val_categorical_accuracy: 0.5695\n"
     ]
    }
   ],
   "source": [
    "hist = model.fit_generator(\n",
    "    datagen.flow(train_X,train_y,batch_size = batch),\n",
    "    steps_per_epoch = STEPS,\n",
    "    validation_steps=STEPS, epochs=epochs, verbose=1,\n",
    "    validation_data=(valid_X, valid_y),\n",
    "    callbacks = callbacks\n",
    ")"
   ]
  },
  {
   "cell_type": "code",
   "execution_count": null,
   "metadata": {},
   "outputs": [
    {
     "name": "stdout",
     "output_type": "stream",
     "text": [
      "Epoch 1/100\n",
      "100/100 [==============================] - 185s 2s/step - loss: 1.7145 - categorical_crossentropy: 1.7145 - categorical_accuracy: 0.5666 - val_loss: 1.6497 - val_categorical_crossentropy: 1.6497 - val_categorical_accuracy: 0.5697\n",
      "Epoch 2/100\n",
      " 99/100 [============================>.] - ETA: 0s - loss: 1.7178 - categorical_crossentropy: 1.7178 - categorical_accuracy: 0.5570"
     ]
    }
   ],
   "source": [
    "hist2 = model.fit_generator(\n",
    "    datagen.flow(train_X,train_y,batch_size = batch),\n",
    "    steps_per_epoch = STEPS,\n",
    "    validation_steps=STEPS, epochs=epochs, verbose=1,\n",
    "    validation_data=(valid_X, valid_y),\n",
    "    callbacks = callbacks\n",
    ")"
   ]
  },
  {
   "cell_type": "code",
   "execution_count": 38,
   "metadata": {},
   "outputs": [
    {
     "data": {
      "text/plain": [
       "dict_keys(['val_loss', 'val_categorical_crossentropy', 'val_categorical_accuracy', 'loss', 'categorical_crossentropy', 'categorical_accuracy', 'lr'])"
      ]
     },
     "execution_count": 38,
     "metadata": {},
     "output_type": "execute_result"
    }
   ],
   "source": [
    "hist.history.keys()"
   ]
  },
  {
   "cell_type": "code",
   "execution_count": 36,
   "metadata": {},
   "outputs": [
    {
     "data": {
      "image/png": "[encoded data removed]",
      "text/plain": [
       "<Figure size 432x288 with 2 Axes>"
      ]
     },
     "metadata": {
      "needs_background": "light"
     },
     "output_type": "display_data"
    }
   ],
   "source": [
    "fig, loss_ax = plt.subplots()\n",
    "\n",
    "acc_ax = loss_ax.twinx()\n",
    "\n",
    "loss_ax.plot(hist.history['loss'], 'y', label='train loss')\n",
    "loss_ax.plot(hist.history['val_loss'], 'b', label='val loss')\n",
    "\n",
    "acc_ax.plot(hist.history['val_categorical_accuracy'], 'g', label='val categorical accuracy')\n",
    "acc_ax.plot(hist.history['categorical_accuracy'], 'r', label='categorical_accuracy')\n",
    "\n",
    "loss_ax.set_xlabel('epoch')\n",
    "loss_ax.set_ylabel('loss')\n",
    "acc_ax.set_ylabel('categorical_accuracy')\n",
    "\n",
    "loss_ax.legend(loc='upper left')\n",
    "acc_ax.legend(loc='lower left')\n",
    "\n",
    "plt.show()"
   ]
  },
  {
   "cell_type": "markdown",
   "metadata": {},
   "source": [
    "## Evaluation"
   ]
  },
  {
   "cell_type": "code",
   "execution_count": 40,
   "metadata": {},
   "outputs": [],
   "source": [
    "pred_y = model.predict(test_X, batch_size= batch)"
   ]
  },
  {
   "cell_type": "code",
   "execution_count": 41,
   "metadata": {},
   "outputs": [],
   "source": [
    "ppp = np.argmax(pred_y,1)"
   ]
  },
  {
   "cell_type": "code",
   "execution_count": 42,
   "metadata": {},
   "outputs": [],
   "source": [
    "ttt = np.argmax(test_y,1)"
   ]
  },
  {
   "cell_type": "code",
   "execution_count": 43,
   "metadata": {},
   "outputs": [
    {
     "data": {
      "text/plain": [
       "array([115, 329,  27, ...,  50, 306, 181], dtype=int64)"
      ]
     },
     "execution_count": 43,
     "metadata": {},
     "output_type": "execute_result"
    }
   ],
   "source": [
    "ppp"
   ]
  },
  {
   "cell_type": "code",
   "execution_count": 44,
   "metadata": {},
   "outputs": [
    {
     "data": {
      "text/plain": [
       "array([115, 329, 300, ...,  50, 210, 181], dtype=int64)"
      ]
     },
     "execution_count": 44,
     "metadata": {},
     "output_type": "execute_result"
    }
   ],
   "source": [
    "ttt"
   ]
  },
  {
   "cell_type": "code",
   "execution_count": 45,
   "metadata": {
    "scrolled": true
   },
   "outputs": [
    {
     "data": {
      "text/plain": [
       "<matplotlib.image.AxesImage at 0x24ad3089898>"
      ]
     },
     "execution_count": 45,
     "metadata": {},
     "output_type": "execute_result"
    },
    {
     "data": {
      "image/png": "[encoded data removed]",
      "text/plain": [
       "<Figure size 288x288 with 1 Axes>"
      ]
     },
     "metadata": {
      "needs_background": "light"
     },
     "output_type": "display_data"
    }
   ],
   "source": [
    "plt.matshow(confusion_matrix(ttt,ppp))"
   ]
  },
  {
   "cell_type": "code",
   "execution_count": 48,
   "metadata": {},
   "outputs": [],
   "source": [
    "part1 = classification_report(ttt, ppp, \n",
    "                            target_names = [x for x in word_le.classes_])"
   ]
  },
  {
   "cell_type": "markdown",
   "metadata": {},
   "source": [
    "* 이미지 그리기"
   ]
  },
  {
   "cell_type": "code",
   "execution_count": 122,
   "metadata": {},
   "outputs": [
    {
     "data": {
      "image/png": "[encoded data removed]",
      "text/plain": [
       "<Figure size 432x288 with 1 Axes>"
      ]
     },
     "metadata": {
      "needs_background": "light"
     },
     "output_type": "display_data"
    }
   ],
   "source": [
    "raw_images = list(all_data['drawing'])\n",
    "\n",
    "k = 0\n",
    "for i in range(len(raw_images[k])):\n",
    "    plt.plot(raw_images[k][i][0], raw_images[k][i][1],'o-')\n",
    "plt.show()"
   ]
  },
  {
   "cell_type": "code",
   "execution_count": null,
   "metadata": {},
   "outputs": [],
   "source": []
  },
  {
   "cell_type": "code",
   "execution_count": null,
   "metadata": {},
   "outputs": [],
   "source": []
  },
  {
   "cell_type": "code",
   "execution_count": 171,
   "metadata": {},
   "outputs": [
    {
     "ename": "NameError",
     "evalue": "name 'train_df' is not defined",
     "output_type": "error",
     "traceback": [
      "\u001b[1;31m---------------------------------------------------------------------------\u001b[0m",
      "\u001b[1;31mNameError\u001b[0m                                 Traceback (most recent call last)",
      "\u001b[1;32m<ipython-input-171-4ee7fa305e14>\u001b[0m in \u001b[0;36m<module>\u001b[1;34m\u001b[0m\n\u001b[0;32m      3\u001b[0m     \u001b[0my\u001b[0m \u001b[1;33m=\u001b[0m \u001b[0mto_categorical\u001b[0m\u001b[1;33m(\u001b[0m\u001b[0mword_encoder\u001b[0m\u001b[1;33m.\u001b[0m\u001b[0mtransform\u001b[0m\u001b[1;33m(\u001b[0m\u001b[0min_df\u001b[0m\u001b[1;33m[\u001b[0m\u001b[1;34m'word'\u001b[0m\u001b[1;33m]\u001b[0m\u001b[1;33m.\u001b[0m\u001b[0mvalues\u001b[0m\u001b[1;33m)\u001b[0m\u001b[1;33m)\u001b[0m\u001b[1;33m\u001b[0m\u001b[0m\n\u001b[0;32m      4\u001b[0m     \u001b[1;32mreturn\u001b[0m \u001b[0mX\u001b[0m\u001b[1;33m,\u001b[0m \u001b[0my\u001b[0m\u001b[1;33m\u001b[0m\u001b[0m\n\u001b[1;32m----> 5\u001b[1;33m \u001b[0mtrain_X\u001b[0m\u001b[1;33m,\u001b[0m \u001b[0mtrain_y\u001b[0m \u001b[1;33m=\u001b[0m \u001b[0mget_Xy\u001b[0m\u001b[1;33m(\u001b[0m\u001b[0mtrain_df\u001b[0m\u001b[1;33m)\u001b[0m\u001b[1;33m\u001b[0m\u001b[0m\n\u001b[0m\u001b[0;32m      6\u001b[0m \u001b[0mvalid_X\u001b[0m\u001b[1;33m,\u001b[0m \u001b[0mvalid_y\u001b[0m \u001b[1;33m=\u001b[0m \u001b[0mget_Xy\u001b[0m\u001b[1;33m(\u001b[0m\u001b[0mvalid_df\u001b[0m\u001b[1;33m)\u001b[0m\u001b[1;33m\u001b[0m\u001b[0m\n\u001b[0;32m      7\u001b[0m \u001b[0mtest_X\u001b[0m\u001b[1;33m,\u001b[0m \u001b[0mtest_y\u001b[0m \u001b[1;33m=\u001b[0m \u001b[0mget_Xy\u001b[0m\u001b[1;33m(\u001b[0m\u001b[0mtest_df\u001b[0m\u001b[1;33m)\u001b[0m\u001b[1;33m\u001b[0m\u001b[0m\n",
      "\u001b[1;31mNameError\u001b[0m: name 'train_df' is not defined"
     ]
    }
   ],
   "source": [
    "def get_Xy(in_df):\n",
    "    X = np.stack(in_df['drawing'], 0)\n",
    "    y = to_categorical(word_encoder.transform(in_df['word'].values))\n",
    "    return X, y\n",
    "train_X, train_y = get_Xy(train_df)\n",
    "valid_X, valid_y = get_Xy(valid_df)\n",
    "test_X, test_y = get_Xy(test_df)\n",
    "print(train_X.shape)"
   ]
  },
  {
   "cell_type": "code",
   "execution_count": null,
   "metadata": {},
   "outputs": [],
   "source": []
  },
  {
   "cell_type": "code",
   "execution_count": null,
   "metadata": {},
   "outputs": [],
   "source": []
  },
  {
   "cell_type": "code",
   "execution_count": 108,
   "metadata": {
    "collapsed": true
   },
   "outputs": [
    {
     "ename": "ValueError",
     "evalue": "Axis -1 of input tensor should have a defined dimension but the layer received an input with shape (None, None).",
     "output_type": "error",
     "traceback": [
      "\u001b[1;31m---------------------------------------------------------------------------\u001b[0m",
      "\u001b[1;31mValueError\u001b[0m                                Traceback (most recent call last)",
      "\u001b[1;32m<ipython-input-108-b80e3d33e5dc>\u001b[0m in \u001b[0;36m<module>\u001b[1;34m\u001b[0m\n\u001b[0;32m      1\u001b[0m \u001b[0mstroke_read_model\u001b[0m \u001b[1;33m=\u001b[0m \u001b[0mSequential\u001b[0m\u001b[1;33m(\u001b[0m\u001b[1;33m)\u001b[0m\u001b[1;33m\u001b[0m\u001b[0m\n\u001b[1;32m----> 2\u001b[1;33m \u001b[0mstroke_read_model\u001b[0m\u001b[1;33m.\u001b[0m\u001b[0madd\u001b[0m\u001b[1;33m(\u001b[0m\u001b[0mBatchNormalization\u001b[0m\u001b[1;33m(\u001b[0m\u001b[0minput_shape\u001b[0m \u001b[1;33m=\u001b[0m \u001b[1;33m(\u001b[0m\u001b[1;32mNone\u001b[0m\u001b[1;33m,\u001b[0m\u001b[1;33m)\u001b[0m\u001b[1;33m)\u001b[0m\u001b[1;33m)\u001b[0m\u001b[1;33m\u001b[0m\u001b[0m\n\u001b[0m\u001b[0;32m      3\u001b[0m \u001b[1;31m# filter count and length are taken from the script https://github.com/tensorflow/models/blob/master/tutorials/rnn/quickdraw/train_model.py\u001b[0m\u001b[1;33m\u001b[0m\u001b[1;33m\u001b[0m\u001b[0m\n\u001b[0;32m      4\u001b[0m \u001b[0mstroke_read_model\u001b[0m\u001b[1;33m.\u001b[0m\u001b[0madd\u001b[0m\u001b[1;33m(\u001b[0m\u001b[0mConv1D\u001b[0m\u001b[1;33m(\u001b[0m\u001b[1;36m48\u001b[0m\u001b[1;33m,\u001b[0m \u001b[1;33m(\u001b[0m\u001b[1;36m5\u001b[0m\u001b[1;33m,\u001b[0m\u001b[1;33m)\u001b[0m\u001b[1;33m)\u001b[0m\u001b[1;33m)\u001b[0m\u001b[1;33m\u001b[0m\u001b[0m\n\u001b[0;32m      5\u001b[0m \u001b[0mstroke_read_model\u001b[0m\u001b[1;33m.\u001b[0m\u001b[0madd\u001b[0m\u001b[1;33m(\u001b[0m\u001b[0mDropout\u001b[0m\u001b[1;33m(\u001b[0m\u001b[1;36m0.3\u001b[0m\u001b[1;33m)\u001b[0m\u001b[1;33m)\u001b[0m\u001b[1;33m\u001b[0m\u001b[0m\n",
      "\u001b[1;32mC:\\Users\\julia\\Desktop\\tf\\lib\\site-packages\\keras\\engine\\sequential.py\u001b[0m in \u001b[0;36madd\u001b[1;34m(self, layer)\u001b[0m\n\u001b[0;32m    164\u001b[0m                     \u001b[1;31m# and create the node connecting the current layer\u001b[0m\u001b[1;33m\u001b[0m\u001b[1;33m\u001b[0m\u001b[0m\n\u001b[0;32m    165\u001b[0m                     \u001b[1;31m# to the input layer we just created.\u001b[0m\u001b[1;33m\u001b[0m\u001b[1;33m\u001b[0m\u001b[0m\n\u001b[1;32m--> 166\u001b[1;33m                     \u001b[0mlayer\u001b[0m\u001b[1;33m(\u001b[0m\u001b[0mx\u001b[0m\u001b[1;33m)\u001b[0m\u001b[1;33m\u001b[0m\u001b[0m\n\u001b[0m\u001b[0;32m    167\u001b[0m                     \u001b[0mset_inputs\u001b[0m \u001b[1;33m=\u001b[0m \u001b[1;32mTrue\u001b[0m\u001b[1;33m\u001b[0m\u001b[0m\n\u001b[0;32m    168\u001b[0m             \u001b[1;32melse\u001b[0m\u001b[1;33m:\u001b[0m\u001b[1;33m\u001b[0m\u001b[0m\n",
      "\u001b[1;32mC:\\Users\\julia\\Desktop\\tf\\lib\\site-packages\\keras\\backend\\tensorflow_backend.py\u001b[0m in \u001b[0;36msymbolic_fn_wrapper\u001b[1;34m(*args, **kwargs)\u001b[0m\n\u001b[0;32m     73\u001b[0m         \u001b[1;32mif\u001b[0m \u001b[0m_SYMBOLIC_SCOPE\u001b[0m\u001b[1;33m.\u001b[0m\u001b[0mvalue\u001b[0m\u001b[1;33m:\u001b[0m\u001b[1;33m\u001b[0m\u001b[0m\n\u001b[0;32m     74\u001b[0m             \u001b[1;32mwith\u001b[0m \u001b[0mget_graph\u001b[0m\u001b[1;33m(\u001b[0m\u001b[1;33m)\u001b[0m\u001b[1;33m.\u001b[0m\u001b[0mas_default\u001b[0m\u001b[1;33m(\u001b[0m\u001b[1;33m)\u001b[0m\u001b[1;33m:\u001b[0m\u001b[1;33m\u001b[0m\u001b[0m\n\u001b[1;32m---> 75\u001b[1;33m                 \u001b[1;32mreturn\u001b[0m \u001b[0mfunc\u001b[0m\u001b[1;33m(\u001b[0m\u001b[1;33m*\u001b[0m\u001b[0margs\u001b[0m\u001b[1;33m,\u001b[0m \u001b[1;33m**\u001b[0m\u001b[0mkwargs\u001b[0m\u001b[1;33m)\u001b[0m\u001b[1;33m\u001b[0m\u001b[0m\n\u001b[0m\u001b[0;32m     76\u001b[0m         \u001b[1;32melse\u001b[0m\u001b[1;33m:\u001b[0m\u001b[1;33m\u001b[0m\u001b[0m\n\u001b[0;32m     77\u001b[0m             \u001b[1;32mreturn\u001b[0m \u001b[0mfunc\u001b[0m\u001b[1;33m(\u001b[0m\u001b[1;33m*\u001b[0m\u001b[0margs\u001b[0m\u001b[1;33m,\u001b[0m \u001b[1;33m**\u001b[0m\u001b[0mkwargs\u001b[0m\u001b[1;33m)\u001b[0m\u001b[1;33m\u001b[0m\u001b[0m\n",
      "\u001b[1;32mC:\\Users\\julia\\Desktop\\tf\\lib\\site-packages\\keras\\engine\\base_layer.py\u001b[0m in \u001b[0;36m__call__\u001b[1;34m(self, inputs, **kwargs)\u001b[0m\n\u001b[0;32m    461\u001b[0m                                          \u001b[1;34m'You can build it manually via: '\u001b[0m\u001b[1;33m\u001b[0m\u001b[0m\n\u001b[0;32m    462\u001b[0m                                          '`layer.build(batch_input_shape)`')\n\u001b[1;32m--> 463\u001b[1;33m                 \u001b[0mself\u001b[0m\u001b[1;33m.\u001b[0m\u001b[0mbuild\u001b[0m\u001b[1;33m(\u001b[0m\u001b[0munpack_singleton\u001b[0m\u001b[1;33m(\u001b[0m\u001b[0minput_shapes\u001b[0m\u001b[1;33m)\u001b[0m\u001b[1;33m)\u001b[0m\u001b[1;33m\u001b[0m\u001b[0m\n\u001b[0m\u001b[0;32m    464\u001b[0m                 \u001b[0mself\u001b[0m\u001b[1;33m.\u001b[0m\u001b[0mbuilt\u001b[0m \u001b[1;33m=\u001b[0m \u001b[1;32mTrue\u001b[0m\u001b[1;33m\u001b[0m\u001b[0m\n\u001b[0;32m    465\u001b[0m \u001b[1;33m\u001b[0m\u001b[0m\n",
      "\u001b[1;32mC:\\Users\\julia\\Desktop\\tf\\lib\\site-packages\\keras\\layers\\normalization.py\u001b[0m in \u001b[0;36mbuild\u001b[1;34m(self, input_shape)\u001b[0m\n\u001b[0;32m     97\u001b[0m                              \u001b[1;34m'input tensor should have a defined dimension '\u001b[0m\u001b[1;33m\u001b[0m\u001b[0m\n\u001b[0;32m     98\u001b[0m                              \u001b[1;34m'but the layer received an input with shape '\u001b[0m \u001b[1;33m+\u001b[0m\u001b[1;33m\u001b[0m\u001b[0m\n\u001b[1;32m---> 99\u001b[1;33m                              str(input_shape) + '.')\n\u001b[0m\u001b[0;32m    100\u001b[0m         self.input_spec = InputSpec(ndim=len(input_shape),\n\u001b[0;32m    101\u001b[0m                                     axes={self.axis: dim})\n",
      "\u001b[1;31mValueError\u001b[0m: Axis -1 of input tensor should have a defined dimension but the layer received an input with shape (None, None)."
     ]
    }
   ],
   "source": [
    "\n",
    "stroke_read_model = Sequential()\n",
    "stroke_read_model.add(BatchNormalization(input_shape = (None,)))\n",
    "# filter count and length are taken from the script https://github.com/tensorflow/models/blob/master/tutorials/rnn/quickdraw/train_model.py\n",
    "stroke_read_model.add(Conv1D(48, (5,)))\n",
    "stroke_read_model.add(Dropout(0.3))\n",
    "stroke_read_model.add(Conv1D(64, (5,)))\n",
    "stroke_read_model.add(Dropout(0.3))\n",
    "stroke_read_model.add(Conv1D(96, (3,)))\n",
    "stroke_read_model.add(Dropout(0.3))\n",
    "stroke_read_model.add(LSTM(128, return_sequences = True))\n",
    "stroke_read_model.add(Dropout(0.3))\n",
    "stroke_read_model.add(LSTM(128, return_sequences = False))\n",
    "stroke_read_model.add(Dropout(0.3))\n",
    "stroke_read_model.add(Dense(512))\n",
    "stroke_read_model.add(Dropout(0.3))\n",
    "stroke_read_model.add(Dense(len(word_encoder.classes_), activation = 'softmax'))\n",
    "stroke_read_model.compile(optimizer = 'adam', \n",
    "                          loss = 'categorical_crossentropy', \n",
    "                          metrics = ['categorical_accuracy', top_3_accuracy])\n",
    "stroke_read_model.summary()"
   ]
  },
  {
   "cell_type": "code",
   "execution_count": null,
   "metadata": {},
   "outputs": [],
   "source": []
  }
 ],
 "metadata": {
  "kernelspec": {
   "display_name": "Python3 tf",
   "language": "python",
   "name": "tf"
  },
  "language_info": {
   "codemirror_mode": {
    "name": "ipython",
    "version": 3
   },
   "file_extension": ".py",
   "mimetype": "text/x-python",
   "name": "python",
   "nbconvert_exporter": "python",
   "pygments_lexer": "ipython3",
   "version": "3.6.4"
  }
 },
 "nbformat": 4,
 "nbformat_minor": 2
}
