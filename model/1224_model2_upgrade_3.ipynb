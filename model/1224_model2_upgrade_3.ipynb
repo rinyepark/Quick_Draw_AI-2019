{
 "cells": [
  {
   "cell_type": "markdown",
   "metadata": {},
   "source": [
    "# 성능 체크\n",
    "-> Kaggle내 코드를 그대로 따라했을 때의 -> 이후 이거 기준 성장  \n",
    "https://www.kaggle.com/amneves/quick-draw-keras-cnn-model"
   ]
  },
  {
   "cell_type": "code",
   "execution_count": 1,
   "metadata": {},
   "outputs": [
    {
     "name": "stderr",
     "output_type": "stream",
     "text": [
      "Using TensorFlow backend.\n"
     ]
    }
   ],
   "source": [
    "import tensorflow as tf\n",
    "import numpy as np\n",
    "from tensorflow import keras\n",
    "\n",
    "from tensorflow.keras.utils import to_categorical\n",
    "from tensorflow.keras.metrics import categorical_accuracy, top_k_categorical_accuracy, categorical_crossentropy\n",
    "\n",
    "import pandas as pd\n",
    "import matplotlib as mpl\n",
    "import matplotlib.pylab as plt\n",
    "\n",
    "from sklearn.model_selection import train_test_split\n",
    "from sklearn.preprocessing import LabelEncoder\n",
    "\n",
    "\n",
    "import keras.backend as K \n",
    "from keras.callbacks import EarlyStopping,ModelCheckpoint\n",
    "\n",
    "from keras.utils import np_utils\n",
    "from keras.models import Sequential\n",
    "from keras.models import load_model\n",
    "\n",
    "from keras.layers import BatchNormalization, Conv1D, LSTM, Dense, Dropout, Flatten\n",
    "from keras.optimizers import Adam\n",
    "from keras.models import Model\n",
    "\n",
    "from keras.callbacks import ReduceLROnPlateau\n",
    "from keras.applications.mobilenet import MobileNet, decode_predictions\n",
    "from keras.preprocessing.image import ImageDataGenerator\n",
    "\n",
    "from sklearn.metrics import confusion_matrix, classification_report\n",
    "\n",
    "import ast\n",
    "import os\n",
    "import cv2\n",
    "from collections import Counter"
   ]
  },
  {
   "cell_type": "markdown",
   "metadata": {},
   "source": [
    "# =============================="
   ]
  },
  {
   "cell_type": "code",
   "execution_count": 2,
   "metadata": {},
   "outputs": [],
   "source": [
    "path_dir = \"E:/경희대학교/2019_2/데이터분석캡스톤디자인/quick_draw/quickdraw-doodle-recognition/top10/\"\n",
    "file_lst = os.listdir(path_dir)"
   ]
  },
  {
   "cell_type": "markdown",
   "metadata": {},
   "source": [
    "## 10개 파일 중 50,000개씩의 데이터 사용"
   ]
  },
  {
   "cell_type": "code",
   "execution_count": 19,
   "metadata": {},
   "outputs": [
    {
     "name": "stdout",
     "output_type": "stream",
     "text": [
      "airplane.csv\n",
      "bear.csv\n",
      "butterfly.csv\n",
      "cat.csv\n",
      "circle.csv\n",
      "cloud.csv\n",
      "dog.csv\n",
      "door.csv\n",
      "mouse.csv\n",
      "star.csv\n"
     ]
    }
   ],
   "source": [
    "# all_data = pd.DataFrame()\n",
    "# for i in file_lst:\n",
    "#     print(i)\n",
    "#     tmp = pd.read_csv(path_dir + i)\n",
    "#     tmp = tmp[tmp[\"recognized\"] == True]\n",
    "#     ttmp = tmp.iloc[:50000]\n",
    "#     all_data = pd.concat([all_data,ttmp],axis = 0)"
   ]
  },
  {
   "cell_type": "code",
   "execution_count": 5,
   "metadata": {},
   "outputs": [],
   "source": [
    "all_data =pd.read_csv(\"./true_split_data_1224/dataset_1.csv\")"
   ]
  },
  {
   "cell_type": "code",
   "execution_count": 6,
   "metadata": {},
   "outputs": [
    {
     "data": {
      "text/html": [
       "<div>\n",
       "<style scoped>\n",
       "    .dataframe tbody tr th:only-of-type {\n",
       "        vertical-align: middle;\n",
       "    }\n",
       "\n",
       "    .dataframe tbody tr th {\n",
       "        vertical-align: top;\n",
       "    }\n",
       "\n",
       "    .dataframe thead th {\n",
       "        text-align: right;\n",
       "    }\n",
       "</style>\n",
       "<table border=\"1\" class=\"dataframe\">\n",
       "  <thead>\n",
       "    <tr style=\"text-align: right;\">\n",
       "      <th></th>\n",
       "      <th>countrycode</th>\n",
       "      <th>drawing</th>\n",
       "      <th>key_id</th>\n",
       "      <th>recognized</th>\n",
       "      <th>timestamp</th>\n",
       "      <th>word</th>\n",
       "    </tr>\n",
       "  </thead>\n",
       "  <tbody>\n",
       "    <tr>\n",
       "      <th>0</th>\n",
       "      <td>US</td>\n",
       "      <td>[[[63, 59, 53, 33, 29, 39, 65, 73, 72, 66], [3...</td>\n",
       "      <td>5219658900701184</td>\n",
       "      <td>True</td>\n",
       "      <td>2017-01-27 12:47:13.868000</td>\n",
       "      <td>wine bottle</td>\n",
       "    </tr>\n",
       "    <tr>\n",
       "      <th>1</th>\n",
       "      <td>US</td>\n",
       "      <td>[[[45, 44, 18, 7, 0, 13, 36, 58, 77, 102, 106,...</td>\n",
       "      <td>5344588942278656</td>\n",
       "      <td>True</td>\n",
       "      <td>2017-03-19 19:39:31.420990</td>\n",
       "      <td>wine bottle</td>\n",
       "    </tr>\n",
       "    <tr>\n",
       "      <th>2</th>\n",
       "      <td>CA</td>\n",
       "      <td>[[[105, 80, 73, 73, 77, 94, 102], [32, 29, 33,...</td>\n",
       "      <td>4617064918548480</td>\n",
       "      <td>True</td>\n",
       "      <td>2017-03-05 22:50:38.920360</td>\n",
       "      <td>wine bottle</td>\n",
       "    </tr>\n",
       "    <tr>\n",
       "      <th>3</th>\n",
       "      <td>JP</td>\n",
       "      <td>[[[4, 0, 5, 12, 41, 50, 55, 59, 105, 110, 111,...</td>\n",
       "      <td>6571431754203136</td>\n",
       "      <td>True</td>\n",
       "      <td>2017-03-29 14:30:51.318940</td>\n",
       "      <td>wine bottle</td>\n",
       "    </tr>\n",
       "    <tr>\n",
       "      <th>4</th>\n",
       "      <td>US</td>\n",
       "      <td>[[[75, 72, 85, 96, 98, 95, 78, 74], [7, 40, 42...</td>\n",
       "      <td>5325999203942400</td>\n",
       "      <td>True</td>\n",
       "      <td>2017-01-27 16:17:31.971340</td>\n",
       "      <td>wine bottle</td>\n",
       "    </tr>\n",
       "  </tbody>\n",
       "</table>\n",
       "</div>"
      ],
      "text/plain": [
       "  countrycode                                            drawing  \\\n",
       "0          US  [[[63, 59, 53, 33, 29, 39, 65, 73, 72, 66], [3...   \n",
       "1          US  [[[45, 44, 18, 7, 0, 13, 36, 58, 77, 102, 106,...   \n",
       "2          CA  [[[105, 80, 73, 73, 77, 94, 102], [32, 29, 33,...   \n",
       "3          JP  [[[4, 0, 5, 12, 41, 50, 55, 59, 105, 110, 111,...   \n",
       "4          US  [[[75, 72, 85, 96, 98, 95, 78, 74], [7, 40, 42...   \n",
       "\n",
       "             key_id  recognized                   timestamp         word  \n",
       "0  5219658900701184        True  2017-01-27 12:47:13.868000  wine bottle  \n",
       "1  5344588942278656        True  2017-03-19 19:39:31.420990  wine bottle  \n",
       "2  4617064918548480        True  2017-03-05 22:50:38.920360  wine bottle  \n",
       "3  6571431754203136        True  2017-03-29 14:30:51.318940  wine bottle  \n",
       "4  5325999203942400        True  2017-01-27 16:17:31.971340  wine bottle  "
      ]
     },
     "execution_count": 6,
     "metadata": {},
     "output_type": "execute_result"
    }
   ],
   "source": [
    "all_data.head()"
   ]
  },
  {
   "cell_type": "code",
   "execution_count": 7,
   "metadata": {},
   "outputs": [],
   "source": [
    "all_data['drawing'] = all_data['drawing'].apply(ast.literal_eval)"
   ]
  },
  {
   "cell_type": "markdown",
   "metadata": {},
   "source": [
    "# ================================"
   ]
  },
  {
   "cell_type": "markdown",
   "metadata": {},
   "source": [
    "* ast로 계속 바꿔주지 않으려고 pickle 방식 활용"
   ]
  },
  {
   "cell_type": "code",
   "execution_count": 2,
   "metadata": {
    "scrolled": true
   },
   "outputs": [],
   "source": [
    "all_data = pd.read_pickle(\"new_true_split_data/dataset_1.pkl\")"
   ]
  },
  {
   "cell_type": "code",
   "execution_count": 3,
   "metadata": {},
   "outputs": [
    {
     "data": {
      "text/plain": [
       "(500000, 6)"
      ]
     },
     "execution_count": 3,
     "metadata": {},
     "output_type": "execute_result"
    }
   ],
   "source": [
    "all_data.shape"
   ]
  },
  {
   "cell_type": "code",
   "execution_count": 4,
   "metadata": {},
   "outputs": [],
   "source": [
    "word_lst = list(all_data['word'].unique())"
   ]
  },
  {
   "cell_type": "code",
   "execution_count": 5,
   "metadata": {},
   "outputs": [],
   "source": [
    "train2, test = train_test_split(all_data, test_size=0.3, shuffle = True,\n",
    "                                random_state = 42,\n",
    "                                stratify = all_data[\"word\"])"
   ]
  },
  {
   "cell_type": "code",
   "execution_count": 6,
   "metadata": {},
   "outputs": [
    {
     "data": {
      "text/html": [
       "<div>\n",
       "<style scoped>\n",
       "    .dataframe tbody tr th:only-of-type {\n",
       "        vertical-align: middle;\n",
       "    }\n",
       "\n",
       "    .dataframe tbody tr th {\n",
       "        vertical-align: top;\n",
       "    }\n",
       "\n",
       "    .dataframe thead th {\n",
       "        text-align: right;\n",
       "    }\n",
       "</style>\n",
       "<table border=\"1\" class=\"dataframe\">\n",
       "  <thead>\n",
       "    <tr style=\"text-align: right;\">\n",
       "      <th></th>\n",
       "      <th>countrycode</th>\n",
       "      <th>drawing</th>\n",
       "      <th>key_id</th>\n",
       "      <th>recognized</th>\n",
       "      <th>timestamp</th>\n",
       "      <th>word</th>\n",
       "    </tr>\n",
       "  </thead>\n",
       "  <tbody>\n",
       "    <tr>\n",
       "      <th>4424</th>\n",
       "      <td>US</td>\n",
       "      <td>[[[11, 16, 3, 0, 16, 30, 75, 87, 95, 96, 93, 8...</td>\n",
       "      <td>5282628892622848</td>\n",
       "      <td>True</td>\n",
       "      <td>2017-01-26 03:08:31.823640</td>\n",
       "      <td>wine bottle</td>\n",
       "    </tr>\n",
       "    <tr>\n",
       "      <th>84138</th>\n",
       "      <td>GB</td>\n",
       "      <td>[[[74, 67, 53, 27, 10, 2, 0, 6, 37, 56, 161, 2...</td>\n",
       "      <td>6094540798689280</td>\n",
       "      <td>True</td>\n",
       "      <td>2017-03-25 07:23:34.504550</td>\n",
       "      <td>pond</td>\n",
       "    </tr>\n",
       "    <tr>\n",
       "      <th>390002</th>\n",
       "      <td>US</td>\n",
       "      <td>[[[29, 81, 143, 179, 186, 182, 105, 90, 48, 25...</td>\n",
       "      <td>6721971112902656</td>\n",
       "      <td>True</td>\n",
       "      <td>2017-03-02 14:02:55.861420</td>\n",
       "      <td>cake</td>\n",
       "    </tr>\n",
       "    <tr>\n",
       "      <th>129896</th>\n",
       "      <td>US</td>\n",
       "      <td>[[[30, 64, 145, 159, 166, 166, 175, 176, 166, ...</td>\n",
       "      <td>5082382782693376</td>\n",
       "      <td>True</td>\n",
       "      <td>2017-03-01 16:15:52.619470</td>\n",
       "      <td>traffic light</td>\n",
       "    </tr>\n",
       "    <tr>\n",
       "      <th>336032</th>\n",
       "      <td>CA</td>\n",
       "      <td>[[[141, 160, 166, 167, 164, 158, 38, 13, 6, 7,...</td>\n",
       "      <td>5870901683814400</td>\n",
       "      <td>True</td>\n",
       "      <td>2017-03-19 09:47:37.955320</td>\n",
       "      <td>sea turtle</td>\n",
       "    </tr>\n",
       "  </tbody>\n",
       "</table>\n",
       "</div>"
      ],
      "text/plain": [
       "       countrycode                                            drawing  \\\n",
       "4424            US  [[[11, 16, 3, 0, 16, 30, 75, 87, 95, 96, 93, 8...   \n",
       "84138           GB  [[[74, 67, 53, 27, 10, 2, 0, 6, 37, 56, 161, 2...   \n",
       "390002          US  [[[29, 81, 143, 179, 186, 182, 105, 90, 48, 25...   \n",
       "129896          US  [[[30, 64, 145, 159, 166, 166, 175, 176, 166, ...   \n",
       "336032          CA  [[[141, 160, 166, 167, 164, 158, 38, 13, 6, 7,...   \n",
       "\n",
       "                  key_id  recognized                   timestamp  \\\n",
       "4424    5282628892622848        True  2017-01-26 03:08:31.823640   \n",
       "84138   6094540798689280        True  2017-03-25 07:23:34.504550   \n",
       "390002  6721971112902656        True  2017-03-02 14:02:55.861420   \n",
       "129896  5082382782693376        True  2017-03-01 16:15:52.619470   \n",
       "336032  5870901683814400        True  2017-03-19 09:47:37.955320   \n",
       "\n",
       "                 word  \n",
       "4424      wine bottle  \n",
       "84138            pond  \n",
       "390002           cake  \n",
       "129896  traffic light  \n",
       "336032     sea turtle  "
      ]
     },
     "execution_count": 6,
     "metadata": {},
     "output_type": "execute_result"
    }
   ],
   "source": [
    "train2.head()"
   ]
  },
  {
   "cell_type": "code",
   "execution_count": 7,
   "metadata": {},
   "outputs": [
    {
     "data": {
      "text/plain": [
       "Counter({'wine bottle': 17500,\n",
       "         'pond': 17500,\n",
       "         'cake': 17500,\n",
       "         'traffic light': 17500,\n",
       "         'sea turtle': 17500,\n",
       "         'carrot': 17500,\n",
       "         'microphone': 17500,\n",
       "         'snake': 17500,\n",
       "         'octopus': 17500,\n",
       "         'mermaid': 17500,\n",
       "         'chandelier': 17500,\n",
       "         'dog': 17500,\n",
       "         'bat': 17500,\n",
       "         'television': 17500,\n",
       "         'light bulb': 17500,\n",
       "         'computer': 17500,\n",
       "         'pliers': 17500,\n",
       "         'candle': 17500,\n",
       "         'monkey': 17500,\n",
       "         'couch': 17500})"
      ]
     },
     "execution_count": 7,
     "metadata": {},
     "output_type": "execute_result"
    }
   ],
   "source": [
    "Counter(train2[\"word\"])"
   ]
  },
  {
   "cell_type": "code",
   "execution_count": 8,
   "metadata": {},
   "outputs": [],
   "source": [
    "train, valid=  train_test_split(train2, test_size=0.3, shuffle = True, \n",
    "                                random_state = 42,\n",
    "                                stratify = train2[\"word\"])"
   ]
  },
  {
   "cell_type": "code",
   "execution_count": 9,
   "metadata": {},
   "outputs": [
    {
     "data": {
      "text/plain": [
       "Counter({'wine bottle': 25000,\n",
       "         'candle': 25000,\n",
       "         'computer': 25000,\n",
       "         'pond': 25000,\n",
       "         'light bulb': 25000,\n",
       "         'traffic light': 25000,\n",
       "         'bat': 25000,\n",
       "         'carrot': 25000,\n",
       "         'snake': 25000,\n",
       "         'dog': 25000,\n",
       "         'monkey': 25000,\n",
       "         'television': 25000,\n",
       "         'microphone': 25000,\n",
       "         'sea turtle': 25000,\n",
       "         'couch': 25000,\n",
       "         'cake': 25000,\n",
       "         'mermaid': 25000,\n",
       "         'chandelier': 25000,\n",
       "         'octopus': 25000,\n",
       "         'pliers': 25000})"
      ]
     },
     "execution_count": 9,
     "metadata": {},
     "output_type": "execute_result"
    }
   ],
   "source": [
    "Counter(all_data[\"word\"])"
   ]
  },
  {
   "cell_type": "code",
   "execution_count": 10,
   "metadata": {
    "scrolled": true
   },
   "outputs": [
    {
     "name": "stdout",
     "output_type": "stream",
     "text": [
      "(245000, 6)\n",
      "(105000, 6)\n",
      "(150000, 6)\n"
     ]
    }
   ],
   "source": [
    "print(train.shape)\n",
    "print(valid.shape)\n",
    "print(test.shape)"
   ]
  },
  {
   "cell_type": "code",
   "execution_count": 11,
   "metadata": {},
   "outputs": [
    {
     "data": {
      "text/plain": [
       "LabelEncoder()"
      ]
     },
     "execution_count": 11,
     "metadata": {},
     "output_type": "execute_result"
    }
   ],
   "source": [
    "word_le = LabelEncoder()\n",
    "word_le.fit(all_data['word'])"
   ]
  },
  {
   "cell_type": "code",
   "execution_count": 12,
   "metadata": {},
   "outputs": [
    {
     "data": {
      "text/plain": [
       "array(['bat', 'cake', 'candle', 'carrot', 'chandelier', 'computer',\n",
       "       'couch', 'dog', 'light bulb', 'mermaid', 'microphone', 'monkey',\n",
       "       'octopus', 'pliers', 'pond', 'sea turtle', 'snake', 'television',\n",
       "       'traffic light', 'wine bottle'], dtype=object)"
      ]
     },
     "execution_count": 12,
     "metadata": {},
     "output_type": "execute_result"
    }
   ],
   "source": [
    "word_le.classes_"
   ]
  },
  {
   "cell_type": "markdown",
   "metadata": {},
   "source": [
    "### Split"
   ]
  },
  {
   "cell_type": "code",
   "execution_count": 13,
   "metadata": {},
   "outputs": [],
   "source": [
    "size = 64\n",
    "word_num = len(word_lst)\n",
    "BASE_SIZE = 256"
   ]
  },
  {
   "cell_type": "markdown",
   "metadata": {},
   "source": [
    "#### cv2.line\n",
    "* img: 선분이 그려질 이미지  \n",
    "* (x1,y1) 선분의 시작점\n",
    "* (x2,y2) 선분의 끝점\n",
    "* color: 색상(0~255)\n",
    "* thickness"
   ]
  },
  {
   "cell_type": "code",
   "execution_count": 14,
   "metadata": {},
   "outputs": [],
   "source": [
    "def reshape_draw(rs, size=256, lw=6):\n",
    "    img = np.zeros((BASE_SIZE, BASE_SIZE), np.uint8)\n",
    "    for s in rs:\n",
    "        for i in range(len(s[0]) - 1):\n",
    "            _ = cv2.line(img, (s[0][i], s[1][i]), (s[0][i + 1], s[1][i + 1]), 255, lw)\n",
    "#             print(_)\n",
    "\n",
    "    if size != BASE_SIZE:\n",
    "        return cv2.resize(img, (size, size))\n",
    "    else:\n",
    "        return img"
   ]
  },
  {
   "cell_type": "code",
   "execution_count": 15,
   "metadata": {},
   "outputs": [],
   "source": [
    "def drawing_make_array(df, size = size, lw = 6):\n",
    "    x = np.zeros((len(df),size,size))\n",
    "    for i, rs in enumerate(df.drawing.values):\n",
    "        x[i] = reshape_draw(rs,size=size,lw=lw)\n",
    "    x = x/255 # 정규화\n",
    "    x = x.reshape((len(df),size,size,1)).astype(np.float32)\n",
    "    return x"
   ]
  },
  {
   "cell_type": "code",
   "execution_count": 16,
   "metadata": {},
   "outputs": [],
   "source": [
    "train_X = drawing_make_array(train, size)\n",
    "train_y = to_categorical(word_le.transform(train['word'].values))"
   ]
  },
  {
   "cell_type": "code",
   "execution_count": 17,
   "metadata": {},
   "outputs": [],
   "source": [
    "valid_X = drawing_make_array(valid, size)\n",
    "valid_y = to_categorical(word_le.transform(valid['word'].values))"
   ]
  },
  {
   "cell_type": "code",
   "execution_count": 18,
   "metadata": {},
   "outputs": [],
   "source": [
    "test_X = drawing_make_array(test, size)\n",
    "test_y = to_categorical(word_le.transform(test['word'].values))"
   ]
  },
  {
   "cell_type": "code",
   "execution_count": 19,
   "metadata": {},
   "outputs": [
    {
     "data": {
      "text/plain": [
       "(245000, 64, 64, 1)"
      ]
     },
     "execution_count": 19,
     "metadata": {},
     "output_type": "execute_result"
    }
   ],
   "source": [
    "train_X.shape"
   ]
  },
  {
   "cell_type": "markdown",
   "metadata": {},
   "source": [
    "## Model"
   ]
  },
  {
   "cell_type": "code",
   "execution_count": 29,
   "metadata": {},
   "outputs": [],
   "source": [
    "STEPS= 200\n",
    "batch = 100\n",
    "epochs = 50"
   ]
  },
  {
   "cell_type": "code",
   "execution_count": 21,
   "metadata": {},
   "outputs": [],
   "source": [
    "datagen = ImageDataGenerator()"
   ]
  },
  {
   "cell_type": "code",
   "execution_count": 22,
   "metadata": {},
   "outputs": [],
   "source": [
    "K.clear_session()\n",
    "base_model = MobileNet(input_shape=(size, size, 1), include_top=False, weights=None, classes=word_num)"
   ]
  },
  {
   "cell_type": "code",
   "execution_count": 24,
   "metadata": {},
   "outputs": [],
   "source": [
    "x = base_model.output\n",
    "x = Flatten()(x)\n",
    "x = Dense(512, activation = 'relu')(x)\n",
    "x = Dropout(0.5)(x)\n",
    "x = Dense(256, activation='relu')(x)\n",
    "predictions = Dense(word_num, activation='softmax')(x)"
   ]
  },
  {
   "cell_type": "code",
   "execution_count": 25,
   "metadata": {},
   "outputs": [],
   "source": [
    "# this is the model we will train\n",
    "model = Model(inputs=base_model.input, outputs=predictions)"
   ]
  },
  {
   "cell_type": "code",
   "execution_count": 26,
   "metadata": {},
   "outputs": [],
   "source": [
    "model.compile(optimizer=Adam(lr=1e-4), loss='categorical_crossentropy',\n",
    "              metrics=[categorical_crossentropy, categorical_accuracy])\n"
   ]
  },
  {
   "cell_type": "code",
   "execution_count": 27,
   "metadata": {
    "scrolled": true
   },
   "outputs": [
    {
     "name": "stdout",
     "output_type": "stream",
     "text": [
      "Model: \"model_1\"\n",
      "_________________________________________________________________\n",
      "Layer (type)                 Output Shape              Param #   \n",
      "=================================================================\n",
      "input_1 (InputLayer)         (None, 64, 64, 1)         0         \n",
      "_________________________________________________________________\n",
      "conv1_pad (ZeroPadding2D)    (None, 65, 65, 1)         0         \n",
      "_________________________________________________________________\n",
      "conv1 (Conv2D)               (None, 32, 32, 32)        288       \n",
      "_________________________________________________________________\n",
      "conv1_bn (BatchNormalization (None, 32, 32, 32)        128       \n",
      "_________________________________________________________________\n",
      "conv1_relu (ReLU)            (None, 32, 32, 32)        0         \n",
      "_________________________________________________________________\n",
      "conv_dw_1 (DepthwiseConv2D)  (None, 32, 32, 32)        288       \n",
      "_________________________________________________________________\n",
      "conv_dw_1_bn (BatchNormaliza (None, 32, 32, 32)        128       \n",
      "_________________________________________________________________\n",
      "conv_dw_1_relu (ReLU)        (None, 32, 32, 32)        0         \n",
      "_________________________________________________________________\n",
      "conv_pw_1 (Conv2D)           (None, 32, 32, 64)        2048      \n",
      "_________________________________________________________________\n",
      "conv_pw_1_bn (BatchNormaliza (None, 32, 32, 64)        256       \n",
      "_________________________________________________________________\n",
      "conv_pw_1_relu (ReLU)        (None, 32, 32, 64)        0         \n",
      "_________________________________________________________________\n",
      "conv_pad_2 (ZeroPadding2D)   (None, 33, 33, 64)        0         \n",
      "_________________________________________________________________\n",
      "conv_dw_2 (DepthwiseConv2D)  (None, 16, 16, 64)        576       \n",
      "_________________________________________________________________\n",
      "conv_dw_2_bn (BatchNormaliza (None, 16, 16, 64)        256       \n",
      "_________________________________________________________________\n",
      "conv_dw_2_relu (ReLU)        (None, 16, 16, 64)        0         \n",
      "_________________________________________________________________\n",
      "conv_pw_2 (Conv2D)           (None, 16, 16, 128)       8192      \n",
      "_________________________________________________________________\n",
      "conv_pw_2_bn (BatchNormaliza (None, 16, 16, 128)       512       \n",
      "_________________________________________________________________\n",
      "conv_pw_2_relu (ReLU)        (None, 16, 16, 128)       0         \n",
      "_________________________________________________________________\n",
      "conv_dw_3 (DepthwiseConv2D)  (None, 16, 16, 128)       1152      \n",
      "_________________________________________________________________\n",
      "conv_dw_3_bn (BatchNormaliza (None, 16, 16, 128)       512       \n",
      "_________________________________________________________________\n",
      "conv_dw_3_relu (ReLU)        (None, 16, 16, 128)       0         \n",
      "_________________________________________________________________\n",
      "conv_pw_3 (Conv2D)           (None, 16, 16, 128)       16384     \n",
      "_________________________________________________________________\n",
      "conv_pw_3_bn (BatchNormaliza (None, 16, 16, 128)       512       \n",
      "_________________________________________________________________\n",
      "conv_pw_3_relu (ReLU)        (None, 16, 16, 128)       0         \n",
      "_________________________________________________________________\n",
      "conv_pad_4 (ZeroPadding2D)   (None, 17, 17, 128)       0         \n",
      "_________________________________________________________________\n",
      "conv_dw_4 (DepthwiseConv2D)  (None, 8, 8, 128)         1152      \n",
      "_________________________________________________________________\n",
      "conv_dw_4_bn (BatchNormaliza (None, 8, 8, 128)         512       \n",
      "_________________________________________________________________\n",
      "conv_dw_4_relu (ReLU)        (None, 8, 8, 128)         0         \n",
      "_________________________________________________________________\n",
      "conv_pw_4 (Conv2D)           (None, 8, 8, 256)         32768     \n",
      "_________________________________________________________________\n",
      "conv_pw_4_bn (BatchNormaliza (None, 8, 8, 256)         1024      \n",
      "_________________________________________________________________\n",
      "conv_pw_4_relu (ReLU)        (None, 8, 8, 256)         0         \n",
      "_________________________________________________________________\n",
      "conv_dw_5 (DepthwiseConv2D)  (None, 8, 8, 256)         2304      \n",
      "_________________________________________________________________\n",
      "conv_dw_5_bn (BatchNormaliza (None, 8, 8, 256)         1024      \n",
      "_________________________________________________________________\n",
      "conv_dw_5_relu (ReLU)        (None, 8, 8, 256)         0         \n",
      "_________________________________________________________________\n",
      "conv_pw_5 (Conv2D)           (None, 8, 8, 256)         65536     \n",
      "_________________________________________________________________\n",
      "conv_pw_5_bn (BatchNormaliza (None, 8, 8, 256)         1024      \n",
      "_________________________________________________________________\n",
      "conv_pw_5_relu (ReLU)        (None, 8, 8, 256)         0         \n",
      "_________________________________________________________________\n",
      "conv_pad_6 (ZeroPadding2D)   (None, 9, 9, 256)         0         \n",
      "_________________________________________________________________\n",
      "conv_dw_6 (DepthwiseConv2D)  (None, 4, 4, 256)         2304      \n",
      "_________________________________________________________________\n",
      "conv_dw_6_bn (BatchNormaliza (None, 4, 4, 256)         1024      \n",
      "_________________________________________________________________\n",
      "conv_dw_6_relu (ReLU)        (None, 4, 4, 256)         0         \n",
      "_________________________________________________________________\n",
      "conv_pw_6 (Conv2D)           (None, 4, 4, 512)         131072    \n",
      "_________________________________________________________________\n",
      "conv_pw_6_bn (BatchNormaliza (None, 4, 4, 512)         2048      \n",
      "_________________________________________________________________\n",
      "conv_pw_6_relu (ReLU)        (None, 4, 4, 512)         0         \n",
      "_________________________________________________________________\n",
      "conv_dw_7 (DepthwiseConv2D)  (None, 4, 4, 512)         4608      \n",
      "_________________________________________________________________\n",
      "conv_dw_7_bn (BatchNormaliza (None, 4, 4, 512)         2048      \n",
      "_________________________________________________________________\n",
      "conv_dw_7_relu (ReLU)        (None, 4, 4, 512)         0         \n",
      "_________________________________________________________________\n",
      "conv_pw_7 (Conv2D)           (None, 4, 4, 512)         262144    \n",
      "_________________________________________________________________\n",
      "conv_pw_7_bn (BatchNormaliza (None, 4, 4, 512)         2048      \n",
      "_________________________________________________________________\n",
      "conv_pw_7_relu (ReLU)        (None, 4, 4, 512)         0         \n",
      "_________________________________________________________________\n",
      "conv_dw_8 (DepthwiseConv2D)  (None, 4, 4, 512)         4608      \n",
      "_________________________________________________________________\n",
      "conv_dw_8_bn (BatchNormaliza (None, 4, 4, 512)         2048      \n",
      "_________________________________________________________________\n",
      "conv_dw_8_relu (ReLU)        (None, 4, 4, 512)         0         \n",
      "_________________________________________________________________\n",
      "conv_pw_8 (Conv2D)           (None, 4, 4, 512)         262144    \n",
      "_________________________________________________________________\n",
      "conv_pw_8_bn (BatchNormaliza (None, 4, 4, 512)         2048      \n",
      "_________________________________________________________________\n",
      "conv_pw_8_relu (ReLU)        (None, 4, 4, 512)         0         \n",
      "_________________________________________________________________\n",
      "conv_dw_9 (DepthwiseConv2D)  (None, 4, 4, 512)         4608      \n",
      "_________________________________________________________________\n",
      "conv_dw_9_bn (BatchNormaliza (None, 4, 4, 512)         2048      \n",
      "_________________________________________________________________\n",
      "conv_dw_9_relu (ReLU)        (None, 4, 4, 512)         0         \n",
      "_________________________________________________________________\n",
      "conv_pw_9 (Conv2D)           (None, 4, 4, 512)         262144    \n",
      "_________________________________________________________________\n",
      "conv_pw_9_bn (BatchNormaliza (None, 4, 4, 512)         2048      \n",
      "_________________________________________________________________\n",
      "conv_pw_9_relu (ReLU)        (None, 4, 4, 512)         0         \n",
      "_________________________________________________________________\n",
      "conv_dw_10 (DepthwiseConv2D) (None, 4, 4, 512)         4608      \n",
      "_________________________________________________________________\n",
      "conv_dw_10_bn (BatchNormaliz (None, 4, 4, 512)         2048      \n",
      "_________________________________________________________________\n",
      "conv_dw_10_relu (ReLU)       (None, 4, 4, 512)         0         \n",
      "_________________________________________________________________\n",
      "conv_pw_10 (Conv2D)          (None, 4, 4, 512)         262144    \n",
      "_________________________________________________________________\n",
      "conv_pw_10_bn (BatchNormaliz (None, 4, 4, 512)         2048      \n",
      "_________________________________________________________________\n",
      "conv_pw_10_relu (ReLU)       (None, 4, 4, 512)         0         \n",
      "_________________________________________________________________\n",
      "conv_dw_11 (DepthwiseConv2D) (None, 4, 4, 512)         4608      \n",
      "_________________________________________________________________\n",
      "conv_dw_11_bn (BatchNormaliz (None, 4, 4, 512)         2048      \n",
      "_________________________________________________________________\n",
      "conv_dw_11_relu (ReLU)       (None, 4, 4, 512)         0         \n",
      "_________________________________________________________________\n",
      "conv_pw_11 (Conv2D)          (None, 4, 4, 512)         262144    \n",
      "_________________________________________________________________\n",
      "conv_pw_11_bn (BatchNormaliz (None, 4, 4, 512)         2048      \n",
      "_________________________________________________________________\n",
      "conv_pw_11_relu (ReLU)       (None, 4, 4, 512)         0         \n",
      "_________________________________________________________________\n",
      "conv_pad_12 (ZeroPadding2D)  (None, 5, 5, 512)         0         \n",
      "_________________________________________________________________\n",
      "conv_dw_12 (DepthwiseConv2D) (None, 2, 2, 512)         4608      \n",
      "_________________________________________________________________\n",
      "conv_dw_12_bn (BatchNormaliz (None, 2, 2, 512)         2048      \n",
      "_________________________________________________________________\n",
      "conv_dw_12_relu (ReLU)       (None, 2, 2, 512)         0         \n",
      "_________________________________________________________________\n",
      "conv_pw_12 (Conv2D)          (None, 2, 2, 1024)        524288    \n",
      "_________________________________________________________________\n",
      "conv_pw_12_bn (BatchNormaliz (None, 2, 2, 1024)        4096      \n",
      "_________________________________________________________________\n",
      "conv_pw_12_relu (ReLU)       (None, 2, 2, 1024)        0         \n",
      "_________________________________________________________________\n",
      "conv_dw_13 (DepthwiseConv2D) (None, 2, 2, 1024)        9216      \n",
      "_________________________________________________________________\n",
      "conv_dw_13_bn (BatchNormaliz (None, 2, 2, 1024)        4096      \n",
      "_________________________________________________________________\n",
      "conv_dw_13_relu (ReLU)       (None, 2, 2, 1024)        0         \n",
      "_________________________________________________________________\n",
      "conv_pw_13 (Conv2D)          (None, 2, 2, 1024)        1048576   \n",
      "_________________________________________________________________\n",
      "conv_pw_13_bn (BatchNormaliz (None, 2, 2, 1024)        4096      \n",
      "_________________________________________________________________\n",
      "conv_pw_13_relu (ReLU)       (None, 2, 2, 1024)        0         \n",
      "_________________________________________________________________\n",
      "flatten_2 (Flatten)          (None, 4096)              0         \n",
      "_________________________________________________________________\n",
      "dense_3 (Dense)              (None, 512)               2097664   \n",
      "_________________________________________________________________\n",
      "dropout_2 (Dropout)          (None, 512)               0         \n",
      "_________________________________________________________________\n",
      "dense_4 (Dense)              (None, 256)               131328    \n",
      "_________________________________________________________________\n",
      "dense_5 (Dense)              (None, 20)                5140      \n",
      "=================================================================\n",
      "Total params: 5,462,420\n",
      "Trainable params: 5,440,532\n",
      "Non-trainable params: 21,888\n",
      "_________________________________________________________________\n"
     ]
    }
   ],
   "source": [
    "model.summary()"
   ]
  },
  {
   "cell_type": "code",
   "execution_count": 31,
   "metadata": {},
   "outputs": [],
   "source": [
    "check_point = ModelCheckpoint('model2_copy_upgrade_1224.h5', monitor='val_loss', mode='min', save_best_only=True)\n",
    "reduceRP = ReduceLROnPlateau(monitor='val_categorical_accuracy', \n",
    "                             factor=0.75, patience=5,\n",
    "                            mode = 'max',\n",
    "                            min_delta = 0.005,\n",
    "                            cooldown=3,\n",
    "                            verbose = 1)\n",
    "\n",
    "early = EarlyStopping(monitor=\"val_categorical_accuracy\", \n",
    "                      mode=\"max\", \n",
    "                      patience=10)\n",
    "\n",
    "callbacks = [check_point, early,reduceRP]"
   ]
  },
  {
   "cell_type": "code",
   "execution_count": 32,
   "metadata": {
    "scrolled": true
   },
   "outputs": [
    {
     "name": "stdout",
     "output_type": "stream",
     "text": [
      "Epoch 1/50\n",
      "200/200 [==============================] - 122s 610ms/step - loss: 2.6471 - categorical_crossentropy: 2.6471 - categorical_accuracy: 0.1673 - val_loss: 3.0743 - val_categorical_crossentropy: 3.0743 - val_categorical_accuracy: 0.0500\n",
      "Epoch 2/50\n",
      "200/200 [==============================] - 120s 602ms/step - loss: 2.3427 - categorical_crossentropy: 2.3427 - categorical_accuracy: 0.2350 - val_loss: 3.2615 - val_categorical_crossentropy: 3.2615 - val_categorical_accuracy: 0.0500\n",
      "Epoch 3/50\n",
      "200/200 [==============================] - 126s 629ms/step - loss: 2.2116 - categorical_crossentropy: 2.2116 - categorical_accuracy: 0.2722 - val_loss: 3.7327 - val_categorical_crossentropy: 3.7327 - val_categorical_accuracy: 0.0500\n",
      "Epoch 4/50\n",
      "200/200 [==============================] - 126s 631ms/step - loss: 2.1055 - categorical_crossentropy: 2.1055 - categorical_accuracy: 0.3034 - val_loss: 2.8118 - val_categorical_crossentropy: 2.8118 - val_categorical_accuracy: 0.2143\n",
      "Epoch 5/50\n",
      "200/200 [==============================] - 128s 639ms/step - loss: 2.0252 - categorical_crossentropy: 2.0252 - categorical_accuracy: 0.3379 - val_loss: 1.8824 - val_categorical_crossentropy: 1.8824 - val_categorical_accuracy: 0.3771\n",
      "Epoch 6/50\n",
      "200/200 [==============================] - 129s 647ms/step - loss: 1.9302 - categorical_crossentropy: 1.9302 - categorical_accuracy: 0.3599 - val_loss: 1.7819 - val_categorical_crossentropy: 1.7819 - val_categorical_accuracy: 0.4092\n",
      "Epoch 7/50\n",
      "200/200 [==============================] - 130s 652ms/step - loss: 1.8202 - categorical_crossentropy: 1.8202 - categorical_accuracy: 0.3970 - val_loss: 1.7026 - val_categorical_crossentropy: 1.7026 - val_categorical_accuracy: 0.4324\n",
      "Epoch 8/50\n",
      "200/200 [==============================] - 131s 656ms/step - loss: 1.7404 - categorical_crossentropy: 1.7404 - categorical_accuracy: 0.4288 - val_loss: 1.6184 - val_categorical_crossentropy: 1.6184 - val_categorical_accuracy: 0.4626\n",
      "Epoch 9/50\n",
      "200/200 [==============================] - 130s 652ms/step - loss: 1.6593 - categorical_crossentropy: 1.6593 - categorical_accuracy: 0.4520 - val_loss: 1.5378 - val_categorical_crossentropy: 1.5378 - val_categorical_accuracy: 0.4861\n",
      "Epoch 10/50\n",
      "200/200 [==============================] - 132s 659ms/step - loss: 1.5845 - categorical_crossentropy: 1.5845 - categorical_accuracy: 0.4783 - val_loss: 1.4495 - val_categorical_crossentropy: 1.4495 - val_categorical_accuracy: 0.5212\n",
      "Epoch 11/50\n",
      "200/200 [==============================] - 131s 655ms/step - loss: 1.5323 - categorical_crossentropy: 1.5323 - categorical_accuracy: 0.4996 - val_loss: 1.3894 - val_categorical_crossentropy: 1.3894 - val_categorical_accuracy: 0.5384\n",
      "Epoch 12/50\n",
      "200/200 [==============================] - 130s 650ms/step - loss: 1.4401 - categorical_crossentropy: 1.4401 - categorical_accuracy: 0.5314 - val_loss: 1.3359 - val_categorical_crossentropy: 1.3359 - val_categorical_accuracy: 0.5613\n",
      "Epoch 13/50\n",
      "200/200 [==============================] - 131s 654ms/step - loss: 1.3691 - categorical_crossentropy: 1.3691 - categorical_accuracy: 0.5515 - val_loss: 1.2702 - val_categorical_crossentropy: 1.2702 - val_categorical_accuracy: 0.5879\n",
      "Epoch 14/50\n",
      "200/200 [==============================] - 131s 654ms/step - loss: 1.3085 - categorical_crossentropy: 1.3085 - categorical_accuracy: 0.5778 - val_loss: 1.2081 - val_categorical_crossentropy: 1.2081 - val_categorical_accuracy: 0.6071\n",
      "Epoch 15/50\n",
      "200/200 [==============================] - 132s 659ms/step - loss: 1.2436 - categorical_crossentropy: 1.2435 - categorical_accuracy: 0.6014 - val_loss: 1.1728 - val_categorical_crossentropy: 1.1728 - val_categorical_accuracy: 0.6234\n",
      "Epoch 16/50\n",
      "200/200 [==============================] - 132s 662ms/step - loss: 1.1861 - categorical_crossentropy: 1.1861 - categorical_accuracy: 0.6278 - val_loss: 1.1078 - val_categorical_crossentropy: 1.1078 - val_categorical_accuracy: 0.6444\n",
      "Epoch 17/50\n",
      "200/200 [==============================] - 133s 665ms/step - loss: 1.1442 - categorical_crossentropy: 1.1442 - categorical_accuracy: 0.6352 - val_loss: 1.0611 - val_categorical_crossentropy: 1.0611 - val_categorical_accuracy: 0.6589\n",
      "Epoch 18/50\n",
      "200/200 [==============================] - 132s 660ms/step - loss: 1.0890 - categorical_crossentropy: 1.0890 - categorical_accuracy: 0.6578 - val_loss: 0.9826 - val_categorical_crossentropy: 0.9826 - val_categorical_accuracy: 0.6844\n",
      "Epoch 19/50\n",
      "200/200 [==============================] - 132s 659ms/step - loss: 1.0456 - categorical_crossentropy: 1.0456 - categorical_accuracy: 0.6689 - val_loss: 0.9447 - val_categorical_crossentropy: 0.9447 - val_categorical_accuracy: 0.6981\n",
      "Epoch 20/50\n",
      "200/200 [==============================] - 132s 661ms/step - loss: 1.0033 - categorical_crossentropy: 1.0033 - categorical_accuracy: 0.6855 - val_loss: 0.9142 - val_categorical_crossentropy: 0.9142 - val_categorical_accuracy: 0.7098\n",
      "Epoch 21/50\n",
      "200/200 [==============================] - 131s 654ms/step - loss: 0.9641 - categorical_crossentropy: 0.9641 - categorical_accuracy: 0.7000 - val_loss: 0.8478 - val_categorical_crossentropy: 0.8478 - val_categorical_accuracy: 0.7300\n",
      "Epoch 22/50\n",
      "200/200 [==============================] - 130s 652ms/step - loss: 0.9117 - categorical_crossentropy: 0.9117 - categorical_accuracy: 0.7166 - val_loss: 0.8360 - val_categorical_crossentropy: 0.8360 - val_categorical_accuracy: 0.7349\n",
      "Epoch 23/50\n",
      "200/200 [==============================] - 130s 650ms/step - loss: 0.8790 - categorical_crossentropy: 0.8790 - categorical_accuracy: 0.7257 - val_loss: 0.7676 - val_categorical_crossentropy: 0.7676 - val_categorical_accuracy: 0.7566\n",
      "Epoch 24/50\n",
      "200/200 [==============================] - 132s 660ms/step - loss: 0.8450 - categorical_crossentropy: 0.8450 - categorical_accuracy: 0.7390 - val_loss: 0.7435 - val_categorical_crossentropy: 0.7435 - val_categorical_accuracy: 0.7642\n",
      "Epoch 25/50\n",
      "200/200 [==============================] - 131s 656ms/step - loss: 0.7651 - categorical_crossentropy: 0.7651 - categorical_accuracy: 0.7666 - val_loss: 0.7323 - val_categorical_crossentropy: 0.7323 - val_categorical_accuracy: 0.7685\n",
      "Epoch 26/50\n",
      "200/200 [==============================] - 144s 722ms/step - loss: 0.7248 - categorical_crossentropy: 0.7248 - categorical_accuracy: 0.7744 - val_loss: 0.6927 - val_categorical_crossentropy: 0.6927 - val_categorical_accuracy: 0.7815\n",
      "Epoch 27/50\n",
      "200/200 [==============================] - 132s 658ms/step - loss: 0.6992 - categorical_crossentropy: 0.6992 - categorical_accuracy: 0.7879 - val_loss: 0.6723 - val_categorical_crossentropy: 0.6723 - val_categorical_accuracy: 0.7898\n",
      "Epoch 28/50\n",
      "200/200 [==============================] - 131s 657ms/step - loss: 0.6694 - categorical_crossentropy: 0.6694 - categorical_accuracy: 0.7943 - val_loss: 0.6433 - val_categorical_crossentropy: 0.6433 - val_categorical_accuracy: 0.7991\n",
      "Epoch 29/50\n",
      "200/200 [==============================] - 130s 648ms/step - loss: 0.6681 - categorical_crossentropy: 0.6681 - categorical_accuracy: 0.7952 - val_loss: 0.6091 - val_categorical_crossentropy: 0.6091 - val_categorical_accuracy: 0.8090\n",
      "Epoch 30/50\n",
      "200/200 [==============================] - 131s 654ms/step - loss: 0.6515 - categorical_crossentropy: 0.6515 - categorical_accuracy: 0.8024 - val_loss: 0.5758 - val_categorical_crossentropy: 0.5758 - val_categorical_accuracy: 0.8192\n",
      "Epoch 31/50\n",
      "200/200 [==============================] - 136s 682ms/step - loss: 0.6045 - categorical_crossentropy: 0.6045 - categorical_accuracy: 0.8142 - val_loss: 0.5665 - val_categorical_crossentropy: 0.5665 - val_categorical_accuracy: 0.8239\n",
      "Epoch 32/50\n",
      "200/200 [==============================] - 144s 721ms/step - loss: 0.5965 - categorical_crossentropy: 0.5965 - categorical_accuracy: 0.8213 - val_loss: 0.5596 - val_categorical_crossentropy: 0.5596 - val_categorical_accuracy: 0.8260\n",
      "Epoch 33/50\n",
      "200/200 [==============================] - 144s 718ms/step - loss: 0.5781 - categorical_crossentropy: 0.5781 - categorical_accuracy: 0.8292 - val_loss: 0.5358 - val_categorical_crossentropy: 0.5358 - val_categorical_accuracy: 0.8345\n",
      "Epoch 34/50\n"
     ]
    },
    {
     "name": "stdout",
     "output_type": "stream",
     "text": [
      "200/200 [==============================] - 164s 819ms/step - loss: 0.5715 - categorical_crossentropy: 0.5715 - categorical_accuracy: 0.8298 - val_loss: 0.5082 - val_categorical_crossentropy: 0.5082 - val_categorical_accuracy: 0.8408\n",
      "Epoch 35/50\n",
      "200/200 [==============================] - 139s 696ms/step - loss: 0.5376 - categorical_crossentropy: 0.5376 - categorical_accuracy: 0.8395 - val_loss: 0.5286 - val_categorical_crossentropy: 0.5286 - val_categorical_accuracy: 0.8353\n",
      "Epoch 36/50\n",
      "200/200 [==============================] - 141s 707ms/step - loss: 0.5309 - categorical_crossentropy: 0.5309 - categorical_accuracy: 0.8393 - val_loss: 0.4797 - val_categorical_crossentropy: 0.4797 - val_categorical_accuracy: 0.8511\n",
      "Epoch 37/50\n",
      "200/200 [==============================] - 144s 722ms/step - loss: 0.4953 - categorical_crossentropy: 0.4953 - categorical_accuracy: 0.8472 - val_loss: 0.4672 - val_categorical_crossentropy: 0.4672 - val_categorical_accuracy: 0.8560\n",
      "Epoch 38/50\n",
      "200/200 [==============================] - 138s 692ms/step - loss: 0.4372 - categorical_crossentropy: 0.4372 - categorical_accuracy: 0.8655 - val_loss: 0.4589 - val_categorical_crossentropy: 0.4589 - val_categorical_accuracy: 0.8593\n",
      "Epoch 39/50\n",
      "200/200 [==============================] - 140s 699ms/step - loss: 0.4323 - categorical_crossentropy: 0.4323 - categorical_accuracy: 0.8689 - val_loss: 0.4506 - val_categorical_crossentropy: 0.4506 - val_categorical_accuracy: 0.8616\n",
      "Epoch 40/50\n",
      "200/200 [==============================] - 140s 701ms/step - loss: 0.4435 - categorical_crossentropy: 0.4435 - categorical_accuracy: 0.8659 - val_loss: 0.4264 - val_categorical_crossentropy: 0.4264 - val_categorical_accuracy: 0.8684\n",
      "Epoch 41/50\n",
      "200/200 [==============================] - 139s 693ms/step - loss: 0.4247 - categorical_crossentropy: 0.4247 - categorical_accuracy: 0.8694 - val_loss: 0.4303 - val_categorical_crossentropy: 0.4303 - val_categorical_accuracy: 0.8683\n",
      "Epoch 42/50\n",
      "200/200 [==============================] - 138s 691ms/step - loss: 0.4246 - categorical_crossentropy: 0.4246 - categorical_accuracy: 0.8705 - val_loss: 0.4070 - val_categorical_crossentropy: 0.4070 - val_categorical_accuracy: 0.8750\n",
      "Epoch 43/50\n",
      "200/200 [==============================] - 140s 698ms/step - loss: 0.4180 - categorical_crossentropy: 0.4180 - categorical_accuracy: 0.8756 - val_loss: 0.4126 - val_categorical_crossentropy: 0.4126 - val_categorical_accuracy: 0.8725\n",
      "Epoch 44/50\n",
      "200/200 [==============================] - 138s 692ms/step - loss: 0.4119 - categorical_crossentropy: 0.4119 - categorical_accuracy: 0.8780 - val_loss: 0.4055 - val_categorical_crossentropy: 0.4055 - val_categorical_accuracy: 0.8760\n",
      "Epoch 45/50\n",
      "200/200 [==============================] - 138s 692ms/step - loss: 0.4058 - categorical_crossentropy: 0.4058 - categorical_accuracy: 0.8749 - val_loss: 0.3916 - val_categorical_crossentropy: 0.3916 - val_categorical_accuracy: 0.8794\n",
      "Epoch 46/50\n",
      "200/200 [==============================] - 138s 688ms/step - loss: 0.3799 - categorical_crossentropy: 0.3799 - categorical_accuracy: 0.8885 - val_loss: 0.3843 - val_categorical_crossentropy: 0.3843 - val_categorical_accuracy: 0.8826\n",
      "Epoch 47/50\n",
      "200/200 [==============================] - 138s 689ms/step - loss: 0.3997 - categorical_crossentropy: 0.3997 - categorical_accuracy: 0.8809 - val_loss: 0.3741 - val_categorical_crossentropy: 0.3741 - val_categorical_accuracy: 0.8847\n",
      "Epoch 48/50\n",
      "200/200 [==============================] - 137s 686ms/step - loss: 0.3919 - categorical_crossentropy: 0.3919 - categorical_accuracy: 0.8838 - val_loss: 0.3624 - val_categorical_crossentropy: 0.3624 - val_categorical_accuracy: 0.8879\n",
      "Epoch 49/50\n",
      "200/200 [==============================] - 139s 696ms/step - loss: 0.3774 - categorical_crossentropy: 0.3774 - categorical_accuracy: 0.8857 - val_loss: 0.3526 - val_categorical_crossentropy: 0.3526 - val_categorical_accuracy: 0.8903\n",
      "Epoch 50/50\n",
      "200/200 [==============================] - 139s 694ms/step - loss: 0.3169 - categorical_crossentropy: 0.3169 - categorical_accuracy: 0.9048 - val_loss: 0.3559 - val_categorical_crossentropy: 0.3559 - val_categorical_accuracy: 0.8911\n"
     ]
    }
   ],
   "source": [
    "hist = model.fit_generator(\n",
    "    datagen.flow(train_X,train_y,batch_size = batch),\n",
    "    steps_per_epoch = STEPS,\n",
    "    validation_steps=STEPS, epochs=epochs, verbose=1,\n",
    "    validation_data=(valid_X, valid_y),\n",
    "    callbacks = callbacks\n",
    ")"
   ]
  },
  {
   "cell_type": "code",
   "execution_count": 35,
   "metadata": {
    "scrolled": true
   },
   "outputs": [
    {
     "name": "stdout",
     "output_type": "stream",
     "text": [
      "Epoch 1/50\n",
      "200/200 [==============================] - 126s 631ms/step - loss: 0.3114 - categorical_crossentropy: 0.3114 - categorical_accuracy: 0.9057 - val_loss: 0.3700 - val_categorical_crossentropy: 0.3700 - val_categorical_accuracy: 0.8881\n",
      "Epoch 2/50\n",
      "200/200 [==============================] - 136s 679ms/step - loss: 0.3054 - categorical_crossentropy: 0.3054 - categorical_accuracy: 0.9080 - val_loss: 0.3553 - val_categorical_crossentropy: 0.3553 - val_categorical_accuracy: 0.8927\n",
      "Epoch 3/50\n",
      "200/200 [==============================] - 137s 686ms/step - loss: 0.3174 - categorical_crossentropy: 0.3174 - categorical_accuracy: 0.9055 - val_loss: 0.3594 - val_categorical_crossentropy: 0.3594 - val_categorical_accuracy: 0.8911\n",
      "Epoch 4/50\n",
      "200/200 [==============================] - 138s 689ms/step - loss: 0.3155 - categorical_crossentropy: 0.3155 - categorical_accuracy: 0.9056 - val_loss: 0.3435 - val_categorical_crossentropy: 0.3435 - val_categorical_accuracy: 0.8960\n",
      "Epoch 5/50\n",
      "200/200 [==============================] - 138s 688ms/step - loss: 0.3137 - categorical_crossentropy: 0.3137 - categorical_accuracy: 0.9048 - val_loss: 0.3358 - val_categorical_crossentropy: 0.3358 - val_categorical_accuracy: 0.8985\n",
      "Epoch 6/50\n",
      "200/200 [==============================] - 141s 706ms/step - loss: 0.3233 - categorical_crossentropy: 0.3233 - categorical_accuracy: 0.9042 - val_loss: 0.3351 - val_categorical_crossentropy: 0.3351 - val_categorical_accuracy: 0.8986\n",
      "Epoch 7/50\n",
      "200/200 [==============================] - 138s 690ms/step - loss: 0.3071 - categorical_crossentropy: 0.3071 - categorical_accuracy: 0.9085 - val_loss: 0.3288 - val_categorical_crossentropy: 0.3288 - val_categorical_accuracy: 0.8994\n",
      "Epoch 8/50\n",
      "200/200 [==============================] - 139s 693ms/step - loss: 0.3093 - categorical_crossentropy: 0.3093 - categorical_accuracy: 0.9072 - val_loss: 0.3362 - val_categorical_crossentropy: 0.3362 - val_categorical_accuracy: 0.8986\n",
      "Epoch 9/50\n",
      "200/200 [==============================] - 140s 698ms/step - loss: 0.3122 - categorical_crossentropy: 0.3122 - categorical_accuracy: 0.9074 - val_loss: 0.3160 - val_categorical_crossentropy: 0.3160 - val_categorical_accuracy: 0.9046\n",
      "Epoch 10/50\n",
      "200/200 [==============================] - 138s 690ms/step - loss: 0.2988 - categorical_crossentropy: 0.2988 - categorical_accuracy: 0.9091 - val_loss: 0.3249 - val_categorical_crossentropy: 0.3249 - val_categorical_accuracy: 0.9017\n",
      "Epoch 11/50\n",
      "200/200 [==============================] - 139s 695ms/step - loss: 0.3042 - categorical_crossentropy: 0.3042 - categorical_accuracy: 0.9079 - val_loss: 0.3231 - val_categorical_crossentropy: 0.3231 - val_categorical_accuracy: 0.9004\n",
      "Epoch 12/50\n",
      "200/200 [==============================] - 138s 689ms/step - loss: 0.2948 - categorical_crossentropy: 0.2948 - categorical_accuracy: 0.9115 - val_loss: 0.3259 - val_categorical_crossentropy: 0.3259 - val_categorical_accuracy: 0.9002\n",
      "Epoch 13/50\n",
      "200/200 [==============================] - 140s 700ms/step - loss: 0.2600 - categorical_crossentropy: 0.2600 - categorical_accuracy: 0.9215 - val_loss: 0.3189 - val_categorical_crossentropy: 0.3189 - val_categorical_accuracy: 0.9035\n",
      "Epoch 14/50\n",
      "200/200 [==============================] - 138s 688ms/step - loss: 0.2392 - categorical_crossentropy: 0.2392 - categorical_accuracy: 0.9262 - val_loss: 0.3138 - val_categorical_crossentropy: 0.3138 - val_categorical_accuracy: 0.9065\n",
      "\n",
      "Epoch 00014: ReduceLROnPlateau reducing learning rate to 7.499999810534064e-05.\n",
      "Epoch 15/50\n",
      "200/200 [==============================] - 136s 680ms/step - loss: 0.2378 - categorical_crossentropy: 0.2378 - categorical_accuracy: 0.9286 - val_loss: 0.2974 - val_categorical_crossentropy: 0.2974 - val_categorical_accuracy: 0.9113\n",
      "Epoch 16/50\n",
      "200/200 [==============================] - 135s 676ms/step - loss: 0.2385 - categorical_crossentropy: 0.2385 - categorical_accuracy: 0.9281 - val_loss: 0.3106 - val_categorical_crossentropy: 0.3106 - val_categorical_accuracy: 0.9078\n",
      "Epoch 17/50\n",
      "200/200 [==============================] - 135s 677ms/step - loss: 0.2327 - categorical_crossentropy: 0.2327 - categorical_accuracy: 0.9295 - val_loss: 0.2947 - val_categorical_crossentropy: 0.2947 - val_categorical_accuracy: 0.9122\n",
      "Epoch 18/50\n",
      "200/200 [==============================] - 135s 676ms/step - loss: 0.2390 - categorical_crossentropy: 0.2390 - categorical_accuracy: 0.9262 - val_loss: 0.2874 - val_categorical_crossentropy: 0.2874 - val_categorical_accuracy: 0.9135\n",
      "Epoch 19/50\n",
      "200/200 [==============================] - 137s 683ms/step - loss: 0.2338 - categorical_crossentropy: 0.2338 - categorical_accuracy: 0.9293 - val_loss: 0.2950 - val_categorical_crossentropy: 0.2950 - val_categorical_accuracy: 0.9120\n",
      "Epoch 20/50\n",
      "200/200 [==============================] - 136s 682ms/step - loss: 0.2323 - categorical_crossentropy: 0.2323 - categorical_accuracy: 0.9297 - val_loss: 0.2890 - val_categorical_crossentropy: 0.2890 - val_categorical_accuracy: 0.9139\n",
      "Epoch 21/50\n",
      "200/200 [==============================] - 136s 678ms/step - loss: 0.2253 - categorical_crossentropy: 0.2253 - categorical_accuracy: 0.9313 - val_loss: 0.2892 - val_categorical_crossentropy: 0.2892 - val_categorical_accuracy: 0.9135\n",
      "\n",
      "Epoch 00021: ReduceLROnPlateau reducing learning rate to 5.6249997214763425e-05.\n",
      "Epoch 22/50\n",
      "200/200 [==============================] - 135s 675ms/step - loss: 0.2318 - categorical_crossentropy: 0.2318 - categorical_accuracy: 0.9310 - val_loss: 0.2804 - val_categorical_crossentropy: 0.2804 - val_categorical_accuracy: 0.9155\n",
      "Epoch 23/50\n",
      "200/200 [==============================] - 135s 675ms/step - loss: 0.2322 - categorical_crossentropy: 0.2322 - categorical_accuracy: 0.9313 - val_loss: 0.2769 - val_categorical_crossentropy: 0.2769 - val_categorical_accuracy: 0.9169\n",
      "Epoch 24/50\n",
      "200/200 [==============================] - 134s 671ms/step - loss: 0.2186 - categorical_crossentropy: 0.2186 - categorical_accuracy: 0.9359 - val_loss: 0.2847 - val_categorical_crossentropy: 0.2847 - val_categorical_accuracy: 0.9158\n",
      "Epoch 25/50\n",
      "200/200 [==============================] - 135s 677ms/step - loss: 0.1994 - categorical_crossentropy: 0.1994 - categorical_accuracy: 0.9409 - val_loss: 0.2749 - val_categorical_crossentropy: 0.2749 - val_categorical_accuracy: 0.9187\n",
      "Epoch 26/50\n",
      "200/200 [==============================] - 134s 671ms/step - loss: 0.1590 - categorical_crossentropy: 0.1590 - categorical_accuracy: 0.9509 - val_loss: 0.2807 - val_categorical_crossentropy: 0.2807 - val_categorical_accuracy: 0.9189\n",
      "Epoch 27/50\n",
      "200/200 [==============================] - 136s 681ms/step - loss: 0.1657 - categorical_crossentropy: 0.1657 - categorical_accuracy: 0.9484 - val_loss: 0.2873 - val_categorical_crossentropy: 0.2873 - val_categorical_accuracy: 0.9169\n",
      "Epoch 28/50\n",
      "200/200 [==============================] - 134s 670ms/step - loss: 0.1596 - categorical_crossentropy: 0.1596 - categorical_accuracy: 0.9514 - val_loss: 0.2889 - val_categorical_crossentropy: 0.2889 - val_categorical_accuracy: 0.9169\n",
      "\n",
      "Epoch 00028: ReduceLROnPlateau reducing learning rate to 4.218749927531462e-05.\n",
      "Epoch 29/50\n",
      "200/200 [==============================] - 134s 672ms/step - loss: 0.1643 - categorical_crossentropy: 0.1643 - categorical_accuracy: 0.9498 - val_loss: 0.2772 - val_categorical_crossentropy: 0.2772 - val_categorical_accuracy: 0.9200\n",
      "Epoch 30/50\n",
      "200/200 [==============================] - 134s 671ms/step - loss: 0.1632 - categorical_crossentropy: 0.1632 - categorical_accuracy: 0.9513 - val_loss: 0.2745 - val_categorical_crossentropy: 0.2745 - val_categorical_accuracy: 0.9212\n",
      "Epoch 31/50\n",
      "200/200 [==============================] - 136s 678ms/step - loss: 0.1602 - categorical_crossentropy: 0.1602 - categorical_accuracy: 0.9505 - val_loss: 0.2810 - val_categorical_crossentropy: 0.2810 - val_categorical_accuracy: 0.9201\n",
      "Epoch 32/50\n",
      "200/200 [==============================] - 133s 667ms/step - loss: 0.1656 - categorical_crossentropy: 0.1656 - categorical_accuracy: 0.9481 - val_loss: 0.2820 - val_categorical_crossentropy: 0.2820 - val_categorical_accuracy: 0.9195\n",
      "Epoch 33/50\n"
     ]
    },
    {
     "name": "stdout",
     "output_type": "stream",
     "text": [
      "200/200 [==============================] - 134s 670ms/step - loss: 0.1674 - categorical_crossentropy: 0.1674 - categorical_accuracy: 0.9467 - val_loss: 0.2809 - val_categorical_crossentropy: 0.2809 - val_categorical_accuracy: 0.9204\n",
      "Epoch 34/50\n",
      "200/200 [==============================] - 135s 673ms/step - loss: 0.1570 - categorical_crossentropy: 0.1570 - categorical_accuracy: 0.9515 - val_loss: 0.2759 - val_categorical_crossentropy: 0.2759 - val_categorical_accuracy: 0.9211\n",
      "Epoch 35/50\n",
      "200/200 [==============================] - 137s 683ms/step - loss: 0.1587 - categorical_crossentropy: 0.1587 - categorical_accuracy: 0.9501 - val_loss: 0.2773 - val_categorical_crossentropy: 0.2773 - val_categorical_accuracy: 0.9205\n",
      "\n",
      "Epoch 00035: ReduceLROnPlateau reducing learning rate to 3.164062582072802e-05.\n",
      "Epoch 36/50\n",
      "200/200 [==============================] - 138s 688ms/step - loss: 0.1554 - categorical_crossentropy: 0.1554 - categorical_accuracy: 0.9521 - val_loss: 0.2787 - val_categorical_crossentropy: 0.2787 - val_categorical_accuracy: 0.9208\n",
      "Epoch 37/50\n",
      "200/200 [==============================] - 136s 679ms/step - loss: 0.1464 - categorical_crossentropy: 0.1464 - categorical_accuracy: 0.9531 - val_loss: 0.2730 - val_categorical_crossentropy: 0.2730 - val_categorical_accuracy: 0.9229\n",
      "Epoch 38/50\n",
      "200/200 [==============================] - 145s 725ms/step - loss: 0.1086 - categorical_crossentropy: 0.1086 - categorical_accuracy: 0.9660 - val_loss: 0.2830 - val_categorical_crossentropy: 0.2830 - val_categorical_accuracy: 0.9235\n",
      "Epoch 39/50\n",
      "200/200 [==============================] - 146s 732ms/step - loss: 0.1067 - categorical_crossentropy: 0.1067 - categorical_accuracy: 0.9659 - val_loss: 0.2943 - val_categorical_crossentropy: 0.2943 - val_categorical_accuracy: 0.9217\n",
      "Epoch 40/50\n",
      "200/200 [==============================] - 147s 736ms/step - loss: 0.1051 - categorical_crossentropy: 0.1051 - categorical_accuracy: 0.9673 - val_loss: 0.2939 - val_categorical_crossentropy: 0.2939 - val_categorical_accuracy: 0.9224\n",
      "Epoch 41/50\n",
      "200/200 [==============================] - 138s 691ms/step - loss: 0.1115 - categorical_crossentropy: 0.1115 - categorical_accuracy: 0.9651 - val_loss: 0.2984 - val_categorical_crossentropy: 0.2984 - val_categorical_accuracy: 0.9220\n",
      "Epoch 42/50\n",
      "200/200 [==============================] - 138s 690ms/step - loss: 0.1101 - categorical_crossentropy: 0.1101 - categorical_accuracy: 0.9648 - val_loss: 0.2941 - val_categorical_crossentropy: 0.2941 - val_categorical_accuracy: 0.9227\n",
      "\n",
      "Epoch 00042: ReduceLROnPlateau reducing learning rate to 2.3730469365546014e-05.\n",
      "Epoch 43/50\n",
      "200/200 [==============================] - 137s 686ms/step - loss: 0.1086 - categorical_crossentropy: 0.1086 - categorical_accuracy: 0.9659 - val_loss: 0.2879 - val_categorical_crossentropy: 0.2879 - val_categorical_accuracy: 0.9236\n",
      "Epoch 44/50\n",
      "200/200 [==============================] - 138s 691ms/step - loss: 0.1064 - categorical_crossentropy: 0.1064 - categorical_accuracy: 0.9673 - val_loss: 0.2883 - val_categorical_crossentropy: 0.2883 - val_categorical_accuracy: 0.9235\n",
      "Epoch 45/50\n",
      "200/200 [==============================] - 137s 683ms/step - loss: 0.1063 - categorical_crossentropy: 0.1063 - categorical_accuracy: 0.9654 - val_loss: 0.2874 - val_categorical_crossentropy: 0.2874 - val_categorical_accuracy: 0.9231\n",
      "Epoch 46/50\n",
      "200/200 [==============================] - 137s 683ms/step - loss: 0.1105 - categorical_crossentropy: 0.1105 - categorical_accuracy: 0.9648 - val_loss: 0.2886 - val_categorical_crossentropy: 0.2886 - val_categorical_accuracy: 0.9236\n",
      "Epoch 47/50\n",
      "200/200 [==============================] - 137s 683ms/step - loss: 0.1085 - categorical_crossentropy: 0.1085 - categorical_accuracy: 0.9664 - val_loss: 0.2903 - val_categorical_crossentropy: 0.2903 - val_categorical_accuracy: 0.9238\n",
      "Epoch 48/50\n",
      "200/200 [==============================] - 137s 685ms/step - loss: 0.1175 - categorical_crossentropy: 0.1175 - categorical_accuracy: 0.9633 - val_loss: 0.2862 - val_categorical_crossentropy: 0.2862 - val_categorical_accuracy: 0.9240\n",
      "Epoch 49/50\n",
      "200/200 [==============================] - 138s 688ms/step - loss: 0.1123 - categorical_crossentropy: 0.1123 - categorical_accuracy: 0.9650 - val_loss: 0.2882 - val_categorical_crossentropy: 0.2882 - val_categorical_accuracy: 0.9236\n",
      "\n",
      "Epoch 00049: ReduceLROnPlateau reducing learning rate to 1.7797852706280537e-05.\n",
      "Epoch 50/50\n",
      "200/200 [==============================] - 141s 703ms/step - loss: 0.0756 - categorical_crossentropy: 0.0756 - categorical_accuracy: 0.9766 - val_loss: 0.2935 - val_categorical_crossentropy: 0.2935 - val_categorical_accuracy: 0.9240\n"
     ]
    }
   ],
   "source": [
    "hist2 = model.fit_generator(\n",
    "    datagen.flow(train_X,train_y,batch_size = batch),\n",
    "    steps_per_epoch = STEPS,\n",
    "    validation_steps=STEPS, epochs=epochs, verbose=1,\n",
    "    validation_data=(valid_X, valid_y),\n",
    "    callbacks = callbacks\n",
    ")"
   ]
  },
  {
   "cell_type": "code",
   "execution_count": 38,
   "metadata": {},
   "outputs": [],
   "source": [
    "model.compile(optimizer=Adam(lr=1.7797852706280537e-05), loss='categorical_crossentropy',\n",
    "              metrics=[categorical_accuracy])"
   ]
  },
  {
   "cell_type": "code",
   "execution_count": 39,
   "metadata": {},
   "outputs": [],
   "source": [
    "check_point = ModelCheckpoint('model2_copy_upgrade_1224_3.h5', monitor='val_loss', mode='min', save_best_only=True)\n",
    "reduceRP = ReduceLROnPlateau(monitor='val_categorical_accuracy', \n",
    "                             factor=0.75, patience=5,\n",
    "                            mode = 'max',\n",
    "                            min_delta = 0.005,\n",
    "                            cooldown=3,\n",
    "                            verbose = 1)\n",
    "\n",
    "early = EarlyStopping(monitor=\"val_categorical_accuracy\", \n",
    "                      mode=\"max\", \n",
    "                      patience=10)\n",
    "\n",
    "callbacks = [check_point, early,reduceRP]"
   ]
  },
  {
   "cell_type": "code",
   "execution_count": 40,
   "metadata": {},
   "outputs": [
    {
     "name": "stdout",
     "output_type": "stream",
     "text": [
      "Epoch 1/20\n",
      "200/200 [==============================] - 153s 765ms/step - loss: 0.0722 - categorical_accuracy: 0.9773 - val_loss: 0.3086 - val_categorical_accuracy: 0.9239\n",
      "Epoch 2/20\n",
      "200/200 [==============================] - 158s 791ms/step - loss: 0.0742 - categorical_accuracy: 0.9770 - val_loss: 0.3166 - val_categorical_accuracy: 0.9238\n",
      "Epoch 3/20\n",
      "200/200 [==============================] - 160s 799ms/step - loss: 0.0698 - categorical_accuracy: 0.9778 - val_loss: 0.3201 - val_categorical_accuracy: 0.9233\n",
      "Epoch 4/20\n",
      "200/200 [==============================] - 140s 701ms/step - loss: 0.0761 - categorical_accuracy: 0.9765 - val_loss: 0.3209 - val_categorical_accuracy: 0.9222\n",
      "Epoch 5/20\n",
      "200/200 [==============================] - 155s 777ms/step - loss: 0.0690 - categorical_accuracy: 0.9785 - val_loss: 0.3226 - val_categorical_accuracy: 0.9230\n",
      "Epoch 6/20\n",
      "200/200 [==============================] - 153s 765ms/step - loss: 0.0696 - categorical_accuracy: 0.9773 - val_loss: 0.3240 - val_categorical_accuracy: 0.9234\n",
      "\n",
      "Epoch 00006: ReduceLROnPlateau reducing learning rate to 1.3348389529710403e-05.\n",
      "Epoch 7/20\n",
      "200/200 [==============================] - 142s 708ms/step - loss: 0.0735 - categorical_accuracy: 0.9761 - val_loss: 0.3216 - val_categorical_accuracy: 0.9238\n",
      "Epoch 8/20\n",
      "200/200 [==============================] - 144s 721ms/step - loss: 0.0813 - categorical_accuracy: 0.9743 - val_loss: 0.3159 - val_categorical_accuracy: 0.9237\n",
      "Epoch 9/20\n",
      "200/200 [==============================] - 154s 769ms/step - loss: 0.0737 - categorical_accuracy: 0.9765 - val_loss: 0.3198 - val_categorical_accuracy: 0.9236\n",
      "Epoch 10/20\n",
      "200/200 [==============================] - 164s 822ms/step - loss: 0.0725 - categorical_accuracy: 0.9769 - val_loss: 0.3188 - val_categorical_accuracy: 0.9229\n",
      "Epoch 11/20\n",
      "200/200 [==============================] - 161s 805ms/step - loss: 0.0758 - categorical_accuracy: 0.9768 - val_loss: 0.3167 - val_categorical_accuracy: 0.9242\n",
      "Epoch 12/20\n",
      "200/200 [==============================] - 141s 705ms/step - loss: 0.0772 - categorical_accuracy: 0.9752 - val_loss: 0.3168 - val_categorical_accuracy: 0.9240\n",
      "Epoch 13/20\n",
      "200/200 [==============================] - 147s 733ms/step - loss: 0.0583 - categorical_accuracy: 0.9815 - val_loss: 0.3221 - val_categorical_accuracy: 0.9244\n",
      "\n",
      "Epoch 00013: ReduceLROnPlateau reducing learning rate to 1.0011292488343315e-05.\n",
      "Epoch 14/20\n",
      "200/200 [==============================] - 162s 808ms/step - loss: 0.0520 - categorical_accuracy: 0.9836 - val_loss: 0.3287 - val_categorical_accuracy: 0.9241\n",
      "Epoch 15/20\n",
      "200/200 [==============================] - 165s 824ms/step - loss: 0.0543 - categorical_accuracy: 0.9823 - val_loss: 0.3317 - val_categorical_accuracy: 0.9242\n",
      "Epoch 16/20\n",
      "200/200 [==============================] - 142s 711ms/step - loss: 0.0503 - categorical_accuracy: 0.9834 - val_loss: 0.3382 - val_categorical_accuracy: 0.9241\n",
      "Epoch 17/20\n",
      "200/200 [==============================] - 138s 688ms/step - loss: 0.0633 - categorical_accuracy: 0.9795 - val_loss: 0.3363 - val_categorical_accuracy: 0.9238\n",
      "Epoch 18/20\n",
      "200/200 [==============================] - 138s 690ms/step - loss: 0.0483 - categorical_accuracy: 0.9858 - val_loss: 0.3427 - val_categorical_accuracy: 0.9240\n",
      "Epoch 19/20\n",
      "200/200 [==============================] - 151s 756ms/step - loss: 0.0544 - categorical_accuracy: 0.9832 - val_loss: 0.3423 - val_categorical_accuracy: 0.9234\n",
      "Epoch 20/20\n",
      "200/200 [==============================] - 142s 711ms/step - loss: 0.0584 - categorical_accuracy: 0.9821 - val_loss: 0.3423 - val_categorical_accuracy: 0.9237\n",
      "\n",
      "Epoch 00020: ReduceLROnPlateau reducing learning rate to 7.508469025196973e-06.\n"
     ]
    }
   ],
   "source": [
    "hist3 = model.fit_generator(\n",
    "    datagen.flow(train_X,train_y,batch_size = batch),\n",
    "    steps_per_epoch = STEPS,\n",
    "    validation_steps=STEPS, epochs=20, verbose=1,\n",
    "    validation_data=(valid_X, valid_y),\n",
    "    callbacks = callbacks\n",
    ")"
   ]
  },
  {
   "cell_type": "code",
   "execution_count": 41,
   "metadata": {},
   "outputs": [],
   "source": [
    "import winsound as ws\n",
    "\n",
    "def beepsound():\n",
    "    freq = 2000    # range : 37 ~ 32767\n",
    "    dur = 1000     # ms\n",
    "    ws.Beep(freq, dur) # winsound.Beep(frequency, duration)\n"
   ]
  },
  {
   "cell_type": "code",
   "execution_count": 42,
   "metadata": {},
   "outputs": [
    {
     "name": "stdout",
     "output_type": "stream",
     "text": [
      "None\n"
     ]
    }
   ],
   "source": [
    "print(beepsound())"
   ]
  },
  {
   "cell_type": "code",
   "execution_count": 40,
   "metadata": {},
   "outputs": [
    {
     "data": {
      "text/plain": [
       "dict_keys(['val_loss', 'val_categorical_crossentropy', 'val_categorical_accuracy', 'loss', 'categorical_crossentropy', 'categorical_accuracy', 'lr'])"
      ]
     },
     "execution_count": 40,
     "metadata": {},
     "output_type": "execute_result"
    }
   ],
   "source": [
    "hist.history.keys()"
   ]
  },
  {
   "cell_type": "code",
   "execution_count": 41,
   "metadata": {},
   "outputs": [
    {
     "data": {
      "image/png": "[encoded data removed]",
      "text/plain": [
       "<Figure size 432x288 with 2 Axes>"
      ]
     },
     "metadata": {
      "needs_background": "light"
     },
     "output_type": "display_data"
    }
   ],
   "source": [
    "fig, loss_ax = plt.subplots()\n",
    "\n",
    "acc_ax = loss_ax.twinx()\n",
    "\n",
    "loss_ax.plot(hist.history['loss'], 'y', label='train loss')\n",
    "loss_ax.plot(hist.history['val_loss'], 'b', label='val loss')\n",
    "\n",
    "acc_ax.plot(hist.history['val_categorical_accuracy'], 'g', label='val categorical accuracy')\n",
    "acc_ax.plot(hist.history['categorical_accuracy'], 'r', label='categorical_accuracy')\n",
    "\n",
    "loss_ax.set_xlabel('epoch')\n",
    "loss_ax.set_ylabel('loss')\n",
    "acc_ax.set_ylabel('categorical_accuracy')\n",
    "\n",
    "loss_ax.legend(loc='upper left')\n",
    "acc_ax.legend(loc='lower left')\n",
    "\n",
    "plt.show()"
   ]
  },
  {
   "cell_type": "code",
   "execution_count": 42,
   "metadata": {},
   "outputs": [
    {
     "data": {
      "image/png": "[encoded data removed]",
      "text/plain": [
       "<Figure size 432x288 with 2 Axes>"
      ]
     },
     "metadata": {
      "needs_background": "light"
     },
     "output_type": "display_data"
    }
   ],
   "source": [
    "fig, loss_ax = plt.subplots()\n",
    "\n",
    "acc_ax = loss_ax.twinx()\n",
    "\n",
    "loss_ax.plot(hist2.history['loss'], 'y', label='train loss')\n",
    "loss_ax.plot(hist2.history['val_loss'], 'b', label='val loss')\n",
    "\n",
    "acc_ax.plot(hist2.history['val_categorical_accuracy'], 'g', label='val categorical accuracy')\n",
    "acc_ax.plot(hist2.history['categorical_accuracy'], 'r', label='categorical_accuracy')\n",
    "\n",
    "loss_ax.set_xlabel('epoch')\n",
    "loss_ax.set_ylabel('loss')\n",
    "acc_ax.set_ylabel('categorical_accuracy')\n",
    "\n",
    "loss_ax.legend(loc='upper left')\n",
    "acc_ax.legend(loc='lower left')\n",
    "\n",
    "plt.show()"
   ]
  },
  {
   "cell_type": "code",
   "execution_count": 49,
   "metadata": {},
   "outputs": [],
   "source": [
    "all_hist = dict()\n",
    "all_hist['loss'] = hist.history['loss'] + hist2.history['loss']\n",
    "all_hist['val_loss'] = hist.history['val_loss'] + hist2.history['val_loss']\n",
    "all_hist['val_categorical_accuracy'] = hist.history['val_categorical_accuracy'] + hist2.history['val_categorical_accuracy']\n",
    "all_hist['categorical_accuracy'] = hist.history['categorical_accuracy'] + hist2.history['categorical_accuracy']"
   ]
  },
  {
   "cell_type": "code",
   "execution_count": 50,
   "metadata": {},
   "outputs": [
    {
     "data": {
      "image/png": "[encoded data removed]",
      "text/plain": [
       "<Figure size 432x288 with 2 Axes>"
      ]
     },
     "metadata": {
      "needs_background": "light"
     },
     "output_type": "display_data"
    }
   ],
   "source": [
    "fig, loss_ax = plt.subplots()\n",
    "\n",
    "acc_ax = loss_ax.twinx()\n",
    "\n",
    "loss_ax.plot(all_hist['loss'], 'y', label='train loss')\n",
    "loss_ax.plot(all_hist['val_loss'], 'b', label='val loss')\n",
    "\n",
    "acc_ax.plot(all_hist['val_categorical_accuracy'], 'g', label='val categorical accuracy')\n",
    "acc_ax.plot(all_hist['categorical_accuracy'], 'r', label='categorical_accuracy')\n",
    "\n",
    "loss_ax.set_xlabel('epoch')\n",
    "loss_ax.set_ylabel('loss')\n",
    "acc_ax.set_ylabel('categorical_accuracy')\n",
    "\n",
    "loss_ax.legend(loc='upper left')\n",
    "acc_ax.legend(loc='lower left')\n",
    "\n",
    "plt.show()"
   ]
  },
  {
   "cell_type": "markdown",
   "metadata": {},
   "source": [
    "## Evaluation"
   ]
  },
  {
   "cell_type": "code",
   "execution_count": 55,
   "metadata": {},
   "outputs": [],
   "source": [
    "model_1 = load_model('model2_copy/model2_copy_origin_1224_1.h5')"
   ]
  },
  {
   "cell_type": "code",
   "execution_count": 56,
   "metadata": {},
   "outputs": [
    {
     "name": "stdout",
     "output_type": "stream",
     "text": [
      "150000/150000 [==============================] - 152s 1ms/step\n"
     ]
    },
    {
     "data": {
      "text/plain": [
       "[0.43104013243397077, 0.4310397505760193, 0.8708666563034058]"
      ]
     },
     "execution_count": 56,
     "metadata": {},
     "output_type": "execute_result"
    }
   ],
   "source": [
    "model_1.evaluate(test_X, test_y)"
   ]
  },
  {
   "cell_type": "code",
   "execution_count": 63,
   "metadata": {},
   "outputs": [],
   "source": [
    "pred_y1 = model_1.predict(test_X, batch_size= batch)"
   ]
  },
  {
   "cell_type": "code",
   "execution_count": 64,
   "metadata": {},
   "outputs": [],
   "source": [
    "ppp1 = np.argmax(pred_y1,1)"
   ]
  },
  {
   "cell_type": "code",
   "execution_count": 65,
   "metadata": {},
   "outputs": [],
   "source": [
    "ttt = np.argmax(test_y,1)"
   ]
  },
  {
   "cell_type": "code",
   "execution_count": 67,
   "metadata": {},
   "outputs": [
    {
     "data": {
      "text/plain": [
       "array([3, 5, 7, ..., 1, 5, 0], dtype=int64)"
      ]
     },
     "execution_count": 67,
     "metadata": {},
     "output_type": "execute_result"
    }
   ],
   "source": [
    "ppp1"
   ]
  },
  {
   "cell_type": "code",
   "execution_count": 68,
   "metadata": {},
   "outputs": [
    {
     "data": {
      "text/plain": [
       "array([3, 5, 7, ..., 1, 5, 0], dtype=int64)"
      ]
     },
     "execution_count": 68,
     "metadata": {},
     "output_type": "execute_result"
    }
   ],
   "source": [
    "ttt"
   ]
  },
  {
   "cell_type": "code",
   "execution_count": 69,
   "metadata": {
    "scrolled": true
   },
   "outputs": [
    {
     "data": {
      "text/plain": [
       "<matplotlib.image.AxesImage at 0x15c52e6ed30>"
      ]
     },
     "execution_count": 69,
     "metadata": {},
     "output_type": "execute_result"
    },
    {
     "data": {
      "image/png": "[encoded data removed]",
      "text/plain": [
       "<Figure size 288x288 with 1 Axes>"
      ]
     },
     "metadata": {
      "needs_background": "light"
     },
     "output_type": "display_data"
    }
   ],
   "source": [
    "plt.matshow(confusion_matrix(ttt,ppp1))"
   ]
  },
  {
   "cell_type": "code",
   "execution_count": 70,
   "metadata": {
    "scrolled": false
   },
   "outputs": [
    {
     "name": "stdout",
     "output_type": "stream",
     "text": [
      "               precision    recall  f1-score   support\n",
      "\n",
      "          bat       0.87      0.83      0.85      7500\n",
      "         cake       0.92      0.90      0.91      7500\n",
      "       candle       0.93      0.93      0.93      7500\n",
      "       carrot       0.90      0.83      0.86      7500\n",
      "   chandelier       0.88      0.85      0.87      7500\n",
      "     computer       0.90      0.91      0.90      7500\n",
      "        couch       0.92      0.93      0.92      7500\n",
      "          dog       0.80      0.70      0.75      7500\n",
      "   light bulb       0.95      0.90      0.92      7500\n",
      "      mermaid       0.86      0.80      0.83      7500\n",
      "   microphone       0.78      0.87      0.82      7500\n",
      "       monkey       0.76      0.75      0.76      7500\n",
      "      octopus       0.92      0.90      0.91      7500\n",
      "       pliers       0.75      0.86      0.80      7500\n",
      "         pond       0.88      0.89      0.89      7500\n",
      "   sea turtle       0.77      0.86      0.81      7500\n",
      "        snake       0.83      0.87      0.85      7500\n",
      "   television       0.90      0.92      0.91      7500\n",
      "traffic light       0.94      0.91      0.93      7500\n",
      "  wine bottle       1.00      1.00      1.00      7500\n",
      "\n",
      "     accuracy                           0.87    150000\n",
      "    macro avg       0.87      0.87      0.87    150000\n",
      " weighted avg       0.87      0.87      0.87    150000\n",
      "\n"
     ]
    }
   ],
   "source": [
    "print(classification_report(ttt, ppp1, \n",
    "                            target_names = [x for x in word_le.classes_]))"
   ]
  },
  {
   "cell_type": "code",
   "execution_count": null,
   "metadata": {},
   "outputs": [],
   "source": []
  },
  {
   "cell_type": "code",
   "execution_count": null,
   "metadata": {},
   "outputs": [],
   "source": []
  },
  {
   "cell_type": "code",
   "execution_count": null,
   "metadata": {},
   "outputs": [],
   "source": []
  },
  {
   "cell_type": "code",
   "execution_count": 53,
   "metadata": {},
   "outputs": [
    {
     "name": "stdout",
     "output_type": "stream",
     "text": [
      "150000/150000 [==============================] - 152s 1ms/step\n"
     ]
    },
    {
     "data": {
      "text/plain": [
       "[0.6103923605873312, 0.6103926301002502, 0.8926399946212769]"
      ]
     },
     "execution_count": 53,
     "metadata": {},
     "output_type": "execute_result"
    }
   ],
   "source": [
    "model.evaluate(test_X, test_y) #loss, categorical_entropy, categorical_accuracy"
   ]
  },
  {
   "cell_type": "code",
   "execution_count": 51,
   "metadata": {},
   "outputs": [],
   "source": [
    "pred_y = model.predict(test_X, batch_size= batch)"
   ]
  },
  {
   "cell_type": "code",
   "execution_count": 57,
   "metadata": {},
   "outputs": [],
   "source": [
    "ppp = np.argmax(pred_y,1)"
   ]
  },
  {
   "cell_type": "code",
   "execution_count": 58,
   "metadata": {},
   "outputs": [],
   "source": [
    "ttt = np.argmax(test_y,1)"
   ]
  },
  {
   "cell_type": "code",
   "execution_count": 59,
   "metadata": {},
   "outputs": [
    {
     "data": {
      "text/plain": [
       "array([3, 5, 7, ..., 1, 5, 0], dtype=int64)"
      ]
     },
     "execution_count": 59,
     "metadata": {},
     "output_type": "execute_result"
    }
   ],
   "source": [
    "ppp"
   ]
  },
  {
   "cell_type": "code",
   "execution_count": 60,
   "metadata": {},
   "outputs": [
    {
     "data": {
      "text/plain": [
       "array([3, 5, 7, ..., 1, 5, 0], dtype=int64)"
      ]
     },
     "execution_count": 60,
     "metadata": {},
     "output_type": "execute_result"
    }
   ],
   "source": [
    "ttt"
   ]
  },
  {
   "cell_type": "code",
   "execution_count": 61,
   "metadata": {
    "scrolled": true
   },
   "outputs": [
    {
     "data": {
      "text/plain": [
       "<matplotlib.image.AxesImage at 0x15b570ea390>"
      ]
     },
     "execution_count": 61,
     "metadata": {},
     "output_type": "execute_result"
    },
    {
     "data": {
      "image/png": "[encoded data removed]",
      "text/plain": [
       "<Figure size 288x288 with 1 Axes>"
      ]
     },
     "metadata": {
      "needs_background": "light"
     },
     "output_type": "display_data"
    }
   ],
   "source": [
    "plt.matshow(confusion_matrix(ttt,ppp))"
   ]
  },
  {
   "cell_type": "code",
   "execution_count": 62,
   "metadata": {},
   "outputs": [
    {
     "name": "stdout",
     "output_type": "stream",
     "text": [
      "               precision    recall  f1-score   support\n",
      "\n",
      "          bat       0.89      0.85      0.87      7500\n",
      "         cake       0.91      0.93      0.92      7500\n",
      "       candle       0.95      0.93      0.94      7500\n",
      "       carrot       0.90      0.89      0.90      7500\n",
      "   chandelier       0.88      0.89      0.88      7500\n",
      "     computer       0.91      0.93      0.92      7500\n",
      "        couch       0.94      0.94      0.94      7500\n",
      "          dog       0.78      0.78      0.78      7500\n",
      "   light bulb       0.94      0.93      0.93      7500\n",
      "      mermaid       0.88      0.86      0.87      7500\n",
      "   microphone       0.84      0.87      0.86      7500\n",
      "       monkey       0.77      0.82      0.80      7500\n",
      "      octopus       0.91      0.94      0.92      7500\n",
      "       pliers       0.84      0.84      0.84      7500\n",
      "         pond       0.89      0.90      0.90      7500\n",
      "   sea turtle       0.87      0.83      0.85      7500\n",
      "        snake       0.86      0.89      0.87      7500\n",
      "   television       0.96      0.89      0.92      7500\n",
      "traffic light       0.94      0.94      0.94      7500\n",
      "  wine bottle       1.00      1.00      1.00      7500\n",
      "\n",
      "     accuracy                           0.89    150000\n",
      "    macro avg       0.89      0.89      0.89    150000\n",
      " weighted avg       0.89      0.89      0.89    150000\n",
      "\n"
     ]
    }
   ],
   "source": [
    "print(classification_report(ttt, ppp, \n",
    "                            target_names = [x for x in word_le.classes_]))"
   ]
  },
  {
   "cell_type": "markdown",
   "metadata": {},
   "source": [
    "* 이미지 그리기"
   ]
  },
  {
   "cell_type": "code",
   "execution_count": 122,
   "metadata": {},
   "outputs": [
    {
     "data": {
      "image/png": "[encoded data removed]",
      "text/plain": [
       "<Figure size 432x288 with 1 Axes>"
      ]
     },
     "metadata": {
      "needs_background": "light"
     },
     "output_type": "display_data"
    }
   ],
   "source": [
    "raw_images = list(all_data['drawing'])\n",
    "\n",
    "k = 0\n",
    "for i in range(len(raw_images[k])):\n",
    "    plt.plot(raw_images[k][i][0], raw_images[k][i][1],'o-')\n",
    "plt.show()"
   ]
  },
  {
   "cell_type": "code",
   "execution_count": null,
   "metadata": {},
   "outputs": [],
   "source": []
  },
  {
   "cell_type": "code",
   "execution_count": null,
   "metadata": {},
   "outputs": [],
   "source": []
  },
  {
   "cell_type": "code",
   "execution_count": 171,
   "metadata": {},
   "outputs": [
    {
     "ename": "NameError",
     "evalue": "name 'train_df' is not defined",
     "output_type": "error",
     "traceback": [
      "\u001b[1;31m---------------------------------------------------------------------------\u001b[0m",
      "\u001b[1;31mNameError\u001b[0m                                 Traceback (most recent call last)",
      "\u001b[1;32m<ipython-input-171-4ee7fa305e14>\u001b[0m in \u001b[0;36m<module>\u001b[1;34m\u001b[0m\n\u001b[0;32m      3\u001b[0m     \u001b[0my\u001b[0m \u001b[1;33m=\u001b[0m \u001b[0mto_categorical\u001b[0m\u001b[1;33m(\u001b[0m\u001b[0mword_encoder\u001b[0m\u001b[1;33m.\u001b[0m\u001b[0mtransform\u001b[0m\u001b[1;33m(\u001b[0m\u001b[0min_df\u001b[0m\u001b[1;33m[\u001b[0m\u001b[1;34m'word'\u001b[0m\u001b[1;33m]\u001b[0m\u001b[1;33m.\u001b[0m\u001b[0mvalues\u001b[0m\u001b[1;33m)\u001b[0m\u001b[1;33m)\u001b[0m\u001b[1;33m\u001b[0m\u001b[0m\n\u001b[0;32m      4\u001b[0m     \u001b[1;32mreturn\u001b[0m \u001b[0mX\u001b[0m\u001b[1;33m,\u001b[0m \u001b[0my\u001b[0m\u001b[1;33m\u001b[0m\u001b[0m\n\u001b[1;32m----> 5\u001b[1;33m \u001b[0mtrain_X\u001b[0m\u001b[1;33m,\u001b[0m \u001b[0mtrain_y\u001b[0m \u001b[1;33m=\u001b[0m \u001b[0mget_Xy\u001b[0m\u001b[1;33m(\u001b[0m\u001b[0mtrain_df\u001b[0m\u001b[1;33m)\u001b[0m\u001b[1;33m\u001b[0m\u001b[0m\n\u001b[0m\u001b[0;32m      6\u001b[0m \u001b[0mvalid_X\u001b[0m\u001b[1;33m,\u001b[0m \u001b[0mvalid_y\u001b[0m \u001b[1;33m=\u001b[0m \u001b[0mget_Xy\u001b[0m\u001b[1;33m(\u001b[0m\u001b[0mvalid_df\u001b[0m\u001b[1;33m)\u001b[0m\u001b[1;33m\u001b[0m\u001b[0m\n\u001b[0;32m      7\u001b[0m \u001b[0mtest_X\u001b[0m\u001b[1;33m,\u001b[0m \u001b[0mtest_y\u001b[0m \u001b[1;33m=\u001b[0m \u001b[0mget_Xy\u001b[0m\u001b[1;33m(\u001b[0m\u001b[0mtest_df\u001b[0m\u001b[1;33m)\u001b[0m\u001b[1;33m\u001b[0m\u001b[0m\n",
      "\u001b[1;31mNameError\u001b[0m: name 'train_df' is not defined"
     ]
    }
   ],
   "source": [
    "def get_Xy(in_df):\n",
    "    X = np.stack(in_df['drawing'], 0)\n",
    "    y = to_categorical(word_encoder.transform(in_df['word'].values))\n",
    "    return X, y\n",
    "train_X, train_y = get_Xy(train_df)\n",
    "valid_X, valid_y = get_Xy(valid_df)\n",
    "test_X, test_y = get_Xy(test_df)\n",
    "print(train_X.shape)"
   ]
  },
  {
   "cell_type": "code",
   "execution_count": null,
   "metadata": {},
   "outputs": [],
   "source": []
  },
  {
   "cell_type": "code",
   "execution_count": null,
   "metadata": {},
   "outputs": [],
   "source": []
  },
  {
   "cell_type": "code",
   "execution_count": 108,
   "metadata": {
    "collapsed": true
   },
   "outputs": [
    {
     "ename": "ValueError",
     "evalue": "Axis -1 of input tensor should have a defined dimension but the layer received an input with shape (None, None).",
     "output_type": "error",
     "traceback": [
      "\u001b[1;31m---------------------------------------------------------------------------\u001b[0m",
      "\u001b[1;31mValueError\u001b[0m                                Traceback (most recent call last)",
      "\u001b[1;32m<ipython-input-108-b80e3d33e5dc>\u001b[0m in \u001b[0;36m<module>\u001b[1;34m\u001b[0m\n\u001b[0;32m      1\u001b[0m \u001b[0mstroke_read_model\u001b[0m \u001b[1;33m=\u001b[0m \u001b[0mSequential\u001b[0m\u001b[1;33m(\u001b[0m\u001b[1;33m)\u001b[0m\u001b[1;33m\u001b[0m\u001b[0m\n\u001b[1;32m----> 2\u001b[1;33m \u001b[0mstroke_read_model\u001b[0m\u001b[1;33m.\u001b[0m\u001b[0madd\u001b[0m\u001b[1;33m(\u001b[0m\u001b[0mBatchNormalization\u001b[0m\u001b[1;33m(\u001b[0m\u001b[0minput_shape\u001b[0m \u001b[1;33m=\u001b[0m \u001b[1;33m(\u001b[0m\u001b[1;32mNone\u001b[0m\u001b[1;33m,\u001b[0m\u001b[1;33m)\u001b[0m\u001b[1;33m)\u001b[0m\u001b[1;33m)\u001b[0m\u001b[1;33m\u001b[0m\u001b[0m\n\u001b[0m\u001b[0;32m      3\u001b[0m \u001b[1;31m# filter count and length are taken from the script https://github.com/tensorflow/models/blob/master/tutorials/rnn/quickdraw/train_model.py\u001b[0m\u001b[1;33m\u001b[0m\u001b[1;33m\u001b[0m\u001b[0m\n\u001b[0;32m      4\u001b[0m \u001b[0mstroke_read_model\u001b[0m\u001b[1;33m.\u001b[0m\u001b[0madd\u001b[0m\u001b[1;33m(\u001b[0m\u001b[0mConv1D\u001b[0m\u001b[1;33m(\u001b[0m\u001b[1;36m48\u001b[0m\u001b[1;33m,\u001b[0m \u001b[1;33m(\u001b[0m\u001b[1;36m5\u001b[0m\u001b[1;33m,\u001b[0m\u001b[1;33m)\u001b[0m\u001b[1;33m)\u001b[0m\u001b[1;33m)\u001b[0m\u001b[1;33m\u001b[0m\u001b[0m\n\u001b[0;32m      5\u001b[0m \u001b[0mstroke_read_model\u001b[0m\u001b[1;33m.\u001b[0m\u001b[0madd\u001b[0m\u001b[1;33m(\u001b[0m\u001b[0mDropout\u001b[0m\u001b[1;33m(\u001b[0m\u001b[1;36m0.3\u001b[0m\u001b[1;33m)\u001b[0m\u001b[1;33m)\u001b[0m\u001b[1;33m\u001b[0m\u001b[0m\n",
      "\u001b[1;32mC:\\Users\\julia\\Desktop\\tf\\lib\\site-packages\\keras\\engine\\sequential.py\u001b[0m in \u001b[0;36madd\u001b[1;34m(self, layer)\u001b[0m\n\u001b[0;32m    164\u001b[0m                     \u001b[1;31m# and create the node connecting the current layer\u001b[0m\u001b[1;33m\u001b[0m\u001b[1;33m\u001b[0m\u001b[0m\n\u001b[0;32m    165\u001b[0m                     \u001b[1;31m# to the input layer we just created.\u001b[0m\u001b[1;33m\u001b[0m\u001b[1;33m\u001b[0m\u001b[0m\n\u001b[1;32m--> 166\u001b[1;33m                     \u001b[0mlayer\u001b[0m\u001b[1;33m(\u001b[0m\u001b[0mx\u001b[0m\u001b[1;33m)\u001b[0m\u001b[1;33m\u001b[0m\u001b[0m\n\u001b[0m\u001b[0;32m    167\u001b[0m                     \u001b[0mset_inputs\u001b[0m \u001b[1;33m=\u001b[0m \u001b[1;32mTrue\u001b[0m\u001b[1;33m\u001b[0m\u001b[0m\n\u001b[0;32m    168\u001b[0m             \u001b[1;32melse\u001b[0m\u001b[1;33m:\u001b[0m\u001b[1;33m\u001b[0m\u001b[0m\n",
      "\u001b[1;32mC:\\Users\\julia\\Desktop\\tf\\lib\\site-packages\\keras\\backend\\tensorflow_backend.py\u001b[0m in \u001b[0;36msymbolic_fn_wrapper\u001b[1;34m(*args, **kwargs)\u001b[0m\n\u001b[0;32m     73\u001b[0m         \u001b[1;32mif\u001b[0m \u001b[0m_SYMBOLIC_SCOPE\u001b[0m\u001b[1;33m.\u001b[0m\u001b[0mvalue\u001b[0m\u001b[1;33m:\u001b[0m\u001b[1;33m\u001b[0m\u001b[0m\n\u001b[0;32m     74\u001b[0m             \u001b[1;32mwith\u001b[0m \u001b[0mget_graph\u001b[0m\u001b[1;33m(\u001b[0m\u001b[1;33m)\u001b[0m\u001b[1;33m.\u001b[0m\u001b[0mas_default\u001b[0m\u001b[1;33m(\u001b[0m\u001b[1;33m)\u001b[0m\u001b[1;33m:\u001b[0m\u001b[1;33m\u001b[0m\u001b[0m\n\u001b[1;32m---> 75\u001b[1;33m                 \u001b[1;32mreturn\u001b[0m \u001b[0mfunc\u001b[0m\u001b[1;33m(\u001b[0m\u001b[1;33m*\u001b[0m\u001b[0margs\u001b[0m\u001b[1;33m,\u001b[0m \u001b[1;33m**\u001b[0m\u001b[0mkwargs\u001b[0m\u001b[1;33m)\u001b[0m\u001b[1;33m\u001b[0m\u001b[0m\n\u001b[0m\u001b[0;32m     76\u001b[0m         \u001b[1;32melse\u001b[0m\u001b[1;33m:\u001b[0m\u001b[1;33m\u001b[0m\u001b[0m\n\u001b[0;32m     77\u001b[0m             \u001b[1;32mreturn\u001b[0m \u001b[0mfunc\u001b[0m\u001b[1;33m(\u001b[0m\u001b[1;33m*\u001b[0m\u001b[0margs\u001b[0m\u001b[1;33m,\u001b[0m \u001b[1;33m**\u001b[0m\u001b[0mkwargs\u001b[0m\u001b[1;33m)\u001b[0m\u001b[1;33m\u001b[0m\u001b[0m\n",
      "\u001b[1;32mC:\\Users\\julia\\Desktop\\tf\\lib\\site-packages\\keras\\engine\\base_layer.py\u001b[0m in \u001b[0;36m__call__\u001b[1;34m(self, inputs, **kwargs)\u001b[0m\n\u001b[0;32m    461\u001b[0m                                          \u001b[1;34m'You can build it manually via: '\u001b[0m\u001b[1;33m\u001b[0m\u001b[0m\n\u001b[0;32m    462\u001b[0m                                          '`layer.build(batch_input_shape)`')\n\u001b[1;32m--> 463\u001b[1;33m                 \u001b[0mself\u001b[0m\u001b[1;33m.\u001b[0m\u001b[0mbuild\u001b[0m\u001b[1;33m(\u001b[0m\u001b[0munpack_singleton\u001b[0m\u001b[1;33m(\u001b[0m\u001b[0minput_shapes\u001b[0m\u001b[1;33m)\u001b[0m\u001b[1;33m)\u001b[0m\u001b[1;33m\u001b[0m\u001b[0m\n\u001b[0m\u001b[0;32m    464\u001b[0m                 \u001b[0mself\u001b[0m\u001b[1;33m.\u001b[0m\u001b[0mbuilt\u001b[0m \u001b[1;33m=\u001b[0m \u001b[1;32mTrue\u001b[0m\u001b[1;33m\u001b[0m\u001b[0m\n\u001b[0;32m    465\u001b[0m \u001b[1;33m\u001b[0m\u001b[0m\n",
      "\u001b[1;32mC:\\Users\\julia\\Desktop\\tf\\lib\\site-packages\\keras\\layers\\normalization.py\u001b[0m in \u001b[0;36mbuild\u001b[1;34m(self, input_shape)\u001b[0m\n\u001b[0;32m     97\u001b[0m                              \u001b[1;34m'input tensor should have a defined dimension '\u001b[0m\u001b[1;33m\u001b[0m\u001b[0m\n\u001b[0;32m     98\u001b[0m                              \u001b[1;34m'but the layer received an input with shape '\u001b[0m \u001b[1;33m+\u001b[0m\u001b[1;33m\u001b[0m\u001b[0m\n\u001b[1;32m---> 99\u001b[1;33m                              str(input_shape) + '.')\n\u001b[0m\u001b[0;32m    100\u001b[0m         self.input_spec = InputSpec(ndim=len(input_shape),\n\u001b[0;32m    101\u001b[0m                                     axes={self.axis: dim})\n",
      "\u001b[1;31mValueError\u001b[0m: Axis -1 of input tensor should have a defined dimension but the layer received an input with shape (None, None)."
     ]
    }
   ],
   "source": [
    "\n",
    "stroke_read_model = Sequential()\n",
    "stroke_read_model.add(BatchNormalization(input_shape = (None,)))\n",
    "# filter count and length are taken from the script https://github.com/tensorflow/models/blob/master/tutorials/rnn/quickdraw/train_model.py\n",
    "stroke_read_model.add(Conv1D(48, (5,)))\n",
    "stroke_read_model.add(Dropout(0.3))\n",
    "stroke_read_model.add(Conv1D(64, (5,)))\n",
    "stroke_read_model.add(Dropout(0.3))\n",
    "stroke_read_model.add(Conv1D(96, (3,)))\n",
    "stroke_read_model.add(Dropout(0.3))\n",
    "stroke_read_model.add(LSTM(128, return_sequences = True))\n",
    "stroke_read_model.add(Dropout(0.3))\n",
    "stroke_read_model.add(LSTM(128, return_sequences = False))\n",
    "stroke_read_model.add(Dropout(0.3))\n",
    "stroke_read_model.add(Dense(512))\n",
    "stroke_read_model.add(Dropout(0.3))\n",
    "stroke_read_model.add(Dense(len(word_encoder.classes_), activation = 'softmax'))\n",
    "stroke_read_model.compile(optimizer = 'adam', \n",
    "                          loss = 'categorical_crossentropy', \n",
    "                          metrics = ['categorical_accuracy', top_3_accuracy])\n",
    "stroke_read_model.summary()"
   ]
  },
  {
   "cell_type": "code",
   "execution_count": null,
   "metadata": {},
   "outputs": [],
   "source": []
  }
 ],
 "metadata": {
  "kernelspec": {
   "display_name": "Python3 tf",
   "language": "python",
   "name": "tf"
  },
  "language_info": {
   "codemirror_mode": {
    "name": "ipython",
    "version": 3
   },
   "file_extension": ".py",
   "mimetype": "text/x-python",
   "name": "python",
   "nbconvert_exporter": "python",
   "pygments_lexer": "ipython3",
   "version": "3.6.4"
  }
 },
 "nbformat": 4,
 "nbformat_minor": 2
}
