{
 "cells": [
  {
   "cell_type": "code",
   "execution_count": 1,
   "metadata": {},
   "outputs": [
    {
     "name": "stderr",
     "output_type": "stream",
     "text": [
      "Using TensorFlow backend.\n"
     ]
    }
   ],
   "source": [
    "import tensorflow as tf\n",
    "import numpy as np\n",
    "from tensorflow import keras\n",
    "\n",
    "from tensorflow.keras.utils import to_categorical\n",
    "from tensorflow.keras.metrics import categorical_accuracy, top_k_categorical_accuracy, categorical_crossentropy\n",
    "from keras.preprocessing.sequence import pad_sequences\n",
    "\n",
    "import pandas as pd\n",
    "import matplotlib as mpl\n",
    "import matplotlib.pylab as plt\n",
    "\n",
    "from sklearn.model_selection import train_test_split\n",
    "from sklearn.preprocessing import LabelEncoder\n",
    "\n",
    "\n",
    "import keras.backend as K \n",
    "\n",
    "from keras.callbacks import EarlyStopping,ModelCheckpoint\n",
    "\n",
    "from keras.utils import np_utils\n",
    "from keras.models import Sequential, load_model\n",
    "\n",
    "from keras.layers import BatchNormalization, Conv1D, LSTM,Input, Dense, Dropout,TimeDistributed, Flatten,MaxPooling1D\n",
    "from keras.optimizers import Adam\n",
    "from keras.models import Model\n",
    "\n",
    "from keras.callbacks import ReduceLROnPlateau\n",
    "from keras.applications.mobilenet import MobileNet, decode_predictions\n",
    "from keras.applications.resnet50 import ResNet50, decode_predictions\n",
    "\n",
    "from keras.preprocessing.image import ImageDataGenerator\n",
    "\n",
    "from sklearn.metrics import confusion_matrix, classification_report\n",
    "\n",
    "\n",
    "import random\n",
    "\n",
    "import ast\n",
    "import os\n",
    "import cv2\n",
    "from collections import Counter"
   ]
  },
  {
   "cell_type": "code",
   "execution_count": 2,
   "metadata": {},
   "outputs": [],
   "source": [
    "import winsound as ws\n",
    "\n",
    "def beepsound():\n",
    "    freq = 2000    # range : 37 ~ 32767\n",
    "    dur = 1000     # ms\n",
    "    ws.Beep(freq, dur) # winsound.Beep(frequency, duration)\n"
   ]
  },
  {
   "cell_type": "markdown",
   "metadata": {},
   "source": [
    "# Data Preparation(1)"
   ]
  },
  {
   "cell_type": "code",
   "execution_count": 3,
   "metadata": {},
   "outputs": [],
   "source": [
    "all_data = pd.read_pickle(\"new_true_split_data/dataset_1.pkl\")"
   ]
  },
  {
   "cell_type": "code",
   "execution_count": 4,
   "metadata": {},
   "outputs": [
    {
     "data": {
      "text/plain": [
       "(500000, 6)"
      ]
     },
     "execution_count": 4,
     "metadata": {},
     "output_type": "execute_result"
    }
   ],
   "source": [
    "all_data.shape"
   ]
  },
  {
   "cell_type": "code",
   "execution_count": 5,
   "metadata": {},
   "outputs": [],
   "source": [
    "word_lst = list(all_data['word'].unique())"
   ]
  },
  {
   "cell_type": "code",
   "execution_count": 6,
   "metadata": {},
   "outputs": [],
   "source": [
    "train2, test = train_test_split(all_data, test_size=0.3, shuffle = True,\n",
    "                                random_state = 42,\n",
    "                                stratify = all_data[\"word\"])"
   ]
  },
  {
   "cell_type": "code",
   "execution_count": 7,
   "metadata": {},
   "outputs": [
    {
     "data": {
      "text/plain": [
       "Counter({'wine bottle': 17500,\n",
       "         'pond': 17500,\n",
       "         'cake': 17500,\n",
       "         'traffic light': 17500,\n",
       "         'sea turtle': 17500,\n",
       "         'carrot': 17500,\n",
       "         'microphone': 17500,\n",
       "         'snake': 17500,\n",
       "         'octopus': 17500,\n",
       "         'mermaid': 17500,\n",
       "         'chandelier': 17500,\n",
       "         'dog': 17500,\n",
       "         'bat': 17500,\n",
       "         'television': 17500,\n",
       "         'light bulb': 17500,\n",
       "         'computer': 17500,\n",
       "         'pliers': 17500,\n",
       "         'candle': 17500,\n",
       "         'monkey': 17500,\n",
       "         'couch': 17500})"
      ]
     },
     "execution_count": 7,
     "metadata": {},
     "output_type": "execute_result"
    }
   ],
   "source": [
    "Counter(train2[\"word\"])"
   ]
  },
  {
   "cell_type": "code",
   "execution_count": 8,
   "metadata": {},
   "outputs": [],
   "source": [
    "train, valid=  train_test_split(train2, test_size=0.3, shuffle = True, \n",
    "                                random_state = 42,\n",
    "                                stratify = train2[\"word\"])"
   ]
  },
  {
   "cell_type": "code",
   "execution_count": 9,
   "metadata": {},
   "outputs": [
    {
     "data": {
      "text/plain": [
       "Counter({'wine bottle': 25000,\n",
       "         'candle': 25000,\n",
       "         'computer': 25000,\n",
       "         'pond': 25000,\n",
       "         'light bulb': 25000,\n",
       "         'traffic light': 25000,\n",
       "         'bat': 25000,\n",
       "         'carrot': 25000,\n",
       "         'snake': 25000,\n",
       "         'dog': 25000,\n",
       "         'monkey': 25000,\n",
       "         'television': 25000,\n",
       "         'microphone': 25000,\n",
       "         'sea turtle': 25000,\n",
       "         'couch': 25000,\n",
       "         'cake': 25000,\n",
       "         'mermaid': 25000,\n",
       "         'chandelier': 25000,\n",
       "         'octopus': 25000,\n",
       "         'pliers': 25000})"
      ]
     },
     "execution_count": 9,
     "metadata": {},
     "output_type": "execute_result"
    }
   ],
   "source": [
    "Counter(all_data[\"word\"])"
   ]
  },
  {
   "cell_type": "code",
   "execution_count": 10,
   "metadata": {},
   "outputs": [
    {
     "name": "stdout",
     "output_type": "stream",
     "text": [
      "(245000, 6)\n",
      "(105000, 6)\n",
      "(150000, 6)\n"
     ]
    }
   ],
   "source": [
    "print(train.shape)\n",
    "print(valid.shape)\n",
    "print(test.shape)"
   ]
  },
  {
   "cell_type": "code",
   "execution_count": 11,
   "metadata": {},
   "outputs": [
    {
     "data": {
      "text/plain": [
       "LabelEncoder()"
      ]
     },
     "execution_count": 11,
     "metadata": {},
     "output_type": "execute_result"
    }
   ],
   "source": [
    "word_le = LabelEncoder()\n",
    "word_le.fit(all_data['word'])"
   ]
  },
  {
   "cell_type": "code",
   "execution_count": 12,
   "metadata": {
    "scrolled": true
   },
   "outputs": [
    {
     "data": {
      "text/plain": [
       "array(['bat', 'cake', 'candle', 'carrot', 'chandelier', 'computer',\n",
       "       'couch', 'dog', 'light bulb', 'mermaid', 'microphone', 'monkey',\n",
       "       'octopus', 'pliers', 'pond', 'sea turtle', 'snake', 'television',\n",
       "       'traffic light', 'wine bottle'], dtype=object)"
      ]
     },
     "execution_count": 12,
     "metadata": {},
     "output_type": "execute_result"
    }
   ],
   "source": [
    "word_le.classes_"
   ]
  },
  {
   "cell_type": "markdown",
   "metadata": {},
   "source": [
    "# Data Preparation(2)"
   ]
  },
  {
   "cell_type": "markdown",
   "metadata": {},
   "source": [
    "* Input data 사용 가능하게 전처리([Kaggle](https://www.kaggle.com/kmader/quickdraw-baseline-lstm-reading-and-submission) 참조)"
   ]
  },
  {
   "cell_type": "code",
   "execution_count": 13,
   "metadata": {},
   "outputs": [],
   "source": [
    "word_num = len(word_lst)\n",
    "INPUT_DRAW = 200"
   ]
  },
  {
   "cell_type": "code",
   "execution_count": 46,
   "metadata": {},
   "outputs": [],
   "source": [
    "def stroke_to_input(draw):\n",
    "    \n",
    "    if type(draw) != type([]):\n",
    "        draw = eval(draw)\n",
    "        \n",
    "    # (x point, y point, order)의 형식으로 변환\n",
    "    redraw_lst = []\n",
    "    \n",
    "    for i, (x,y) in enumerate(draw):\n",
    "        for x2,y2 in zip(x,y):\n",
    "            redraw_lst.append([x2,y2,i])\n",
    "            \n",
    "    # array로 변환\n",
    "    redraw_arr = np.stack(redraw_lst)\n",
    "    \n",
    "    # order 전처리(새 stroke면 2, 아니면 1)\n",
    "    redraw_arr[:,2] = [2]+([1] + np.diff(redraw_arr[:,2])).tolist()\n",
    "    \n",
    "    # 일정한 길이로 만들기 위해 pad_sequences 사용\n",
    "    result = pad_sequences(redraw_arr.swapaxes(0,1),\n",
    "                          maxlen = INPUT_DRAW,\n",
    "                          padding = 'post').swapaxes(0,1)\n",
    "    \n",
    "    return result"
   ]
  },
  {
   "cell_type": "code",
   "execution_count": 47,
   "metadata": {
    "scrolled": true
   },
   "outputs": [],
   "source": [
    "train_X = np.stack(train[\"drawing\"].map(stroke_to_input))\n",
    "train_y = to_categorical(word_le.transform(train['word'].values))"
   ]
  },
  {
   "cell_type": "code",
   "execution_count": 48,
   "metadata": {
    "scrolled": true
   },
   "outputs": [],
   "source": [
    "valid_X = np.stack(valid[\"drawing\"].map(stroke_to_input))\n",
    "valid_y = to_categorical(word_le.transform(valid['word'].values))"
   ]
  },
  {
   "cell_type": "code",
   "execution_count": 49,
   "metadata": {},
   "outputs": [],
   "source": [
    "test_X = np.stack(test[\"drawing\"].map(stroke_to_input))\n",
    "test_y = to_categorical(word_le.transform(test['word'].values))"
   ]
  },
  {
   "cell_type": "code",
   "execution_count": 50,
   "metadata": {},
   "outputs": [
    {
     "name": "stdout",
     "output_type": "stream",
     "text": [
      "Train shape: (245000, 200, 3)\n",
      "Valid shape: (105000, 200, 3)\n",
      "Test shape: (150000, 200, 3)\n"
     ]
    }
   ],
   "source": [
    "print(\"Train shape:\",train_X.shape)\n",
    "print(\"Valid shape:\",valid_X.shape)\n",
    "print(\"Test shape:\",test_X.shape)"
   ]
  },
  {
   "cell_type": "code",
   "execution_count": 51,
   "metadata": {},
   "outputs": [],
   "source": [
    "beepsound()"
   ]
  },
  {
   "cell_type": "markdown",
   "metadata": {},
   "source": [
    "# Modeling"
   ]
  },
  {
   "cell_type": "code",
   "execution_count": 52,
   "metadata": {},
   "outputs": [],
   "source": [
    "STEPS= 200\n",
    "batch = 100\n",
    "epochs = 50"
   ]
  },
  {
   "cell_type": "code",
   "execution_count": 88,
   "metadata": {},
   "outputs": [],
   "source": [
    "# datagen = ImageDataGenerator()"
   ]
  },
  {
   "cell_type": "markdown",
   "metadata": {},
   "source": [
    "##### ResNet50 parameter [설명](https://keras.io/ko/applications/#resnet)\n",
    "* include_top: 네트워크의 최상단에 완전 연결 레이어를 넣을지 여부.\n",
    "* weights: None(임의의 초기값 설정) 혹은 'imagenet' (ImageNet에 대한 선행 학습) 중 하나.\n",
    "* input_tensor: 모델의 이미지 인풋으로 사용할 수 있는 선택적 케라스 텐서 (다시말해, layers.Input()의 아웃풋).\n",
    "* input_shape: 선택적 형태 튜플로, include_top이 False일 경우만 특정하십시오. (그렇지 않다면 인풋의 형태가 (224, 224, 3)이고 'channels_last' 데이터 포맷을 취하거나 혹은 인풋의 형태가 (3, 224, 224)이고 'channels_first' 데이터 포맷을 취해야 합니다). 인풋 채널이 정확히 3개여야 하며 넓이와 높이가 32 미만이어서는 안됩니다. 예시. (200, 200, 3)은 유효한 값입니다.\n",
    "* pooling: 특성추출을 위한 선택적 풀링 모드로, include_top이 False일 경우 유효합니다. \n",
    "    - None은 모델의 아웃풋이 마지막 컨볼루션 레이어의 4D 텐서 아웃풋임을 의미합니다.\n",
    "    - 'avg'는 글로벌 평균값 풀링이 마지막 컨볼루션 레이어의 아웃풋에 적용되어 모델의 아웃풋이 2D 텐서가 됨을 의미합니다.\n",
    "    - 'max'는 글로벌 최대값 풀링이 적용됨을 의미합니다."
   ]
  },
  {
   "cell_type": "code",
   "execution_count": 74,
   "metadata": {},
   "outputs": [],
   "source": [
    "K.clear_session()"
   ]
  },
  {
   "cell_type": "code",
   "execution_count": 75,
   "metadata": {},
   "outputs": [],
   "source": [
    "model = Sequential()\n",
    "model.add(BatchNormalization(input_shape = (None,3)))"
   ]
  },
  {
   "cell_type": "code",
   "execution_count": 76,
   "metadata": {},
   "outputs": [],
   "source": [
    "model.add(Conv1D(64,(5,),activation = 'relu'))\n",
    "model.add(MaxPooling1D())\n",
    "model.add(Dropout(0.25))"
   ]
  },
  {
   "cell_type": "code",
   "execution_count": 77,
   "metadata": {},
   "outputs": [],
   "source": [
    "model.add(Conv1D(90,(5,),activation = 'relu'))\n",
    "model.add(MaxPooling1D())\n",
    "model.add(Dropout(0.3))"
   ]
  },
  {
   "cell_type": "code",
   "execution_count": 78,
   "metadata": {},
   "outputs": [],
   "source": [
    "model.add(Conv1D(64,(5,),activation = 'relu'))\n",
    "model.add(MaxPooling1D())\n",
    "model.add(Dropout(0.25))"
   ]
  },
  {
   "cell_type": "code",
   "execution_count": 79,
   "metadata": {},
   "outputs": [],
   "source": [
    "model.add(LSTM(128,activation = 'relu',return_sequences = True))"
   ]
  },
  {
   "cell_type": "code",
   "execution_count": 83,
   "metadata": {},
   "outputs": [],
   "source": [
    "model.add(Dropout(0.25))\n",
    "model.add(LSTM(64,activation = 'relu',return_sequences = False))\n",
    "model.add(Dropout(0.25))\n",
    "model.add(Dense(256, activation = 'relu'))\n",
    "model.add(Dense(word_num, activation = 'softmax'))"
   ]
  },
  {
   "cell_type": "code",
   "execution_count": 84,
   "metadata": {
    "scrolled": true
   },
   "outputs": [
    {
     "name": "stdout",
     "output_type": "stream",
     "text": [
      "Model: \"sequential_1\"\n",
      "_________________________________________________________________\n",
      "Layer (type)                 Output Shape              Param #   \n",
      "=================================================================\n",
      "batch_normalization_1 (Batch (None, None, 3)           12        \n",
      "_________________________________________________________________\n",
      "conv1d_1 (Conv1D)            (None, None, 64)          1024      \n",
      "_________________________________________________________________\n",
      "max_pooling1d_1 (MaxPooling1 (None, None, 64)          0         \n",
      "_________________________________________________________________\n",
      "dropout_1 (Dropout)          (None, None, 64)          0         \n",
      "_________________________________________________________________\n",
      "conv1d_2 (Conv1D)            (None, None, 90)          28890     \n",
      "_________________________________________________________________\n",
      "max_pooling1d_2 (MaxPooling1 (None, None, 90)          0         \n",
      "_________________________________________________________________\n",
      "dropout_2 (Dropout)          (None, None, 90)          0         \n",
      "_________________________________________________________________\n",
      "conv1d_3 (Conv1D)            (None, None, 64)          28864     \n",
      "_________________________________________________________________\n",
      "max_pooling1d_3 (MaxPooling1 (None, None, 64)          0         \n",
      "_________________________________________________________________\n",
      "dropout_3 (Dropout)          (None, None, 64)          0         \n",
      "_________________________________________________________________\n",
      "lstm_1 (LSTM)                (None, None, 128)         98816     \n",
      "_________________________________________________________________\n",
      "dropout_6 (Dropout)          (None, None, 128)         0         \n",
      "_________________________________________________________________\n",
      "lstm_3 (LSTM)                (None, 64)                49408     \n",
      "_________________________________________________________________\n",
      "dropout_7 (Dropout)          (None, 64)                0         \n",
      "_________________________________________________________________\n",
      "dense_3 (Dense)              (None, 256)               16640     \n",
      "_________________________________________________________________\n",
      "dense_4 (Dense)              (None, 20)                5140      \n",
      "=================================================================\n",
      "Total params: 228,794\n",
      "Trainable params: 228,788\n",
      "Non-trainable params: 6\n",
      "_________________________________________________________________\n"
     ]
    }
   ],
   "source": [
    "model.summary()"
   ]
  },
  {
   "cell_type": "code",
   "execution_count": 85,
   "metadata": {},
   "outputs": [],
   "source": [
    "model.compile(optimizer=Adam(lr=1e-4), loss='categorical_crossentropy',\n",
    "              metrics=[categorical_accuracy])"
   ]
  },
  {
   "cell_type": "code",
   "execution_count": 86,
   "metadata": {},
   "outputs": [],
   "source": [
    "check_point = ModelCheckpoint('1225_cnnlstm.h5', monitor='val_loss', mode='min', save_best_only=True)\n",
    "reduceRP = ReduceLROnPlateau(monitor='val_categorical_accuracy', \n",
    "                             factor=0.75, patience=5,\n",
    "                            mode = 'max',\n",
    "                            min_delta = 0.005,\n",
    "                            cooldown=3,\n",
    "                            verbose = 1)\n",
    "\n",
    "early = EarlyStopping(monitor=\"val_categorical_accuracy\", \n",
    "                      mode=\"max\", \n",
    "                      patience=10)\n",
    "\n",
    "callbacks = [check_point, early,reduceRP]"
   ]
  },
  {
   "cell_type": "code",
   "execution_count": 89,
   "metadata": {
    "scrolled": true
   },
   "outputs": [
    {
     "name": "stdout",
     "output_type": "stream",
     "text": [
      "Train on 245000 samples, validate on 105000 samples\n",
      "Epoch 1/50\n",
      "245000/245000 [==============================] - 193s 787us/step - loss: 2.2796 - categorical_accuracy: 0.2584 - val_loss: 1.9656 - val_categorical_accuracy: 0.3689\n",
      "Epoch 2/50\n",
      "245000/245000 [==============================] - 207s 846us/step - loss: 1.7403 - categorical_accuracy: 0.4426 - val_loss: 1.6283 - val_categorical_accuracy: 0.4782\n",
      "Epoch 3/50\n",
      "245000/245000 [==============================] - 215s 877us/step - loss: 1.4959 - categorical_accuracy: 0.5222 - val_loss: 1.3169 - val_categorical_accuracy: 0.5742\n",
      "Epoch 4/50\n",
      "245000/245000 [==============================] - 221s 901us/step - loss: 1.3391 - categorical_accuracy: 0.5749 - val_loss: 1.1746 - val_categorical_accuracy: 0.6262\n",
      "Epoch 5/50\n",
      "245000/245000 [==============================] - 223s 910us/step - loss: 1.2196 - categorical_accuracy: 0.6147 - val_loss: 1.0369 - val_categorical_accuracy: 0.6671\n",
      "Epoch 6/50\n",
      "245000/245000 [==============================] - 223s 909us/step - loss: 1.1290 - categorical_accuracy: 0.6445 - val_loss: 0.9304 - val_categorical_accuracy: 0.7034\n",
      "Epoch 7/50\n",
      "245000/245000 [==============================] - 225s 918us/step - loss: 1.0530 - categorical_accuracy: 0.6702 - val_loss: 0.8930 - val_categorical_accuracy: 0.7186\n",
      "Epoch 8/50\n",
      "245000/245000 [==============================] - 226s 921us/step - loss: 0.9880 - categorical_accuracy: 0.6900 - val_loss: 0.8157 - val_categorical_accuracy: 0.7413\n",
      "Epoch 9/50\n",
      "245000/245000 [==============================] - 226s 922us/step - loss: 0.9357 - categorical_accuracy: 0.7066 - val_loss: 0.7718 - val_categorical_accuracy: 0.7553\n",
      "Epoch 10/50\n",
      "245000/245000 [==============================] - 227s 927us/step - loss: 0.8930 - categorical_accuracy: 0.7199 - val_loss: 0.7228 - val_categorical_accuracy: 0.7718\n",
      "Epoch 11/50\n",
      "245000/245000 [==============================] - 229s 936us/step - loss: 0.8524 - categorical_accuracy: 0.7339 - val_loss: 0.6817 - val_categorical_accuracy: 0.7855\n",
      "Epoch 12/50\n",
      "245000/245000 [==============================] - 229s 934us/step - loss: 0.8185 - categorical_accuracy: 0.7445 - val_loss: 0.6313 - val_categorical_accuracy: 0.8010\n",
      "Epoch 13/50\n",
      "245000/245000 [==============================] - 230s 939us/step - loss: 0.7896 - categorical_accuracy: 0.7539 - val_loss: 0.6237 - val_categorical_accuracy: 0.8042\n",
      "Epoch 14/50\n",
      "245000/245000 [==============================] - 230s 937us/step - loss: 0.7626 - categorical_accuracy: 0.7620 - val_loss: 0.5785 - val_categorical_accuracy: 0.8158\n",
      "Epoch 15/50\n",
      "245000/245000 [==============================] - 229s 936us/step - loss: 0.7347 - categorical_accuracy: 0.7717 - val_loss: 0.5591 - val_categorical_accuracy: 0.8232\n",
      "Epoch 16/50\n",
      "245000/245000 [==============================] - 224s 913us/step - loss: 0.7104 - categorical_accuracy: 0.7790 - val_loss: 0.5526 - val_categorical_accuracy: 0.8259\n",
      "Epoch 17/50\n",
      "245000/245000 [==============================] - 223s 909us/step - loss: 0.6900 - categorical_accuracy: 0.7857 - val_loss: 0.5090 - val_categorical_accuracy: 0.8393\n",
      "Epoch 18/50\n",
      "245000/245000 [==============================] - 224s 913us/step - loss: 0.6728 - categorical_accuracy: 0.7902 - val_loss: 0.4905 - val_categorical_accuracy: 0.8443\n",
      "Epoch 19/50\n",
      "245000/245000 [==============================] - 223s 909us/step - loss: 0.6542 - categorical_accuracy: 0.7966 - val_loss: 0.4853 - val_categorical_accuracy: 0.8484\n",
      "Epoch 20/50\n",
      "245000/245000 [==============================] - 223s 909us/step - loss: 0.6385 - categorical_accuracy: 0.8014 - val_loss: 0.4651 - val_categorical_accuracy: 0.8547\n",
      "Epoch 21/50\n",
      "245000/245000 [==============================] - 223s 911us/step - loss: 0.6206 - categorical_accuracy: 0.8067 - val_loss: 0.4413 - val_categorical_accuracy: 0.8616\n",
      "Epoch 22/50\n",
      "245000/245000 [==============================] - 223s 909us/step - loss: 0.6065 - categorical_accuracy: 0.8118 - val_loss: 0.4425 - val_categorical_accuracy: 0.8614\n",
      "Epoch 23/50\n",
      "245000/245000 [==============================] - 222s 906us/step - loss: 0.5920 - categorical_accuracy: 0.8158 - val_loss: 0.4459 - val_categorical_accuracy: 0.8627\n",
      "Epoch 24/50\n",
      "245000/245000 [==============================] - 223s 909us/step - loss: 0.5782 - categorical_accuracy: 0.8205 - val_loss: 0.4123 - val_categorical_accuracy: 0.8710\n",
      "Epoch 25/50\n",
      "245000/245000 [==============================] - 223s 910us/step - loss: 0.5688 - categorical_accuracy: 0.8226 - val_loss: 0.4093 - val_categorical_accuracy: 0.8714\n",
      "Epoch 26/50\n",
      "245000/245000 [==============================] - 224s 915us/step - loss: 0.5581 - categorical_accuracy: 0.8259 - val_loss: 0.3909 - val_categorical_accuracy: 0.8788\n",
      "Epoch 27/50\n",
      "245000/245000 [==============================] - 224s 915us/step - loss: 0.5477 - categorical_accuracy: 0.8296 - val_loss: 0.4059 - val_categorical_accuracy: 0.8742\n",
      "Epoch 28/50\n",
      "245000/245000 [==============================] - 224s 913us/step - loss: 0.5385 - categorical_accuracy: 0.8325 - val_loss: 0.3878 - val_categorical_accuracy: 0.8805\n",
      "Epoch 29/50\n",
      "245000/245000 [==============================] - 232s 947us/step - loss: 0.5284 - categorical_accuracy: 0.8360 - val_loss: 0.3813 - val_categorical_accuracy: 0.8818\n",
      "Epoch 30/50\n",
      "245000/245000 [==============================] - 229s 936us/step - loss: 0.5202 - categorical_accuracy: 0.8381 - val_loss: 0.3672 - val_categorical_accuracy: 0.8857\n",
      "Epoch 31/50\n",
      "245000/245000 [==============================] - 230s 937us/step - loss: 0.5131 - categorical_accuracy: 0.8405 - val_loss: 0.3655 - val_categorical_accuracy: 0.8871\n",
      "Epoch 32/50\n",
      "245000/245000 [==============================] - 229s 933us/step - loss: 0.5054 - categorical_accuracy: 0.8430 - val_loss: 0.3479 - val_categorical_accuracy: 0.8905\n",
      "Epoch 33/50\n",
      "245000/245000 [==============================] - 228s 932us/step - loss: 0.4967 - categorical_accuracy: 0.8448 - val_loss: 0.3480 - val_categorical_accuracy: 0.8915\n",
      "Epoch 34/50\n",
      "245000/245000 [==============================] - 230s 939us/step - loss: 0.4904 - categorical_accuracy: 0.8482 - val_loss: 0.3488 - val_categorical_accuracy: 0.8919\n",
      "Epoch 35/50\n",
      "245000/245000 [==============================] - 231s 941us/step - loss: 0.4823 - categorical_accuracy: 0.8496 - val_loss: 0.3445 - val_categorical_accuracy: 0.8940\n",
      "Epoch 36/50\n",
      "245000/245000 [==============================] - 242s 988us/step - loss: 0.4764 - categorical_accuracy: 0.8516 - val_loss: 0.3459 - val_categorical_accuracy: 0.8921\n",
      "Epoch 37/50\n",
      "245000/245000 [==============================] - 263s 1ms/step - loss: 0.4709 - categorical_accuracy: 0.8533 - val_loss: 0.3331 - val_categorical_accuracy: 0.8969\n",
      "Epoch 38/50\n",
      "245000/245000 [==============================] - 258s 1ms/step - loss: 0.4648 - categorical_accuracy: 0.8555 - val_loss: 0.3267 - val_categorical_accuracy: 0.8978\n",
      "Epoch 39/50\n",
      "245000/245000 [==============================] - 251s 1ms/step - loss: 0.4571 - categorical_accuracy: 0.8577 - val_loss: 0.3184 - val_categorical_accuracy: 0.9006\n",
      "Epoch 40/50\n",
      "245000/245000 [==============================] - 233s 952us/step - loss: 0.4542 - categorical_accuracy: 0.8588 - val_loss: 0.3132 - val_categorical_accuracy: 0.9015\n",
      "Epoch 41/50\n",
      "245000/245000 [==============================] - 240s 980us/step - loss: 0.4489 - categorical_accuracy: 0.8607 - val_loss: 0.3117 - val_categorical_accuracy: 0.9033\n",
      "Epoch 42/50\n",
      "245000/245000 [==============================] - 232s 945us/step - loss: 0.4434 - categorical_accuracy: 0.8626 - val_loss: 0.3100 - val_categorical_accuracy: 0.9034\n",
      "Epoch 43/50\n",
      "245000/245000 [==============================] - 259s 1ms/step - loss: 0.4387 - categorical_accuracy: 0.8638 - val_loss: 0.3038 - val_categorical_accuracy: 0.9051\n",
      "Epoch 44/50\n",
      "245000/245000 [==============================] - 232s 947us/step - loss: 0.4346 - categorical_accuracy: 0.8643 - val_loss: 0.3048 - val_categorical_accuracy: 0.9054\n",
      "Epoch 45/50\n",
      "245000/245000 [==============================] - 233s 950us/step - loss: 0.4289 - categorical_accuracy: 0.8664 - val_loss: 0.3108 - val_categorical_accuracy: 0.9024\n",
      "Epoch 46/50\n",
      "245000/245000 [==============================] - 233s 952us/step - loss: 0.4266 - categorical_accuracy: 0.8673 - val_loss: 0.2957 - val_categorical_accuracy: 0.9078\n",
      "\n",
      "Epoch 00046: ReduceLROnPlateau reducing learning rate to 7.499999810534064e-05.\n",
      "Epoch 47/50\n"
     ]
    },
    {
     "name": "stdout",
     "output_type": "stream",
     "text": [
      "245000/245000 [==============================] - 230s 939us/step - loss: 0.4159 - categorical_accuracy: 0.8703 - val_loss: 0.2861 - val_categorical_accuracy: 0.9105\n",
      "Epoch 48/50\n",
      "245000/245000 [==============================] - 228s 931us/step - loss: 0.4111 - categorical_accuracy: 0.8715 - val_loss: 0.2845 - val_categorical_accuracy: 0.9110\n",
      "Epoch 49/50\n",
      "245000/245000 [==============================] - 231s 941us/step - loss: 0.4102 - categorical_accuracy: 0.8722 - val_loss: 0.2858 - val_categorical_accuracy: 0.9113\n",
      "Epoch 50/50\n",
      "245000/245000 [==============================] - 231s 942us/step - loss: 0.4065 - categorical_accuracy: 0.8736 - val_loss: 0.2818 - val_categorical_accuracy: 0.9124\n"
     ]
    }
   ],
   "source": [
    "hist = model.fit(train_X,train_y,\n",
    "    batch_size = batch,\n",
    "    epochs=epochs, verbose=1,\n",
    "    validation_data=(valid_X, valid_y),\n",
    "    callbacks = callbacks\n",
    ")"
   ]
  },
  {
   "cell_type": "code",
   "execution_count": 95,
   "metadata": {},
   "outputs": [],
   "source": [
    "model.compile(optimizer=Adam(lr=7.499999810534064e-05), loss='categorical_crossentropy',\n",
    "              metrics=[categorical_accuracy])"
   ]
  },
  {
   "cell_type": "code",
   "execution_count": 96,
   "metadata": {},
   "outputs": [
    {
     "name": "stdout",
     "output_type": "stream",
     "text": [
      "Train on 245000 samples, validate on 105000 samples\n",
      "Epoch 1/10\n",
      "245000/245000 [==============================] - 258s 1ms/step - loss: 0.4009 - categorical_accuracy: 0.8749 - val_loss: 0.2810 - val_categorical_accuracy: 0.9130\n",
      "Epoch 2/10\n",
      "245000/245000 [==============================] - 266s 1ms/step - loss: 0.4007 - categorical_accuracy: 0.8754 - val_loss: 0.2749 - val_categorical_accuracy: 0.9145\n",
      "Epoch 3/10\n",
      "245000/245000 [==============================] - 269s 1ms/step - loss: 0.3981 - categorical_accuracy: 0.8758 - val_loss: 0.2770 - val_categorical_accuracy: 0.9140\n",
      "Epoch 4/10\n",
      "245000/245000 [==============================] - 270s 1ms/step - loss: 0.3937 - categorical_accuracy: 0.8769 - val_loss: 0.2739 - val_categorical_accuracy: 0.9143\n",
      "Epoch 5/10\n",
      "245000/245000 [==============================] - 270s 1ms/step - loss: 0.3915 - categorical_accuracy: 0.8779 - val_loss: 0.2743 - val_categorical_accuracy: 0.9143\n",
      "Epoch 6/10\n",
      "245000/245000 [==============================] - 273s 1ms/step - loss: 0.3891 - categorical_accuracy: 0.8788 - val_loss: 0.2691 - val_categorical_accuracy: 0.9165\n",
      "\n",
      "Epoch 00006: ReduceLROnPlateau reducing learning rate to 5.6249997214763425e-05.\n",
      "Epoch 7/10\n",
      "245000/245000 [==============================] - 267s 1ms/step - loss: 0.3819 - categorical_accuracy: 0.8809 - val_loss: 0.2675 - val_categorical_accuracy: 0.9166\n",
      "Epoch 8/10\n",
      "245000/245000 [==============================] - 270s 1ms/step - loss: 0.3797 - categorical_accuracy: 0.8813 - val_loss: 0.2632 - val_categorical_accuracy: 0.9187\n",
      "Epoch 9/10\n",
      "245000/245000 [==============================] - 269s 1ms/step - loss: 0.3772 - categorical_accuracy: 0.8821 - val_loss: 0.2647 - val_categorical_accuracy: 0.9170\n",
      "Epoch 10/10\n",
      "245000/245000 [==============================] - 271s 1ms/step - loss: 0.3752 - categorical_accuracy: 0.8823 - val_loss: 0.2637 - val_categorical_accuracy: 0.9174\n"
     ]
    }
   ],
   "source": [
    "hist2 = model.fit(train_X,train_y,\n",
    "    batch_size = batch,\n",
    "    epochs=10, verbose=1,\n",
    "    validation_data=(valid_X, valid_y),\n",
    "    callbacks = callbacks\n",
    ")"
   ]
  },
  {
   "cell_type": "code",
   "execution_count": 100,
   "metadata": {},
   "outputs": [],
   "source": [
    "model.compile(optimizer=Adam(lr=5.6249997214763425e-05), loss='categorical_crossentropy',\n",
    "              metrics=[categorical_accuracy])"
   ]
  },
  {
   "cell_type": "code",
   "execution_count": 101,
   "metadata": {},
   "outputs": [
    {
     "name": "stdout",
     "output_type": "stream",
     "text": [
      "Train on 245000 samples, validate on 105000 samples\n",
      "Epoch 1/10\n",
      "245000/245000 [==============================] - 245s 999us/step - loss: 0.3738 - categorical_accuracy: 0.8838 - val_loss: 0.2649 - val_categorical_accuracy: 0.9173\n",
      "Epoch 2/10\n",
      "245000/245000 [==============================] - 263s 1ms/step - loss: 0.3736 - categorical_accuracy: 0.8833 - val_loss: 0.2591 - val_categorical_accuracy: 0.9191\n",
      "Epoch 3/10\n",
      "245000/245000 [==============================] - 264s 1ms/step - loss: 0.3700 - categorical_accuracy: 0.8841 - val_loss: 0.2677 - val_categorical_accuracy: 0.9170\n",
      "Epoch 4/10\n",
      "245000/245000 [==============================] - 265s 1ms/step - loss: 0.3710 - categorical_accuracy: 0.8834 - val_loss: 0.2649 - val_categorical_accuracy: 0.9179\n",
      "Epoch 5/10\n",
      "245000/245000 [==============================] - 266s 1ms/step - loss: 0.3685 - categorical_accuracy: 0.8848 - val_loss: 0.2565 - val_categorical_accuracy: 0.9207\n",
      "Epoch 6/10\n",
      "245000/245000 [==============================] - 266s 1ms/step - loss: 0.3677 - categorical_accuracy: 0.8843 - val_loss: 0.2576 - val_categorical_accuracy: 0.9197\n",
      "\n",
      "Epoch 00006: ReduceLROnPlateau reducing learning rate to 4.218749927531462e-05.\n",
      "Epoch 7/10\n",
      "245000/245000 [==============================] - 267s 1ms/step - loss: 0.3622 - categorical_accuracy: 0.8872 - val_loss: 0.2487 - val_categorical_accuracy: 0.9227\n",
      "Epoch 8/10\n",
      "245000/245000 [==============================] - 269s 1ms/step - loss: 0.3603 - categorical_accuracy: 0.8874 - val_loss: 0.2575 - val_categorical_accuracy: 0.9202\n",
      "Epoch 9/10\n",
      "245000/245000 [==============================] - 270s 1ms/step - loss: 0.3596 - categorical_accuracy: 0.8875 - val_loss: 0.2529 - val_categorical_accuracy: 0.9217\n",
      "Epoch 10/10\n",
      "245000/245000 [==============================] - 270s 1ms/step - loss: 0.3581 - categorical_accuracy: 0.8874 - val_loss: 0.2514 - val_categorical_accuracy: 0.9215\n"
     ]
    }
   ],
   "source": [
    "hist3 = model.fit(train_X,train_y,\n",
    "    batch_size = batch,\n",
    "    epochs=10, verbose=1,\n",
    "    validation_data=(valid_X, valid_y),\n",
    "    callbacks = callbacks\n",
    ")"
   ]
  },
  {
   "cell_type": "code",
   "execution_count": 105,
   "metadata": {},
   "outputs": [
    {
     "data": {
      "image/png": "[encoded data removed]",
      "text/plain": [
       "<Figure size 432x288 with 2 Axes>"
      ]
     },
     "metadata": {
      "needs_background": "light"
     },
     "output_type": "display_data"
    }
   ],
   "source": [
    "fig, loss_ax = plt.subplots()\n",
    "\n",
    "acc_ax = loss_ax.twinx()\n",
    "\n",
    "loss_ax.plot(hist.history['loss'], 'y', label='train loss')\n",
    "loss_ax.plot(hist.history['val_loss'], 'b', label='val loss')\n",
    "\n",
    "acc_ax.plot(hist.history['val_categorical_accuracy'], 'g', label='val categorical accuracy')\n",
    "acc_ax.plot(hist.history['categorical_accuracy'], 'r', label='categorical_accuracy')\n",
    "\n",
    "loss_ax.set_xlabel('epoch')\n",
    "loss_ax.set_ylabel('loss')\n",
    "acc_ax.set_ylabel('categorical_accuracy')\n",
    "\n",
    "loss_ax.legend(loc='upper left')\n",
    "acc_ax.legend(loc='lower left')\n",
    "\n",
    "plt.show()"
   ]
  },
  {
   "cell_type": "code",
   "execution_count": 106,
   "metadata": {},
   "outputs": [
    {
     "data": {
      "image/png": "[encoded data removed]",
      "text/plain": [
       "<Figure size 432x288 with 2 Axes>"
      ]
     },
     "metadata": {
      "needs_background": "light"
     },
     "output_type": "display_data"
    }
   ],
   "source": [
    "fig, loss_ax = plt.subplots()\n",
    "\n",
    "acc_ax = loss_ax.twinx()\n",
    "\n",
    "loss_ax.plot(hist2.history['loss'], 'y', label='train loss')\n",
    "loss_ax.plot(hist2.history['val_loss'], 'b', label='val loss')\n",
    "\n",
    "acc_ax.plot(hist2.history['val_categorical_accuracy'], 'g', label='val categorical accuracy')\n",
    "acc_ax.plot(hist2.history['categorical_accuracy'], 'r', label='categorical_accuracy')\n",
    "\n",
    "loss_ax.set_xlabel('epoch')\n",
    "loss_ax.set_ylabel('loss')\n",
    "acc_ax.set_ylabel('categorical_accuracy')\n",
    "\n",
    "loss_ax.legend(loc='upper left')\n",
    "acc_ax.legend(loc='lower left')\n",
    "\n",
    "plt.show()"
   ]
  },
  {
   "cell_type": "code",
   "execution_count": 107,
   "metadata": {},
   "outputs": [
    {
     "data": {
      "image/png": "[encoded data removed]",
      "text/plain": [
       "<Figure size 432x288 with 2 Axes>"
      ]
     },
     "metadata": {
      "needs_background": "light"
     },
     "output_type": "display_data"
    }
   ],
   "source": [
    "fig, loss_ax = plt.subplots()\n",
    "\n",
    "acc_ax = loss_ax.twinx()\n",
    "\n",
    "loss_ax.plot(hist3.history['loss'], 'y', label='train loss')\n",
    "loss_ax.plot(hist3.history['val_loss'], 'b', label='val loss')\n",
    "\n",
    "acc_ax.plot(hist3.history['val_categorical_accuracy'], 'g', label='val categorical accuracy')\n",
    "acc_ax.plot(hist3.history['categorical_accuracy'], 'r', label='categorical_accuracy')\n",
    "\n",
    "loss_ax.set_xlabel('epoch')\n",
    "loss_ax.set_ylabel('loss')\n",
    "acc_ax.set_ylabel('categorical_accuracy')\n",
    "\n",
    "loss_ax.legend(loc='upper left')\n",
    "acc_ax.legend(loc='lower left')\n",
    "\n",
    "plt.show()"
   ]
  },
  {
   "cell_type": "code",
   "execution_count": 108,
   "metadata": {},
   "outputs": [],
   "source": [
    "all_hist = dict()\n",
    "all_hist['loss'] = hist.history['loss'] + hist2.history['loss'] + hist3.history['loss']\n",
    "all_hist['val_loss'] = hist.history['val_loss'] + hist2.history['val_loss'] + hist3.history['val_loss']\n",
    "all_hist['val_categorical_accuracy'] = hist.history['val_categorical_accuracy'] + hist2.history['val_categorical_accuracy'] + hist3.history['val_categorical_accuracy']\n",
    "all_hist['categorical_accuracy'] = hist.history['categorical_accuracy'] + hist2.history['categorical_accuracy'] + hist3.history['categorical_accuracy']"
   ]
  },
  {
   "cell_type": "code",
   "execution_count": 109,
   "metadata": {},
   "outputs": [
    {
     "data": {
      "image/png": "[encoded data removed]",
      "text/plain": [
       "<Figure size 432x288 with 2 Axes>"
      ]
     },
     "metadata": {
      "needs_background": "light"
     },
     "output_type": "display_data"
    }
   ],
   "source": [
    "fig, loss_ax = plt.subplots()\n",
    "\n",
    "acc_ax = loss_ax.twinx()\n",
    "\n",
    "loss_ax.plot(all_hist['loss'], 'y', label='train loss')\n",
    "loss_ax.plot(all_hist['val_loss'], 'b', label='val loss')\n",
    "\n",
    "acc_ax.plot(all_hist['val_categorical_accuracy'], 'g', label='val categorical accuracy')\n",
    "acc_ax.plot(all_hist['categorical_accuracy'], 'r', label='categorical_accuracy')\n",
    "\n",
    "loss_ax.set_xlabel('epoch')\n",
    "loss_ax.set_ylabel('loss')\n",
    "acc_ax.set_ylabel('categorical_accuracy')\n",
    "\n",
    "loss_ax.legend(loc='upper left')\n",
    "acc_ax.legend(loc='lower left')\n",
    "\n",
    "plt.show()"
   ]
  },
  {
   "cell_type": "code",
   "execution_count": 110,
   "metadata": {},
   "outputs": [],
   "source": [
    "model_1 = load_model('1225_cnnlstm/1225_cnnlstm_1.h5')"
   ]
  },
  {
   "cell_type": "code",
   "execution_count": 111,
   "metadata": {},
   "outputs": [
    {
     "name": "stdout",
     "output_type": "stream",
     "text": [
      "150000/150000 [==============================] - 73s 484us/step\n"
     ]
    },
    {
     "data": {
      "text/plain": [
       "[0.28277286741932234, 0.9124266505241394]"
      ]
     },
     "execution_count": 111,
     "metadata": {},
     "output_type": "execute_result"
    }
   ],
   "source": [
    "model_1.evaluate(test_X, test_y)"
   ]
  },
  {
   "cell_type": "code",
   "execution_count": 112,
   "metadata": {},
   "outputs": [],
   "source": [
    "pred_y1 = model_1.predict(test_X, batch_size= batch)"
   ]
  },
  {
   "cell_type": "code",
   "execution_count": 113,
   "metadata": {},
   "outputs": [],
   "source": [
    "ppp1 = np.argmax(pred_y1,1)\n",
    "ttt = np.argmax(test_y,1)"
   ]
  },
  {
   "cell_type": "code",
   "execution_count": 114,
   "metadata": {},
   "outputs": [
    {
     "data": {
      "text/plain": [
       "<matplotlib.image.AxesImage at 0x2117144a4e0>"
      ]
     },
     "execution_count": 114,
     "metadata": {},
     "output_type": "execute_result"
    },
    {
     "data": {
      "image/png": "[encoded data removed]",
      "text/plain": [
       "<Figure size 288x288 with 1 Axes>"
      ]
     },
     "metadata": {
      "needs_background": "light"
     },
     "output_type": "display_data"
    }
   ],
   "source": [
    "plt.matshow(confusion_matrix(ttt,ppp1))"
   ]
  },
  {
   "cell_type": "code",
   "execution_count": 115,
   "metadata": {},
   "outputs": [
    {
     "name": "stdout",
     "output_type": "stream",
     "text": [
      "               precision    recall  f1-score   support\n",
      "\n",
      "          bat       0.90      0.92      0.91      7500\n",
      "         cake       0.95      0.92      0.93      7500\n",
      "       candle       0.93      0.89      0.91      7500\n",
      "       carrot       0.91      0.93      0.92      7500\n",
      "   chandelier       0.95      0.88      0.91      7500\n",
      "     computer       0.94      0.91      0.93      7500\n",
      "        couch       0.95      0.91      0.93      7500\n",
      "          dog       0.78      0.80      0.79      7500\n",
      "   light bulb       0.93      0.95      0.94      7500\n",
      "      mermaid       0.92      0.93      0.93      7500\n",
      "   microphone       0.96      0.91      0.93      7500\n",
      "       monkey       0.86      0.93      0.89      7500\n",
      "      octopus       0.93      0.96      0.94      7500\n",
      "       pliers       0.81      0.83      0.82      7500\n",
      "         pond       0.92      0.93      0.93      7500\n",
      "   sea turtle       0.89      0.92      0.90      7500\n",
      "        snake       0.92      0.89      0.91      7500\n",
      "   television       0.92      0.93      0.93      7500\n",
      "traffic light       0.97      0.98      0.97      7500\n",
      "  wine bottle       0.93      0.93      0.93      7500\n",
      "\n",
      "     accuracy                           0.91    150000\n",
      "    macro avg       0.91      0.91      0.91    150000\n",
      " weighted avg       0.91      0.91      0.91    150000\n",
      "\n"
     ]
    }
   ],
   "source": [
    "print(classification_report(ttt, ppp1, \n",
    "                            target_names = [x for x in word_le.classes_]))"
   ]
  },
  {
   "cell_type": "code",
   "execution_count": null,
   "metadata": {},
   "outputs": [],
   "source": []
  },
  {
   "cell_type": "code",
   "execution_count": null,
   "metadata": {},
   "outputs": [],
   "source": []
  },
  {
   "cell_type": "code",
   "execution_count": 119,
   "metadata": {},
   "outputs": [],
   "source": [
    "model_2 = load_model('1225_cnnlstm/1225_cnnlstm_2.h5')"
   ]
  },
  {
   "cell_type": "code",
   "execution_count": 120,
   "metadata": {},
   "outputs": [
    {
     "name": "stdout",
     "output_type": "stream",
     "text": [
      "150000/150000 [==============================] - 75s 498us/step\n"
     ]
    },
    {
     "data": {
      "text/plain": [
       "[0.26342185292085013, 0.917959988117218]"
      ]
     },
     "execution_count": 120,
     "metadata": {},
     "output_type": "execute_result"
    }
   ],
   "source": [
    "model_2.evaluate(test_X, test_y)"
   ]
  },
  {
   "cell_type": "code",
   "execution_count": 121,
   "metadata": {},
   "outputs": [],
   "source": [
    "pred_y2 = model_2.predict(test_X, batch_size= batch)"
   ]
  },
  {
   "cell_type": "code",
   "execution_count": 122,
   "metadata": {},
   "outputs": [],
   "source": [
    "ppp2 = np.argmax(pred_y2,1)"
   ]
  },
  {
   "cell_type": "code",
   "execution_count": 123,
   "metadata": {},
   "outputs": [
    {
     "data": {
      "text/plain": [
       "<matplotlib.image.AxesImage at 0x218345fa3c8>"
      ]
     },
     "execution_count": 123,
     "metadata": {},
     "output_type": "execute_result"
    },
    {
     "data": {
      "image/png": "[encoded data removed]",
      "text/plain": [
       "<Figure size 288x288 with 1 Axes>"
      ]
     },
     "metadata": {
      "needs_background": "light"
     },
     "output_type": "display_data"
    }
   ],
   "source": [
    "plt.matshow(confusion_matrix(ttt,ppp2))"
   ]
  },
  {
   "cell_type": "code",
   "execution_count": 124,
   "metadata": {},
   "outputs": [
    {
     "name": "stdout",
     "output_type": "stream",
     "text": [
      "               precision    recall  f1-score   support\n",
      "\n",
      "          bat       0.91      0.92      0.91      7500\n",
      "         cake       0.95      0.93      0.94      7500\n",
      "       candle       0.93      0.90      0.91      7500\n",
      "       carrot       0.92      0.93      0.93      7500\n",
      "   chandelier       0.92      0.92      0.92      7500\n",
      "     computer       0.94      0.92      0.93      7500\n",
      "        couch       0.96      0.92      0.93      7500\n",
      "          dog       0.82      0.79      0.81      7500\n",
      "   light bulb       0.95      0.94      0.94      7500\n",
      "      mermaid       0.92      0.94      0.93      7500\n",
      "   microphone       0.94      0.93      0.94      7500\n",
      "       monkey       0.89      0.91      0.90      7500\n",
      "      octopus       0.94      0.95      0.95      7500\n",
      "       pliers       0.79      0.87      0.83      7500\n",
      "         pond       0.93      0.93      0.93      7500\n",
      "   sea turtle       0.89      0.92      0.91      7500\n",
      "        snake       0.91      0.91      0.91      7500\n",
      "   television       0.94      0.92      0.93      7500\n",
      "traffic light       0.97      0.98      0.97      7500\n",
      "  wine bottle       0.93      0.94      0.93      7500\n",
      "\n",
      "     accuracy                           0.92    150000\n",
      "    macro avg       0.92      0.92      0.92    150000\n",
      " weighted avg       0.92      0.92      0.92    150000\n",
      "\n"
     ]
    }
   ],
   "source": [
    "print(classification_report(ttt, ppp2, \n",
    "                            target_names = [x for x in word_le.classes_]))"
   ]
  },
  {
   "cell_type": "code",
   "execution_count": null,
   "metadata": {},
   "outputs": [],
   "source": []
  },
  {
   "cell_type": "code",
   "execution_count": null,
   "metadata": {},
   "outputs": [],
   "source": []
  },
  {
   "cell_type": "code",
   "execution_count": 125,
   "metadata": {},
   "outputs": [
    {
     "name": "stdout",
     "output_type": "stream",
     "text": [
      "150000/150000 [==============================] - 81s 541us/step\n"
     ]
    },
    {
     "data": {
      "text/plain": [
       "[0.25186119577566785, 0.9217533469200134]"
      ]
     },
     "execution_count": 125,
     "metadata": {},
     "output_type": "execute_result"
    }
   ],
   "source": [
    "model.evaluate(test_X, test_y) #loss, categorical_entropy, categorical_accuracy"
   ]
  },
  {
   "cell_type": "code",
   "execution_count": 126,
   "metadata": {},
   "outputs": [],
   "source": [
    "pred_y = model.predict(test_X, batch_size= batch)"
   ]
  },
  {
   "cell_type": "code",
   "execution_count": 127,
   "metadata": {},
   "outputs": [],
   "source": [
    "ppp = np.argmax(pred_y,1)"
   ]
  },
  {
   "cell_type": "code",
   "execution_count": 128,
   "metadata": {},
   "outputs": [
    {
     "data": {
      "text/plain": [
       "<matplotlib.image.AxesImage at 0x218367b8dd8>"
      ]
     },
     "execution_count": 128,
     "metadata": {},
     "output_type": "execute_result"
    },
    {
     "data": {
      "image/png": "[encoded data removed]",
      "text/plain": [
       "<Figure size 288x288 with 1 Axes>"
      ]
     },
     "metadata": {
      "needs_background": "light"
     },
     "output_type": "display_data"
    }
   ],
   "source": [
    "plt.matshow(confusion_matrix(ttt,ppp))"
   ]
  },
  {
   "cell_type": "code",
   "execution_count": 129,
   "metadata": {},
   "outputs": [
    {
     "name": "stdout",
     "output_type": "stream",
     "text": [
      "               precision    recall  f1-score   support\n",
      "\n",
      "          bat       0.92      0.92      0.92      7500\n",
      "         cake       0.94      0.93      0.94      7500\n",
      "       candle       0.92      0.92      0.92      7500\n",
      "       carrot       0.93      0.93      0.93      7500\n",
      "   chandelier       0.94      0.91      0.93      7500\n",
      "     computer       0.92      0.95      0.93      7500\n",
      "        couch       0.96      0.92      0.94      7500\n",
      "          dog       0.82      0.80      0.81      7500\n",
      "   light bulb       0.94      0.95      0.94      7500\n",
      "      mermaid       0.93      0.94      0.93      7500\n",
      "   microphone       0.95      0.93      0.94      7500\n",
      "       monkey       0.89      0.92      0.90      7500\n",
      "      octopus       0.95      0.96      0.95      7500\n",
      "       pliers       0.83      0.84      0.84      7500\n",
      "         pond       0.93      0.93      0.93      7500\n",
      "   sea turtle       0.88      0.94      0.91      7500\n",
      "        snake       0.94      0.90      0.92      7500\n",
      "   television       0.95      0.91      0.93      7500\n",
      "traffic light       0.98      0.98      0.98      7500\n",
      "  wine bottle       0.93      0.94      0.93      7500\n",
      "\n",
      "     accuracy                           0.92    150000\n",
      "    macro avg       0.92      0.92      0.92    150000\n",
      " weighted avg       0.92      0.92      0.92    150000\n",
      "\n"
     ]
    }
   ],
   "source": [
    "print(classification_report(ttt, ppp, \n",
    "                            target_names = [x for x in word_le.classes_]))"
   ]
  },
  {
   "cell_type": "code",
   "execution_count": null,
   "metadata": {},
   "outputs": [],
   "source": []
  },
  {
   "cell_type": "code",
   "execution_count": null,
   "metadata": {},
   "outputs": [],
   "source": []
  },
  {
   "cell_type": "code",
   "execution_count": null,
   "metadata": {},
   "outputs": [],
   "source": []
  },
  {
   "cell_type": "code",
   "execution_count": null,
   "metadata": {},
   "outputs": [],
   "source": []
  },
  {
   "cell_type": "code",
   "execution_count": null,
   "metadata": {},
   "outputs": [],
   "source": []
  },
  {
   "cell_type": "code",
   "execution_count": null,
   "metadata": {},
   "outputs": [],
   "source": []
  },
  {
   "cell_type": "code",
   "execution_count": 236,
   "metadata": {},
   "outputs": [],
   "source": [
    "CNN.add(BatchNormalization(input_shape = (None,3)))"
   ]
  },
  {
   "cell_type": "code",
   "execution_count": 237,
   "metadata": {},
   "outputs": [
    {
     "data": {
      "text/plain": [
       "(None, None, 3)"
      ]
     },
     "execution_count": 237,
     "metadata": {},
     "output_type": "execute_result"
    }
   ],
   "source": [
    "CNN.output_shape"
   ]
  },
  {
   "cell_type": "code",
   "execution_count": 238,
   "metadata": {},
   "outputs": [],
   "source": [
    "CNN.add(Conv1D(64,(5,),activation = 'relu'))"
   ]
  },
  {
   "cell_type": "code",
   "execution_count": 239,
   "metadata": {},
   "outputs": [
    {
     "data": {
      "text/plain": [
       "(None, None, 64)"
      ]
     },
     "execution_count": 239,
     "metadata": {},
     "output_type": "execute_result"
    }
   ],
   "source": [
    "CNN.output_shape"
   ]
  },
  {
   "cell_type": "code",
   "execution_count": 240,
   "metadata": {},
   "outputs": [],
   "source": [
    "CNN.add(MaxPooling1D())"
   ]
  },
  {
   "cell_type": "code",
   "execution_count": 241,
   "metadata": {},
   "outputs": [
    {
     "data": {
      "text/plain": [
       "(None, None, 64)"
      ]
     },
     "execution_count": 241,
     "metadata": {},
     "output_type": "execute_result"
    }
   ],
   "source": [
    "CNN.output_shape"
   ]
  },
  {
   "cell_type": "code",
   "execution_count": 242,
   "metadata": {},
   "outputs": [],
   "source": [
    "CNN.add(Dropout(0.25))"
   ]
  },
  {
   "cell_type": "code",
   "execution_count": 243,
   "metadata": {},
   "outputs": [
    {
     "data": {
      "text/plain": [
       "(None, None, 64)"
      ]
     },
     "execution_count": 243,
     "metadata": {},
     "output_type": "execute_result"
    }
   ],
   "source": [
    "CNN.output_shape"
   ]
  },
  {
   "cell_type": "code",
   "execution_count": 244,
   "metadata": {},
   "outputs": [],
   "source": [
    "CNN.add(Conv1D(90,(5,),activation = 'relu'))\n",
    "CNN.add(MaxPooling1D())\n",
    "CNN.add(Dropout(0.3))"
   ]
  },
  {
   "cell_type": "code",
   "execution_count": 245,
   "metadata": {},
   "outputs": [
    {
     "data": {
      "text/plain": [
       "(None, None, 90)"
      ]
     },
     "execution_count": 245,
     "metadata": {},
     "output_type": "execute_result"
    }
   ],
   "source": [
    "CNN.output_shape"
   ]
  },
  {
   "cell_type": "code",
   "execution_count": 246,
   "metadata": {},
   "outputs": [],
   "source": [
    "CNN.add(Conv1D(64,(5,),activation = 'relu'))\n",
    "CNN.add(MaxPooling1D())\n",
    "CNN.add(Dropout(0.25))"
   ]
  },
  {
   "cell_type": "code",
   "execution_count": 247,
   "metadata": {},
   "outputs": [],
   "source": [
    "CNN.add(LSTM(128,activation = 'relu',return_sequences = True))"
   ]
  },
  {
   "cell_type": "code",
   "execution_count": 248,
   "metadata": {},
   "outputs": [],
   "source": [
    "CNN.add(Dropout(0.25))"
   ]
  },
  {
   "cell_type": "code",
   "execution_count": 249,
   "metadata": {},
   "outputs": [
    {
     "data": {
      "text/plain": [
       "(None, None, 128)"
      ]
     },
     "execution_count": 249,
     "metadata": {},
     "output_type": "execute_result"
    }
   ],
   "source": [
    "CNN.output_shape"
   ]
  },
  {
   "cell_type": "code",
   "execution_count": 250,
   "metadata": {},
   "outputs": [],
   "source": [
    "CNN.add(LSTM(64,activation = 'relu',return_sequences = False))\n",
    "CNN.add(Dropout(0.25))"
   ]
  },
  {
   "cell_type": "code",
   "execution_count": 251,
   "metadata": {},
   "outputs": [],
   "source": [
    "CNN.add(Dense(256, activation = 'relu'))"
   ]
  },
  {
   "cell_type": "code",
   "execution_count": 252,
   "metadata": {},
   "outputs": [],
   "source": [
    "CNN.add(Dense(word_num, activation = 'softmax'))"
   ]
  },
  {
   "cell_type": "code",
   "execution_count": 253,
   "metadata": {},
   "outputs": [],
   "source": [
    "CNN.compile(optimizer=Adam(lr=0.001), loss='categorical_crossentropy',\n",
    "              metrics=[categorical_crossentropy, categorical_accuracy])"
   ]
  },
  {
   "cell_type": "code",
   "execution_count": 254,
   "metadata": {
    "scrolled": true
   },
   "outputs": [
    {
     "name": "stdout",
     "output_type": "stream",
     "text": [
      "Model: \"sequential_1\"\n",
      "_________________________________________________________________\n",
      "Layer (type)                 Output Shape              Param #   \n",
      "=================================================================\n",
      "batch_normalization_1 (Batch (None, None, 3)           12        \n",
      "_________________________________________________________________\n",
      "conv1d_1 (Conv1D)            (None, None, 64)          1024      \n",
      "_________________________________________________________________\n",
      "max_pooling1d_1 (MaxPooling1 (None, None, 64)          0         \n",
      "_________________________________________________________________\n",
      "dropout_1 (Dropout)          (None, None, 64)          0         \n",
      "_________________________________________________________________\n",
      "conv1d_2 (Conv1D)            (None, None, 90)          28890     \n",
      "_________________________________________________________________\n",
      "max_pooling1d_2 (MaxPooling1 (None, None, 90)          0         \n",
      "_________________________________________________________________\n",
      "dropout_2 (Dropout)          (None, None, 90)          0         \n",
      "_________________________________________________________________\n",
      "conv1d_3 (Conv1D)            (None, None, 64)          28864     \n",
      "_________________________________________________________________\n",
      "max_pooling1d_3 (MaxPooling1 (None, None, 64)          0         \n",
      "_________________________________________________________________\n",
      "dropout_3 (Dropout)          (None, None, 64)          0         \n",
      "_________________________________________________________________\n",
      "lstm_1 (LSTM)                (None, None, 128)         98816     \n",
      "_________________________________________________________________\n",
      "dropout_4 (Dropout)          (None, None, 128)         0         \n",
      "_________________________________________________________________\n",
      "lstm_2 (LSTM)                (None, 64)                49408     \n",
      "_________________________________________________________________\n",
      "dropout_5 (Dropout)          (None, 64)                0         \n",
      "_________________________________________________________________\n",
      "dense_1 (Dense)              (None, 256)               16640     \n",
      "_________________________________________________________________\n",
      "dense_2 (Dense)              (None, 100)               25700     \n",
      "=================================================================\n",
      "Total params: 249,354\n",
      "Trainable params: 249,348\n",
      "Non-trainable params: 6\n",
      "_________________________________________________________________\n"
     ]
    }
   ],
   "source": [
    "CNN.summary()"
   ]
  },
  {
   "cell_type": "code",
   "execution_count": 255,
   "metadata": {},
   "outputs": [],
   "source": [
    "check_point = ModelCheckpoint('model_12120335.h5', monitor='val_loss', mode='min', save_best_only=True,\n",
    "                    save_weights_only=True)\n",
    "reduceRP = ReduceLROnPlateau(monitor='val_loss', factor=0.75, patience=10,\n",
    "                          mode='min', min_lr= 0.0001, verbose=1)\n",
    "early = EarlyStopping(monitor=\"val_loss\", \n",
    "                      mode=\"min\", \n",
    "                      patience=15)\n",
    "\n",
    "callbacks = [check_point, early, reduceRP]"
   ]
  },
  {
   "cell_type": "code",
   "execution_count": 264,
   "metadata": {},
   "outputs": [],
   "source": [
    "batch = 64\n",
    "STEPS = 100\n",
    "epochs = 100"
   ]
  },
  {
   "cell_type": "code",
   "execution_count": 265,
   "metadata": {},
   "outputs": [
    {
     "name": "stdout",
     "output_type": "stream",
     "text": [
      "Train on 245000 samples, validate on 105000 samples\n",
      "Epoch 1/100\n",
      "245000/245000 [==============================] - 310s 1ms/step - loss: 3.4654 - categorical_crossentropy: 3.4654 - categorical_accuracy: 0.1389 - val_loss: 2.6451 - val_categorical_crossentropy: 2.6451 - val_categorical_accuracy: 0.3107\n",
      "Epoch 2/100\n",
      "245000/245000 [==============================] - 330s 1ms/step - loss: 2.6023 - categorical_crossentropy: 2.6023 - categorical_accuracy: 0.3164 - val_loss: 2.0350 - val_categorical_crossentropy: 2.0350 - val_categorical_accuracy: 0.4504\n",
      "Epoch 3/100\n",
      "245000/245000 [==============================] - 350s 1ms/step - loss: 2.2284 - categorical_crossentropy: 2.2284 - categorical_accuracy: 0.4059 - val_loss: 1.7184 - val_categorical_crossentropy: 1.7184 - val_categorical_accuracy: 0.5321\n",
      "Epoch 4/100\n",
      "245000/245000 [==============================] - 322s 1ms/step - loss: 2.0151 - categorical_crossentropy: 2.0151 - categorical_accuracy: 0.4591 - val_loss: 1.5441 - val_categorical_crossentropy: 1.5441 - val_categorical_accuracy: 0.5747\n",
      "Epoch 5/100\n",
      "245000/245000 [==============================] - 271s 1ms/step - loss: 1.8672 - categorical_crossentropy: 1.8672 - categorical_accuracy: 0.4965 - val_loss: 1.4346 - val_categorical_crossentropy: 1.4346 - val_categorical_accuracy: 0.6037\n",
      "Epoch 6/100\n",
      "245000/245000 [==============================] - 310s 1ms/step - loss: 1.7666 - categorical_crossentropy: 1.7666 - categorical_accuracy: 0.5220 - val_loss: 1.3414 - val_categorical_crossentropy: 1.3414 - val_categorical_accuracy: 0.6289\n",
      "Epoch 7/100\n",
      "245000/245000 [==============================] - 292s 1ms/step - loss: 1.7002 - categorical_crossentropy: 1.7002 - categorical_accuracy: 0.5384 - val_loss: 1.2779 - val_categorical_crossentropy: 1.2779 - val_categorical_accuracy: 0.6437\n",
      "Epoch 8/100\n",
      "245000/245000 [==============================] - 269s 1ms/step - loss: 1.6301 - categorical_crossentropy: 1.6301 - categorical_accuracy: 0.5556 - val_loss: 1.2276 - val_categorical_crossentropy: 1.2276 - val_categorical_accuracy: 0.6575\n",
      "Epoch 9/100\n",
      "245000/245000 [==============================] - 279s 1ms/step - loss: 1.5865 - categorical_crossentropy: 1.5865 - categorical_accuracy: 0.5669 - val_loss: 1.1823 - val_categorical_crossentropy: 1.1823 - val_categorical_accuracy: 0.6686\n",
      "Epoch 10/100\n",
      "245000/245000 [==============================] - 262s 1ms/step - loss: 1.5598 - categorical_crossentropy: 1.5598 - categorical_accuracy: 0.5742 - val_loss: 1.1543 - val_categorical_crossentropy: 1.1543 - val_categorical_accuracy: 0.6756\n",
      "Epoch 11/100\n",
      "245000/245000 [==============================] - 271s 1ms/step - loss: 1.5153 - categorical_crossentropy: 1.5153 - categorical_accuracy: 0.5858 - val_loss: 1.1346 - val_categorical_crossentropy: 1.1346 - val_categorical_accuracy: 0.6812\n",
      "Epoch 12/100\n",
      "245000/245000 [==============================] - 288s 1ms/step - loss: 1.4845 - categorical_crossentropy: 1.4845 - categorical_accuracy: 0.5916 - val_loss: 1.1058 - val_categorical_crossentropy: 1.1058 - val_categorical_accuracy: 0.6876\n",
      "Epoch 13/100\n",
      "245000/245000 [==============================] - 288s 1ms/step - loss: 1.4636 - categorical_crossentropy: 1.4636 - categorical_accuracy: 0.5987 - val_loss: 1.0788 - val_categorical_crossentropy: 1.0788 - val_categorical_accuracy: 0.6958\n",
      "Epoch 14/100\n",
      "245000/245000 [==============================] - 277s 1ms/step - loss: 1.4436 - categorical_crossentropy: 1.4436 - categorical_accuracy: 0.6038 - val_loss: 1.0680 - val_categorical_crossentropy: 1.0680 - val_categorical_accuracy: 0.6980\n",
      "Epoch 15/100\n",
      "245000/245000 [==============================] - 286s 1ms/step - loss: 1.4281 - categorical_crossentropy: 1.4281 - categorical_accuracy: 0.6076 - val_loss: 1.0576 - val_categorical_crossentropy: 1.0576 - val_categorical_accuracy: 0.7027\n",
      "Epoch 16/100\n",
      "245000/245000 [==============================] - 284s 1ms/step - loss: 1.4092 - categorical_crossentropy: 1.4092 - categorical_accuracy: 0.6139 - val_loss: 1.0345 - val_categorical_crossentropy: 1.0345 - val_categorical_accuracy: 0.7073\n",
      "Epoch 17/100\n",
      "245000/245000 [==============================] - 298s 1ms/step - loss: 1.3958 - categorical_crossentropy: 1.3958 - categorical_accuracy: 0.6151 - val_loss: 1.0336 - val_categorical_crossentropy: 1.0336 - val_categorical_accuracy: 0.7093\n",
      "Epoch 18/100\n",
      "245000/245000 [==============================] - 294s 1ms/step - loss: 1.3825 - categorical_crossentropy: 1.3825 - categorical_accuracy: 0.6201 - val_loss: 1.0263 - val_categorical_crossentropy: 1.0263 - val_categorical_accuracy: 0.7099\n",
      "Epoch 19/100\n",
      "245000/245000 [==============================] - 290s 1ms/step - loss: 1.3679 - categorical_crossentropy: 1.3679 - categorical_accuracy: 0.6238 - val_loss: 1.0148 - val_categorical_crossentropy: 1.0148 - val_categorical_accuracy: 0.7119\n",
      "Epoch 20/100\n",
      "245000/245000 [==============================] - 297s 1ms/step - loss: 1.3559 - categorical_crossentropy: 1.3559 - categorical_accuracy: 0.6265 - val_loss: 1.0097 - val_categorical_crossentropy: 1.0097 - val_categorical_accuracy: 0.7158\n",
      "Epoch 21/100\n",
      "245000/245000 [==============================] - 305s 1ms/step - loss: 1.3451 - categorical_crossentropy: 1.3451 - categorical_accuracy: 0.6298 - val_loss: 0.9728 - val_categorical_crossentropy: 0.9728 - val_categorical_accuracy: 0.7237\n",
      "Epoch 22/100\n",
      "245000/245000 [==============================] - 302s 1ms/step - loss: 1.3350 - categorical_crossentropy: 1.3350 - categorical_accuracy: 0.6309 - val_loss: 0.9703 - val_categorical_crossentropy: 0.9703 - val_categorical_accuracy: 0.7280\n",
      "Epoch 23/100\n",
      "245000/245000 [==============================] - 290s 1ms/step - loss: 1.3289 - categorical_crossentropy: 1.3289 - categorical_accuracy: 0.6336 - val_loss: 0.9671 - val_categorical_crossentropy: 0.9671 - val_categorical_accuracy: 0.7262\n",
      "Epoch 24/100\n",
      "245000/245000 [==============================] - 293s 1ms/step - loss: 1.3180 - categorical_crossentropy: 1.3180 - categorical_accuracy: 0.6358 - val_loss: 0.9830 - val_categorical_crossentropy: 0.9830 - val_categorical_accuracy: 0.7229\n",
      "Epoch 25/100\n",
      "245000/245000 [==============================] - 296s 1ms/step - loss: 1.3072 - categorical_crossentropy: 1.3072 - categorical_accuracy: 0.6386 - val_loss: 0.9682 - val_categorical_crossentropy: 0.9682 - val_categorical_accuracy: 0.7268\n",
      "Epoch 26/100\n",
      "245000/245000 [==============================] - 296s 1ms/step - loss: 1.3004 - categorical_crossentropy: 1.3004 - categorical_accuracy: 0.6393 - val_loss: 0.9599 - val_categorical_crossentropy: 0.9599 - val_categorical_accuracy: 0.7277\n",
      "Epoch 27/100\n",
      "245000/245000 [==============================] - 305s 1ms/step - loss: 1.2930 - categorical_crossentropy: 1.2930 - categorical_accuracy: 0.6420 - val_loss: 0.9693 - val_categorical_crossentropy: 0.9693 - val_categorical_accuracy: 0.7244\n",
      "Epoch 28/100\n",
      "245000/245000 [==============================] - 304s 1ms/step - loss: 1.2843 - categorical_crossentropy: 1.2843 - categorical_accuracy: 0.6443 - val_loss: 0.9433 - val_categorical_crossentropy: 0.9433 - val_categorical_accuracy: 0.7341\n",
      "Epoch 29/100\n",
      "245000/245000 [==============================] - 303s 1ms/step - loss: 1.2786 - categorical_crossentropy: 1.2786 - categorical_accuracy: 0.6455 - val_loss: 0.9440 - val_categorical_crossentropy: 0.9440 - val_categorical_accuracy: 0.7319\n",
      "Epoch 30/100\n",
      "245000/245000 [==============================] - 302s 1ms/step - loss: 1.2675 - categorical_crossentropy: 1.2675 - categorical_accuracy: 0.6490 - val_loss: 0.9380 - val_categorical_crossentropy: 0.9380 - val_categorical_accuracy: 0.7326\n",
      "Epoch 31/100\n",
      "245000/245000 [==============================] - 304s 1ms/step - loss: 1.2669 - categorical_crossentropy: 1.2669 - categorical_accuracy: 0.6485 - val_loss: 0.9221 - val_categorical_crossentropy: 0.9221 - val_categorical_accuracy: 0.7387\n",
      "Epoch 32/100\n",
      "245000/245000 [==============================] - 305s 1ms/step - loss: 1.2601 - categorical_crossentropy: 1.2601 - categorical_accuracy: 0.6517 - val_loss: 0.9183 - val_categorical_crossentropy: 0.9183 - val_categorical_accuracy: 0.7393\n",
      "Epoch 33/100\n",
      "245000/245000 [==============================] - 303s 1ms/step - loss: 1.2531 - categorical_crossentropy: 1.2531 - categorical_accuracy: 0.6520 - val_loss: 0.9395 - val_categorical_crossentropy: 0.9395 - val_categorical_accuracy: 0.7324\n",
      "Epoch 34/100\n",
      "245000/245000 [==============================] - 304s 1ms/step - loss: 1.2515 - categorical_crossentropy: 1.2515 - categorical_accuracy: 0.6529 - val_loss: 0.9265 - val_categorical_crossentropy: 0.9265 - val_categorical_accuracy: 0.7364\n",
      "Epoch 35/100\n",
      "245000/245000 [==============================] - 305s 1ms/step - loss: 1.2416 - categorical_crossentropy: 1.2416 - categorical_accuracy: 0.6543 - val_loss: 0.9155 - val_categorical_crossentropy: 0.9155 - val_categorical_accuracy: 0.7412\n",
      "Epoch 36/100\n",
      "245000/245000 [==============================] - 304s 1ms/step - loss: 1.2380 - categorical_crossentropy: 1.2380 - categorical_accuracy: 0.6566 - val_loss: 0.9154 - val_categorical_crossentropy: 0.9154 - val_categorical_accuracy: 0.7395\n",
      "Epoch 37/100\n",
      "245000/245000 [==============================] - 304s 1ms/step - loss: 1.2349 - categorical_crossentropy: 1.2349 - categorical_accuracy: 0.6568 - val_loss: 0.9126 - val_categorical_crossentropy: 0.9126 - val_categorical_accuracy: 0.7411\n",
      "Epoch 38/100\n",
      "245000/245000 [==============================] - 303s 1ms/step - loss: 1.2333 - categorical_crossentropy: 1.2334 - categorical_accuracy: 0.6581 - val_loss: 0.9100 - val_categorical_crossentropy: 0.9100 - val_categorical_accuracy: 0.7430\n",
      "Epoch 39/100\n",
      "245000/245000 [==============================] - 305s 1ms/step - loss: 1.2262 - categorical_crossentropy: 1.2262 - categorical_accuracy: 0.6591 - val_loss: 0.9021 - val_categorical_crossentropy: 0.9021 - val_categorical_accuracy: 0.7439\n",
      "Epoch 40/100\n",
      "245000/245000 [==============================] - 306s 1ms/step - loss: 1.2250 - categorical_crossentropy: 1.2250 - categorical_accuracy: 0.6582 - val_loss: 0.9079 - val_categorical_crossentropy: 0.9079 - val_categorical_accuracy: 0.7419\n",
      "Epoch 41/100\n",
      "245000/245000 [==============================] - 308s 1ms/step - loss: 1.2204 - categorical_crossentropy: 1.2204 - categorical_accuracy: 0.6619 - val_loss: 0.8863 - val_categorical_crossentropy: 0.8863 - val_categorical_accuracy: 0.7476\n",
      "Epoch 42/100\n",
      "245000/245000 [==============================] - 306s 1ms/step - loss: 1.2333 - categorical_crossentropy: 1.2333 - categorical_accuracy: 0.6580 - val_loss: 0.8915 - val_categorical_crossentropy: 0.8915 - val_categorical_accuracy: 0.7467\n",
      "Epoch 43/100\n",
      "245000/245000 [==============================] - 303s 1ms/step - loss: 1.2070 - categorical_crossentropy: 1.2070 - categorical_accuracy: 0.6628 - val_loss: 0.9005 - val_categorical_crossentropy: 0.9005 - val_categorical_accuracy: 0.7444\n",
      "Epoch 44/100\n",
      "245000/245000 [==============================] - 304s 1ms/step - loss: 1.2210 - categorical_crossentropy: 1.2210 - categorical_accuracy: 0.6611 - val_loss: 0.8895 - val_categorical_crossentropy: 0.8895 - val_categorical_accuracy: 0.7473\n",
      "Epoch 45/100\n",
      "245000/245000 [==============================] - 304s 1ms/step - loss: 1.2401 - categorical_crossentropy: 1.2401 - categorical_accuracy: 0.6562 - val_loss: 1.1043 - val_categorical_crossentropy: 1.1043 - val_categorical_accuracy: 0.6919\n",
      "Epoch 46/100\n",
      "245000/245000 [==============================] - 302s 1ms/step - loss: 1.2152 - categorical_crossentropy: 1.2152 - categorical_accuracy: 0.6612 - val_loss: 0.8698 - val_categorical_crossentropy: 0.8698 - val_categorical_accuracy: 0.7508\n",
      "Epoch 47/100\n",
      "245000/245000 [==============================] - 302s 1ms/step - loss: 1.1972 - categorical_crossentropy: 1.1972 - categorical_accuracy: 0.6666 - val_loss: 0.8804 - val_categorical_crossentropy: 0.8804 - val_categorical_accuracy: 0.7505\n",
      "Epoch 48/100\n",
      "245000/245000 [==============================] - 301s 1ms/step - loss: 1.1952 - categorical_crossentropy: 1.1952 - categorical_accuracy: 0.6669 - val_loss: 0.8885 - val_categorical_crossentropy: 0.8885 - val_categorical_accuracy: 0.7477\n",
      "Epoch 49/100\n",
      "245000/245000 [==============================] - 301s 1ms/step - loss: 1.2051 - categorical_crossentropy: 1.2051 - categorical_accuracy: 0.6647 - val_loss: 0.8794 - val_categorical_crossentropy: 0.8794 - val_categorical_accuracy: 0.7484\n",
      "Epoch 50/100\n",
      "245000/245000 [==============================] - 275s 1ms/step - loss: 1.1842 - categorical_crossentropy: 1.1842 - categorical_accuracy: 0.6698 - val_loss: 0.9026 - val_categorical_crossentropy: 0.9026 - val_categorical_accuracy: 0.7432\n",
      "Epoch 51/100\n",
      "245000/245000 [==============================] - 260s 1ms/step - loss: 1.1855 - categorical_crossentropy: 1.1855 - categorical_accuracy: 0.6683 - val_loss: 0.8783 - val_categorical_crossentropy: 0.8783 - val_categorical_accuracy: 0.7491\n",
      "Epoch 52/100\n",
      "245000/245000 [==============================] - 259s 1ms/step - loss: 1.1806 - categorical_crossentropy: 1.1806 - categorical_accuracy: 0.6704 - val_loss: 0.8755 - val_categorical_crossentropy: 0.8755 - val_categorical_accuracy: 0.7495\n",
      "Epoch 53/100\n",
      "245000/245000 [==============================] - 251s 1ms/step - loss: 1.1800 - categorical_crossentropy: 1.1800 - categorical_accuracy: 0.6710 - val_loss: 0.8741 - val_categorical_crossentropy: 0.8741 - val_categorical_accuracy: 0.7508\n",
      "Epoch 54/100\n",
      "245000/245000 [==============================] - 254s 1ms/step - loss: 1.1749 - categorical_crossentropy: 1.1749 - categorical_accuracy: 0.6717 - val_loss: 0.8548 - val_categorical_crossentropy: 0.8548 - val_categorical_accuracy: 0.7556\n",
      "Epoch 55/100\n",
      "245000/245000 [==============================] - 291s 1ms/step - loss: 1.1809 - categorical_crossentropy: 1.1809 - categorical_accuracy: 0.6704 - val_loss: 0.8993 - val_categorical_crossentropy: 0.8993 - val_categorical_accuracy: 0.7433\n",
      "Epoch 56/100\n",
      "245000/245000 [==============================] - 244s 995us/step - loss: 1.3379 - categorical_crossentropy: 1.3379 - categorical_accuracy: 0.6314 - val_loss: 0.9000 - val_categorical_crossentropy: 0.9000 - val_categorical_accuracy: 0.7455\n",
      "Epoch 57/100\n",
      "245000/245000 [==============================] - 242s 989us/step - loss: 1.1975 - categorical_crossentropy: 1.1975 - categorical_accuracy: 0.6662 - val_loss: 0.8882 - val_categorical_crossentropy: 0.8882 - val_categorical_accuracy: 0.7468\n",
      "Epoch 58/100\n",
      "245000/245000 [==============================] - 243s 993us/step - loss: 1.1722 - categorical_crossentropy: 1.1722 - categorical_accuracy: 0.6714 - val_loss: 0.8574 - val_categorical_crossentropy: 0.8574 - val_categorical_accuracy: 0.7555\n",
      "Epoch 59/100\n",
      "245000/245000 [==============================] - 243s 992us/step - loss: 1.1718 - categorical_crossentropy: 1.1718 - categorical_accuracy: 0.6722 - val_loss: 0.8600 - val_categorical_crossentropy: 0.8600 - val_categorical_accuracy: 0.7545\n",
      "Epoch 60/100\n",
      "105024/245000 [===========>..................] - ETA: 2:09 - loss: 1.1600 - categorical_crossentropy: 1.1600 - categorical_accuracy: 0.6752"
     ]
    },
    {
     "ename": "KeyboardInterrupt",
     "evalue": "",
     "output_type": "error",
     "traceback": [
      "\u001b[1;31m---------------------------------------------------------------------------\u001b[0m",
      "\u001b[1;31mKeyboardInterrupt\u001b[0m                         Traceback (most recent call last)",
      "\u001b[1;32m<ipython-input-265-e57f37df86ce>\u001b[0m in \u001b[0;36m<module>\u001b[1;34m\u001b[0m\n\u001b[0;32m      3\u001b[0m     \u001b[0mepochs\u001b[0m\u001b[1;33m=\u001b[0m\u001b[0mepochs\u001b[0m\u001b[1;33m,\u001b[0m \u001b[0mverbose\u001b[0m\u001b[1;33m=\u001b[0m\u001b[1;36m1\u001b[0m\u001b[1;33m,\u001b[0m\u001b[1;33m\u001b[0m\u001b[0m\n\u001b[0;32m      4\u001b[0m     \u001b[0mvalidation_data\u001b[0m\u001b[1;33m=\u001b[0m\u001b[1;33m(\u001b[0m\u001b[0mvalid_X\u001b[0m\u001b[1;33m,\u001b[0m \u001b[0mvalid_y\u001b[0m\u001b[1;33m)\u001b[0m\u001b[1;33m,\u001b[0m\u001b[1;33m\u001b[0m\u001b[0m\n\u001b[1;32m----> 5\u001b[1;33m     \u001b[0mcallbacks\u001b[0m \u001b[1;33m=\u001b[0m \u001b[0mcallbacks\u001b[0m\u001b[1;33m\u001b[0m\u001b[0m\n\u001b[0m\u001b[0;32m      6\u001b[0m )\n",
      "\u001b[1;32mC:\\Users\\julia\\Desktop\\tf\\lib\\site-packages\\keras\\engine\\training.py\u001b[0m in \u001b[0;36mfit\u001b[1;34m(self, x, y, batch_size, epochs, verbose, callbacks, validation_split, validation_data, shuffle, class_weight, sample_weight, initial_epoch, steps_per_epoch, validation_steps, validation_freq, max_queue_size, workers, use_multiprocessing, **kwargs)\u001b[0m\n\u001b[0;32m   1237\u001b[0m                                         \u001b[0msteps_per_epoch\u001b[0m\u001b[1;33m=\u001b[0m\u001b[0msteps_per_epoch\u001b[0m\u001b[1;33m,\u001b[0m\u001b[1;33m\u001b[0m\u001b[0m\n\u001b[0;32m   1238\u001b[0m                                         \u001b[0mvalidation_steps\u001b[0m\u001b[1;33m=\u001b[0m\u001b[0mvalidation_steps\u001b[0m\u001b[1;33m,\u001b[0m\u001b[1;33m\u001b[0m\u001b[0m\n\u001b[1;32m-> 1239\u001b[1;33m                                         validation_freq=validation_freq)\n\u001b[0m\u001b[0;32m   1240\u001b[0m \u001b[1;33m\u001b[0m\u001b[0m\n\u001b[0;32m   1241\u001b[0m     def evaluate(self,\n",
      "\u001b[1;32mC:\\Users\\julia\\Desktop\\tf\\lib\\site-packages\\keras\\engine\\training_arrays.py\u001b[0m in \u001b[0;36mfit_loop\u001b[1;34m(model, fit_function, fit_inputs, out_labels, batch_size, epochs, verbose, callbacks, val_function, val_inputs, shuffle, initial_epoch, steps_per_epoch, validation_steps, validation_freq)\u001b[0m\n\u001b[0;32m    194\u001b[0m                     \u001b[0mins_batch\u001b[0m\u001b[1;33m[\u001b[0m\u001b[0mi\u001b[0m\u001b[1;33m]\u001b[0m \u001b[1;33m=\u001b[0m \u001b[0mins_batch\u001b[0m\u001b[1;33m[\u001b[0m\u001b[0mi\u001b[0m\u001b[1;33m]\u001b[0m\u001b[1;33m.\u001b[0m\u001b[0mtoarray\u001b[0m\u001b[1;33m(\u001b[0m\u001b[1;33m)\u001b[0m\u001b[1;33m\u001b[0m\u001b[0m\n\u001b[0;32m    195\u001b[0m \u001b[1;33m\u001b[0m\u001b[0m\n\u001b[1;32m--> 196\u001b[1;33m                 \u001b[0mouts\u001b[0m \u001b[1;33m=\u001b[0m \u001b[0mfit_function\u001b[0m\u001b[1;33m(\u001b[0m\u001b[0mins_batch\u001b[0m\u001b[1;33m)\u001b[0m\u001b[1;33m\u001b[0m\u001b[0m\n\u001b[0m\u001b[0;32m    197\u001b[0m                 \u001b[0mouts\u001b[0m \u001b[1;33m=\u001b[0m \u001b[0mto_list\u001b[0m\u001b[1;33m(\u001b[0m\u001b[0mouts\u001b[0m\u001b[1;33m)\u001b[0m\u001b[1;33m\u001b[0m\u001b[0m\n\u001b[0;32m    198\u001b[0m                 \u001b[1;32mfor\u001b[0m \u001b[0ml\u001b[0m\u001b[1;33m,\u001b[0m \u001b[0mo\u001b[0m \u001b[1;32min\u001b[0m \u001b[0mzip\u001b[0m\u001b[1;33m(\u001b[0m\u001b[0mout_labels\u001b[0m\u001b[1;33m,\u001b[0m \u001b[0mouts\u001b[0m\u001b[1;33m)\u001b[0m\u001b[1;33m:\u001b[0m\u001b[1;33m\u001b[0m\u001b[0m\n",
      "\u001b[1;32mC:\\Users\\julia\\Desktop\\tf\\lib\\site-packages\\tensorflow_core\\python\\keras\\backend.py\u001b[0m in \u001b[0;36m__call__\u001b[1;34m(self, inputs)\u001b[0m\n\u001b[0;32m   3738\u001b[0m         \u001b[0mvalue\u001b[0m \u001b[1;33m=\u001b[0m \u001b[0mmath_ops\u001b[0m\u001b[1;33m.\u001b[0m\u001b[0mcast\u001b[0m\u001b[1;33m(\u001b[0m\u001b[0mvalue\u001b[0m\u001b[1;33m,\u001b[0m \u001b[0mtensor\u001b[0m\u001b[1;33m.\u001b[0m\u001b[0mdtype\u001b[0m\u001b[1;33m)\u001b[0m\u001b[1;33m\u001b[0m\u001b[0m\n\u001b[0;32m   3739\u001b[0m       \u001b[0mconverted_inputs\u001b[0m\u001b[1;33m.\u001b[0m\u001b[0mappend\u001b[0m\u001b[1;33m(\u001b[0m\u001b[0mvalue\u001b[0m\u001b[1;33m)\u001b[0m\u001b[1;33m\u001b[0m\u001b[0m\n\u001b[1;32m-> 3740\u001b[1;33m     \u001b[0moutputs\u001b[0m \u001b[1;33m=\u001b[0m \u001b[0mself\u001b[0m\u001b[1;33m.\u001b[0m\u001b[0m_graph_fn\u001b[0m\u001b[1;33m(\u001b[0m\u001b[1;33m*\u001b[0m\u001b[0mconverted_inputs\u001b[0m\u001b[1;33m)\u001b[0m\u001b[1;33m\u001b[0m\u001b[0m\n\u001b[0m\u001b[0;32m   3741\u001b[0m \u001b[1;33m\u001b[0m\u001b[0m\n\u001b[0;32m   3742\u001b[0m     \u001b[1;31m# EagerTensor.numpy() will often make a copy to ensure memory safety.\u001b[0m\u001b[1;33m\u001b[0m\u001b[1;33m\u001b[0m\u001b[0m\n",
      "\u001b[1;32mC:\\Users\\julia\\Desktop\\tf\\lib\\site-packages\\tensorflow_core\\python\\eager\\function.py\u001b[0m in \u001b[0;36m__call__\u001b[1;34m(self, *args, **kwargs)\u001b[0m\n\u001b[0;32m   1079\u001b[0m       \u001b[0mTypeError\u001b[0m\u001b[1;33m:\u001b[0m \u001b[0mFor\u001b[0m \u001b[0minvalid\u001b[0m \u001b[0mpositional\u001b[0m\u001b[1;33m/\u001b[0m\u001b[0mkeyword\u001b[0m \u001b[0margument\u001b[0m \u001b[0mcombinations\u001b[0m\u001b[1;33m.\u001b[0m\u001b[1;33m\u001b[0m\u001b[0m\n\u001b[0;32m   1080\u001b[0m     \"\"\"\n\u001b[1;32m-> 1081\u001b[1;33m     \u001b[1;32mreturn\u001b[0m \u001b[0mself\u001b[0m\u001b[1;33m.\u001b[0m\u001b[0m_call_impl\u001b[0m\u001b[1;33m(\u001b[0m\u001b[0margs\u001b[0m\u001b[1;33m,\u001b[0m \u001b[0mkwargs\u001b[0m\u001b[1;33m)\u001b[0m\u001b[1;33m\u001b[0m\u001b[0m\n\u001b[0m\u001b[0;32m   1082\u001b[0m \u001b[1;33m\u001b[0m\u001b[0m\n\u001b[0;32m   1083\u001b[0m   \u001b[1;32mdef\u001b[0m \u001b[0m_call_impl\u001b[0m\u001b[1;33m(\u001b[0m\u001b[0mself\u001b[0m\u001b[1;33m,\u001b[0m \u001b[0margs\u001b[0m\u001b[1;33m,\u001b[0m \u001b[0mkwargs\u001b[0m\u001b[1;33m,\u001b[0m \u001b[0mcancellation_manager\u001b[0m\u001b[1;33m=\u001b[0m\u001b[1;32mNone\u001b[0m\u001b[1;33m)\u001b[0m\u001b[1;33m:\u001b[0m\u001b[1;33m\u001b[0m\u001b[0m\n",
      "\u001b[1;32mC:\\Users\\julia\\Desktop\\tf\\lib\\site-packages\\tensorflow_core\\python\\eager\\function.py\u001b[0m in \u001b[0;36m_call_impl\u001b[1;34m(self, args, kwargs, cancellation_manager)\u001b[0m\n\u001b[0;32m   1119\u001b[0m       raise TypeError(\"Keyword arguments {} unknown. Expected {}.\".format(\n\u001b[0;32m   1120\u001b[0m           list(kwargs.keys()), list(self._arg_keywords)))\n\u001b[1;32m-> 1121\u001b[1;33m     \u001b[1;32mreturn\u001b[0m \u001b[0mself\u001b[0m\u001b[1;33m.\u001b[0m\u001b[0m_call_flat\u001b[0m\u001b[1;33m(\u001b[0m\u001b[0margs\u001b[0m\u001b[1;33m,\u001b[0m \u001b[0mself\u001b[0m\u001b[1;33m.\u001b[0m\u001b[0mcaptured_inputs\u001b[0m\u001b[1;33m,\u001b[0m \u001b[0mcancellation_manager\u001b[0m\u001b[1;33m)\u001b[0m\u001b[1;33m\u001b[0m\u001b[0m\n\u001b[0m\u001b[0;32m   1122\u001b[0m \u001b[1;33m\u001b[0m\u001b[0m\n\u001b[0;32m   1123\u001b[0m   \u001b[1;32mdef\u001b[0m \u001b[0m_filtered_call\u001b[0m\u001b[1;33m(\u001b[0m\u001b[0mself\u001b[0m\u001b[1;33m,\u001b[0m \u001b[0margs\u001b[0m\u001b[1;33m,\u001b[0m \u001b[0mkwargs\u001b[0m\u001b[1;33m)\u001b[0m\u001b[1;33m:\u001b[0m\u001b[1;33m\u001b[0m\u001b[0m\n",
      "\u001b[1;32mC:\\Users\\julia\\Desktop\\tf\\lib\\site-packages\\tensorflow_core\\python\\eager\\function.py\u001b[0m in \u001b[0;36m_call_flat\u001b[1;34m(self, args, captured_inputs, cancellation_manager)\u001b[0m\n\u001b[0;32m   1222\u001b[0m     \u001b[1;32mif\u001b[0m \u001b[0mexecuting_eagerly\u001b[0m\u001b[1;33m:\u001b[0m\u001b[1;33m\u001b[0m\u001b[0m\n\u001b[0;32m   1223\u001b[0m       flat_outputs = forward_function.call(\n\u001b[1;32m-> 1224\u001b[1;33m           ctx, args, cancellation_manager=cancellation_manager)\n\u001b[0m\u001b[0;32m   1225\u001b[0m     \u001b[1;32melse\u001b[0m\u001b[1;33m:\u001b[0m\u001b[1;33m\u001b[0m\u001b[0m\n\u001b[0;32m   1226\u001b[0m       \u001b[0mgradient_name\u001b[0m \u001b[1;33m=\u001b[0m \u001b[0mself\u001b[0m\u001b[1;33m.\u001b[0m\u001b[0m_delayed_rewrite_functions\u001b[0m\u001b[1;33m.\u001b[0m\u001b[0mregister\u001b[0m\u001b[1;33m(\u001b[0m\u001b[1;33m)\u001b[0m\u001b[1;33m\u001b[0m\u001b[0m\n",
      "\u001b[1;32mC:\\Users\\julia\\Desktop\\tf\\lib\\site-packages\\tensorflow_core\\python\\eager\\function.py\u001b[0m in \u001b[0;36mcall\u001b[1;34m(self, ctx, args, cancellation_manager)\u001b[0m\n\u001b[0;32m    509\u001b[0m               \u001b[0minputs\u001b[0m\u001b[1;33m=\u001b[0m\u001b[0margs\u001b[0m\u001b[1;33m,\u001b[0m\u001b[1;33m\u001b[0m\u001b[0m\n\u001b[0;32m    510\u001b[0m               \u001b[0mattrs\u001b[0m\u001b[1;33m=\u001b[0m\u001b[1;33m(\u001b[0m\u001b[1;34m\"executor_type\"\u001b[0m\u001b[1;33m,\u001b[0m \u001b[0mexecutor_type\u001b[0m\u001b[1;33m,\u001b[0m \u001b[1;34m\"config_proto\"\u001b[0m\u001b[1;33m,\u001b[0m \u001b[0mconfig\u001b[0m\u001b[1;33m)\u001b[0m\u001b[1;33m,\u001b[0m\u001b[1;33m\u001b[0m\u001b[0m\n\u001b[1;32m--> 511\u001b[1;33m               ctx=ctx)\n\u001b[0m\u001b[0;32m    512\u001b[0m         \u001b[1;32melse\u001b[0m\u001b[1;33m:\u001b[0m\u001b[1;33m\u001b[0m\u001b[0m\n\u001b[0;32m    513\u001b[0m           outputs = execute.execute_with_cancellation(\n",
      "\u001b[1;32mC:\\Users\\julia\\Desktop\\tf\\lib\\site-packages\\tensorflow_core\\python\\eager\\execute.py\u001b[0m in \u001b[0;36mquick_execute\u001b[1;34m(op_name, num_outputs, inputs, attrs, ctx, name)\u001b[0m\n\u001b[0;32m     59\u001b[0m     tensors = pywrap_tensorflow.TFE_Py_Execute(ctx._handle, device_name,\n\u001b[0;32m     60\u001b[0m                                                \u001b[0mop_name\u001b[0m\u001b[1;33m,\u001b[0m \u001b[0minputs\u001b[0m\u001b[1;33m,\u001b[0m \u001b[0mattrs\u001b[0m\u001b[1;33m,\u001b[0m\u001b[1;33m\u001b[0m\u001b[0m\n\u001b[1;32m---> 61\u001b[1;33m                                                num_outputs)\n\u001b[0m\u001b[0;32m     62\u001b[0m   \u001b[1;32mexcept\u001b[0m \u001b[0mcore\u001b[0m\u001b[1;33m.\u001b[0m\u001b[0m_NotOkStatusException\u001b[0m \u001b[1;32mas\u001b[0m \u001b[0me\u001b[0m\u001b[1;33m:\u001b[0m\u001b[1;33m\u001b[0m\u001b[0m\n\u001b[0;32m     63\u001b[0m     \u001b[1;32mif\u001b[0m \u001b[0mname\u001b[0m \u001b[1;32mis\u001b[0m \u001b[1;32mnot\u001b[0m \u001b[1;32mNone\u001b[0m\u001b[1;33m:\u001b[0m\u001b[1;33m\u001b[0m\u001b[0m\n",
      "\u001b[1;31mKeyboardInterrupt\u001b[0m: "
     ]
    }
   ],
   "source": [
    "hist = CNN.fit(train_X,train_y,\n",
    "    batch_size = batch,\n",
    "    epochs=epochs, verbose=1,\n",
    "    validation_data=(valid_X, valid_y),\n",
    "    callbacks = callbacks\n",
    ")"
   ]
  },
  {
   "cell_type": "code",
   "execution_count": null,
   "metadata": {},
   "outputs": [],
   "source": []
  },
  {
   "cell_type": "markdown",
   "metadata": {},
   "source": [
    "### fit_generator 다시 사용해보기"
   ]
  },
  {
   "cell_type": "code",
   "execution_count": null,
   "metadata": {},
   "outputs": [],
   "source": []
  },
  {
   "cell_type": "code",
   "execution_count": 168,
   "metadata": {},
   "outputs": [
    {
     "ename": "ValueError",
     "evalue": "Shape must be rank 4 but is rank 3 for 'conv1_pad_10/Pad' (op: 'Pad') with input shapes: [?,200,3], [4,2].",
     "output_type": "error",
     "traceback": [
      "\u001b[1;31m---------------------------------------------------------------------------\u001b[0m",
      "\u001b[1;31mInvalidArgumentError\u001b[0m                      Traceback (most recent call last)",
      "\u001b[1;32mC:\\Users\\julia\\Desktop\\tf\\lib\\site-packages\\tensorflow_core\\python\\framework\\ops.py\u001b[0m in \u001b[0;36m_create_c_op\u001b[1;34m(graph, node_def, inputs, control_inputs)\u001b[0m\n\u001b[0;32m   1609\u001b[0m   \u001b[1;32mtry\u001b[0m\u001b[1;33m:\u001b[0m\u001b[1;33m\u001b[0m\u001b[0m\n\u001b[1;32m-> 1610\u001b[1;33m     \u001b[0mc_op\u001b[0m \u001b[1;33m=\u001b[0m \u001b[0mc_api\u001b[0m\u001b[1;33m.\u001b[0m\u001b[0mTF_FinishOperation\u001b[0m\u001b[1;33m(\u001b[0m\u001b[0mop_desc\u001b[0m\u001b[1;33m)\u001b[0m\u001b[1;33m\u001b[0m\u001b[0m\n\u001b[0m\u001b[0;32m   1611\u001b[0m   \u001b[1;32mexcept\u001b[0m \u001b[0merrors\u001b[0m\u001b[1;33m.\u001b[0m\u001b[0mInvalidArgumentError\u001b[0m \u001b[1;32mas\u001b[0m \u001b[0me\u001b[0m\u001b[1;33m:\u001b[0m\u001b[1;33m\u001b[0m\u001b[0m\n",
      "\u001b[1;31mInvalidArgumentError\u001b[0m: Shape must be rank 4 but is rank 3 for 'conv1_pad_10/Pad' (op: 'Pad') with input shapes: [?,200,3], [4,2].",
      "\nDuring handling of the above exception, another exception occurred:\n",
      "\u001b[1;31mValueError\u001b[0m                                Traceback (most recent call last)",
      "\u001b[1;32m<ipython-input-168-165320587dd8>\u001b[0m in \u001b[0;36m<module>\u001b[1;34m\u001b[0m\n\u001b[0;32m      1\u001b[0m \u001b[0minp\u001b[0m \u001b[1;33m=\u001b[0m \u001b[0mInput\u001b[0m\u001b[1;33m(\u001b[0m\u001b[0mshape\u001b[0m\u001b[1;33m=\u001b[0m\u001b[1;33m(\u001b[0m\u001b[1;36m200\u001b[0m\u001b[1;33m,\u001b[0m\u001b[1;36m3\u001b[0m\u001b[1;33m)\u001b[0m\u001b[1;33m)\u001b[0m\u001b[1;33m\u001b[0m\u001b[0m\n\u001b[1;32m----> 2\u001b[1;33m \u001b[0mmodel\u001b[0m \u001b[1;33m=\u001b[0m \u001b[0mResNet50\u001b[0m\u001b[1;33m(\u001b[0m\u001b[0minput_tensor\u001b[0m\u001b[1;33m=\u001b[0m\u001b[0minp\u001b[0m\u001b[1;33m,\u001b[0m \u001b[0minclude_top\u001b[0m\u001b[1;33m=\u001b[0m\u001b[1;32mFalse\u001b[0m\u001b[1;33m,\u001b[0m \u001b[0mweights\u001b[0m\u001b[1;33m=\u001b[0m\u001b[1;32mNone\u001b[0m\u001b[1;33m,\u001b[0m \u001b[0mpooling\u001b[0m\u001b[1;33m=\u001b[0m\u001b[1;34m'max'\u001b[0m\u001b[1;33m)\u001b[0m\u001b[1;33m\u001b[0m\u001b[0m\n\u001b[0m",
      "\u001b[1;32mC:\\Users\\julia\\Desktop\\tf\\lib\\site-packages\\keras\\applications\\__init__.py\u001b[0m in \u001b[0;36mwrapper\u001b[1;34m(*args, **kwargs)\u001b[0m\n\u001b[0;32m     18\u001b[0m         \u001b[0mkwargs\u001b[0m\u001b[1;33m[\u001b[0m\u001b[1;34m'models'\u001b[0m\u001b[1;33m]\u001b[0m \u001b[1;33m=\u001b[0m \u001b[0mmodels\u001b[0m\u001b[1;33m\u001b[0m\u001b[0m\n\u001b[0;32m     19\u001b[0m         \u001b[0mkwargs\u001b[0m\u001b[1;33m[\u001b[0m\u001b[1;34m'utils'\u001b[0m\u001b[1;33m]\u001b[0m \u001b[1;33m=\u001b[0m \u001b[0mutils\u001b[0m\u001b[1;33m\u001b[0m\u001b[0m\n\u001b[1;32m---> 20\u001b[1;33m         \u001b[1;32mreturn\u001b[0m \u001b[0mbase_fun\u001b[0m\u001b[1;33m(\u001b[0m\u001b[1;33m*\u001b[0m\u001b[0margs\u001b[0m\u001b[1;33m,\u001b[0m \u001b[1;33m**\u001b[0m\u001b[0mkwargs\u001b[0m\u001b[1;33m)\u001b[0m\u001b[1;33m\u001b[0m\u001b[0m\n\u001b[0m\u001b[0;32m     21\u001b[0m \u001b[1;33m\u001b[0m\u001b[0m\n\u001b[0;32m     22\u001b[0m     \u001b[1;32mreturn\u001b[0m \u001b[0mwrapper\u001b[0m\u001b[1;33m\u001b[0m\u001b[0m\n",
      "\u001b[1;32mC:\\Users\\julia\\Desktop\\tf\\lib\\site-packages\\keras\\applications\\resnet50.py\u001b[0m in \u001b[0;36mResNet50\u001b[1;34m(*args, **kwargs)\u001b[0m\n\u001b[0;32m      9\u001b[0m \u001b[1;33m@\u001b[0m\u001b[0mkeras_modules_injection\u001b[0m\u001b[1;33m\u001b[0m\u001b[0m\n\u001b[0;32m     10\u001b[0m \u001b[1;32mdef\u001b[0m \u001b[0mResNet50\u001b[0m\u001b[1;33m(\u001b[0m\u001b[1;33m*\u001b[0m\u001b[0margs\u001b[0m\u001b[1;33m,\u001b[0m \u001b[1;33m**\u001b[0m\u001b[0mkwargs\u001b[0m\u001b[1;33m)\u001b[0m\u001b[1;33m:\u001b[0m\u001b[1;33m\u001b[0m\u001b[0m\n\u001b[1;32m---> 11\u001b[1;33m     \u001b[1;32mreturn\u001b[0m \u001b[0mresnet50\u001b[0m\u001b[1;33m.\u001b[0m\u001b[0mResNet50\u001b[0m\u001b[1;33m(\u001b[0m\u001b[1;33m*\u001b[0m\u001b[0margs\u001b[0m\u001b[1;33m,\u001b[0m \u001b[1;33m**\u001b[0m\u001b[0mkwargs\u001b[0m\u001b[1;33m)\u001b[0m\u001b[1;33m\u001b[0m\u001b[0m\n\u001b[0m\u001b[0;32m     12\u001b[0m \u001b[1;33m\u001b[0m\u001b[0m\n\u001b[0;32m     13\u001b[0m \u001b[1;33m\u001b[0m\u001b[0m\n",
      "\u001b[1;32mC:\\Users\\julia\\Desktop\\tf\\lib\\site-packages\\keras_applications\\resnet50.py\u001b[0m in \u001b[0;36mResNet50\u001b[1;34m(include_top, weights, input_tensor, input_shape, pooling, classes, **kwargs)\u001b[0m\n\u001b[0;32m    223\u001b[0m         \u001b[0mbn_axis\u001b[0m \u001b[1;33m=\u001b[0m \u001b[1;36m1\u001b[0m\u001b[1;33m\u001b[0m\u001b[0m\n\u001b[0;32m    224\u001b[0m \u001b[1;33m\u001b[0m\u001b[0m\n\u001b[1;32m--> 225\u001b[1;33m     \u001b[0mx\u001b[0m \u001b[1;33m=\u001b[0m \u001b[0mlayers\u001b[0m\u001b[1;33m.\u001b[0m\u001b[0mZeroPadding2D\u001b[0m\u001b[1;33m(\u001b[0m\u001b[0mpadding\u001b[0m\u001b[1;33m=\u001b[0m\u001b[1;33m(\u001b[0m\u001b[1;36m3\u001b[0m\u001b[1;33m,\u001b[0m \u001b[1;36m3\u001b[0m\u001b[1;33m)\u001b[0m\u001b[1;33m,\u001b[0m \u001b[0mname\u001b[0m\u001b[1;33m=\u001b[0m\u001b[1;34m'conv1_pad'\u001b[0m\u001b[1;33m)\u001b[0m\u001b[1;33m(\u001b[0m\u001b[0mimg_input\u001b[0m\u001b[1;33m)\u001b[0m\u001b[1;33m\u001b[0m\u001b[0m\n\u001b[0m\u001b[0;32m    226\u001b[0m     x = layers.Conv2D(64, (7, 7),\n\u001b[0;32m    227\u001b[0m                       \u001b[0mstrides\u001b[0m\u001b[1;33m=\u001b[0m\u001b[1;33m(\u001b[0m\u001b[1;36m2\u001b[0m\u001b[1;33m,\u001b[0m \u001b[1;36m2\u001b[0m\u001b[1;33m)\u001b[0m\u001b[1;33m,\u001b[0m\u001b[1;33m\u001b[0m\u001b[0m\n",
      "\u001b[1;32mC:\\Users\\julia\\Desktop\\tf\\lib\\site-packages\\keras\\backend\\tensorflow_backend.py\u001b[0m in \u001b[0;36msymbolic_fn_wrapper\u001b[1;34m(*args, **kwargs)\u001b[0m\n\u001b[0;32m     73\u001b[0m         \u001b[1;32mif\u001b[0m \u001b[0m_SYMBOLIC_SCOPE\u001b[0m\u001b[1;33m.\u001b[0m\u001b[0mvalue\u001b[0m\u001b[1;33m:\u001b[0m\u001b[1;33m\u001b[0m\u001b[0m\n\u001b[0;32m     74\u001b[0m             \u001b[1;32mwith\u001b[0m \u001b[0mget_graph\u001b[0m\u001b[1;33m(\u001b[0m\u001b[1;33m)\u001b[0m\u001b[1;33m.\u001b[0m\u001b[0mas_default\u001b[0m\u001b[1;33m(\u001b[0m\u001b[1;33m)\u001b[0m\u001b[1;33m:\u001b[0m\u001b[1;33m\u001b[0m\u001b[0m\n\u001b[1;32m---> 75\u001b[1;33m                 \u001b[1;32mreturn\u001b[0m \u001b[0mfunc\u001b[0m\u001b[1;33m(\u001b[0m\u001b[1;33m*\u001b[0m\u001b[0margs\u001b[0m\u001b[1;33m,\u001b[0m \u001b[1;33m**\u001b[0m\u001b[0mkwargs\u001b[0m\u001b[1;33m)\u001b[0m\u001b[1;33m\u001b[0m\u001b[0m\n\u001b[0m\u001b[0;32m     76\u001b[0m         \u001b[1;32melse\u001b[0m\u001b[1;33m:\u001b[0m\u001b[1;33m\u001b[0m\u001b[0m\n\u001b[0;32m     77\u001b[0m             \u001b[1;32mreturn\u001b[0m \u001b[0mfunc\u001b[0m\u001b[1;33m(\u001b[0m\u001b[1;33m*\u001b[0m\u001b[0margs\u001b[0m\u001b[1;33m,\u001b[0m \u001b[1;33m**\u001b[0m\u001b[0mkwargs\u001b[0m\u001b[1;33m)\u001b[0m\u001b[1;33m\u001b[0m\u001b[0m\n",
      "\u001b[1;32mC:\\Users\\julia\\Desktop\\tf\\lib\\site-packages\\keras\\engine\\base_layer.py\u001b[0m in \u001b[0;36m__call__\u001b[1;34m(self, inputs, **kwargs)\u001b[0m\n\u001b[0;32m    487\u001b[0m             \u001b[1;31m# Actually call the layer,\u001b[0m\u001b[1;33m\u001b[0m\u001b[1;33m\u001b[0m\u001b[0m\n\u001b[0;32m    488\u001b[0m             \u001b[1;31m# collecting output(s), mask(s), and shape(s).\u001b[0m\u001b[1;33m\u001b[0m\u001b[1;33m\u001b[0m\u001b[0m\n\u001b[1;32m--> 489\u001b[1;33m             \u001b[0moutput\u001b[0m \u001b[1;33m=\u001b[0m \u001b[0mself\u001b[0m\u001b[1;33m.\u001b[0m\u001b[0mcall\u001b[0m\u001b[1;33m(\u001b[0m\u001b[0minputs\u001b[0m\u001b[1;33m,\u001b[0m \u001b[1;33m**\u001b[0m\u001b[0mkwargs\u001b[0m\u001b[1;33m)\u001b[0m\u001b[1;33m\u001b[0m\u001b[0m\n\u001b[0m\u001b[0;32m    490\u001b[0m             \u001b[0moutput_mask\u001b[0m \u001b[1;33m=\u001b[0m \u001b[0mself\u001b[0m\u001b[1;33m.\u001b[0m\u001b[0mcompute_mask\u001b[0m\u001b[1;33m(\u001b[0m\u001b[0minputs\u001b[0m\u001b[1;33m,\u001b[0m \u001b[0mprevious_mask\u001b[0m\u001b[1;33m)\u001b[0m\u001b[1;33m\u001b[0m\u001b[0m\n\u001b[0;32m    491\u001b[0m \u001b[1;33m\u001b[0m\u001b[0m\n",
      "\u001b[1;32mC:\\Users\\julia\\Desktop\\tf\\lib\\site-packages\\keras\\layers\\convolutional.py\u001b[0m in \u001b[0;36mcall\u001b[1;34m(self, inputs)\u001b[0m\n\u001b[0;32m   2231\u001b[0m         return K.spatial_2d_padding(inputs,\n\u001b[0;32m   2232\u001b[0m                                     \u001b[0mpadding\u001b[0m\u001b[1;33m=\u001b[0m\u001b[0mself\u001b[0m\u001b[1;33m.\u001b[0m\u001b[0mpadding\u001b[0m\u001b[1;33m,\u001b[0m\u001b[1;33m\u001b[0m\u001b[0m\n\u001b[1;32m-> 2233\u001b[1;33m                                     data_format=self.data_format)\n\u001b[0m\u001b[0;32m   2234\u001b[0m \u001b[1;33m\u001b[0m\u001b[0m\n\u001b[0;32m   2235\u001b[0m \u001b[1;33m\u001b[0m\u001b[0m\n",
      "\u001b[1;32mC:\\Users\\julia\\Desktop\\tf\\lib\\site-packages\\keras\\backend\\tensorflow_backend.py\u001b[0m in \u001b[0;36mspatial_2d_padding\u001b[1;34m(x, padding, data_format)\u001b[0m\n\u001b[0;32m   2785\u001b[0m                [0, 0]]\n\u001b[0;32m   2786\u001b[0m     \u001b[0mpattern\u001b[0m \u001b[1;33m=\u001b[0m \u001b[0mtranspose_shape\u001b[0m\u001b[1;33m(\u001b[0m\u001b[0mpattern\u001b[0m\u001b[1;33m,\u001b[0m \u001b[0mdata_format\u001b[0m\u001b[1;33m,\u001b[0m \u001b[0mspatial_axes\u001b[0m\u001b[1;33m=\u001b[0m\u001b[1;33m(\u001b[0m\u001b[1;36m1\u001b[0m\u001b[1;33m,\u001b[0m \u001b[1;36m2\u001b[0m\u001b[1;33m)\u001b[0m\u001b[1;33m)\u001b[0m\u001b[1;33m\u001b[0m\u001b[0m\n\u001b[1;32m-> 2787\u001b[1;33m     \u001b[1;32mreturn\u001b[0m \u001b[0mtf\u001b[0m\u001b[1;33m.\u001b[0m\u001b[0mpad\u001b[0m\u001b[1;33m(\u001b[0m\u001b[0mx\u001b[0m\u001b[1;33m,\u001b[0m \u001b[0mpattern\u001b[0m\u001b[1;33m)\u001b[0m\u001b[1;33m\u001b[0m\u001b[0m\n\u001b[0m\u001b[0;32m   2788\u001b[0m \u001b[1;33m\u001b[0m\u001b[0m\n\u001b[0;32m   2789\u001b[0m \u001b[1;33m\u001b[0m\u001b[0m\n",
      "\u001b[1;32mC:\\Users\\julia\\Desktop\\tf\\lib\\site-packages\\tensorflow_core\\python\\ops\\array_ops.py\u001b[0m in \u001b[0;36mpad_v2\u001b[1;34m(tensor, paddings, mode, constant_values, name)\u001b[0m\n\u001b[0;32m   2783\u001b[0m     \u001b[0mValueError\u001b[0m\u001b[1;33m:\u001b[0m \u001b[0mWhen\u001b[0m \u001b[0mmode\u001b[0m \u001b[1;32mis\u001b[0m \u001b[1;32mnot\u001b[0m \u001b[0mone\u001b[0m \u001b[0mof\u001b[0m \u001b[1;34m\"CONSTANT\"\u001b[0m\u001b[1;33m,\u001b[0m \u001b[1;34m\"REFLECT\"\u001b[0m\u001b[1;33m,\u001b[0m \u001b[1;32mor\u001b[0m \u001b[1;34m\"SYMMETRIC\"\u001b[0m\u001b[1;33m.\u001b[0m\u001b[1;33m\u001b[0m\u001b[0m\n\u001b[0;32m   2784\u001b[0m   \"\"\"\n\u001b[1;32m-> 2785\u001b[1;33m   \u001b[1;32mreturn\u001b[0m \u001b[0mpad\u001b[0m\u001b[1;33m(\u001b[0m\u001b[0mtensor\u001b[0m\u001b[1;33m,\u001b[0m \u001b[0mpaddings\u001b[0m\u001b[1;33m,\u001b[0m \u001b[0mmode\u001b[0m\u001b[1;33m,\u001b[0m \u001b[0mname\u001b[0m\u001b[1;33m,\u001b[0m \u001b[0mconstant_values\u001b[0m\u001b[1;33m)\u001b[0m\u001b[1;33m\u001b[0m\u001b[0m\n\u001b[0m\u001b[0;32m   2786\u001b[0m \u001b[1;33m\u001b[0m\u001b[0m\n\u001b[0;32m   2787\u001b[0m \u001b[1;33m\u001b[0m\u001b[0m\n",
      "\u001b[1;32mC:\\Users\\julia\\Desktop\\tf\\lib\\site-packages\\tensorflow_core\\python\\ops\\array_ops.py\u001b[0m in \u001b[0;36mpad\u001b[1;34m(tensor, paddings, mode, name, constant_values)\u001b[0m\n\u001b[0;32m   2849\u001b[0m     \u001b[1;31m# remove the \"Pad\" fallback here.\u001b[0m\u001b[1;33m\u001b[0m\u001b[1;33m\u001b[0m\u001b[0m\n\u001b[0;32m   2850\u001b[0m     \u001b[1;32mif\u001b[0m \u001b[1;32mnot\u001b[0m \u001b[0mtensor_util\u001b[0m\u001b[1;33m.\u001b[0m\u001b[0mis_tensor\u001b[0m\u001b[1;33m(\u001b[0m\u001b[0mconstant_values\u001b[0m\u001b[1;33m)\u001b[0m \u001b[1;32mand\u001b[0m \u001b[0mconstant_values\u001b[0m \u001b[1;33m==\u001b[0m \u001b[1;36m0\u001b[0m\u001b[1;33m:\u001b[0m\u001b[1;33m\u001b[0m\u001b[0m\n\u001b[1;32m-> 2851\u001b[1;33m       \u001b[0mresult\u001b[0m \u001b[1;33m=\u001b[0m \u001b[0mgen_array_ops\u001b[0m\u001b[1;33m.\u001b[0m\u001b[0mpad\u001b[0m\u001b[1;33m(\u001b[0m\u001b[0mtensor\u001b[0m\u001b[1;33m,\u001b[0m \u001b[0mpaddings\u001b[0m\u001b[1;33m,\u001b[0m \u001b[0mname\u001b[0m\u001b[1;33m=\u001b[0m\u001b[0mname\u001b[0m\u001b[1;33m)\u001b[0m\u001b[1;33m\u001b[0m\u001b[0m\n\u001b[0m\u001b[0;32m   2852\u001b[0m     \u001b[1;32melse\u001b[0m\u001b[1;33m:\u001b[0m\u001b[1;33m\u001b[0m\u001b[0m\n\u001b[0;32m   2853\u001b[0m       result = gen_array_ops.pad_v2(\n",
      "\u001b[1;32mC:\\Users\\julia\\Desktop\\tf\\lib\\site-packages\\tensorflow_core\\python\\ops\\gen_array_ops.py\u001b[0m in \u001b[0;36mpad\u001b[1;34m(input, paddings, name)\u001b[0m\n\u001b[0;32m   6398\u001b[0m   \u001b[1;31m# Add nodes to the TensorFlow graph.\u001b[0m\u001b[1;33m\u001b[0m\u001b[1;33m\u001b[0m\u001b[0m\n\u001b[0;32m   6399\u001b[0m   _, _, _op = _op_def_lib._apply_op_helper(\n\u001b[1;32m-> 6400\u001b[1;33m         \"Pad\", input=input, paddings=paddings, name=name)\n\u001b[0m\u001b[0;32m   6401\u001b[0m   \u001b[0m_result\u001b[0m \u001b[1;33m=\u001b[0m \u001b[0m_op\u001b[0m\u001b[1;33m.\u001b[0m\u001b[0moutputs\u001b[0m\u001b[1;33m[\u001b[0m\u001b[1;33m:\u001b[0m\u001b[1;33m]\u001b[0m\u001b[1;33m\u001b[0m\u001b[0m\n\u001b[0;32m   6402\u001b[0m   \u001b[0m_inputs_flat\u001b[0m \u001b[1;33m=\u001b[0m \u001b[0m_op\u001b[0m\u001b[1;33m.\u001b[0m\u001b[0minputs\u001b[0m\u001b[1;33m\u001b[0m\u001b[0m\n",
      "\u001b[1;32mC:\\Users\\julia\\Desktop\\tf\\lib\\site-packages\\tensorflow_core\\python\\framework\\op_def_library.py\u001b[0m in \u001b[0;36m_apply_op_helper\u001b[1;34m(self, op_type_name, name, **keywords)\u001b[0m\n\u001b[0;32m    791\u001b[0m         op = g.create_op(op_type_name, inputs, dtypes=None, name=scope,\n\u001b[0;32m    792\u001b[0m                          \u001b[0minput_types\u001b[0m\u001b[1;33m=\u001b[0m\u001b[0minput_types\u001b[0m\u001b[1;33m,\u001b[0m \u001b[0mattrs\u001b[0m\u001b[1;33m=\u001b[0m\u001b[0mattr_protos\u001b[0m\u001b[1;33m,\u001b[0m\u001b[1;33m\u001b[0m\u001b[0m\n\u001b[1;32m--> 793\u001b[1;33m                          op_def=op_def)\n\u001b[0m\u001b[0;32m    794\u001b[0m       \u001b[1;32mreturn\u001b[0m \u001b[0moutput_structure\u001b[0m\u001b[1;33m,\u001b[0m \u001b[0mop_def\u001b[0m\u001b[1;33m.\u001b[0m\u001b[0mis_stateful\u001b[0m\u001b[1;33m,\u001b[0m \u001b[0mop\u001b[0m\u001b[1;33m\u001b[0m\u001b[0m\n\u001b[0;32m    795\u001b[0m \u001b[1;33m\u001b[0m\u001b[0m\n",
      "\u001b[1;32mC:\\Users\\julia\\Desktop\\tf\\lib\\site-packages\\tensorflow_core\\python\\framework\\func_graph.py\u001b[0m in \u001b[0;36mcreate_op\u001b[1;34m(***failed resolving arguments***)\u001b[0m\n\u001b[0;32m    546\u001b[0m     return super(FuncGraph, self)._create_op_internal(  # pylint: disable=protected-access\n\u001b[0;32m    547\u001b[0m         \u001b[0mop_type\u001b[0m\u001b[1;33m,\u001b[0m \u001b[0minputs\u001b[0m\u001b[1;33m,\u001b[0m \u001b[0mdtypes\u001b[0m\u001b[1;33m,\u001b[0m \u001b[0minput_types\u001b[0m\u001b[1;33m,\u001b[0m \u001b[0mname\u001b[0m\u001b[1;33m,\u001b[0m \u001b[0mattrs\u001b[0m\u001b[1;33m,\u001b[0m \u001b[0mop_def\u001b[0m\u001b[1;33m,\u001b[0m\u001b[1;33m\u001b[0m\u001b[0m\n\u001b[1;32m--> 548\u001b[1;33m         compute_device)\n\u001b[0m\u001b[0;32m    549\u001b[0m \u001b[1;33m\u001b[0m\u001b[0m\n\u001b[0;32m    550\u001b[0m   \u001b[1;32mdef\u001b[0m \u001b[0mcapture\u001b[0m\u001b[1;33m(\u001b[0m\u001b[0mself\u001b[0m\u001b[1;33m,\u001b[0m \u001b[0mtensor\u001b[0m\u001b[1;33m,\u001b[0m \u001b[0mname\u001b[0m\u001b[1;33m=\u001b[0m\u001b[1;32mNone\u001b[0m\u001b[1;33m)\u001b[0m\u001b[1;33m:\u001b[0m\u001b[1;33m\u001b[0m\u001b[0m\n",
      "\u001b[1;32mC:\\Users\\julia\\Desktop\\tf\\lib\\site-packages\\tensorflow_core\\python\\framework\\ops.py\u001b[0m in \u001b[0;36m_create_op_internal\u001b[1;34m(self, op_type, inputs, dtypes, input_types, name, attrs, op_def, compute_device)\u001b[0m\n\u001b[0;32m   3427\u001b[0m           \u001b[0minput_types\u001b[0m\u001b[1;33m=\u001b[0m\u001b[0minput_types\u001b[0m\u001b[1;33m,\u001b[0m\u001b[1;33m\u001b[0m\u001b[0m\n\u001b[0;32m   3428\u001b[0m           \u001b[0moriginal_op\u001b[0m\u001b[1;33m=\u001b[0m\u001b[0mself\u001b[0m\u001b[1;33m.\u001b[0m\u001b[0m_default_original_op\u001b[0m\u001b[1;33m,\u001b[0m\u001b[1;33m\u001b[0m\u001b[0m\n\u001b[1;32m-> 3429\u001b[1;33m           op_def=op_def)\n\u001b[0m\u001b[0;32m   3430\u001b[0m       \u001b[0mself\u001b[0m\u001b[1;33m.\u001b[0m\u001b[0m_create_op_helper\u001b[0m\u001b[1;33m(\u001b[0m\u001b[0mret\u001b[0m\u001b[1;33m,\u001b[0m \u001b[0mcompute_device\u001b[0m\u001b[1;33m=\u001b[0m\u001b[0mcompute_device\u001b[0m\u001b[1;33m)\u001b[0m\u001b[1;33m\u001b[0m\u001b[0m\n\u001b[0;32m   3431\u001b[0m     \u001b[1;32mreturn\u001b[0m \u001b[0mret\u001b[0m\u001b[1;33m\u001b[0m\u001b[0m\n",
      "\u001b[1;32mC:\\Users\\julia\\Desktop\\tf\\lib\\site-packages\\tensorflow_core\\python\\framework\\ops.py\u001b[0m in \u001b[0;36m__init__\u001b[1;34m(self, node_def, g, inputs, output_types, control_inputs, input_types, original_op, op_def)\u001b[0m\n\u001b[0;32m   1771\u001b[0m           op_def, inputs, node_def.attr)\n\u001b[0;32m   1772\u001b[0m       self._c_op = _create_c_op(self._graph, node_def, grouped_inputs,\n\u001b[1;32m-> 1773\u001b[1;33m                                 control_input_ops)\n\u001b[0m\u001b[0;32m   1774\u001b[0m     \u001b[1;31m# pylint: enable=protected-access\u001b[0m\u001b[1;33m\u001b[0m\u001b[1;33m\u001b[0m\u001b[0m\n\u001b[0;32m   1775\u001b[0m \u001b[1;33m\u001b[0m\u001b[0m\n",
      "\u001b[1;32mC:\\Users\\julia\\Desktop\\tf\\lib\\site-packages\\tensorflow_core\\python\\framework\\ops.py\u001b[0m in \u001b[0;36m_create_c_op\u001b[1;34m(graph, node_def, inputs, control_inputs)\u001b[0m\n\u001b[0;32m   1611\u001b[0m   \u001b[1;32mexcept\u001b[0m \u001b[0merrors\u001b[0m\u001b[1;33m.\u001b[0m\u001b[0mInvalidArgumentError\u001b[0m \u001b[1;32mas\u001b[0m \u001b[0me\u001b[0m\u001b[1;33m:\u001b[0m\u001b[1;33m\u001b[0m\u001b[0m\n\u001b[0;32m   1612\u001b[0m     \u001b[1;31m# Convert to ValueError for backwards compatibility.\u001b[0m\u001b[1;33m\u001b[0m\u001b[1;33m\u001b[0m\u001b[0m\n\u001b[1;32m-> 1613\u001b[1;33m     \u001b[1;32mraise\u001b[0m \u001b[0mValueError\u001b[0m\u001b[1;33m(\u001b[0m\u001b[0mstr\u001b[0m\u001b[1;33m(\u001b[0m\u001b[0me\u001b[0m\u001b[1;33m)\u001b[0m\u001b[1;33m)\u001b[0m\u001b[1;33m\u001b[0m\u001b[0m\n\u001b[0m\u001b[0;32m   1614\u001b[0m \u001b[1;33m\u001b[0m\u001b[0m\n\u001b[0;32m   1615\u001b[0m   \u001b[1;32mreturn\u001b[0m \u001b[0mc_op\u001b[0m\u001b[1;33m\u001b[0m\u001b[0m\n",
      "\u001b[1;31mValueError\u001b[0m: Shape must be rank 4 but is rank 3 for 'conv1_pad_10/Pad' (op: 'Pad') with input shapes: [?,200,3], [4,2]."
     ]
    }
   ],
   "source": [
    "inp = Input(shape=(200,3))\n",
    "model = ResNet50(input_tensor=inp, include_top=False, weights=None, pooling='max')"
   ]
  },
  {
   "cell_type": "code",
   "execution_count": null,
   "metadata": {},
   "outputs": [],
   "source": []
  },
  {
   "cell_type": "code",
   "execution_count": null,
   "metadata": {},
   "outputs": [],
   "source": []
  },
  {
   "cell_type": "code",
   "execution_count": null,
   "metadata": {},
   "outputs": [],
   "source": []
  },
  {
   "cell_type": "code",
   "execution_count": 152,
   "metadata": {},
   "outputs": [],
   "source": [
    "CNN = Sequential()"
   ]
  },
  {
   "cell_type": "code",
   "execution_count": 157,
   "metadata": {
    "collapsed": true
   },
   "outputs": [
    {
     "ename": "ValueError",
     "evalue": "`input_shape` must be a tuple of three integers.",
     "output_type": "error",
     "traceback": [
      "\u001b[1;31m---------------------------------------------------------------------------\u001b[0m",
      "\u001b[1;31mValueError\u001b[0m                                Traceback (most recent call last)",
      "\u001b[1;32m<ipython-input-157-5f464a2f39e2>\u001b[0m in \u001b[0;36m<module>\u001b[1;34m\u001b[0m\n\u001b[0;32m      2\u001b[0m                  \u001b[0minput_tensor\u001b[0m \u001b[1;33m=\u001b[0m \u001b[1;32mNone\u001b[0m\u001b[1;33m,\u001b[0m\u001b[1;33m\u001b[0m\u001b[0m\n\u001b[0;32m      3\u001b[0m                  \u001b[0minput_shape\u001b[0m \u001b[1;33m=\u001b[0m\u001b[1;33m(\u001b[0m\u001b[1;32mNone\u001b[0m\u001b[1;33m,\u001b[0m\u001b[1;36m3\u001b[0m\u001b[1;33m)\u001b[0m\u001b[1;33m,\u001b[0m\u001b[1;33m\u001b[0m\u001b[0m\n\u001b[1;32m----> 4\u001b[1;33m                  pooling=None)\n\u001b[0m",
      "\u001b[1;32mC:\\Users\\julia\\Desktop\\tf\\lib\\site-packages\\keras\\applications\\__init__.py\u001b[0m in \u001b[0;36mwrapper\u001b[1;34m(*args, **kwargs)\u001b[0m\n\u001b[0;32m     18\u001b[0m         \u001b[0mkwargs\u001b[0m\u001b[1;33m[\u001b[0m\u001b[1;34m'models'\u001b[0m\u001b[1;33m]\u001b[0m \u001b[1;33m=\u001b[0m \u001b[0mmodels\u001b[0m\u001b[1;33m\u001b[0m\u001b[0m\n\u001b[0;32m     19\u001b[0m         \u001b[0mkwargs\u001b[0m\u001b[1;33m[\u001b[0m\u001b[1;34m'utils'\u001b[0m\u001b[1;33m]\u001b[0m \u001b[1;33m=\u001b[0m \u001b[0mutils\u001b[0m\u001b[1;33m\u001b[0m\u001b[0m\n\u001b[1;32m---> 20\u001b[1;33m         \u001b[1;32mreturn\u001b[0m \u001b[0mbase_fun\u001b[0m\u001b[1;33m(\u001b[0m\u001b[1;33m*\u001b[0m\u001b[0margs\u001b[0m\u001b[1;33m,\u001b[0m \u001b[1;33m**\u001b[0m\u001b[0mkwargs\u001b[0m\u001b[1;33m)\u001b[0m\u001b[1;33m\u001b[0m\u001b[0m\n\u001b[0m\u001b[0;32m     21\u001b[0m \u001b[1;33m\u001b[0m\u001b[0m\n\u001b[0;32m     22\u001b[0m     \u001b[1;32mreturn\u001b[0m \u001b[0mwrapper\u001b[0m\u001b[1;33m\u001b[0m\u001b[0m\n",
      "\u001b[1;32mC:\\Users\\julia\\Desktop\\tf\\lib\\site-packages\\keras\\applications\\resnet50.py\u001b[0m in \u001b[0;36mResNet50\u001b[1;34m(*args, **kwargs)\u001b[0m\n\u001b[0;32m      9\u001b[0m \u001b[1;33m@\u001b[0m\u001b[0mkeras_modules_injection\u001b[0m\u001b[1;33m\u001b[0m\u001b[0m\n\u001b[0;32m     10\u001b[0m \u001b[1;32mdef\u001b[0m \u001b[0mResNet50\u001b[0m\u001b[1;33m(\u001b[0m\u001b[1;33m*\u001b[0m\u001b[0margs\u001b[0m\u001b[1;33m,\u001b[0m \u001b[1;33m**\u001b[0m\u001b[0mkwargs\u001b[0m\u001b[1;33m)\u001b[0m\u001b[1;33m:\u001b[0m\u001b[1;33m\u001b[0m\u001b[0m\n\u001b[1;32m---> 11\u001b[1;33m     \u001b[1;32mreturn\u001b[0m \u001b[0mresnet50\u001b[0m\u001b[1;33m.\u001b[0m\u001b[0mResNet50\u001b[0m\u001b[1;33m(\u001b[0m\u001b[1;33m*\u001b[0m\u001b[0margs\u001b[0m\u001b[1;33m,\u001b[0m \u001b[1;33m**\u001b[0m\u001b[0mkwargs\u001b[0m\u001b[1;33m)\u001b[0m\u001b[1;33m\u001b[0m\u001b[0m\n\u001b[0m\u001b[0;32m     12\u001b[0m \u001b[1;33m\u001b[0m\u001b[0m\n\u001b[0;32m     13\u001b[0m \u001b[1;33m\u001b[0m\u001b[0m\n",
      "\u001b[1;32mC:\\Users\\julia\\Desktop\\tf\\lib\\site-packages\\keras_applications\\resnet50.py\u001b[0m in \u001b[0;36mResNet50\u001b[1;34m(include_top, weights, input_tensor, input_shape, pooling, classes, **kwargs)\u001b[0m\n\u001b[0;32m    209\u001b[0m                                       \u001b[0mdata_format\u001b[0m\u001b[1;33m=\u001b[0m\u001b[0mbackend\u001b[0m\u001b[1;33m.\u001b[0m\u001b[0mimage_data_format\u001b[0m\u001b[1;33m(\u001b[0m\u001b[1;33m)\u001b[0m\u001b[1;33m,\u001b[0m\u001b[1;33m\u001b[0m\u001b[0m\n\u001b[0;32m    210\u001b[0m                                       \u001b[0mrequire_flatten\u001b[0m\u001b[1;33m=\u001b[0m\u001b[0minclude_top\u001b[0m\u001b[1;33m,\u001b[0m\u001b[1;33m\u001b[0m\u001b[0m\n\u001b[1;32m--> 211\u001b[1;33m                                       weights=weights)\n\u001b[0m\u001b[0;32m    212\u001b[0m \u001b[1;33m\u001b[0m\u001b[0m\n\u001b[0;32m    213\u001b[0m     \u001b[1;32mif\u001b[0m \u001b[0minput_tensor\u001b[0m \u001b[1;32mis\u001b[0m \u001b[1;32mNone\u001b[0m\u001b[1;33m:\u001b[0m\u001b[1;33m\u001b[0m\u001b[0m\n",
      "\u001b[1;32mC:\\Users\\julia\\Desktop\\tf\\lib\\site-packages\\keras_applications\\imagenet_utils.py\u001b[0m in \u001b[0;36m_obtain_input_shape\u001b[1;34m(input_shape, default_size, min_size, data_format, require_flatten, weights)\u001b[0m\n\u001b[0;32m    311\u001b[0m                 \u001b[1;32mif\u001b[0m \u001b[0mlen\u001b[0m\u001b[1;33m(\u001b[0m\u001b[0minput_shape\u001b[0m\u001b[1;33m)\u001b[0m \u001b[1;33m!=\u001b[0m \u001b[1;36m3\u001b[0m\u001b[1;33m:\u001b[0m\u001b[1;33m\u001b[0m\u001b[0m\n\u001b[0;32m    312\u001b[0m                     raise ValueError(\n\u001b[1;32m--> 313\u001b[1;33m                         '`input_shape` must be a tuple of three integers.')\n\u001b[0m\u001b[0;32m    314\u001b[0m                 \u001b[1;32mif\u001b[0m \u001b[0minput_shape\u001b[0m\u001b[1;33m[\u001b[0m\u001b[1;33m-\u001b[0m\u001b[1;36m1\u001b[0m\u001b[1;33m]\u001b[0m \u001b[1;33m!=\u001b[0m \u001b[1;36m3\u001b[0m \u001b[1;32mand\u001b[0m \u001b[0mweights\u001b[0m \u001b[1;33m==\u001b[0m \u001b[1;34m'imagenet'\u001b[0m\u001b[1;33m:\u001b[0m\u001b[1;33m\u001b[0m\u001b[0m\n\u001b[0;32m    315\u001b[0m                     raise ValueError('The input must have 3 channels; got '\n",
      "\u001b[1;31mValueError\u001b[0m: `input_shape` must be a tuple of three integers."
     ]
    }
   ],
   "source": [
    "RESNET =ResNet50(include_top = False, weights = 'imagenet',\n",
    "                 input_tensor = None, \n",
    "                 input_shape =(None,3), \n",
    "                 pooling=None)"
   ]
  },
  {
   "cell_type": "code",
   "execution_count": 154,
   "metadata": {},
   "outputs": [],
   "source": [
    "CNN.add(RESNET)"
   ]
  },
  {
   "cell_type": "code",
   "execution_count": 155,
   "metadata": {},
   "outputs": [],
   "source": [
    "CNN.add(MaxPooling2D())"
   ]
  },
  {
   "cell_type": "code",
   "execution_count": 156,
   "metadata": {},
   "outputs": [
    {
     "data": {
      "text/plain": [
       "(None, None, None, 2048)"
      ]
     },
     "execution_count": 156,
     "metadata": {},
     "output_type": "execute_result"
    }
   ],
   "source": [
    "CNN.output_shape"
   ]
  },
  {
   "cell_type": "code",
   "execution_count": 140,
   "metadata": {
    "scrolled": true
   },
   "outputs": [
    {
     "ename": "ValueError",
     "evalue": "The shape of the input to \"Flatten\" is not fully defined (got (None, None, 2048)). Make sure to pass a complete \"input_shape\" or \"batch_input_shape\" argument to the first layer in your model.",
     "output_type": "error",
     "traceback": [
      "\u001b[1;31m---------------------------------------------------------------------------\u001b[0m",
      "\u001b[1;31mValueError\u001b[0m                                Traceback (most recent call last)",
      "\u001b[1;32m<ipython-input-140-f8149fc06ef3>\u001b[0m in \u001b[0;36m<module>\u001b[1;34m\u001b[0m\n\u001b[0;32m      1\u001b[0m \u001b[0mCNN\u001b[0m\u001b[1;33m.\u001b[0m\u001b[0madd\u001b[0m\u001b[1;33m(\u001b[0m\u001b[0mMaxPooling2D\u001b[0m\u001b[1;33m(\u001b[0m\u001b[1;33m)\u001b[0m\u001b[1;33m)\u001b[0m\u001b[1;33m\u001b[0m\u001b[0m\n\u001b[1;32m----> 2\u001b[1;33m \u001b[0mCNN\u001b[0m\u001b[1;33m.\u001b[0m\u001b[0madd\u001b[0m\u001b[1;33m(\u001b[0m\u001b[0mFlatten\u001b[0m\u001b[1;33m(\u001b[0m\u001b[1;33m)\u001b[0m\u001b[1;33m)\u001b[0m\u001b[1;33m\u001b[0m\u001b[0m\n\u001b[0m",
      "\u001b[1;32mC:\\Users\\julia\\Desktop\\tf\\lib\\site-packages\\keras\\engine\\sequential.py\u001b[0m in \u001b[0;36madd\u001b[1;34m(self, layer)\u001b[0m\n\u001b[0;32m    180\u001b[0m                 \u001b[0mself\u001b[0m\u001b[1;33m.\u001b[0m\u001b[0minputs\u001b[0m \u001b[1;33m=\u001b[0m \u001b[0mnetwork\u001b[0m\u001b[1;33m.\u001b[0m\u001b[0mget_source_inputs\u001b[0m\u001b[1;33m(\u001b[0m\u001b[0mself\u001b[0m\u001b[1;33m.\u001b[0m\u001b[0moutputs\u001b[0m\u001b[1;33m[\u001b[0m\u001b[1;36m0\u001b[0m\u001b[1;33m]\u001b[0m\u001b[1;33m)\u001b[0m\u001b[1;33m\u001b[0m\u001b[0m\n\u001b[0;32m    181\u001b[0m         \u001b[1;32melif\u001b[0m \u001b[0mself\u001b[0m\u001b[1;33m.\u001b[0m\u001b[0moutputs\u001b[0m\u001b[1;33m:\u001b[0m\u001b[1;33m\u001b[0m\u001b[0m\n\u001b[1;32m--> 182\u001b[1;33m             \u001b[0moutput_tensor\u001b[0m \u001b[1;33m=\u001b[0m \u001b[0mlayer\u001b[0m\u001b[1;33m(\u001b[0m\u001b[0mself\u001b[0m\u001b[1;33m.\u001b[0m\u001b[0moutputs\u001b[0m\u001b[1;33m[\u001b[0m\u001b[1;36m0\u001b[0m\u001b[1;33m]\u001b[0m\u001b[1;33m)\u001b[0m\u001b[1;33m\u001b[0m\u001b[0m\n\u001b[0m\u001b[0;32m    183\u001b[0m             \u001b[1;32mif\u001b[0m \u001b[0misinstance\u001b[0m\u001b[1;33m(\u001b[0m\u001b[0moutput_tensor\u001b[0m\u001b[1;33m,\u001b[0m \u001b[0mlist\u001b[0m\u001b[1;33m)\u001b[0m\u001b[1;33m:\u001b[0m\u001b[1;33m\u001b[0m\u001b[0m\n\u001b[0;32m    184\u001b[0m                 raise TypeError('All layers in a Sequential model '\n",
      "\u001b[1;32mC:\\Users\\julia\\Desktop\\tf\\lib\\site-packages\\keras\\backend\\tensorflow_backend.py\u001b[0m in \u001b[0;36msymbolic_fn_wrapper\u001b[1;34m(*args, **kwargs)\u001b[0m\n\u001b[0;32m     73\u001b[0m         \u001b[1;32mif\u001b[0m \u001b[0m_SYMBOLIC_SCOPE\u001b[0m\u001b[1;33m.\u001b[0m\u001b[0mvalue\u001b[0m\u001b[1;33m:\u001b[0m\u001b[1;33m\u001b[0m\u001b[0m\n\u001b[0;32m     74\u001b[0m             \u001b[1;32mwith\u001b[0m \u001b[0mget_graph\u001b[0m\u001b[1;33m(\u001b[0m\u001b[1;33m)\u001b[0m\u001b[1;33m.\u001b[0m\u001b[0mas_default\u001b[0m\u001b[1;33m(\u001b[0m\u001b[1;33m)\u001b[0m\u001b[1;33m:\u001b[0m\u001b[1;33m\u001b[0m\u001b[0m\n\u001b[1;32m---> 75\u001b[1;33m                 \u001b[1;32mreturn\u001b[0m \u001b[0mfunc\u001b[0m\u001b[1;33m(\u001b[0m\u001b[1;33m*\u001b[0m\u001b[0margs\u001b[0m\u001b[1;33m,\u001b[0m \u001b[1;33m**\u001b[0m\u001b[0mkwargs\u001b[0m\u001b[1;33m)\u001b[0m\u001b[1;33m\u001b[0m\u001b[0m\n\u001b[0m\u001b[0;32m     76\u001b[0m         \u001b[1;32melse\u001b[0m\u001b[1;33m:\u001b[0m\u001b[1;33m\u001b[0m\u001b[0m\n\u001b[0;32m     77\u001b[0m             \u001b[1;32mreturn\u001b[0m \u001b[0mfunc\u001b[0m\u001b[1;33m(\u001b[0m\u001b[1;33m*\u001b[0m\u001b[0margs\u001b[0m\u001b[1;33m,\u001b[0m \u001b[1;33m**\u001b[0m\u001b[0mkwargs\u001b[0m\u001b[1;33m)\u001b[0m\u001b[1;33m\u001b[0m\u001b[0m\n",
      "\u001b[1;32mC:\\Users\\julia\\Desktop\\tf\\lib\\site-packages\\keras\\engine\\base_layer.py\u001b[0m in \u001b[0;36m__call__\u001b[1;34m(self, inputs, **kwargs)\u001b[0m\n\u001b[0;32m    504\u001b[0m             if all([s is not None\n\u001b[0;32m    505\u001b[0m                     for s in to_list(input_shape)]):\n\u001b[1;32m--> 506\u001b[1;33m                 \u001b[0moutput_shape\u001b[0m \u001b[1;33m=\u001b[0m \u001b[0mself\u001b[0m\u001b[1;33m.\u001b[0m\u001b[0mcompute_output_shape\u001b[0m\u001b[1;33m(\u001b[0m\u001b[0minput_shape\u001b[0m\u001b[1;33m)\u001b[0m\u001b[1;33m\u001b[0m\u001b[0m\n\u001b[0m\u001b[0;32m    507\u001b[0m             \u001b[1;32melse\u001b[0m\u001b[1;33m:\u001b[0m\u001b[1;33m\u001b[0m\u001b[0m\n\u001b[0;32m    508\u001b[0m                 \u001b[1;32mif\u001b[0m \u001b[0misinstance\u001b[0m\u001b[1;33m(\u001b[0m\u001b[0minput_shape\u001b[0m\u001b[1;33m,\u001b[0m \u001b[0mlist\u001b[0m\u001b[1;33m)\u001b[0m\u001b[1;33m:\u001b[0m\u001b[1;33m\u001b[0m\u001b[0m\n",
      "\u001b[1;32mC:\\Users\\julia\\Desktop\\tf\\lib\\site-packages\\keras\\layers\\core.py\u001b[0m in \u001b[0;36mcompute_output_shape\u001b[1;34m(self, input_shape)\u001b[0m\n\u001b[0;32m    499\u001b[0m             raise ValueError('The shape of the input to \"Flatten\" '\n\u001b[0;32m    500\u001b[0m                              \u001b[1;34m'is not fully defined '\u001b[0m\u001b[1;33m\u001b[0m\u001b[0m\n\u001b[1;32m--> 501\u001b[1;33m                              \u001b[1;34m'(got '\u001b[0m \u001b[1;33m+\u001b[0m \u001b[0mstr\u001b[0m\u001b[1;33m(\u001b[0m\u001b[0minput_shape\u001b[0m\u001b[1;33m[\u001b[0m\u001b[1;36m1\u001b[0m\u001b[1;33m:\u001b[0m\u001b[1;33m]\u001b[0m\u001b[1;33m)\u001b[0m \u001b[1;33m+\u001b[0m \u001b[1;34m'). '\u001b[0m\u001b[1;33m\u001b[0m\u001b[0m\n\u001b[0m\u001b[0;32m    502\u001b[0m                              \u001b[1;34m'Make sure to pass a complete \"input_shape\" '\u001b[0m\u001b[1;33m\u001b[0m\u001b[0m\n\u001b[0;32m    503\u001b[0m                              \u001b[1;34m'or \"batch_input_shape\" argument to the first '\u001b[0m\u001b[1;33m\u001b[0m\u001b[0m\n",
      "\u001b[1;31mValueError\u001b[0m: The shape of the input to \"Flatten\" is not fully defined (got (None, None, 2048)). Make sure to pass a complete \"input_shape\" or \"batch_input_shape\" argument to the first layer in your model."
     ]
    }
   ],
   "source": [
    "CNN.add(MaxPooling2D())\n",
    "CNN.add(Flatten())"
   ]
  },
  {
   "cell_type": "code",
   "execution_count": null,
   "metadata": {},
   "outputs": [],
   "source": []
  },
  {
   "cell_type": "code",
   "execution_count": 38,
   "metadata": {},
   "outputs": [
    {
     "data": {
      "text/plain": [
       "dict_keys(['val_loss', 'val_categorical_crossentropy', 'val_categorical_accuracy', 'loss', 'categorical_crossentropy', 'categorical_accuracy', 'lr'])"
      ]
     },
     "execution_count": 38,
     "metadata": {},
     "output_type": "execute_result"
    }
   ],
   "source": [
    "hist.history.keys()"
   ]
  },
  {
   "cell_type": "code",
   "execution_count": 39,
   "metadata": {},
   "outputs": [
    {
     "data": {
      "image/png": "[encoded data removed]",
      "text/plain": [
       "<Figure size 432x288 with 2 Axes>"
      ]
     },
     "metadata": {
      "needs_background": "light"
     },
     "output_type": "display_data"
    }
   ],
   "source": [
    "fig, loss_ax = plt.subplots()\n",
    "\n",
    "acc_ax = loss_ax.twinx()\n",
    "\n",
    "loss_ax.plot(hist.history['loss'], 'y', label='train loss')\n",
    "loss_ax.plot(hist.history['val_loss'], 'b', label='val loss')\n",
    "\n",
    "acc_ax.plot(hist.history['val_categorical_accuracy'], 'g', label='val categorical accuracy')\n",
    "acc_ax.plot(hist.history['categorical_accuracy'], 'r', label='categorical_accuracy')\n",
    "\n",
    "loss_ax.set_xlabel('epoch')\n",
    "loss_ax.set_ylabel('loss')\n",
    "acc_ax.set_ylabel('categorical_accuracy')\n",
    "\n",
    "loss_ax.legend(loc='upper left')\n",
    "acc_ax.legend(loc='lower left')\n",
    "\n",
    "plt.show()"
   ]
  },
  {
   "cell_type": "markdown",
   "metadata": {},
   "source": [
    "## Evaluation"
   ]
  },
  {
   "cell_type": "code",
   "execution_count": 40,
   "metadata": {},
   "outputs": [],
   "source": [
    "pred_y = model.predict(test_X, batch_size= batch)"
   ]
  },
  {
   "cell_type": "code",
   "execution_count": 41,
   "metadata": {},
   "outputs": [],
   "source": [
    "ppp = np.argmax(pred_y,1)"
   ]
  },
  {
   "cell_type": "code",
   "execution_count": 42,
   "metadata": {},
   "outputs": [],
   "source": [
    "ttt = np.argmax(test_y,1)"
   ]
  },
  {
   "cell_type": "code",
   "execution_count": 43,
   "metadata": {},
   "outputs": [
    {
     "data": {
      "text/plain": [
       "array([115, 329,  27, ...,  50, 306, 181], dtype=int64)"
      ]
     },
     "execution_count": 43,
     "metadata": {},
     "output_type": "execute_result"
    }
   ],
   "source": [
    "ppp"
   ]
  },
  {
   "cell_type": "code",
   "execution_count": 44,
   "metadata": {},
   "outputs": [
    {
     "data": {
      "text/plain": [
       "array([115, 329, 300, ...,  50, 210, 181], dtype=int64)"
      ]
     },
     "execution_count": 44,
     "metadata": {},
     "output_type": "execute_result"
    }
   ],
   "source": [
    "ttt"
   ]
  },
  {
   "cell_type": "code",
   "execution_count": 45,
   "metadata": {
    "scrolled": true
   },
   "outputs": [
    {
     "data": {
      "text/plain": [
       "<matplotlib.image.AxesImage at 0x24ad3089898>"
      ]
     },
     "execution_count": 45,
     "metadata": {},
     "output_type": "execute_result"
    },
    {
     "data": {
      "image/png": "[encoded data removed]",
      "text/plain": [
       "<Figure size 288x288 with 1 Axes>"
      ]
     },
     "metadata": {
      "needs_background": "light"
     },
     "output_type": "display_data"
    }
   ],
   "source": [
    "plt.matshow(confusion_matrix(ttt,ppp))"
   ]
  },
  {
   "cell_type": "code",
   "execution_count": 48,
   "metadata": {},
   "outputs": [],
   "source": [
    "part1 = classification_report(ttt, ppp, \n",
    "                            target_names = [x for x in word_le.classes_])"
   ]
  },
  {
   "cell_type": "markdown",
   "metadata": {},
   "source": [
    "* 이미지 그리기"
   ]
  },
  {
   "cell_type": "code",
   "execution_count": 122,
   "metadata": {},
   "outputs": [
    {
     "data": {
      "image/png": "[encoded data removed]",
      "text/plain": [
       "<Figure size 432x288 with 1 Axes>"
      ]
     },
     "metadata": {
      "needs_background": "light"
     },
     "output_type": "display_data"
    }
   ],
   "source": [
    "raw_images = list(all_data['drawing'])\n",
    "\n",
    "k = 0\n",
    "for i in range(len(raw_images[k])):\n",
    "    plt.plot(raw_images[k][i][0], raw_images[k][i][1],'o-')\n",
    "plt.show()"
   ]
  },
  {
   "cell_type": "code",
   "execution_count": null,
   "metadata": {},
   "outputs": [],
   "source": []
  },
  {
   "cell_type": "code",
   "execution_count": null,
   "metadata": {},
   "outputs": [],
   "source": []
  },
  {
   "cell_type": "code",
   "execution_count": 171,
   "metadata": {},
   "outputs": [
    {
     "ename": "NameError",
     "evalue": "name 'train_df' is not defined",
     "output_type": "error",
     "traceback": [
      "\u001b[1;31m---------------------------------------------------------------------------\u001b[0m",
      "\u001b[1;31mNameError\u001b[0m                                 Traceback (most recent call last)",
      "\u001b[1;32m<ipython-input-171-4ee7fa305e14>\u001b[0m in \u001b[0;36m<module>\u001b[1;34m\u001b[0m\n\u001b[0;32m      3\u001b[0m     \u001b[0my\u001b[0m \u001b[1;33m=\u001b[0m \u001b[0mto_categorical\u001b[0m\u001b[1;33m(\u001b[0m\u001b[0mword_encoder\u001b[0m\u001b[1;33m.\u001b[0m\u001b[0mtransform\u001b[0m\u001b[1;33m(\u001b[0m\u001b[0min_df\u001b[0m\u001b[1;33m[\u001b[0m\u001b[1;34m'word'\u001b[0m\u001b[1;33m]\u001b[0m\u001b[1;33m.\u001b[0m\u001b[0mvalues\u001b[0m\u001b[1;33m)\u001b[0m\u001b[1;33m)\u001b[0m\u001b[1;33m\u001b[0m\u001b[0m\n\u001b[0;32m      4\u001b[0m     \u001b[1;32mreturn\u001b[0m \u001b[0mX\u001b[0m\u001b[1;33m,\u001b[0m \u001b[0my\u001b[0m\u001b[1;33m\u001b[0m\u001b[0m\n\u001b[1;32m----> 5\u001b[1;33m \u001b[0mtrain_X\u001b[0m\u001b[1;33m,\u001b[0m \u001b[0mtrain_y\u001b[0m \u001b[1;33m=\u001b[0m \u001b[0mget_Xy\u001b[0m\u001b[1;33m(\u001b[0m\u001b[0mtrain_df\u001b[0m\u001b[1;33m)\u001b[0m\u001b[1;33m\u001b[0m\u001b[0m\n\u001b[0m\u001b[0;32m      6\u001b[0m \u001b[0mvalid_X\u001b[0m\u001b[1;33m,\u001b[0m \u001b[0mvalid_y\u001b[0m \u001b[1;33m=\u001b[0m \u001b[0mget_Xy\u001b[0m\u001b[1;33m(\u001b[0m\u001b[0mvalid_df\u001b[0m\u001b[1;33m)\u001b[0m\u001b[1;33m\u001b[0m\u001b[0m\n\u001b[0;32m      7\u001b[0m \u001b[0mtest_X\u001b[0m\u001b[1;33m,\u001b[0m \u001b[0mtest_y\u001b[0m \u001b[1;33m=\u001b[0m \u001b[0mget_Xy\u001b[0m\u001b[1;33m(\u001b[0m\u001b[0mtest_df\u001b[0m\u001b[1;33m)\u001b[0m\u001b[1;33m\u001b[0m\u001b[0m\n",
      "\u001b[1;31mNameError\u001b[0m: name 'train_df' is not defined"
     ]
    }
   ],
   "source": [
    "def get_Xy(in_df):\n",
    "    X = np.stack(in_df['drawing'], 0)\n",
    "    y = to_categorical(word_encoder.transform(in_df['word'].values))\n",
    "    return X, y\n",
    "train_X, train_y = get_Xy(train_df)\n",
    "valid_X, valid_y = get_Xy(valid_df)\n",
    "test_X, test_y = get_Xy(test_df)\n",
    "print(train_X.shape)"
   ]
  },
  {
   "cell_type": "code",
   "execution_count": null,
   "metadata": {},
   "outputs": [],
   "source": []
  },
  {
   "cell_type": "code",
   "execution_count": null,
   "metadata": {},
   "outputs": [],
   "source": []
  },
  {
   "cell_type": "code",
   "execution_count": 108,
   "metadata": {
    "collapsed": true
   },
   "outputs": [
    {
     "ename": "ValueError",
     "evalue": "Axis -1 of input tensor should have a defined dimension but the layer received an input with shape (None, None).",
     "output_type": "error",
     "traceback": [
      "\u001b[1;31m---------------------------------------------------------------------------\u001b[0m",
      "\u001b[1;31mValueError\u001b[0m                                Traceback (most recent call last)",
      "\u001b[1;32m<ipython-input-108-b80e3d33e5dc>\u001b[0m in \u001b[0;36m<module>\u001b[1;34m\u001b[0m\n\u001b[0;32m      1\u001b[0m \u001b[0mstroke_read_model\u001b[0m \u001b[1;33m=\u001b[0m \u001b[0mSequential\u001b[0m\u001b[1;33m(\u001b[0m\u001b[1;33m)\u001b[0m\u001b[1;33m\u001b[0m\u001b[0m\n\u001b[1;32m----> 2\u001b[1;33m \u001b[0mstroke_read_model\u001b[0m\u001b[1;33m.\u001b[0m\u001b[0madd\u001b[0m\u001b[1;33m(\u001b[0m\u001b[0mBatchNormalization\u001b[0m\u001b[1;33m(\u001b[0m\u001b[0minput_shape\u001b[0m \u001b[1;33m=\u001b[0m \u001b[1;33m(\u001b[0m\u001b[1;32mNone\u001b[0m\u001b[1;33m,\u001b[0m\u001b[1;33m)\u001b[0m\u001b[1;33m)\u001b[0m\u001b[1;33m)\u001b[0m\u001b[1;33m\u001b[0m\u001b[0m\n\u001b[0m\u001b[0;32m      3\u001b[0m \u001b[1;31m# filter count and length are taken from the script https://github.com/tensorflow/models/blob/master/tutorials/rnn/quickdraw/train_model.py\u001b[0m\u001b[1;33m\u001b[0m\u001b[1;33m\u001b[0m\u001b[0m\n\u001b[0;32m      4\u001b[0m \u001b[0mstroke_read_model\u001b[0m\u001b[1;33m.\u001b[0m\u001b[0madd\u001b[0m\u001b[1;33m(\u001b[0m\u001b[0mConv1D\u001b[0m\u001b[1;33m(\u001b[0m\u001b[1;36m48\u001b[0m\u001b[1;33m,\u001b[0m \u001b[1;33m(\u001b[0m\u001b[1;36m5\u001b[0m\u001b[1;33m,\u001b[0m\u001b[1;33m)\u001b[0m\u001b[1;33m)\u001b[0m\u001b[1;33m)\u001b[0m\u001b[1;33m\u001b[0m\u001b[0m\n\u001b[0;32m      5\u001b[0m \u001b[0mstroke_read_model\u001b[0m\u001b[1;33m.\u001b[0m\u001b[0madd\u001b[0m\u001b[1;33m(\u001b[0m\u001b[0mDropout\u001b[0m\u001b[1;33m(\u001b[0m\u001b[1;36m0.3\u001b[0m\u001b[1;33m)\u001b[0m\u001b[1;33m)\u001b[0m\u001b[1;33m\u001b[0m\u001b[0m\n",
      "\u001b[1;32mC:\\Users\\julia\\Desktop\\tf\\lib\\site-packages\\keras\\engine\\sequential.py\u001b[0m in \u001b[0;36madd\u001b[1;34m(self, layer)\u001b[0m\n\u001b[0;32m    164\u001b[0m                     \u001b[1;31m# and create the node connecting the current layer\u001b[0m\u001b[1;33m\u001b[0m\u001b[1;33m\u001b[0m\u001b[0m\n\u001b[0;32m    165\u001b[0m                     \u001b[1;31m# to the input layer we just created.\u001b[0m\u001b[1;33m\u001b[0m\u001b[1;33m\u001b[0m\u001b[0m\n\u001b[1;32m--> 166\u001b[1;33m                     \u001b[0mlayer\u001b[0m\u001b[1;33m(\u001b[0m\u001b[0mx\u001b[0m\u001b[1;33m)\u001b[0m\u001b[1;33m\u001b[0m\u001b[0m\n\u001b[0m\u001b[0;32m    167\u001b[0m                     \u001b[0mset_inputs\u001b[0m \u001b[1;33m=\u001b[0m \u001b[1;32mTrue\u001b[0m\u001b[1;33m\u001b[0m\u001b[0m\n\u001b[0;32m    168\u001b[0m             \u001b[1;32melse\u001b[0m\u001b[1;33m:\u001b[0m\u001b[1;33m\u001b[0m\u001b[0m\n",
      "\u001b[1;32mC:\\Users\\julia\\Desktop\\tf\\lib\\site-packages\\keras\\backend\\tensorflow_backend.py\u001b[0m in \u001b[0;36msymbolic_fn_wrapper\u001b[1;34m(*args, **kwargs)\u001b[0m\n\u001b[0;32m     73\u001b[0m         \u001b[1;32mif\u001b[0m \u001b[0m_SYMBOLIC_SCOPE\u001b[0m\u001b[1;33m.\u001b[0m\u001b[0mvalue\u001b[0m\u001b[1;33m:\u001b[0m\u001b[1;33m\u001b[0m\u001b[0m\n\u001b[0;32m     74\u001b[0m             \u001b[1;32mwith\u001b[0m \u001b[0mget_graph\u001b[0m\u001b[1;33m(\u001b[0m\u001b[1;33m)\u001b[0m\u001b[1;33m.\u001b[0m\u001b[0mas_default\u001b[0m\u001b[1;33m(\u001b[0m\u001b[1;33m)\u001b[0m\u001b[1;33m:\u001b[0m\u001b[1;33m\u001b[0m\u001b[0m\n\u001b[1;32m---> 75\u001b[1;33m                 \u001b[1;32mreturn\u001b[0m \u001b[0mfunc\u001b[0m\u001b[1;33m(\u001b[0m\u001b[1;33m*\u001b[0m\u001b[0margs\u001b[0m\u001b[1;33m,\u001b[0m \u001b[1;33m**\u001b[0m\u001b[0mkwargs\u001b[0m\u001b[1;33m)\u001b[0m\u001b[1;33m\u001b[0m\u001b[0m\n\u001b[0m\u001b[0;32m     76\u001b[0m         \u001b[1;32melse\u001b[0m\u001b[1;33m:\u001b[0m\u001b[1;33m\u001b[0m\u001b[0m\n\u001b[0;32m     77\u001b[0m             \u001b[1;32mreturn\u001b[0m \u001b[0mfunc\u001b[0m\u001b[1;33m(\u001b[0m\u001b[1;33m*\u001b[0m\u001b[0margs\u001b[0m\u001b[1;33m,\u001b[0m \u001b[1;33m**\u001b[0m\u001b[0mkwargs\u001b[0m\u001b[1;33m)\u001b[0m\u001b[1;33m\u001b[0m\u001b[0m\n",
      "\u001b[1;32mC:\\Users\\julia\\Desktop\\tf\\lib\\site-packages\\keras\\engine\\base_layer.py\u001b[0m in \u001b[0;36m__call__\u001b[1;34m(self, inputs, **kwargs)\u001b[0m\n\u001b[0;32m    461\u001b[0m                                          \u001b[1;34m'You can build it manually via: '\u001b[0m\u001b[1;33m\u001b[0m\u001b[0m\n\u001b[0;32m    462\u001b[0m                                          '`layer.build(batch_input_shape)`')\n\u001b[1;32m--> 463\u001b[1;33m                 \u001b[0mself\u001b[0m\u001b[1;33m.\u001b[0m\u001b[0mbuild\u001b[0m\u001b[1;33m(\u001b[0m\u001b[0munpack_singleton\u001b[0m\u001b[1;33m(\u001b[0m\u001b[0minput_shapes\u001b[0m\u001b[1;33m)\u001b[0m\u001b[1;33m)\u001b[0m\u001b[1;33m\u001b[0m\u001b[0m\n\u001b[0m\u001b[0;32m    464\u001b[0m                 \u001b[0mself\u001b[0m\u001b[1;33m.\u001b[0m\u001b[0mbuilt\u001b[0m \u001b[1;33m=\u001b[0m \u001b[1;32mTrue\u001b[0m\u001b[1;33m\u001b[0m\u001b[0m\n\u001b[0;32m    465\u001b[0m \u001b[1;33m\u001b[0m\u001b[0m\n",
      "\u001b[1;32mC:\\Users\\julia\\Desktop\\tf\\lib\\site-packages\\keras\\layers\\normalization.py\u001b[0m in \u001b[0;36mbuild\u001b[1;34m(self, input_shape)\u001b[0m\n\u001b[0;32m     97\u001b[0m                              \u001b[1;34m'input tensor should have a defined dimension '\u001b[0m\u001b[1;33m\u001b[0m\u001b[0m\n\u001b[0;32m     98\u001b[0m                              \u001b[1;34m'but the layer received an input with shape '\u001b[0m \u001b[1;33m+\u001b[0m\u001b[1;33m\u001b[0m\u001b[0m\n\u001b[1;32m---> 99\u001b[1;33m                              str(input_shape) + '.')\n\u001b[0m\u001b[0;32m    100\u001b[0m         self.input_spec = InputSpec(ndim=len(input_shape),\n\u001b[0;32m    101\u001b[0m                                     axes={self.axis: dim})\n",
      "\u001b[1;31mValueError\u001b[0m: Axis -1 of input tensor should have a defined dimension but the layer received an input with shape (None, None)."
     ]
    }
   ],
   "source": [
    "\n",
    "stroke_read_model = Sequential()\n",
    "stroke_read_model.add(BatchNormalization(input_shape = (None,)))\n",
    "# filter count and length are taken from the script https://github.com/tensorflow/models/blob/master/tutorials/rnn/quickdraw/train_model.py\n",
    "stroke_read_model.add(Conv1D(48, (5,)))\n",
    "stroke_read_model.add(Dropout(0.3))\n",
    "stroke_read_model.add(Conv1D(64, (5,)))\n",
    "stroke_read_model.add(Dropout(0.3))\n",
    "stroke_read_model.add(Conv1D(96, (3,)))\n",
    "stroke_read_model.add(Dropout(0.3))\n",
    "stroke_read_model.add(LSTM(128, return_sequences = True))\n",
    "stroke_read_model.add(Dropout(0.3))\n",
    "stroke_read_model.add(LSTM(128, return_sequences = False))\n",
    "stroke_read_model.add(Dropout(0.3))\n",
    "stroke_read_model.add(Dense(512))\n",
    "stroke_read_model.add(Dropout(0.3))\n",
    "stroke_read_model.add(Dense(len(word_encoder.classes_), activation = 'softmax'))\n",
    "stroke_read_model.compile(optimizer = 'adam', \n",
    "                          loss = 'categorical_crossentropy', \n",
    "                          metrics = ['categorical_accuracy', top_3_accuracy])\n",
    "stroke_read_model.summary()"
   ]
  },
  {
   "cell_type": "code",
   "execution_count": null,
   "metadata": {},
   "outputs": [],
   "source": []
  }
 ],
 "metadata": {
  "kernelspec": {
   "display_name": "Python3 tf",
   "language": "python",
   "name": "tf"
  },
  "language_info": {
   "codemirror_mode": {
    "name": "ipython",
    "version": 3
   },
   "file_extension": ".py",
   "mimetype": "text/x-python",
   "name": "python",
   "nbconvert_exporter": "python",
   "pygments_lexer": "ipython3",
   "version": "3.6.4"
  }
 },
 "nbformat": 4,
 "nbformat_minor": 2
}
