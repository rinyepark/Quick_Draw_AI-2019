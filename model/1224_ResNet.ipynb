{
 "cells": [
  {
   "cell_type": "markdown",
   "metadata": {},
   "source": [
    "# 성능 체크\n",
    "-> Kaggle내 코드를 그대로 따라했을 때의 -> 이후 이거 기준 성장  \n",
    "https://www.kaggle.com/amneves/quick-draw-keras-cnn-model"
   ]
  },
  {
   "cell_type": "code",
   "execution_count": 1,
   "metadata": {},
   "outputs": [
    {
     "name": "stderr",
     "output_type": "stream",
     "text": [
      "Using TensorFlow backend.\n"
     ]
    }
   ],
   "source": [
    "import tensorflow as tf\n",
    "import numpy as np\n",
    "from tensorflow import keras\n",
    "\n",
    "from tensorflow.keras.utils import to_categorical\n",
    "from tensorflow.keras.metrics import categorical_accuracy, top_k_categorical_accuracy, categorical_crossentropy\n",
    "\n",
    "import pandas as pd\n",
    "import matplotlib as mpl\n",
    "import matplotlib.pylab as plt\n",
    "\n",
    "from sklearn.model_selection import train_test_split\n",
    "from sklearn.preprocessing import LabelEncoder\n",
    "\n",
    "\n",
    "import keras.backend as K \n",
    "from keras.callbacks import EarlyStopping,ModelCheckpoint\n",
    "\n",
    "from keras.utils import np_utils\n",
    "from keras.models import Sequential\n",
    "from keras.models import load_model\n",
    "\n",
    "from keras.layers import BatchNormalization, Conv1D, LSTM, Dense, Dropout, Flatten\n",
    "from keras.optimizers import Adam\n",
    "from keras.models import Model\n",
    "\n",
    "from keras.callbacks import ReduceLROnPlateau\n",
    "from keras.applications.mobilenet import MobileNet, decode_predictions\n",
    "from keras.applications.resnet50 import ResNet50, decode_predictions\n",
    "\n",
    "from keras.preprocessing.image import ImageDataGenerator\n",
    "\n",
    "from sklearn.metrics import confusion_matrix, classification_report\n",
    "\n",
    "import ast\n",
    "import os\n",
    "import cv2\n",
    "from collections import Counter"
   ]
  },
  {
   "cell_type": "markdown",
   "metadata": {},
   "source": [
    "# =============================="
   ]
  },
  {
   "cell_type": "code",
   "execution_count": 2,
   "metadata": {},
   "outputs": [],
   "source": [
    "path_dir = \"E:/경희대학교/2019_2/데이터분석캡스톤디자인/quick_draw/quickdraw-doodle-recognition/top10/\"\n",
    "file_lst = os.listdir(path_dir)"
   ]
  },
  {
   "cell_type": "markdown",
   "metadata": {},
   "source": [
    "## 10개 파일 중 50,000개씩의 데이터 사용"
   ]
  },
  {
   "cell_type": "code",
   "execution_count": 19,
   "metadata": {},
   "outputs": [
    {
     "name": "stdout",
     "output_type": "stream",
     "text": [
      "airplane.csv\n",
      "bear.csv\n",
      "butterfly.csv\n",
      "cat.csv\n",
      "circle.csv\n",
      "cloud.csv\n",
      "dog.csv\n",
      "door.csv\n",
      "mouse.csv\n",
      "star.csv\n"
     ]
    }
   ],
   "source": [
    "# all_data = pd.DataFrame()\n",
    "# for i in file_lst:\n",
    "#     print(i)\n",
    "#     tmp = pd.read_csv(path_dir + i)\n",
    "#     tmp = tmp[tmp[\"recognized\"] == True]\n",
    "#     ttmp = tmp.iloc[:50000]\n",
    "#     all_data = pd.concat([all_data,ttmp],axis = 0)"
   ]
  },
  {
   "cell_type": "code",
   "execution_count": 5,
   "metadata": {},
   "outputs": [],
   "source": [
    "all_data =pd.read_csv(\"./true_split_data_1224/dataset_1.csv\")"
   ]
  },
  {
   "cell_type": "code",
   "execution_count": 6,
   "metadata": {},
   "outputs": [
    {
     "data": {
      "text/html": [
       "<div>\n",
       "<style scoped>\n",
       "    .dataframe tbody tr th:only-of-type {\n",
       "        vertical-align: middle;\n",
       "    }\n",
       "\n",
       "    .dataframe tbody tr th {\n",
       "        vertical-align: top;\n",
       "    }\n",
       "\n",
       "    .dataframe thead th {\n",
       "        text-align: right;\n",
       "    }\n",
       "</style>\n",
       "<table border=\"1\" class=\"dataframe\">\n",
       "  <thead>\n",
       "    <tr style=\"text-align: right;\">\n",
       "      <th></th>\n",
       "      <th>countrycode</th>\n",
       "      <th>drawing</th>\n",
       "      <th>key_id</th>\n",
       "      <th>recognized</th>\n",
       "      <th>timestamp</th>\n",
       "      <th>word</th>\n",
       "    </tr>\n",
       "  </thead>\n",
       "  <tbody>\n",
       "    <tr>\n",
       "      <th>0</th>\n",
       "      <td>US</td>\n",
       "      <td>[[[63, 59, 53, 33, 29, 39, 65, 73, 72, 66], [3...</td>\n",
       "      <td>5219658900701184</td>\n",
       "      <td>True</td>\n",
       "      <td>2017-01-27 12:47:13.868000</td>\n",
       "      <td>wine bottle</td>\n",
       "    </tr>\n",
       "    <tr>\n",
       "      <th>1</th>\n",
       "      <td>US</td>\n",
       "      <td>[[[45, 44, 18, 7, 0, 13, 36, 58, 77, 102, 106,...</td>\n",
       "      <td>5344588942278656</td>\n",
       "      <td>True</td>\n",
       "      <td>2017-03-19 19:39:31.420990</td>\n",
       "      <td>wine bottle</td>\n",
       "    </tr>\n",
       "    <tr>\n",
       "      <th>2</th>\n",
       "      <td>CA</td>\n",
       "      <td>[[[105, 80, 73, 73, 77, 94, 102], [32, 29, 33,...</td>\n",
       "      <td>4617064918548480</td>\n",
       "      <td>True</td>\n",
       "      <td>2017-03-05 22:50:38.920360</td>\n",
       "      <td>wine bottle</td>\n",
       "    </tr>\n",
       "    <tr>\n",
       "      <th>3</th>\n",
       "      <td>JP</td>\n",
       "      <td>[[[4, 0, 5, 12, 41, 50, 55, 59, 105, 110, 111,...</td>\n",
       "      <td>6571431754203136</td>\n",
       "      <td>True</td>\n",
       "      <td>2017-03-29 14:30:51.318940</td>\n",
       "      <td>wine bottle</td>\n",
       "    </tr>\n",
       "    <tr>\n",
       "      <th>4</th>\n",
       "      <td>US</td>\n",
       "      <td>[[[75, 72, 85, 96, 98, 95, 78, 74], [7, 40, 42...</td>\n",
       "      <td>5325999203942400</td>\n",
       "      <td>True</td>\n",
       "      <td>2017-01-27 16:17:31.971340</td>\n",
       "      <td>wine bottle</td>\n",
       "    </tr>\n",
       "  </tbody>\n",
       "</table>\n",
       "</div>"
      ],
      "text/plain": [
       "  countrycode                                            drawing  \\\n",
       "0          US  [[[63, 59, 53, 33, 29, 39, 65, 73, 72, 66], [3...   \n",
       "1          US  [[[45, 44, 18, 7, 0, 13, 36, 58, 77, 102, 106,...   \n",
       "2          CA  [[[105, 80, 73, 73, 77, 94, 102], [32, 29, 33,...   \n",
       "3          JP  [[[4, 0, 5, 12, 41, 50, 55, 59, 105, 110, 111,...   \n",
       "4          US  [[[75, 72, 85, 96, 98, 95, 78, 74], [7, 40, 42...   \n",
       "\n",
       "             key_id  recognized                   timestamp         word  \n",
       "0  5219658900701184        True  2017-01-27 12:47:13.868000  wine bottle  \n",
       "1  5344588942278656        True  2017-03-19 19:39:31.420990  wine bottle  \n",
       "2  4617064918548480        True  2017-03-05 22:50:38.920360  wine bottle  \n",
       "3  6571431754203136        True  2017-03-29 14:30:51.318940  wine bottle  \n",
       "4  5325999203942400        True  2017-01-27 16:17:31.971340  wine bottle  "
      ]
     },
     "execution_count": 6,
     "metadata": {},
     "output_type": "execute_result"
    }
   ],
   "source": [
    "all_data.head()"
   ]
  },
  {
   "cell_type": "code",
   "execution_count": 7,
   "metadata": {},
   "outputs": [],
   "source": [
    "all_data['drawing'] = all_data['drawing'].apply(ast.literal_eval)"
   ]
  },
  {
   "cell_type": "markdown",
   "metadata": {},
   "source": [
    "# ================================"
   ]
  },
  {
   "cell_type": "markdown",
   "metadata": {},
   "source": [
    "* ast로 계속 바꿔주지 않으려고 pickle 방식 활용"
   ]
  },
  {
   "cell_type": "code",
   "execution_count": 2,
   "metadata": {
    "scrolled": true
   },
   "outputs": [],
   "source": [
    "all_data = pd.read_pickle(\"new_true_split_data/dataset_1.pkl\")"
   ]
  },
  {
   "cell_type": "code",
   "execution_count": 3,
   "metadata": {},
   "outputs": [
    {
     "data": {
      "text/plain": [
       "(500000, 6)"
      ]
     },
     "execution_count": 3,
     "metadata": {},
     "output_type": "execute_result"
    }
   ],
   "source": [
    "all_data.shape"
   ]
  },
  {
   "cell_type": "code",
   "execution_count": 4,
   "metadata": {},
   "outputs": [],
   "source": [
    "word_lst = list(all_data['word'].unique())"
   ]
  },
  {
   "cell_type": "code",
   "execution_count": 5,
   "metadata": {},
   "outputs": [],
   "source": [
    "train2, test = train_test_split(all_data, test_size=0.3, shuffle = True,\n",
    "                                random_state = 42,\n",
    "                                stratify = all_data[\"word\"])"
   ]
  },
  {
   "cell_type": "code",
   "execution_count": 6,
   "metadata": {},
   "outputs": [
    {
     "data": {
      "text/html": [
       "<div>\n",
       "<style scoped>\n",
       "    .dataframe tbody tr th:only-of-type {\n",
       "        vertical-align: middle;\n",
       "    }\n",
       "\n",
       "    .dataframe tbody tr th {\n",
       "        vertical-align: top;\n",
       "    }\n",
       "\n",
       "    .dataframe thead th {\n",
       "        text-align: right;\n",
       "    }\n",
       "</style>\n",
       "<table border=\"1\" class=\"dataframe\">\n",
       "  <thead>\n",
       "    <tr style=\"text-align: right;\">\n",
       "      <th></th>\n",
       "      <th>countrycode</th>\n",
       "      <th>drawing</th>\n",
       "      <th>key_id</th>\n",
       "      <th>recognized</th>\n",
       "      <th>timestamp</th>\n",
       "      <th>word</th>\n",
       "    </tr>\n",
       "  </thead>\n",
       "  <tbody>\n",
       "    <tr>\n",
       "      <th>4424</th>\n",
       "      <td>US</td>\n",
       "      <td>[[[11, 16, 3, 0, 16, 30, 75, 87, 95, 96, 93, 8...</td>\n",
       "      <td>5282628892622848</td>\n",
       "      <td>True</td>\n",
       "      <td>2017-01-26 03:08:31.823640</td>\n",
       "      <td>wine bottle</td>\n",
       "    </tr>\n",
       "    <tr>\n",
       "      <th>84138</th>\n",
       "      <td>GB</td>\n",
       "      <td>[[[74, 67, 53, 27, 10, 2, 0, 6, 37, 56, 161, 2...</td>\n",
       "      <td>6094540798689280</td>\n",
       "      <td>True</td>\n",
       "      <td>2017-03-25 07:23:34.504550</td>\n",
       "      <td>pond</td>\n",
       "    </tr>\n",
       "    <tr>\n",
       "      <th>390002</th>\n",
       "      <td>US</td>\n",
       "      <td>[[[29, 81, 143, 179, 186, 182, 105, 90, 48, 25...</td>\n",
       "      <td>6721971112902656</td>\n",
       "      <td>True</td>\n",
       "      <td>2017-03-02 14:02:55.861420</td>\n",
       "      <td>cake</td>\n",
       "    </tr>\n",
       "    <tr>\n",
       "      <th>129896</th>\n",
       "      <td>US</td>\n",
       "      <td>[[[30, 64, 145, 159, 166, 166, 175, 176, 166, ...</td>\n",
       "      <td>5082382782693376</td>\n",
       "      <td>True</td>\n",
       "      <td>2017-03-01 16:15:52.619470</td>\n",
       "      <td>traffic light</td>\n",
       "    </tr>\n",
       "    <tr>\n",
       "      <th>336032</th>\n",
       "      <td>CA</td>\n",
       "      <td>[[[141, 160, 166, 167, 164, 158, 38, 13, 6, 7,...</td>\n",
       "      <td>5870901683814400</td>\n",
       "      <td>True</td>\n",
       "      <td>2017-03-19 09:47:37.955320</td>\n",
       "      <td>sea turtle</td>\n",
       "    </tr>\n",
       "  </tbody>\n",
       "</table>\n",
       "</div>"
      ],
      "text/plain": [
       "       countrycode                                            drawing  \\\n",
       "4424            US  [[[11, 16, 3, 0, 16, 30, 75, 87, 95, 96, 93, 8...   \n",
       "84138           GB  [[[74, 67, 53, 27, 10, 2, 0, 6, 37, 56, 161, 2...   \n",
       "390002          US  [[[29, 81, 143, 179, 186, 182, 105, 90, 48, 25...   \n",
       "129896          US  [[[30, 64, 145, 159, 166, 166, 175, 176, 166, ...   \n",
       "336032          CA  [[[141, 160, 166, 167, 164, 158, 38, 13, 6, 7,...   \n",
       "\n",
       "                  key_id  recognized                   timestamp  \\\n",
       "4424    5282628892622848        True  2017-01-26 03:08:31.823640   \n",
       "84138   6094540798689280        True  2017-03-25 07:23:34.504550   \n",
       "390002  6721971112902656        True  2017-03-02 14:02:55.861420   \n",
       "129896  5082382782693376        True  2017-03-01 16:15:52.619470   \n",
       "336032  5870901683814400        True  2017-03-19 09:47:37.955320   \n",
       "\n",
       "                 word  \n",
       "4424      wine bottle  \n",
       "84138            pond  \n",
       "390002           cake  \n",
       "129896  traffic light  \n",
       "336032     sea turtle  "
      ]
     },
     "execution_count": 6,
     "metadata": {},
     "output_type": "execute_result"
    }
   ],
   "source": [
    "train2.head()"
   ]
  },
  {
   "cell_type": "code",
   "execution_count": 7,
   "metadata": {},
   "outputs": [
    {
     "data": {
      "text/plain": [
       "Counter({'wine bottle': 17500,\n",
       "         'pond': 17500,\n",
       "         'cake': 17500,\n",
       "         'traffic light': 17500,\n",
       "         'sea turtle': 17500,\n",
       "         'carrot': 17500,\n",
       "         'microphone': 17500,\n",
       "         'snake': 17500,\n",
       "         'octopus': 17500,\n",
       "         'mermaid': 17500,\n",
       "         'chandelier': 17500,\n",
       "         'dog': 17500,\n",
       "         'bat': 17500,\n",
       "         'television': 17500,\n",
       "         'light bulb': 17500,\n",
       "         'computer': 17500,\n",
       "         'pliers': 17500,\n",
       "         'candle': 17500,\n",
       "         'monkey': 17500,\n",
       "         'couch': 17500})"
      ]
     },
     "execution_count": 7,
     "metadata": {},
     "output_type": "execute_result"
    }
   ],
   "source": [
    "Counter(train2[\"word\"])"
   ]
  },
  {
   "cell_type": "code",
   "execution_count": 8,
   "metadata": {},
   "outputs": [],
   "source": [
    "train, valid=  train_test_split(train2, test_size=0.3, shuffle = True, \n",
    "                                random_state = 42,\n",
    "                                stratify = train2[\"word\"])"
   ]
  },
  {
   "cell_type": "code",
   "execution_count": 9,
   "metadata": {},
   "outputs": [
    {
     "data": {
      "text/plain": [
       "Counter({'wine bottle': 25000,\n",
       "         'candle': 25000,\n",
       "         'computer': 25000,\n",
       "         'pond': 25000,\n",
       "         'light bulb': 25000,\n",
       "         'traffic light': 25000,\n",
       "         'bat': 25000,\n",
       "         'carrot': 25000,\n",
       "         'snake': 25000,\n",
       "         'dog': 25000,\n",
       "         'monkey': 25000,\n",
       "         'television': 25000,\n",
       "         'microphone': 25000,\n",
       "         'sea turtle': 25000,\n",
       "         'couch': 25000,\n",
       "         'cake': 25000,\n",
       "         'mermaid': 25000,\n",
       "         'chandelier': 25000,\n",
       "         'octopus': 25000,\n",
       "         'pliers': 25000})"
      ]
     },
     "execution_count": 9,
     "metadata": {},
     "output_type": "execute_result"
    }
   ],
   "source": [
    "Counter(all_data[\"word\"])"
   ]
  },
  {
   "cell_type": "code",
   "execution_count": 10,
   "metadata": {
    "scrolled": true
   },
   "outputs": [
    {
     "name": "stdout",
     "output_type": "stream",
     "text": [
      "(245000, 6)\n",
      "(105000, 6)\n",
      "(150000, 6)\n"
     ]
    }
   ],
   "source": [
    "print(train.shape)\n",
    "print(valid.shape)\n",
    "print(test.shape)"
   ]
  },
  {
   "cell_type": "code",
   "execution_count": 11,
   "metadata": {},
   "outputs": [
    {
     "data": {
      "text/plain": [
       "LabelEncoder()"
      ]
     },
     "execution_count": 11,
     "metadata": {},
     "output_type": "execute_result"
    }
   ],
   "source": [
    "word_le = LabelEncoder()\n",
    "word_le.fit(all_data['word'])"
   ]
  },
  {
   "cell_type": "code",
   "execution_count": 12,
   "metadata": {},
   "outputs": [
    {
     "data": {
      "text/plain": [
       "array(['bat', 'cake', 'candle', 'carrot', 'chandelier', 'computer',\n",
       "       'couch', 'dog', 'light bulb', 'mermaid', 'microphone', 'monkey',\n",
       "       'octopus', 'pliers', 'pond', 'sea turtle', 'snake', 'television',\n",
       "       'traffic light', 'wine bottle'], dtype=object)"
      ]
     },
     "execution_count": 12,
     "metadata": {},
     "output_type": "execute_result"
    }
   ],
   "source": [
    "word_le.classes_"
   ]
  },
  {
   "cell_type": "markdown",
   "metadata": {},
   "source": [
    "### Split"
   ]
  },
  {
   "cell_type": "code",
   "execution_count": 13,
   "metadata": {},
   "outputs": [],
   "source": [
    "size = 64\n",
    "word_num = len(word_lst)\n",
    "BASE_SIZE = 256"
   ]
  },
  {
   "cell_type": "markdown",
   "metadata": {},
   "source": [
    "#### cv2.line\n",
    "* img: 선분이 그려질 이미지  \n",
    "* (x1,y1) 선분의 시작점\n",
    "* (x2,y2) 선분의 끝점\n",
    "* color: 색상(0~255)\n",
    "* thickness"
   ]
  },
  {
   "cell_type": "code",
   "execution_count": 14,
   "metadata": {},
   "outputs": [],
   "source": [
    "def reshape_draw(rs, size=256, lw=6):\n",
    "    img = np.zeros((BASE_SIZE, BASE_SIZE), np.uint8)\n",
    "    for s in rs:\n",
    "        for i in range(len(s[0]) - 1):\n",
    "            _ = cv2.line(img, (s[0][i], s[1][i]), (s[0][i + 1], s[1][i + 1]), 255, lw)\n",
    "#             print(_)\n",
    "\n",
    "    if size != BASE_SIZE:\n",
    "        return cv2.resize(img, (size, size))\n",
    "    else:\n",
    "        return img"
   ]
  },
  {
   "cell_type": "code",
   "execution_count": 15,
   "metadata": {},
   "outputs": [],
   "source": [
    "def drawing_make_array(df, size = size, lw = 6):\n",
    "    x = np.zeros((len(df),size,size))\n",
    "    for i, rs in enumerate(df.drawing.values):\n",
    "        x[i] = reshape_draw(rs,size=size,lw=lw)\n",
    "    x = x/255 # 정규화\n",
    "    x = x.reshape((len(df),size,size,1)).astype(np.float32)\n",
    "    return x"
   ]
  },
  {
   "cell_type": "code",
   "execution_count": 15,
   "metadata": {
    "collapsed": true
   },
   "outputs": [
    {
     "ename": "NameError",
     "evalue": "name 'drawing_make_array' is not defined",
     "output_type": "error",
     "traceback": [
      "\u001b[1;31m---------------------------------------------------------------------------\u001b[0m",
      "\u001b[1;31mNameError\u001b[0m                                 Traceback (most recent call last)",
      "\u001b[1;32m<ipython-input-15-eba7dbf26a14>\u001b[0m in \u001b[0;36m<module>\u001b[1;34m\u001b[0m\n\u001b[1;32m----> 1\u001b[1;33m \u001b[0mtrain_X\u001b[0m \u001b[1;33m=\u001b[0m \u001b[0mdrawing_make_array\u001b[0m\u001b[1;33m(\u001b[0m\u001b[0mtrain\u001b[0m\u001b[1;33m,\u001b[0m \u001b[0msize\u001b[0m\u001b[1;33m)\u001b[0m\u001b[1;33m\u001b[0m\u001b[0m\n\u001b[0m\u001b[0;32m      2\u001b[0m \u001b[0mtrain_y\u001b[0m \u001b[1;33m=\u001b[0m \u001b[0mto_categorical\u001b[0m\u001b[1;33m(\u001b[0m\u001b[0mword_le\u001b[0m\u001b[1;33m.\u001b[0m\u001b[0mtransform\u001b[0m\u001b[1;33m(\u001b[0m\u001b[0mtrain\u001b[0m\u001b[1;33m[\u001b[0m\u001b[1;34m'word'\u001b[0m\u001b[1;33m]\u001b[0m\u001b[1;33m.\u001b[0m\u001b[0mvalues\u001b[0m\u001b[1;33m)\u001b[0m\u001b[1;33m)\u001b[0m\u001b[1;33m\u001b[0m\u001b[0m\n",
      "\u001b[1;31mNameError\u001b[0m: name 'drawing_make_array' is not defined"
     ]
    }
   ],
   "source": [
    "train_X = drawing_make_array(train, size)\n",
    "train_y = to_categorical(word_le.transform(train['word'].values))"
   ]
  },
  {
   "cell_type": "code",
   "execution_count": 21,
   "metadata": {
    "collapsed": true
   },
   "outputs": [
    {
     "ename": "KeyboardInterrupt",
     "evalue": "",
     "output_type": "error",
     "traceback": [
      "\u001b[1;31m---------------------------------------------------------------------------\u001b[0m",
      "\u001b[1;31mKeyboardInterrupt\u001b[0m                         Traceback (most recent call last)",
      "\u001b[1;32m<ipython-input-21-93e8fcafe434>\u001b[0m in \u001b[0;36m<module>\u001b[1;34m\u001b[0m\n\u001b[1;32m----> 1\u001b[1;33m \u001b[0mvalid_X\u001b[0m \u001b[1;33m=\u001b[0m \u001b[0mdrawing_make_array\u001b[0m\u001b[1;33m(\u001b[0m\u001b[0mvalid\u001b[0m\u001b[1;33m,\u001b[0m \u001b[0msize\u001b[0m\u001b[1;33m)\u001b[0m\u001b[1;33m\u001b[0m\u001b[0m\n\u001b[0m\u001b[0;32m      2\u001b[0m \u001b[0mvalid_y\u001b[0m \u001b[1;33m=\u001b[0m \u001b[0mto_categorical\u001b[0m\u001b[1;33m(\u001b[0m\u001b[0mword_le\u001b[0m\u001b[1;33m.\u001b[0m\u001b[0mtransform\u001b[0m\u001b[1;33m(\u001b[0m\u001b[0mvalid\u001b[0m\u001b[1;33m[\u001b[0m\u001b[1;34m'word'\u001b[0m\u001b[1;33m]\u001b[0m\u001b[1;33m.\u001b[0m\u001b[0mvalues\u001b[0m\u001b[1;33m)\u001b[0m\u001b[1;33m)\u001b[0m\u001b[1;33m\u001b[0m\u001b[0m\n",
      "\u001b[1;32m<ipython-input-20-c895d712df56>\u001b[0m in \u001b[0;36mdrawing_make_array\u001b[1;34m(df, size, lw)\u001b[0m\n\u001b[0;32m      2\u001b[0m     \u001b[0mx\u001b[0m \u001b[1;33m=\u001b[0m \u001b[0mnp\u001b[0m\u001b[1;33m.\u001b[0m\u001b[0mzeros\u001b[0m\u001b[1;33m(\u001b[0m\u001b[1;33m(\u001b[0m\u001b[0mlen\u001b[0m\u001b[1;33m(\u001b[0m\u001b[0mdf\u001b[0m\u001b[1;33m)\u001b[0m\u001b[1;33m,\u001b[0m\u001b[0msize\u001b[0m\u001b[1;33m,\u001b[0m\u001b[0msize\u001b[0m\u001b[1;33m)\u001b[0m\u001b[1;33m)\u001b[0m\u001b[1;33m\u001b[0m\u001b[0m\n\u001b[0;32m      3\u001b[0m     \u001b[1;32mfor\u001b[0m \u001b[0mi\u001b[0m\u001b[1;33m,\u001b[0m \u001b[0mrs\u001b[0m \u001b[1;32min\u001b[0m \u001b[0menumerate\u001b[0m\u001b[1;33m(\u001b[0m\u001b[0mdf\u001b[0m\u001b[1;33m.\u001b[0m\u001b[0mdrawing\u001b[0m\u001b[1;33m.\u001b[0m\u001b[0mvalues\u001b[0m\u001b[1;33m)\u001b[0m\u001b[1;33m:\u001b[0m\u001b[1;33m\u001b[0m\u001b[0m\n\u001b[1;32m----> 4\u001b[1;33m         \u001b[0mx\u001b[0m\u001b[1;33m[\u001b[0m\u001b[0mi\u001b[0m\u001b[1;33m]\u001b[0m \u001b[1;33m=\u001b[0m \u001b[0mreshape_draw\u001b[0m\u001b[1;33m(\u001b[0m\u001b[0mrs\u001b[0m\u001b[1;33m,\u001b[0m\u001b[0msize\u001b[0m\u001b[1;33m=\u001b[0m\u001b[0msize\u001b[0m\u001b[1;33m,\u001b[0m\u001b[0mlw\u001b[0m\u001b[1;33m=\u001b[0m\u001b[0mlw\u001b[0m\u001b[1;33m)\u001b[0m\u001b[1;33m\u001b[0m\u001b[0m\n\u001b[0m\u001b[0;32m      5\u001b[0m     \u001b[0mx\u001b[0m \u001b[1;33m=\u001b[0m \u001b[0mx\u001b[0m\u001b[1;33m/\u001b[0m\u001b[1;36m255\u001b[0m \u001b[1;31m# 정규화\u001b[0m\u001b[1;33m\u001b[0m\u001b[0m\n\u001b[0;32m      6\u001b[0m     \u001b[0mx\u001b[0m \u001b[1;33m=\u001b[0m \u001b[0mx\u001b[0m\u001b[1;33m.\u001b[0m\u001b[0mreshape\u001b[0m\u001b[1;33m(\u001b[0m\u001b[1;33m(\u001b[0m\u001b[0mlen\u001b[0m\u001b[1;33m(\u001b[0m\u001b[0mdf\u001b[0m\u001b[1;33m)\u001b[0m\u001b[1;33m,\u001b[0m\u001b[0msize\u001b[0m\u001b[1;33m,\u001b[0m\u001b[0msize\u001b[0m\u001b[1;33m,\u001b[0m\u001b[1;36m1\u001b[0m\u001b[1;33m)\u001b[0m\u001b[1;33m)\u001b[0m\u001b[1;33m.\u001b[0m\u001b[0mastype\u001b[0m\u001b[1;33m(\u001b[0m\u001b[0mnp\u001b[0m\u001b[1;33m.\u001b[0m\u001b[0mfloat32\u001b[0m\u001b[1;33m)\u001b[0m\u001b[1;33m\u001b[0m\u001b[0m\n",
      "\u001b[1;31mKeyboardInterrupt\u001b[0m: "
     ]
    }
   ],
   "source": [
    "valid_X = drawing_make_array(valid, size)\n",
    "valid_y = to_categorical(word_le.transform(valid['word'].values))"
   ]
  },
  {
   "cell_type": "code",
   "execution_count": 16,
   "metadata": {},
   "outputs": [],
   "source": [
    "test_X = drawing_make_array(test, size)\n",
    "test_y = to_categorical(word_le.transform(test['word'].values))"
   ]
  },
  {
   "cell_type": "code",
   "execution_count": 23,
   "metadata": {
    "collapsed": true
   },
   "outputs": [
    {
     "ename": "NameError",
     "evalue": "name 'train_X' is not defined",
     "output_type": "error",
     "traceback": [
      "\u001b[1;31m---------------------------------------------------------------------------\u001b[0m",
      "\u001b[1;31mNameError\u001b[0m                                 Traceback (most recent call last)",
      "\u001b[1;32m<ipython-input-23-8913e21115f6>\u001b[0m in \u001b[0;36m<module>\u001b[1;34m\u001b[0m\n\u001b[1;32m----> 1\u001b[1;33m \u001b[0mtrain_X\u001b[0m\u001b[1;33m.\u001b[0m\u001b[0mshape\u001b[0m\u001b[1;33m\u001b[0m\u001b[0m\n\u001b[0m",
      "\u001b[1;31mNameError\u001b[0m: name 'train_X' is not defined"
     ]
    }
   ],
   "source": [
    "train_X.shape"
   ]
  },
  {
   "cell_type": "markdown",
   "metadata": {},
   "source": [
    "## Model"
   ]
  },
  {
   "cell_type": "code",
   "execution_count": 17,
   "metadata": {},
   "outputs": [],
   "source": [
    "STEPS= 200\n",
    "batch = 100\n",
    "epochs = 50"
   ]
  },
  {
   "cell_type": "code",
   "execution_count": 21,
   "metadata": {},
   "outputs": [],
   "source": [
    "datagen = ImageDataGenerator()"
   ]
  },
  {
   "cell_type": "code",
   "execution_count": 22,
   "metadata": {},
   "outputs": [
    {
     "name": "stderr",
     "output_type": "stream",
     "text": [
      "C:\\Users\\julia\\Desktop\\tf\\lib\\site-packages\\keras_applications\\resnet50.py:265: UserWarning: The output shape of `ResNet50(include_top=False)` has been changed since Keras 2.2.0.\n",
      "  warnings.warn('The output shape of `ResNet50(include_top=False)` '\n"
     ]
    }
   ],
   "source": [
    "K.clear_session()\n",
    "base_model = ResNet50(include_top=False, input_shape=(size, size, 1), weights=None, classes=word_num)"
   ]
  },
  {
   "cell_type": "code",
   "execution_count": 23,
   "metadata": {},
   "outputs": [],
   "source": [
    "x = base_model.output\n",
    "x = Flatten()(x)\n",
    "x = Dense(64, activation = 'relu')(x)\n",
    "x = Dropout(0.5)(x)\n",
    "x = Dense(32, activation='relu')(x)\n",
    "predictions = Dense(word_num, activation='softmax')(x)"
   ]
  },
  {
   "cell_type": "code",
   "execution_count": 24,
   "metadata": {},
   "outputs": [],
   "source": [
    "# this is the model we will train\n",
    "model = Model(inputs=base_model.input, outputs=predictions)"
   ]
  },
  {
   "cell_type": "code",
   "execution_count": 25,
   "metadata": {},
   "outputs": [],
   "source": [
    "model.compile(optimizer=Adam(lr=1e-4), loss='categorical_crossentropy',\n",
    "              metrics=[categorical_accuracy])\n"
   ]
  },
  {
   "cell_type": "code",
   "execution_count": 26,
   "metadata": {
    "scrolled": true
   },
   "outputs": [
    {
     "name": "stdout",
     "output_type": "stream",
     "text": [
      "Model: \"model_1\"\n",
      "__________________________________________________________________________________________________\n",
      "Layer (type)                    Output Shape         Param #     Connected to                     \n",
      "==================================================================================================\n",
      "input_1 (InputLayer)            (None, 64, 64, 1)    0                                            \n",
      "__________________________________________________________________________________________________\n",
      "conv1_pad (ZeroPadding2D)       (None, 70, 70, 1)    0           input_1[0][0]                    \n",
      "__________________________________________________________________________________________________\n",
      "conv1 (Conv2D)                  (None, 32, 32, 64)   3200        conv1_pad[0][0]                  \n",
      "__________________________________________________________________________________________________\n",
      "bn_conv1 (BatchNormalization)   (None, 32, 32, 64)   256         conv1[0][0]                      \n",
      "__________________________________________________________________________________________________\n",
      "activation_1 (Activation)       (None, 32, 32, 64)   0           bn_conv1[0][0]                   \n",
      "__________________________________________________________________________________________________\n",
      "pool1_pad (ZeroPadding2D)       (None, 34, 34, 64)   0           activation_1[0][0]               \n",
      "__________________________________________________________________________________________________\n",
      "max_pooling2d_1 (MaxPooling2D)  (None, 16, 16, 64)   0           pool1_pad[0][0]                  \n",
      "__________________________________________________________________________________________________\n",
      "res2a_branch2a (Conv2D)         (None, 16, 16, 64)   4160        max_pooling2d_1[0][0]            \n",
      "__________________________________________________________________________________________________\n",
      "bn2a_branch2a (BatchNormalizati (None, 16, 16, 64)   256         res2a_branch2a[0][0]             \n",
      "__________________________________________________________________________________________________\n",
      "activation_2 (Activation)       (None, 16, 16, 64)   0           bn2a_branch2a[0][0]              \n",
      "__________________________________________________________________________________________________\n",
      "res2a_branch2b (Conv2D)         (None, 16, 16, 64)   36928       activation_2[0][0]               \n",
      "__________________________________________________________________________________________________\n",
      "bn2a_branch2b (BatchNormalizati (None, 16, 16, 64)   256         res2a_branch2b[0][0]             \n",
      "__________________________________________________________________________________________________\n",
      "activation_3 (Activation)       (None, 16, 16, 64)   0           bn2a_branch2b[0][0]              \n",
      "__________________________________________________________________________________________________\n",
      "res2a_branch2c (Conv2D)         (None, 16, 16, 256)  16640       activation_3[0][0]               \n",
      "__________________________________________________________________________________________________\n",
      "res2a_branch1 (Conv2D)          (None, 16, 16, 256)  16640       max_pooling2d_1[0][0]            \n",
      "__________________________________________________________________________________________________\n",
      "bn2a_branch2c (BatchNormalizati (None, 16, 16, 256)  1024        res2a_branch2c[0][0]             \n",
      "__________________________________________________________________________________________________\n",
      "bn2a_branch1 (BatchNormalizatio (None, 16, 16, 256)  1024        res2a_branch1[0][0]              \n",
      "__________________________________________________________________________________________________\n",
      "add_1 (Add)                     (None, 16, 16, 256)  0           bn2a_branch2c[0][0]              \n",
      "                                                                 bn2a_branch1[0][0]               \n",
      "__________________________________________________________________________________________________\n",
      "activation_4 (Activation)       (None, 16, 16, 256)  0           add_1[0][0]                      \n",
      "__________________________________________________________________________________________________\n",
      "res2b_branch2a (Conv2D)         (None, 16, 16, 64)   16448       activation_4[0][0]               \n",
      "__________________________________________________________________________________________________\n",
      "bn2b_branch2a (BatchNormalizati (None, 16, 16, 64)   256         res2b_branch2a[0][0]             \n",
      "__________________________________________________________________________________________________\n",
      "activation_5 (Activation)       (None, 16, 16, 64)   0           bn2b_branch2a[0][0]              \n",
      "__________________________________________________________________________________________________\n",
      "res2b_branch2b (Conv2D)         (None, 16, 16, 64)   36928       activation_5[0][0]               \n",
      "__________________________________________________________________________________________________\n",
      "bn2b_branch2b (BatchNormalizati (None, 16, 16, 64)   256         res2b_branch2b[0][0]             \n",
      "__________________________________________________________________________________________________\n",
      "activation_6 (Activation)       (None, 16, 16, 64)   0           bn2b_branch2b[0][0]              \n",
      "__________________________________________________________________________________________________\n",
      "res2b_branch2c (Conv2D)         (None, 16, 16, 256)  16640       activation_6[0][0]               \n",
      "__________________________________________________________________________________________________\n",
      "bn2b_branch2c (BatchNormalizati (None, 16, 16, 256)  1024        res2b_branch2c[0][0]             \n",
      "__________________________________________________________________________________________________\n",
      "add_2 (Add)                     (None, 16, 16, 256)  0           bn2b_branch2c[0][0]              \n",
      "                                                                 activation_4[0][0]               \n",
      "__________________________________________________________________________________________________\n",
      "activation_7 (Activation)       (None, 16, 16, 256)  0           add_2[0][0]                      \n",
      "__________________________________________________________________________________________________\n",
      "res2c_branch2a (Conv2D)         (None, 16, 16, 64)   16448       activation_7[0][0]               \n",
      "__________________________________________________________________________________________________\n",
      "bn2c_branch2a (BatchNormalizati (None, 16, 16, 64)   256         res2c_branch2a[0][0]             \n",
      "__________________________________________________________________________________________________\n",
      "activation_8 (Activation)       (None, 16, 16, 64)   0           bn2c_branch2a[0][0]              \n",
      "__________________________________________________________________________________________________\n",
      "res2c_branch2b (Conv2D)         (None, 16, 16, 64)   36928       activation_8[0][0]               \n",
      "__________________________________________________________________________________________________\n",
      "bn2c_branch2b (BatchNormalizati (None, 16, 16, 64)   256         res2c_branch2b[0][0]             \n",
      "__________________________________________________________________________________________________\n",
      "activation_9 (Activation)       (None, 16, 16, 64)   0           bn2c_branch2b[0][0]              \n",
      "__________________________________________________________________________________________________\n",
      "res2c_branch2c (Conv2D)         (None, 16, 16, 256)  16640       activation_9[0][0]               \n",
      "__________________________________________________________________________________________________\n",
      "bn2c_branch2c (BatchNormalizati (None, 16, 16, 256)  1024        res2c_branch2c[0][0]             \n",
      "__________________________________________________________________________________________________\n",
      "add_3 (Add)                     (None, 16, 16, 256)  0           bn2c_branch2c[0][0]              \n",
      "                                                                 activation_7[0][0]               \n",
      "__________________________________________________________________________________________________\n",
      "activation_10 (Activation)      (None, 16, 16, 256)  0           add_3[0][0]                      \n",
      "__________________________________________________________________________________________________\n",
      "res3a_branch2a (Conv2D)         (None, 8, 8, 128)    32896       activation_10[0][0]              \n",
      "__________________________________________________________________________________________________\n",
      "bn3a_branch2a (BatchNormalizati (None, 8, 8, 128)    512         res3a_branch2a[0][0]             \n",
      "__________________________________________________________________________________________________\n",
      "activation_11 (Activation)      (None, 8, 8, 128)    0           bn3a_branch2a[0][0]              \n",
      "__________________________________________________________________________________________________\n",
      "res3a_branch2b (Conv2D)         (None, 8, 8, 128)    147584      activation_11[0][0]              \n",
      "__________________________________________________________________________________________________\n",
      "bn3a_branch2b (BatchNormalizati (None, 8, 8, 128)    512         res3a_branch2b[0][0]             \n",
      "__________________________________________________________________________________________________\n",
      "activation_12 (Activation)      (None, 8, 8, 128)    0           bn3a_branch2b[0][0]              \n",
      "__________________________________________________________________________________________________\n",
      "res3a_branch2c (Conv2D)         (None, 8, 8, 512)    66048       activation_12[0][0]              \n",
      "__________________________________________________________________________________________________\n",
      "res3a_branch1 (Conv2D)          (None, 8, 8, 512)    131584      activation_10[0][0]              \n",
      "__________________________________________________________________________________________________\n",
      "bn3a_branch2c (BatchNormalizati (None, 8, 8, 512)    2048        res3a_branch2c[0][0]             \n",
      "__________________________________________________________________________________________________\n",
      "bn3a_branch1 (BatchNormalizatio (None, 8, 8, 512)    2048        res3a_branch1[0][0]              \n",
      "__________________________________________________________________________________________________\n",
      "add_4 (Add)                     (None, 8, 8, 512)    0           bn3a_branch2c[0][0]              \n",
      "                                                                 bn3a_branch1[0][0]               \n",
      "__________________________________________________________________________________________________\n",
      "activation_13 (Activation)      (None, 8, 8, 512)    0           add_4[0][0]                      \n",
      "__________________________________________________________________________________________________\n",
      "res3b_branch2a (Conv2D)         (None, 8, 8, 128)    65664       activation_13[0][0]              \n",
      "__________________________________________________________________________________________________\n",
      "bn3b_branch2a (BatchNormalizati (None, 8, 8, 128)    512         res3b_branch2a[0][0]             \n",
      "__________________________________________________________________________________________________\n",
      "activation_14 (Activation)      (None, 8, 8, 128)    0           bn3b_branch2a[0][0]              \n",
      "__________________________________________________________________________________________________\n",
      "res3b_branch2b (Conv2D)         (None, 8, 8, 128)    147584      activation_14[0][0]              \n",
      "__________________________________________________________________________________________________\n",
      "bn3b_branch2b (BatchNormalizati (None, 8, 8, 128)    512         res3b_branch2b[0][0]             \n",
      "__________________________________________________________________________________________________\n",
      "activation_15 (Activation)      (None, 8, 8, 128)    0           bn3b_branch2b[0][0]              \n",
      "__________________________________________________________________________________________________\n",
      "res3b_branch2c (Conv2D)         (None, 8, 8, 512)    66048       activation_15[0][0]              \n",
      "__________________________________________________________________________________________________\n",
      "bn3b_branch2c (BatchNormalizati (None, 8, 8, 512)    2048        res3b_branch2c[0][0]             \n",
      "__________________________________________________________________________________________________\n",
      "add_5 (Add)                     (None, 8, 8, 512)    0           bn3b_branch2c[0][0]              \n",
      "                                                                 activation_13[0][0]              \n",
      "__________________________________________________________________________________________________\n",
      "activation_16 (Activation)      (None, 8, 8, 512)    0           add_5[0][0]                      \n",
      "__________________________________________________________________________________________________\n",
      "res3c_branch2a (Conv2D)         (None, 8, 8, 128)    65664       activation_16[0][0]              \n",
      "__________________________________________________________________________________________________\n",
      "bn3c_branch2a (BatchNormalizati (None, 8, 8, 128)    512         res3c_branch2a[0][0]             \n",
      "__________________________________________________________________________________________________\n",
      "activation_17 (Activation)      (None, 8, 8, 128)    0           bn3c_branch2a[0][0]              \n",
      "__________________________________________________________________________________________________\n",
      "res3c_branch2b (Conv2D)         (None, 8, 8, 128)    147584      activation_17[0][0]              \n",
      "__________________________________________________________________________________________________\n",
      "bn3c_branch2b (BatchNormalizati (None, 8, 8, 128)    512         res3c_branch2b[0][0]             \n",
      "__________________________________________________________________________________________________\n",
      "activation_18 (Activation)      (None, 8, 8, 128)    0           bn3c_branch2b[0][0]              \n",
      "__________________________________________________________________________________________________\n",
      "res3c_branch2c (Conv2D)         (None, 8, 8, 512)    66048       activation_18[0][0]              \n",
      "__________________________________________________________________________________________________\n",
      "bn3c_branch2c (BatchNormalizati (None, 8, 8, 512)    2048        res3c_branch2c[0][0]             \n",
      "__________________________________________________________________________________________________\n",
      "add_6 (Add)                     (None, 8, 8, 512)    0           bn3c_branch2c[0][0]              \n",
      "                                                                 activation_16[0][0]              \n",
      "__________________________________________________________________________________________________\n",
      "activation_19 (Activation)      (None, 8, 8, 512)    0           add_6[0][0]                      \n",
      "__________________________________________________________________________________________________\n",
      "res3d_branch2a (Conv2D)         (None, 8, 8, 128)    65664       activation_19[0][0]              \n",
      "__________________________________________________________________________________________________\n",
      "bn3d_branch2a (BatchNormalizati (None, 8, 8, 128)    512         res3d_branch2a[0][0]             \n",
      "__________________________________________________________________________________________________\n",
      "activation_20 (Activation)      (None, 8, 8, 128)    0           bn3d_branch2a[0][0]              \n",
      "__________________________________________________________________________________________________\n",
      "res3d_branch2b (Conv2D)         (None, 8, 8, 128)    147584      activation_20[0][0]              \n",
      "__________________________________________________________________________________________________\n",
      "bn3d_branch2b (BatchNormalizati (None, 8, 8, 128)    512         res3d_branch2b[0][0]             \n",
      "__________________________________________________________________________________________________\n",
      "activation_21 (Activation)      (None, 8, 8, 128)    0           bn3d_branch2b[0][0]              \n",
      "__________________________________________________________________________________________________\n",
      "res3d_branch2c (Conv2D)         (None, 8, 8, 512)    66048       activation_21[0][0]              \n",
      "__________________________________________________________________________________________________\n",
      "bn3d_branch2c (BatchNormalizati (None, 8, 8, 512)    2048        res3d_branch2c[0][0]             \n",
      "__________________________________________________________________________________________________\n",
      "add_7 (Add)                     (None, 8, 8, 512)    0           bn3d_branch2c[0][0]              \n",
      "                                                                 activation_19[0][0]              \n",
      "__________________________________________________________________________________________________\n",
      "activation_22 (Activation)      (None, 8, 8, 512)    0           add_7[0][0]                      \n",
      "__________________________________________________________________________________________________\n",
      "res4a_branch2a (Conv2D)         (None, 4, 4, 256)    131328      activation_22[0][0]              \n",
      "__________________________________________________________________________________________________\n",
      "bn4a_branch2a (BatchNormalizati (None, 4, 4, 256)    1024        res4a_branch2a[0][0]             \n",
      "__________________________________________________________________________________________________\n",
      "activation_23 (Activation)      (None, 4, 4, 256)    0           bn4a_branch2a[0][0]              \n",
      "__________________________________________________________________________________________________\n",
      "res4a_branch2b (Conv2D)         (None, 4, 4, 256)    590080      activation_23[0][0]              \n",
      "__________________________________________________________________________________________________\n",
      "bn4a_branch2b (BatchNormalizati (None, 4, 4, 256)    1024        res4a_branch2b[0][0]             \n",
      "__________________________________________________________________________________________________\n",
      "activation_24 (Activation)      (None, 4, 4, 256)    0           bn4a_branch2b[0][0]              \n",
      "__________________________________________________________________________________________________\n",
      "res4a_branch2c (Conv2D)         (None, 4, 4, 1024)   263168      activation_24[0][0]              \n",
      "__________________________________________________________________________________________________\n",
      "res4a_branch1 (Conv2D)          (None, 4, 4, 1024)   525312      activation_22[0][0]              \n",
      "__________________________________________________________________________________________________\n",
      "bn4a_branch2c (BatchNormalizati (None, 4, 4, 1024)   4096        res4a_branch2c[0][0]             \n",
      "__________________________________________________________________________________________________\n",
      "bn4a_branch1 (BatchNormalizatio (None, 4, 4, 1024)   4096        res4a_branch1[0][0]              \n",
      "__________________________________________________________________________________________________\n",
      "add_8 (Add)                     (None, 4, 4, 1024)   0           bn4a_branch2c[0][0]              \n",
      "                                                                 bn4a_branch1[0][0]               \n",
      "__________________________________________________________________________________________________\n",
      "activation_25 (Activation)      (None, 4, 4, 1024)   0           add_8[0][0]                      \n",
      "__________________________________________________________________________________________________\n",
      "res4b_branch2a (Conv2D)         (None, 4, 4, 256)    262400      activation_25[0][0]              \n",
      "__________________________________________________________________________________________________\n",
      "bn4b_branch2a (BatchNormalizati (None, 4, 4, 256)    1024        res4b_branch2a[0][0]             \n",
      "__________________________________________________________________________________________________\n",
      "activation_26 (Activation)      (None, 4, 4, 256)    0           bn4b_branch2a[0][0]              \n",
      "__________________________________________________________________________________________________\n",
      "res4b_branch2b (Conv2D)         (None, 4, 4, 256)    590080      activation_26[0][0]              \n",
      "__________________________________________________________________________________________________\n",
      "bn4b_branch2b (BatchNormalizati (None, 4, 4, 256)    1024        res4b_branch2b[0][0]             \n",
      "__________________________________________________________________________________________________\n",
      "activation_27 (Activation)      (None, 4, 4, 256)    0           bn4b_branch2b[0][0]              \n",
      "__________________________________________________________________________________________________\n",
      "res4b_branch2c (Conv2D)         (None, 4, 4, 1024)   263168      activation_27[0][0]              \n",
      "__________________________________________________________________________________________________\n",
      "bn4b_branch2c (BatchNormalizati (None, 4, 4, 1024)   4096        res4b_branch2c[0][0]             \n",
      "__________________________________________________________________________________________________\n",
      "add_9 (Add)                     (None, 4, 4, 1024)   0           bn4b_branch2c[0][0]              \n",
      "                                                                 activation_25[0][0]              \n",
      "__________________________________________________________________________________________________\n",
      "activation_28 (Activation)      (None, 4, 4, 1024)   0           add_9[0][0]                      \n",
      "__________________________________________________________________________________________________\n",
      "res4c_branch2a (Conv2D)         (None, 4, 4, 256)    262400      activation_28[0][0]              \n",
      "__________________________________________________________________________________________________\n",
      "bn4c_branch2a (BatchNormalizati (None, 4, 4, 256)    1024        res4c_branch2a[0][0]             \n",
      "__________________________________________________________________________________________________\n",
      "activation_29 (Activation)      (None, 4, 4, 256)    0           bn4c_branch2a[0][0]              \n",
      "__________________________________________________________________________________________________\n",
      "res4c_branch2b (Conv2D)         (None, 4, 4, 256)    590080      activation_29[0][0]              \n",
      "__________________________________________________________________________________________________\n",
      "bn4c_branch2b (BatchNormalizati (None, 4, 4, 256)    1024        res4c_branch2b[0][0]             \n",
      "__________________________________________________________________________________________________\n",
      "activation_30 (Activation)      (None, 4, 4, 256)    0           bn4c_branch2b[0][0]              \n",
      "__________________________________________________________________________________________________\n",
      "res4c_branch2c (Conv2D)         (None, 4, 4, 1024)   263168      activation_30[0][0]              \n",
      "__________________________________________________________________________________________________\n",
      "bn4c_branch2c (BatchNormalizati (None, 4, 4, 1024)   4096        res4c_branch2c[0][0]             \n",
      "__________________________________________________________________________________________________\n",
      "add_10 (Add)                    (None, 4, 4, 1024)   0           bn4c_branch2c[0][0]              \n",
      "                                                                 activation_28[0][0]              \n",
      "__________________________________________________________________________________________________\n",
      "activation_31 (Activation)      (None, 4, 4, 1024)   0           add_10[0][0]                     \n",
      "__________________________________________________________________________________________________\n",
      "res4d_branch2a (Conv2D)         (None, 4, 4, 256)    262400      activation_31[0][0]              \n",
      "__________________________________________________________________________________________________\n",
      "bn4d_branch2a (BatchNormalizati (None, 4, 4, 256)    1024        res4d_branch2a[0][0]             \n",
      "__________________________________________________________________________________________________\n",
      "activation_32 (Activation)      (None, 4, 4, 256)    0           bn4d_branch2a[0][0]              \n",
      "__________________________________________________________________________________________________\n",
      "res4d_branch2b (Conv2D)         (None, 4, 4, 256)    590080      activation_32[0][0]              \n",
      "__________________________________________________________________________________________________\n",
      "bn4d_branch2b (BatchNormalizati (None, 4, 4, 256)    1024        res4d_branch2b[0][0]             \n",
      "__________________________________________________________________________________________________\n",
      "activation_33 (Activation)      (None, 4, 4, 256)    0           bn4d_branch2b[0][0]              \n",
      "__________________________________________________________________________________________________\n",
      "res4d_branch2c (Conv2D)         (None, 4, 4, 1024)   263168      activation_33[0][0]              \n",
      "__________________________________________________________________________________________________\n",
      "bn4d_branch2c (BatchNormalizati (None, 4, 4, 1024)   4096        res4d_branch2c[0][0]             \n",
      "__________________________________________________________________________________________________\n",
      "add_11 (Add)                    (None, 4, 4, 1024)   0           bn4d_branch2c[0][0]              \n",
      "                                                                 activation_31[0][0]              \n",
      "__________________________________________________________________________________________________\n",
      "activation_34 (Activation)      (None, 4, 4, 1024)   0           add_11[0][0]                     \n",
      "__________________________________________________________________________________________________\n",
      "res4e_branch2a (Conv2D)         (None, 4, 4, 256)    262400      activation_34[0][0]              \n",
      "__________________________________________________________________________________________________\n",
      "bn4e_branch2a (BatchNormalizati (None, 4, 4, 256)    1024        res4e_branch2a[0][0]             \n",
      "__________________________________________________________________________________________________\n",
      "activation_35 (Activation)      (None, 4, 4, 256)    0           bn4e_branch2a[0][0]              \n",
      "__________________________________________________________________________________________________\n",
      "res4e_branch2b (Conv2D)         (None, 4, 4, 256)    590080      activation_35[0][0]              \n",
      "__________________________________________________________________________________________________\n",
      "bn4e_branch2b (BatchNormalizati (None, 4, 4, 256)    1024        res4e_branch2b[0][0]             \n",
      "__________________________________________________________________________________________________\n",
      "activation_36 (Activation)      (None, 4, 4, 256)    0           bn4e_branch2b[0][0]              \n",
      "__________________________________________________________________________________________________\n",
      "res4e_branch2c (Conv2D)         (None, 4, 4, 1024)   263168      activation_36[0][0]              \n",
      "__________________________________________________________________________________________________\n",
      "bn4e_branch2c (BatchNormalizati (None, 4, 4, 1024)   4096        res4e_branch2c[0][0]             \n",
      "__________________________________________________________________________________________________\n",
      "add_12 (Add)                    (None, 4, 4, 1024)   0           bn4e_branch2c[0][0]              \n",
      "                                                                 activation_34[0][0]              \n",
      "__________________________________________________________________________________________________\n",
      "activation_37 (Activation)      (None, 4, 4, 1024)   0           add_12[0][0]                     \n",
      "__________________________________________________________________________________________________\n",
      "res4f_branch2a (Conv2D)         (None, 4, 4, 256)    262400      activation_37[0][0]              \n",
      "__________________________________________________________________________________________________\n",
      "bn4f_branch2a (BatchNormalizati (None, 4, 4, 256)    1024        res4f_branch2a[0][0]             \n",
      "__________________________________________________________________________________________________\n",
      "activation_38 (Activation)      (None, 4, 4, 256)    0           bn4f_branch2a[0][0]              \n",
      "__________________________________________________________________________________________________\n",
      "res4f_branch2b (Conv2D)         (None, 4, 4, 256)    590080      activation_38[0][0]              \n",
      "__________________________________________________________________________________________________\n",
      "bn4f_branch2b (BatchNormalizati (None, 4, 4, 256)    1024        res4f_branch2b[0][0]             \n",
      "__________________________________________________________________________________________________\n",
      "activation_39 (Activation)      (None, 4, 4, 256)    0           bn4f_branch2b[0][0]              \n",
      "__________________________________________________________________________________________________\n",
      "res4f_branch2c (Conv2D)         (None, 4, 4, 1024)   263168      activation_39[0][0]              \n",
      "__________________________________________________________________________________________________\n",
      "bn4f_branch2c (BatchNormalizati (None, 4, 4, 1024)   4096        res4f_branch2c[0][0]             \n",
      "__________________________________________________________________________________________________\n",
      "add_13 (Add)                    (None, 4, 4, 1024)   0           bn4f_branch2c[0][0]              \n",
      "                                                                 activation_37[0][0]              \n",
      "__________________________________________________________________________________________________\n",
      "activation_40 (Activation)      (None, 4, 4, 1024)   0           add_13[0][0]                     \n",
      "__________________________________________________________________________________________________\n",
      "res5a_branch2a (Conv2D)         (None, 2, 2, 512)    524800      activation_40[0][0]              \n",
      "__________________________________________________________________________________________________\n",
      "bn5a_branch2a (BatchNormalizati (None, 2, 2, 512)    2048        res5a_branch2a[0][0]             \n",
      "__________________________________________________________________________________________________\n",
      "activation_41 (Activation)      (None, 2, 2, 512)    0           bn5a_branch2a[0][0]              \n",
      "__________________________________________________________________________________________________\n",
      "res5a_branch2b (Conv2D)         (None, 2, 2, 512)    2359808     activation_41[0][0]              \n",
      "__________________________________________________________________________________________________\n",
      "bn5a_branch2b (BatchNormalizati (None, 2, 2, 512)    2048        res5a_branch2b[0][0]             \n",
      "__________________________________________________________________________________________________\n",
      "activation_42 (Activation)      (None, 2, 2, 512)    0           bn5a_branch2b[0][0]              \n",
      "__________________________________________________________________________________________________\n",
      "res5a_branch2c (Conv2D)         (None, 2, 2, 2048)   1050624     activation_42[0][0]              \n",
      "__________________________________________________________________________________________________\n",
      "res5a_branch1 (Conv2D)          (None, 2, 2, 2048)   2099200     activation_40[0][0]              \n",
      "__________________________________________________________________________________________________\n",
      "bn5a_branch2c (BatchNormalizati (None, 2, 2, 2048)   8192        res5a_branch2c[0][0]             \n",
      "__________________________________________________________________________________________________\n",
      "bn5a_branch1 (BatchNormalizatio (None, 2, 2, 2048)   8192        res5a_branch1[0][0]              \n",
      "__________________________________________________________________________________________________\n",
      "add_14 (Add)                    (None, 2, 2, 2048)   0           bn5a_branch2c[0][0]              \n",
      "                                                                 bn5a_branch1[0][0]               \n",
      "__________________________________________________________________________________________________\n",
      "activation_43 (Activation)      (None, 2, 2, 2048)   0           add_14[0][0]                     \n",
      "__________________________________________________________________________________________________\n",
      "res5b_branch2a (Conv2D)         (None, 2, 2, 512)    1049088     activation_43[0][0]              \n",
      "__________________________________________________________________________________________________\n",
      "bn5b_branch2a (BatchNormalizati (None, 2, 2, 512)    2048        res5b_branch2a[0][0]             \n",
      "__________________________________________________________________________________________________\n",
      "activation_44 (Activation)      (None, 2, 2, 512)    0           bn5b_branch2a[0][0]              \n",
      "__________________________________________________________________________________________________\n",
      "res5b_branch2b (Conv2D)         (None, 2, 2, 512)    2359808     activation_44[0][0]              \n",
      "__________________________________________________________________________________________________\n",
      "bn5b_branch2b (BatchNormalizati (None, 2, 2, 512)    2048        res5b_branch2b[0][0]             \n",
      "__________________________________________________________________________________________________\n",
      "activation_45 (Activation)      (None, 2, 2, 512)    0           bn5b_branch2b[0][0]              \n",
      "__________________________________________________________________________________________________\n",
      "res5b_branch2c (Conv2D)         (None, 2, 2, 2048)   1050624     activation_45[0][0]              \n",
      "__________________________________________________________________________________________________\n",
      "bn5b_branch2c (BatchNormalizati (None, 2, 2, 2048)   8192        res5b_branch2c[0][0]             \n",
      "__________________________________________________________________________________________________\n",
      "add_15 (Add)                    (None, 2, 2, 2048)   0           bn5b_branch2c[0][0]              \n",
      "                                                                 activation_43[0][0]              \n",
      "__________________________________________________________________________________________________\n",
      "activation_46 (Activation)      (None, 2, 2, 2048)   0           add_15[0][0]                     \n",
      "__________________________________________________________________________________________________\n",
      "res5c_branch2a (Conv2D)         (None, 2, 2, 512)    1049088     activation_46[0][0]              \n",
      "__________________________________________________________________________________________________\n",
      "bn5c_branch2a (BatchNormalizati (None, 2, 2, 512)    2048        res5c_branch2a[0][0]             \n",
      "__________________________________________________________________________________________________\n",
      "activation_47 (Activation)      (None, 2, 2, 512)    0           bn5c_branch2a[0][0]              \n",
      "__________________________________________________________________________________________________\n",
      "res5c_branch2b (Conv2D)         (None, 2, 2, 512)    2359808     activation_47[0][0]              \n",
      "__________________________________________________________________________________________________\n",
      "bn5c_branch2b (BatchNormalizati (None, 2, 2, 512)    2048        res5c_branch2b[0][0]             \n",
      "__________________________________________________________________________________________________\n",
      "activation_48 (Activation)      (None, 2, 2, 512)    0           bn5c_branch2b[0][0]              \n",
      "__________________________________________________________________________________________________\n",
      "res5c_branch2c (Conv2D)         (None, 2, 2, 2048)   1050624     activation_48[0][0]              \n",
      "__________________________________________________________________________________________________\n",
      "bn5c_branch2c (BatchNormalizati (None, 2, 2, 2048)   8192        res5c_branch2c[0][0]             \n",
      "__________________________________________________________________________________________________\n",
      "add_16 (Add)                    (None, 2, 2, 2048)   0           bn5c_branch2c[0][0]              \n",
      "                                                                 activation_46[0][0]              \n",
      "__________________________________________________________________________________________________\n",
      "activation_49 (Activation)      (None, 2, 2, 2048)   0           add_16[0][0]                     \n",
      "__________________________________________________________________________________________________\n",
      "flatten_1 (Flatten)             (None, 8192)         0           activation_49[0][0]              \n",
      "__________________________________________________________________________________________________\n",
      "dense_1 (Dense)                 (None, 64)           524352      flatten_1[0][0]                  \n",
      "__________________________________________________________________________________________________\n",
      "dropout_1 (Dropout)             (None, 64)           0           dense_1[0][0]                    \n",
      "__________________________________________________________________________________________________\n",
      "dense_2 (Dense)                 (None, 32)           2080        dropout_1[0][0]                  \n",
      "__________________________________________________________________________________________________\n",
      "dense_3 (Dense)                 (None, 20)           660         dense_2[0][0]                    \n",
      "==================================================================================================\n",
      "Total params: 24,108,532\n",
      "Trainable params: 24,055,412\n",
      "Non-trainable params: 53,120\n",
      "__________________________________________________________________________________________________\n"
     ]
    }
   ],
   "source": [
    "model.summary()"
   ]
  },
  {
   "cell_type": "code",
   "execution_count": 27,
   "metadata": {},
   "outputs": [],
   "source": [
    "check_point = ModelCheckpoint('1224_resnet_1.h5', monitor='val_loss', mode='min', save_best_only=True)\n",
    "reduceRP = ReduceLROnPlateau(monitor='val_categorical_accuracy', \n",
    "                             factor=0.75, patience=5,\n",
    "                            mode = 'max',\n",
    "                            min_delta = 0.005,\n",
    "                            cooldown=3,\n",
    "                            verbose = 1)\n",
    "\n",
    "early = EarlyStopping(monitor=\"val_categorical_accuracy\", \n",
    "                      mode=\"max\", \n",
    "                      patience=10)\n",
    "\n",
    "callbacks = [check_point, early,reduceRP]"
   ]
  },
  {
   "cell_type": "code",
   "execution_count": 28,
   "metadata": {
    "scrolled": true
   },
   "outputs": [
    {
     "name": "stdout",
     "output_type": "stream",
     "text": [
      "Epoch 1/50\n",
      "200/200 [==============================] - 324s 2s/step - loss: 2.8534 - categorical_accuracy: 0.0981 - val_loss: 2.7745 - val_categorical_accuracy: 0.1154\n",
      "Epoch 2/50\n",
      "200/200 [==============================] - 327s 2s/step - loss: 2.7428 - categorical_accuracy: 0.1297 - val_loss: 2.5864 - val_categorical_accuracy: 0.1955\n",
      "Epoch 3/50\n",
      "200/200 [==============================] - 334s 2s/step - loss: 2.6410 - categorical_accuracy: 0.1693 - val_loss: 2.5235 - val_categorical_accuracy: 0.2375\n",
      "Epoch 4/50\n",
      "200/200 [==============================] - 337s 2s/step - loss: 2.5761 - categorical_accuracy: 0.1877 - val_loss: 2.3937 - val_categorical_accuracy: 0.2567\n",
      "Epoch 5/50\n",
      "200/200 [==============================] - 339s 2s/step - loss: 2.5175 - categorical_accuracy: 0.2021 - val_loss: 2.3546 - val_categorical_accuracy: 0.2806\n",
      "Epoch 6/50\n",
      "200/200 [==============================] - 342s 2s/step - loss: 2.4765 - categorical_accuracy: 0.2183 - val_loss: 2.2851 - val_categorical_accuracy: 0.3154\n",
      "Epoch 7/50\n",
      "200/200 [==============================] - 342s 2s/step - loss: 2.4362 - categorical_accuracy: 0.2397 - val_loss: 2.2464 - val_categorical_accuracy: 0.3403\n",
      "Epoch 8/50\n",
      "200/200 [==============================] - 339s 2s/step - loss: 2.3849 - categorical_accuracy: 0.2503 - val_loss: 2.1635 - val_categorical_accuracy: 0.3314\n",
      "Epoch 9/50\n",
      "200/200 [==============================] - 337s 2s/step - loss: 2.3161 - categorical_accuracy: 0.2657 - val_loss: 2.0415 - val_categorical_accuracy: 0.3940\n",
      "Epoch 10/50\n",
      "200/200 [==============================] - 337s 2s/step - loss: 2.2882 - categorical_accuracy: 0.2677 - val_loss: 1.9854 - val_categorical_accuracy: 0.3917\n",
      "Epoch 11/50\n",
      "200/200 [==============================] - 338s 2s/step - loss: 2.2062 - categorical_accuracy: 0.2804 - val_loss: 1.8944 - val_categorical_accuracy: 0.4054\n",
      "Epoch 12/50\n",
      "200/200 [==============================] - 340s 2s/step - loss: 2.1165 - categorical_accuracy: 0.3025 - val_loss: 1.7939 - val_categorical_accuracy: 0.4693\n",
      "Epoch 13/50\n",
      "200/200 [==============================] - 338s 2s/step - loss: 2.0549 - categorical_accuracy: 0.3225 - val_loss: 1.7575 - val_categorical_accuracy: 0.4842\n",
      "Epoch 14/50\n",
      "200/200 [==============================] - 336s 2s/step - loss: 2.0100 - categorical_accuracy: 0.3338 - val_loss: 1.6235 - val_categorical_accuracy: 0.5111\n",
      "Epoch 15/50\n",
      "200/200 [==============================] - 336s 2s/step - loss: 1.9594 - categorical_accuracy: 0.3512 - val_loss: 1.5680 - val_categorical_accuracy: 0.5300\n",
      "Epoch 16/50\n",
      "200/200 [==============================] - 338s 2s/step - loss: 1.9172 - categorical_accuracy: 0.3647 - val_loss: 1.5076 - val_categorical_accuracy: 0.5643\n",
      "Epoch 17/50\n",
      "200/200 [==============================] - 344s 2s/step - loss: 1.8761 - categorical_accuracy: 0.3797 - val_loss: 1.4714 - val_categorical_accuracy: 0.5757\n",
      "Epoch 18/50\n",
      "200/200 [==============================] - 339s 2s/step - loss: 1.8323 - categorical_accuracy: 0.3925 - val_loss: 1.4337 - val_categorical_accuracy: 0.5936\n",
      "Epoch 19/50\n",
      "200/200 [==============================] - 339s 2s/step - loss: 1.7693 - categorical_accuracy: 0.4148 - val_loss: 1.3039 - val_categorical_accuracy: 0.6297\n",
      "Epoch 20/50\n",
      "200/200 [==============================] - 349s 2s/step - loss: 1.6759 - categorical_accuracy: 0.4437 - val_loss: 1.1717 - val_categorical_accuracy: 0.6866\n",
      "Epoch 21/50\n",
      "200/200 [==============================] - 363s 2s/step - loss: 1.5956 - categorical_accuracy: 0.4751 - val_loss: 1.0827 - val_categorical_accuracy: 0.7112\n",
      "Epoch 22/50\n",
      "200/200 [==============================] - 337s 2s/step - loss: 1.5159 - categorical_accuracy: 0.5039 - val_loss: 1.0252 - val_categorical_accuracy: 0.7448\n",
      "Epoch 23/50\n",
      "200/200 [==============================] - 341s 2s/step - loss: 1.5014 - categorical_accuracy: 0.5098 - val_loss: 0.9708 - val_categorical_accuracy: 0.7668\n",
      "Epoch 24/50\n",
      "200/200 [==============================] - 376s 2s/step - loss: 1.4517 - categorical_accuracy: 0.5283 - val_loss: 0.9318 - val_categorical_accuracy: 0.7841\n",
      "Epoch 25/50\n",
      "200/200 [==============================] - 364s 2s/step - loss: 1.3637 - categorical_accuracy: 0.5566 - val_loss: 0.9028 - val_categorical_accuracy: 0.7899\n",
      "Epoch 26/50\n",
      "200/200 [==============================] - 366s 2s/step - loss: 1.3056 - categorical_accuracy: 0.5853 - val_loss: 0.8123 - val_categorical_accuracy: 0.7993\n",
      "Epoch 27/50\n",
      "200/200 [==============================] - 378s 2s/step - loss: 1.2276 - categorical_accuracy: 0.6108 - val_loss: 0.7924 - val_categorical_accuracy: 0.8109\n",
      "Epoch 28/50\n",
      "200/200 [==============================] - 390s 2s/step - loss: 1.2164 - categorical_accuracy: 0.6173 - val_loss: 0.7513 - val_categorical_accuracy: 0.8210\n",
      "Epoch 29/50\n",
      "200/200 [==============================] - 385s 2s/step - loss: 1.1701 - categorical_accuracy: 0.6356 - val_loss: 0.6794 - val_categorical_accuracy: 0.8387\n",
      "Epoch 30/50\n",
      "200/200 [==============================] - 374s 2s/step - loss: 1.1460 - categorical_accuracy: 0.6443 - val_loss: 0.6805 - val_categorical_accuracy: 0.8320\n",
      "Epoch 31/50\n",
      "200/200 [==============================] - 352s 2s/step - loss: 1.1106 - categorical_accuracy: 0.6571 - val_loss: 0.6850 - val_categorical_accuracy: 0.8352\n",
      "Epoch 32/50\n",
      "200/200 [==============================] - 350s 2s/step - loss: 1.0723 - categorical_accuracy: 0.6675 - val_loss: 0.6146 - val_categorical_accuracy: 0.8479\n",
      "Epoch 33/50\n",
      "200/200 [==============================] - 347s 2s/step - loss: 1.0278 - categorical_accuracy: 0.6783 - val_loss: 0.5869 - val_categorical_accuracy: 0.8540\n",
      "Epoch 34/50\n",
      "200/200 [==============================] - 345s 2s/step - loss: 0.9733 - categorical_accuracy: 0.6878 - val_loss: 0.5289 - val_categorical_accuracy: 0.8683\n",
      "Epoch 35/50\n",
      "200/200 [==============================] - 344s 2s/step - loss: 0.9810 - categorical_accuracy: 0.6909 - val_loss: 0.4881 - val_categorical_accuracy: 0.8822\n",
      "Epoch 36/50\n",
      "200/200 [==============================] - 346s 2s/step - loss: 0.9170 - categorical_accuracy: 0.7122 - val_loss: 0.5117 - val_categorical_accuracy: 0.8736\n",
      "Epoch 37/50\n",
      "200/200 [==============================] - 340s 2s/step - loss: 0.9043 - categorical_accuracy: 0.7196 - val_loss: 0.5022 - val_categorical_accuracy: 0.8801\n",
      "Epoch 38/50\n",
      "200/200 [==============================] - 344s 2s/step - loss: 0.8358 - categorical_accuracy: 0.7392 - val_loss: 0.4970 - val_categorical_accuracy: 0.8783\n",
      "Epoch 39/50\n",
      "200/200 [==============================] - 341s 2s/step - loss: 0.8100 - categorical_accuracy: 0.7510 - val_loss: 0.4498 - val_categorical_accuracy: 0.8910\n",
      "Epoch 40/50\n",
      "200/200 [==============================] - 341s 2s/step - loss: 0.7978 - categorical_accuracy: 0.7556 - val_loss: 0.4271 - val_categorical_accuracy: 0.8941\n",
      "Epoch 41/50\n",
      "200/200 [==============================] - 342s 2s/step - loss: 0.7635 - categorical_accuracy: 0.7657 - val_loss: 0.4023 - val_categorical_accuracy: 0.9018\n",
      "Epoch 42/50\n",
      "200/200 [==============================] - 346s 2s/step - loss: 0.7438 - categorical_accuracy: 0.7733 - val_loss: 0.4378 - val_categorical_accuracy: 0.8931\n",
      "Epoch 43/50\n",
      "200/200 [==============================] - 341s 2s/step - loss: 0.7308 - categorical_accuracy: 0.7740 - val_loss: 0.4517 - val_categorical_accuracy: 0.8920\n",
      "Epoch 44/50\n",
      "200/200 [==============================] - 341s 2s/step - loss: 0.7538 - categorical_accuracy: 0.7697 - val_loss: 0.4365 - val_categorical_accuracy: 0.8956\n",
      "Epoch 45/50\n",
      "200/200 [==============================] - 356s 2s/step - loss: 0.7103 - categorical_accuracy: 0.7904 - val_loss: 0.3895 - val_categorical_accuracy: 0.9030\n",
      "Epoch 46/50\n",
      "200/200 [==============================] - 343s 2s/step - loss: 0.6731 - categorical_accuracy: 0.8046 - val_loss: 0.3763 - val_categorical_accuracy: 0.9097\n",
      "Epoch 47/50\n",
      "200/200 [==============================] - 340s 2s/step - loss: 0.6356 - categorical_accuracy: 0.8167 - val_loss: 0.3758 - val_categorical_accuracy: 0.9060\n",
      "Epoch 48/50\n",
      "200/200 [==============================] - 342s 2s/step - loss: 0.6078 - categorical_accuracy: 0.8274 - val_loss: 0.4111 - val_categorical_accuracy: 0.9002\n",
      "Epoch 49/50\n",
      "200/200 [==============================] - 342s 2s/step - loss: 0.5921 - categorical_accuracy: 0.8267 - val_loss: 0.3490 - val_categorical_accuracy: 0.9155\n"
     ]
    },
    {
     "name": "stdout",
     "output_type": "stream",
     "text": [
      "Epoch 50/50\n",
      "200/200 [==============================] - 338s 2s/step - loss: 0.5202 - categorical_accuracy: 0.8459 - val_loss: 0.3772 - val_categorical_accuracy: 0.9102\n"
     ]
    }
   ],
   "source": [
    "hist = model.fit_generator(\n",
    "    datagen.flow(train_X,train_y,batch_size = batch),\n",
    "    steps_per_epoch = STEPS,\n",
    "    validation_steps=STEPS, epochs=epochs, verbose=1,\n",
    "    validation_data=(valid_X, valid_y),\n",
    "    callbacks = callbacks\n",
    ")"
   ]
  },
  {
   "cell_type": "code",
   "execution_count": 31,
   "metadata": {
    "scrolled": true
   },
   "outputs": [
    {
     "name": "stdout",
     "output_type": "stream",
     "text": [
      "Epoch 1/10\n",
      "200/200 [==============================] - 315s 2s/step - loss: 0.5029 - categorical_accuracy: 0.8518 - val_loss: 0.3803 - val_categorical_accuracy: 0.9097\n",
      "Epoch 2/10\n",
      "200/200 [==============================] - 336s 2s/step - loss: 0.5017 - categorical_accuracy: 0.8547 - val_loss: 0.3535 - val_categorical_accuracy: 0.9170\n",
      "Epoch 3/10\n",
      "200/200 [==============================] - 336s 2s/step - loss: 0.4874 - categorical_accuracy: 0.8601 - val_loss: 0.3488 - val_categorical_accuracy: 0.9171\n",
      "Epoch 4/10\n",
      "200/200 [==============================] - 338s 2s/step - loss: 0.4834 - categorical_accuracy: 0.8660 - val_loss: 0.3409 - val_categorical_accuracy: 0.9161\n",
      "Epoch 5/10\n",
      "200/200 [==============================] - 337s 2s/step - loss: 0.4879 - categorical_accuracy: 0.8613 - val_loss: 0.3572 - val_categorical_accuracy: 0.9127\n",
      "Epoch 6/10\n",
      "200/200 [==============================] - 333s 2s/step - loss: 0.4840 - categorical_accuracy: 0.8648 - val_loss: 0.3231 - val_categorical_accuracy: 0.9196\n",
      "Epoch 7/10\n",
      "200/200 [==============================] - 341s 2s/step - loss: 0.4501 - categorical_accuracy: 0.8740 - val_loss: 0.3601 - val_categorical_accuracy: 0.9132\n",
      "\n",
      "Epoch 00007: ReduceLROnPlateau reducing learning rate to 7.499999810534064e-05.\n",
      "Epoch 8/10\n",
      "200/200 [==============================] - 344s 2s/step - loss: 0.4667 - categorical_accuracy: 0.8737 - val_loss: 0.3147 - val_categorical_accuracy: 0.9229\n",
      "Epoch 9/10\n",
      "200/200 [==============================] - 340s 2s/step - loss: 0.4134 - categorical_accuracy: 0.8826 - val_loss: 0.3206 - val_categorical_accuracy: 0.9237\n",
      "Epoch 10/10\n",
      "200/200 [==============================] - 341s 2s/step - loss: 0.4378 - categorical_accuracy: 0.8812 - val_loss: 0.2707 - val_categorical_accuracy: 0.9325\n"
     ]
    }
   ],
   "source": [
    "hist2 = model.fit_generator(\n",
    "    datagen.flow(train_X,train_y,batch_size = batch),\n",
    "    steps_per_epoch = STEPS,\n",
    "    validation_steps=STEPS, epochs=10, verbose=1,\n",
    "    validation_data=(valid_X, valid_y),\n",
    "    callbacks = callbacks\n",
    ")"
   ]
  },
  {
   "cell_type": "code",
   "execution_count": 34,
   "metadata": {},
   "outputs": [],
   "source": [
    "model.compile(optimizer=Adam(lr=7.499999810534064e-05), loss='categorical_crossentropy',\n",
    "              metrics=[categorical_accuracy])"
   ]
  },
  {
   "cell_type": "code",
   "execution_count": 35,
   "metadata": {},
   "outputs": [],
   "source": [
    "check_point = ModelCheckpoint('1224_resnet_3.h5', monitor='val_loss', mode='min', save_best_only=True)\n",
    "reduceRP = ReduceLROnPlateau(monitor='val_categorical_accuracy', \n",
    "                             factor=0.75, patience=5,\n",
    "                            mode = 'max',\n",
    "                            min_delta = 0.005,\n",
    "                            cooldown=3,\n",
    "                            verbose = 1)\n",
    "\n",
    "early = EarlyStopping(monitor=\"val_categorical_accuracy\", \n",
    "                      mode=\"max\", \n",
    "                      patience=10)\n",
    "\n",
    "callbacks = [check_point, early,reduceRP]"
   ]
  },
  {
   "cell_type": "code",
   "execution_count": 36,
   "metadata": {},
   "outputs": [
    {
     "name": "stdout",
     "output_type": "stream",
     "text": [
      "Epoch 1/10\n",
      "200/200 [==============================] - 344s 2s/step - loss: 0.3680 - categorical_accuracy: 0.8970 - val_loss: 0.2988 - val_categorical_accuracy: 0.9288\n",
      "Epoch 2/10\n",
      "200/200 [==============================] - 343s 2s/step - loss: 0.3550 - categorical_accuracy: 0.8989 - val_loss: 0.2879 - val_categorical_accuracy: 0.9321\n",
      "Epoch 3/10\n",
      "200/200 [==============================] - 340s 2s/step - loss: 0.3442 - categorical_accuracy: 0.9019 - val_loss: 0.2974 - val_categorical_accuracy: 0.9298\n",
      "Epoch 4/10\n",
      "200/200 [==============================] - 341s 2s/step - loss: 0.3505 - categorical_accuracy: 0.9006 - val_loss: 0.3279 - val_categorical_accuracy: 0.9256\n",
      "Epoch 5/10\n",
      "200/200 [==============================] - 340s 2s/step - loss: 0.3476 - categorical_accuracy: 0.9036 - val_loss: 0.2839 - val_categorical_accuracy: 0.9324\n",
      "Epoch 6/10\n",
      "200/200 [==============================] - 338s 2s/step - loss: 0.3352 - categorical_accuracy: 0.9078 - val_loss: 0.3017 - val_categorical_accuracy: 0.9283\n",
      "\n",
      "Epoch 00006: ReduceLROnPlateau reducing learning rate to 5.6249997214763425e-05.\n",
      "Epoch 7/10\n",
      "200/200 [==============================] - 337s 2s/step - loss: 0.3468 - categorical_accuracy: 0.9036 - val_loss: 0.2740 - val_categorical_accuracy: 0.9348\n",
      "Epoch 8/10\n",
      "200/200 [==============================] - 338s 2s/step - loss: 0.3259 - categorical_accuracy: 0.9091 - val_loss: 0.2723 - val_categorical_accuracy: 0.9366\n",
      "Epoch 9/10\n",
      "200/200 [==============================] - 335s 2s/step - loss: 0.3068 - categorical_accuracy: 0.9136 - val_loss: 0.2766 - val_categorical_accuracy: 0.9361\n",
      "Epoch 10/10\n",
      "200/200 [==============================] - 335s 2s/step - loss: 0.2990 - categorical_accuracy: 0.9194 - val_loss: 0.2951 - val_categorical_accuracy: 0.9329\n"
     ]
    }
   ],
   "source": [
    "hist3 = model.fit_generator(\n",
    "    datagen.flow(train_X,train_y,batch_size = batch),\n",
    "    steps_per_epoch = STEPS,\n",
    "    validation_steps=STEPS, epochs=10, verbose=1,\n",
    "    validation_data=(valid_X, valid_y),\n",
    "    callbacks = callbacks\n",
    ")"
   ]
  },
  {
   "cell_type": "code",
   "execution_count": 27,
   "metadata": {},
   "outputs": [],
   "source": [
    "import winsound as ws\n",
    "\n",
    "def beepsound():\n",
    "    freq = 2000    # range : 37 ~ 32767\n",
    "    dur = 1000     # ms\n",
    "    ws.Beep(freq, dur) # winsound.Beep(frequency, duration)\n"
   ]
  },
  {
   "cell_type": "code",
   "execution_count": 28,
   "metadata": {},
   "outputs": [
    {
     "name": "stdout",
     "output_type": "stream",
     "text": [
      "None\n"
     ]
    }
   ],
   "source": [
    "print(beepsound())"
   ]
  },
  {
   "cell_type": "code",
   "execution_count": 40,
   "metadata": {},
   "outputs": [
    {
     "data": {
      "text/plain": [
       "dict_keys(['val_loss', 'val_categorical_crossentropy', 'val_categorical_accuracy', 'loss', 'categorical_crossentropy', 'categorical_accuracy', 'lr'])"
      ]
     },
     "execution_count": 40,
     "metadata": {},
     "output_type": "execute_result"
    }
   ],
   "source": [
    "hist.history.keys()"
   ]
  },
  {
   "cell_type": "code",
   "execution_count": 37,
   "metadata": {},
   "outputs": [
    {
     "data": {
      "image/png": "[encoded data removed]",
      "text/plain": [
       "<Figure size 432x288 with 2 Axes>"
      ]
     },
     "metadata": {
      "needs_background": "light"
     },
     "output_type": "display_data"
    }
   ],
   "source": [
    "fig, loss_ax = plt.subplots()\n",
    "\n",
    "acc_ax = loss_ax.twinx()\n",
    "\n",
    "loss_ax.plot(hist.history['loss'], 'y', label='train loss')\n",
    "loss_ax.plot(hist.history['val_loss'], 'b', label='val loss')\n",
    "\n",
    "acc_ax.plot(hist.history['val_categorical_accuracy'], 'g', label='val categorical accuracy')\n",
    "acc_ax.plot(hist.history['categorical_accuracy'], 'r', label='categorical_accuracy')\n",
    "\n",
    "loss_ax.set_xlabel('epoch')\n",
    "loss_ax.set_ylabel('loss')\n",
    "acc_ax.set_ylabel('categorical_accuracy')\n",
    "\n",
    "loss_ax.legend(loc='upper left')\n",
    "acc_ax.legend(loc='lower left')\n",
    "\n",
    "plt.show()"
   ]
  },
  {
   "cell_type": "code",
   "execution_count": 38,
   "metadata": {},
   "outputs": [
    {
     "data": {
      "image/png": "[encoded data removed]",
      "text/plain": [
       "<Figure size 432x288 with 2 Axes>"
      ]
     },
     "metadata": {
      "needs_background": "light"
     },
     "output_type": "display_data"
    }
   ],
   "source": [
    "fig, loss_ax = plt.subplots()\n",
    "\n",
    "acc_ax = loss_ax.twinx()\n",
    "\n",
    "loss_ax.plot(hist2.history['loss'], 'y', label='train loss')\n",
    "loss_ax.plot(hist2.history['val_loss'], 'b', label='val loss')\n",
    "\n",
    "acc_ax.plot(hist2.history['val_categorical_accuracy'], 'g', label='val categorical accuracy')\n",
    "acc_ax.plot(hist2.history['categorical_accuracy'], 'r', label='categorical_accuracy')\n",
    "\n",
    "loss_ax.set_xlabel('epoch')\n",
    "loss_ax.set_ylabel('loss')\n",
    "acc_ax.set_ylabel('categorical_accuracy')\n",
    "\n",
    "loss_ax.legend(loc='upper left')\n",
    "acc_ax.legend(loc='lower left')\n",
    "\n",
    "plt.show()"
   ]
  },
  {
   "cell_type": "code",
   "execution_count": 39,
   "metadata": {},
   "outputs": [
    {
     "data": {
      "image/png": "[encoded data removed]",
      "text/plain": [
       "<Figure size 432x288 with 2 Axes>"
      ]
     },
     "metadata": {
      "needs_background": "light"
     },
     "output_type": "display_data"
    }
   ],
   "source": [
    "fig, loss_ax = plt.subplots()\n",
    "\n",
    "acc_ax = loss_ax.twinx()\n",
    "\n",
    "loss_ax.plot(hist3.history['loss'], 'y', label='train loss')\n",
    "loss_ax.plot(hist3.history['val_loss'], 'b', label='val loss')\n",
    "\n",
    "acc_ax.plot(hist3.history['val_categorical_accuracy'], 'g', label='val categorical accuracy')\n",
    "acc_ax.plot(hist3.history['categorical_accuracy'], 'r', label='categorical_accuracy')\n",
    "\n",
    "loss_ax.set_xlabel('epoch')\n",
    "loss_ax.set_ylabel('loss')\n",
    "acc_ax.set_ylabel('categorical_accuracy')\n",
    "\n",
    "loss_ax.legend(loc='upper left')\n",
    "acc_ax.legend(loc='lower left')\n",
    "\n",
    "plt.show()"
   ]
  },
  {
   "cell_type": "code",
   "execution_count": 40,
   "metadata": {},
   "outputs": [],
   "source": [
    "all_hist = dict()\n",
    "all_hist['loss'] = hist.history['loss'] + hist2.history['loss'] + hist3.history['loss']\n",
    "all_hist['val_loss'] = hist.history['val_loss'] + hist2.history['val_loss'] + hist3.history['val_loss']\n",
    "all_hist['val_categorical_accuracy'] = hist.history['val_categorical_accuracy'] + hist2.history['val_categorical_accuracy'] + hist3.history['val_categorical_accuracy']\n",
    "all_hist['categorical_accuracy'] = hist.history['categorical_accuracy'] + hist2.history['categorical_accuracy'] + hist3.history['categorical_accuracy']"
   ]
  },
  {
   "cell_type": "code",
   "execution_count": 41,
   "metadata": {},
   "outputs": [
    {
     "data": {
      "image/png": "[encoded data removed]",
      "text/plain": [
       "<Figure size 432x288 with 2 Axes>"
      ]
     },
     "metadata": {
      "needs_background": "light"
     },
     "output_type": "display_data"
    }
   ],
   "source": [
    "fig, loss_ax = plt.subplots()\n",
    "\n",
    "acc_ax = loss_ax.twinx()\n",
    "\n",
    "loss_ax.plot(all_hist['loss'], 'y', label='train loss')\n",
    "loss_ax.plot(all_hist['val_loss'], 'b', label='val loss')\n",
    "\n",
    "acc_ax.plot(all_hist['val_categorical_accuracy'], 'g', label='val categorical accuracy')\n",
    "acc_ax.plot(all_hist['categorical_accuracy'], 'r', label='categorical_accuracy')\n",
    "\n",
    "loss_ax.set_xlabel('epoch')\n",
    "loss_ax.set_ylabel('loss')\n",
    "acc_ax.set_ylabel('categorical_accuracy')\n",
    "\n",
    "loss_ax.legend(loc='upper left')\n",
    "acc_ax.legend(loc='lower left')\n",
    "\n",
    "plt.show()"
   ]
  },
  {
   "cell_type": "markdown",
   "metadata": {},
   "source": [
    "## Evaluation"
   ]
  },
  {
   "cell_type": "code",
   "execution_count": 24,
   "metadata": {},
   "outputs": [],
   "source": [
    "model_1 = load_model('1224_resnet/1224_resnet_1.h5')"
   ]
  },
  {
   "cell_type": "code",
   "execution_count": 25,
   "metadata": {},
   "outputs": [
    {
     "name": "stdout",
     "output_type": "stream",
     "text": [
      "150000/150000 [==============================] - 334s 2ms/step\n"
     ]
    },
    {
     "data": {
      "text/plain": [
       "[0.3512315213127931, 0.915993332862854]"
      ]
     },
     "execution_count": 25,
     "metadata": {},
     "output_type": "execute_result"
    }
   ],
   "source": [
    "model_1.evaluate(test_X, test_y)"
   ]
  },
  {
   "cell_type": "code",
   "execution_count": 28,
   "metadata": {},
   "outputs": [],
   "source": [
    "pred_y1 = model_1.predict(test_X, batch_size= batch)"
   ]
  },
  {
   "cell_type": "code",
   "execution_count": 29,
   "metadata": {},
   "outputs": [],
   "source": [
    "ppp1 = np.argmax(pred_y1,1)"
   ]
  },
  {
   "cell_type": "code",
   "execution_count": 30,
   "metadata": {},
   "outputs": [],
   "source": [
    "ttt = np.argmax(test_y,1)"
   ]
  },
  {
   "cell_type": "code",
   "execution_count": 31,
   "metadata": {},
   "outputs": [
    {
     "data": {
      "text/plain": [
       "array([3, 5, 7, ..., 1, 5, 0], dtype=int64)"
      ]
     },
     "execution_count": 31,
     "metadata": {},
     "output_type": "execute_result"
    }
   ],
   "source": [
    "ppp1"
   ]
  },
  {
   "cell_type": "code",
   "execution_count": 32,
   "metadata": {},
   "outputs": [
    {
     "data": {
      "text/plain": [
       "array([3, 5, 7, ..., 1, 5, 0], dtype=int64)"
      ]
     },
     "execution_count": 32,
     "metadata": {},
     "output_type": "execute_result"
    }
   ],
   "source": [
    "ttt"
   ]
  },
  {
   "cell_type": "code",
   "execution_count": 33,
   "metadata": {
    "scrolled": true
   },
   "outputs": [
    {
     "data": {
      "text/plain": [
       "<matplotlib.image.AxesImage at 0x16788019a90>"
      ]
     },
     "execution_count": 33,
     "metadata": {},
     "output_type": "execute_result"
    },
    {
     "data": {
      "image/png": "[encoded data removed]",
      "text/plain": [
       "<Figure size 288x288 with 1 Axes>"
      ]
     },
     "metadata": {
      "needs_background": "light"
     },
     "output_type": "display_data"
    }
   ],
   "source": [
    "plt.matshow(confusion_matrix(ttt,ppp1))"
   ]
  },
  {
   "cell_type": "code",
   "execution_count": 34,
   "metadata": {
    "scrolled": false
   },
   "outputs": [
    {
     "name": "stdout",
     "output_type": "stream",
     "text": [
      "               precision    recall  f1-score   support\n",
      "\n",
      "          bat       0.92      0.88      0.90      7500\n",
      "         cake       0.95      0.94      0.94      7500\n",
      "       candle       0.92      0.97      0.94      7500\n",
      "       carrot       0.95      0.90      0.92      7500\n",
      "   chandelier       0.97      0.85      0.91      7500\n",
      "     computer       0.93      0.94      0.93      7500\n",
      "        couch       0.97      0.94      0.96      7500\n",
      "          dog       0.77      0.84      0.80      7500\n",
      "   light bulb       0.96      0.95      0.95      7500\n",
      "      mermaid       0.89      0.91      0.90      7500\n",
      "   microphone       0.92      0.87      0.90      7500\n",
      "       monkey       0.82      0.88      0.85      7500\n",
      "      octopus       0.94      0.94      0.94      7500\n",
      "       pliers       0.88      0.85      0.87      7500\n",
      "         pond       0.92      0.93      0.93      7500\n",
      "   sea turtle       0.84      0.93      0.88      7500\n",
      "        snake       0.87      0.93      0.90      7500\n",
      "   television       0.96      0.93      0.94      7500\n",
      "traffic light       0.99      0.94      0.97      7500\n",
      "  wine bottle       1.00      1.00      1.00      7500\n",
      "\n",
      "     accuracy                           0.92    150000\n",
      "    macro avg       0.92      0.92      0.92    150000\n",
      " weighted avg       0.92      0.92      0.92    150000\n",
      "\n"
     ]
    }
   ],
   "source": [
    "print(classification_report(ttt, ppp1, \n",
    "                            target_names = [x for x in word_le.classes_]))"
   ]
  },
  {
   "cell_type": "code",
   "execution_count": null,
   "metadata": {},
   "outputs": [],
   "source": []
  },
  {
   "cell_type": "code",
   "execution_count": null,
   "metadata": {},
   "outputs": [],
   "source": []
  },
  {
   "cell_type": "code",
   "execution_count": null,
   "metadata": {},
   "outputs": [],
   "source": []
  },
  {
   "cell_type": "code",
   "execution_count": null,
   "metadata": {},
   "outputs": [],
   "source": []
  },
  {
   "cell_type": "code",
   "execution_count": null,
   "metadata": {},
   "outputs": [],
   "source": []
  },
  {
   "cell_type": "code",
   "execution_count": 35,
   "metadata": {},
   "outputs": [],
   "source": [
    "model_2 = load_model('1224_resnet/1224_resnet_2.h5')"
   ]
  },
  {
   "cell_type": "code",
   "execution_count": 36,
   "metadata": {},
   "outputs": [
    {
     "name": "stdout",
     "output_type": "stream",
     "text": [
      "150000/150000 [==============================] - 367s 2ms/step\n"
     ]
    },
    {
     "data": {
      "text/plain": [
       "[0.2764353184341391, 0.9316133260726929]"
      ]
     },
     "execution_count": 36,
     "metadata": {},
     "output_type": "execute_result"
    }
   ],
   "source": [
    "model_2.evaluate(test_X, test_y)"
   ]
  },
  {
   "cell_type": "code",
   "execution_count": 37,
   "metadata": {},
   "outputs": [],
   "source": [
    "pred_y2 = model_2.predict(test_X, batch_size= batch)"
   ]
  },
  {
   "cell_type": "code",
   "execution_count": 38,
   "metadata": {},
   "outputs": [],
   "source": [
    "ppp2 = np.argmax(pred_y2,1)"
   ]
  },
  {
   "cell_type": "code",
   "execution_count": 39,
   "metadata": {},
   "outputs": [],
   "source": [
    "ttt = np.argmax(test_y,1)"
   ]
  },
  {
   "cell_type": "code",
   "execution_count": 40,
   "metadata": {},
   "outputs": [
    {
     "data": {
      "text/plain": [
       "array([3, 5, 7, ..., 1, 5, 0], dtype=int64)"
      ]
     },
     "execution_count": 40,
     "metadata": {},
     "output_type": "execute_result"
    }
   ],
   "source": [
    "ppp2"
   ]
  },
  {
   "cell_type": "code",
   "execution_count": 41,
   "metadata": {},
   "outputs": [
    {
     "data": {
      "text/plain": [
       "array([3, 5, 7, ..., 1, 5, 0], dtype=int64)"
      ]
     },
     "execution_count": 41,
     "metadata": {},
     "output_type": "execute_result"
    }
   ],
   "source": [
    "ttt"
   ]
  },
  {
   "cell_type": "code",
   "execution_count": 42,
   "metadata": {
    "scrolled": true
   },
   "outputs": [
    {
     "data": {
      "text/plain": [
       "<matplotlib.image.AxesImage at 0x16c4e5643c8>"
      ]
     },
     "execution_count": 42,
     "metadata": {},
     "output_type": "execute_result"
    },
    {
     "data": {
      "image/png": "[encoded data removed]",
      "text/plain": [
       "<Figure size 288x288 with 1 Axes>"
      ]
     },
     "metadata": {
      "needs_background": "light"
     },
     "output_type": "display_data"
    }
   ],
   "source": [
    "plt.matshow(confusion_matrix(ttt,ppp2))"
   ]
  },
  {
   "cell_type": "code",
   "execution_count": 43,
   "metadata": {
    "scrolled": false
   },
   "outputs": [
    {
     "name": "stdout",
     "output_type": "stream",
     "text": [
      "               precision    recall  f1-score   support\n",
      "\n",
      "          bat       0.90      0.93      0.92      7500\n",
      "         cake       0.96      0.95      0.96      7500\n",
      "       candle       0.95      0.97      0.96      7500\n",
      "       carrot       0.95      0.93      0.94      7500\n",
      "   chandelier       0.91      0.95      0.93      7500\n",
      "     computer       0.94      0.94      0.94      7500\n",
      "        couch       0.96      0.96      0.96      7500\n",
      "          dog       0.82      0.86      0.84      7500\n",
      "   light bulb       0.97      0.94      0.96      7500\n",
      "      mermaid       0.94      0.90      0.92      7500\n",
      "   microphone       0.93      0.90      0.91      7500\n",
      "       monkey       0.89      0.86      0.88      7500\n",
      "      octopus       0.93      0.97      0.95      7500\n",
      "       pliers       0.86      0.90      0.88      7500\n",
      "         pond       0.92      0.94      0.93      7500\n",
      "   sea turtle       0.93      0.90      0.92      7500\n",
      "        snake       0.92      0.92      0.92      7500\n",
      "   television       0.97      0.94      0.95      7500\n",
      "traffic light       0.98      0.96      0.97      7500\n",
      "  wine bottle       1.00      1.00      1.00      7500\n",
      "\n",
      "     accuracy                           0.93    150000\n",
      "    macro avg       0.93      0.93      0.93    150000\n",
      " weighted avg       0.93      0.93      0.93    150000\n",
      "\n"
     ]
    }
   ],
   "source": [
    "print(classification_report(ttt, ppp2, \n",
    "                            target_names = [x for x in word_le.classes_]))"
   ]
  },
  {
   "cell_type": "code",
   "execution_count": null,
   "metadata": {},
   "outputs": [],
   "source": []
  },
  {
   "cell_type": "code",
   "execution_count": null,
   "metadata": {},
   "outputs": [],
   "source": []
  },
  {
   "cell_type": "code",
   "execution_count": null,
   "metadata": {},
   "outputs": [],
   "source": []
  },
  {
   "cell_type": "code",
   "execution_count": null,
   "metadata": {},
   "outputs": [],
   "source": []
  },
  {
   "cell_type": "code",
   "execution_count": 19,
   "metadata": {},
   "outputs": [],
   "source": [
    "model_3 = load_model('1224_resnet/1224_resnet_3.h5')"
   ]
  },
  {
   "cell_type": "code",
   "execution_count": 20,
   "metadata": {},
   "outputs": [
    {
     "name": "stdout",
     "output_type": "stream",
     "text": [
      "150000/150000 [==============================] - 354s 2ms/step\n"
     ]
    },
    {
     "data": {
      "text/plain": [
       "[0.27880830716793115, 0.9357466697692871]"
      ]
     },
     "execution_count": 20,
     "metadata": {},
     "output_type": "execute_result"
    }
   ],
   "source": [
    "model_3.evaluate(test_X, test_y)"
   ]
  },
  {
   "cell_type": "code",
   "execution_count": 20,
   "metadata": {},
   "outputs": [],
   "source": [
    "pred_y3 = model_3.predict(test_X, batch_size= batch)"
   ]
  },
  {
   "cell_type": "code",
   "execution_count": 21,
   "metadata": {},
   "outputs": [],
   "source": [
    "ppp3 = np.argmax(pred_y3,1)"
   ]
  },
  {
   "cell_type": "code",
   "execution_count": 22,
   "metadata": {},
   "outputs": [],
   "source": [
    "ttt = np.argmax(test_y,1)"
   ]
  },
  {
   "cell_type": "code",
   "execution_count": 23,
   "metadata": {},
   "outputs": [
    {
     "data": {
      "text/plain": [
       "array([3, 5, 7, ..., 1, 5, 0], dtype=int64)"
      ]
     },
     "execution_count": 23,
     "metadata": {},
     "output_type": "execute_result"
    }
   ],
   "source": [
    "ppp3"
   ]
  },
  {
   "cell_type": "code",
   "execution_count": 24,
   "metadata": {},
   "outputs": [
    {
     "data": {
      "text/plain": [
       "array([3, 5, 7, ..., 1, 5, 0], dtype=int64)"
      ]
     },
     "execution_count": 24,
     "metadata": {},
     "output_type": "execute_result"
    }
   ],
   "source": [
    "ttt"
   ]
  },
  {
   "cell_type": "code",
   "execution_count": 25,
   "metadata": {
    "scrolled": true
   },
   "outputs": [
    {
     "data": {
      "text/plain": [
       "<matplotlib.image.AxesImage at 0x26fcf71a828>"
      ]
     },
     "execution_count": 25,
     "metadata": {},
     "output_type": "execute_result"
    },
    {
     "data": {
      "image/png": "[encoded data removed]",
      "text/plain": [
       "<Figure size 288x288 with 1 Axes>"
      ]
     },
     "metadata": {
      "needs_background": "light"
     },
     "output_type": "display_data"
    }
   ],
   "source": [
    "plt.matshow(confusion_matrix(ttt,ppp3))"
   ]
  },
  {
   "cell_type": "code",
   "execution_count": 26,
   "metadata": {
    "scrolled": false
   },
   "outputs": [
    {
     "name": "stdout",
     "output_type": "stream",
     "text": [
      "               precision    recall  f1-score   support\n",
      "\n",
      "          bat       0.89      0.95      0.92      7500\n",
      "         cake       0.95      0.96      0.95      7500\n",
      "       candle       0.97      0.95      0.96      7500\n",
      "       carrot       0.96      0.93      0.94      7500\n",
      "   chandelier       0.95      0.92      0.94      7500\n",
      "     computer       0.94      0.95      0.95      7500\n",
      "        couch       0.97      0.96      0.96      7500\n",
      "          dog       0.86      0.85      0.86      7500\n",
      "   light bulb       0.97      0.95      0.96      7500\n",
      "      mermaid       0.91      0.94      0.92      7500\n",
      "   microphone       0.93      0.91      0.92      7500\n",
      "       monkey       0.88      0.90      0.89      7500\n",
      "      octopus       0.97      0.93      0.95      7500\n",
      "       pliers       0.87      0.90      0.89      7500\n",
      "         pond       0.91      0.96      0.93      7500\n",
      "   sea turtle       0.95      0.90      0.92      7500\n",
      "        snake       0.91      0.95      0.93      7500\n",
      "   television       0.97      0.93      0.95      7500\n",
      "traffic light       0.97      0.98      0.97      7500\n",
      "  wine bottle       1.00      1.00      1.00      7500\n",
      "\n",
      "     accuracy                           0.94    150000\n",
      "    macro avg       0.94      0.94      0.94    150000\n",
      " weighted avg       0.94      0.94      0.94    150000\n",
      "\n"
     ]
    }
   ],
   "source": [
    "print(classification_report(ttt, ppp3, \n",
    "                            target_names = [x for x in word_le.classes_]))"
   ]
  },
  {
   "cell_type": "code",
   "execution_count": null,
   "metadata": {},
   "outputs": [],
   "source": []
  },
  {
   "cell_type": "code",
   "execution_count": null,
   "metadata": {},
   "outputs": [],
   "source": []
  },
  {
   "cell_type": "code",
   "execution_count": null,
   "metadata": {},
   "outputs": [],
   "source": []
  },
  {
   "cell_type": "code",
   "execution_count": null,
   "metadata": {},
   "outputs": [],
   "source": []
  },
  {
   "cell_type": "code",
   "execution_count": null,
   "metadata": {},
   "outputs": [],
   "source": []
  },
  {
   "cell_type": "code",
   "execution_count": null,
   "metadata": {},
   "outputs": [],
   "source": [
    "model.evaluate(test_X, test_y) #loss, categorical_entropy, categorical_accuracy"
   ]
  },
  {
   "cell_type": "code",
   "execution_count": null,
   "metadata": {},
   "outputs": [],
   "source": [
    "pred_y = model.predict(test_X, batch_size= batch)"
   ]
  },
  {
   "cell_type": "code",
   "execution_count": null,
   "metadata": {},
   "outputs": [],
   "source": [
    "ppp = np.argmax(pred_y,1)"
   ]
  },
  {
   "cell_type": "code",
   "execution_count": null,
   "metadata": {},
   "outputs": [],
   "source": [
    "ttt = np.argmax(test_y,1)"
   ]
  },
  {
   "cell_type": "code",
   "execution_count": null,
   "metadata": {},
   "outputs": [],
   "source": [
    "ppp"
   ]
  },
  {
   "cell_type": "code",
   "execution_count": null,
   "metadata": {},
   "outputs": [],
   "source": [
    "ttt"
   ]
  },
  {
   "cell_type": "code",
   "execution_count": null,
   "metadata": {
    "scrolled": true
   },
   "outputs": [],
   "source": [
    "plt.matshow(confusion_matrix(ttt,ppp))"
   ]
  },
  {
   "cell_type": "code",
   "execution_count": null,
   "metadata": {},
   "outputs": [],
   "source": [
    "print(classification_report(ttt, ppp, \n",
    "                            target_names = [x for x in word_le.classes_]))"
   ]
  },
  {
   "cell_type": "markdown",
   "metadata": {},
   "source": [
    "* 이미지 그리기"
   ]
  },
  {
   "cell_type": "code",
   "execution_count": 122,
   "metadata": {},
   "outputs": [
    {
     "data": {
      "image/png": "[encoded data removed]",
      "text/plain": [
       "<Figure size 432x288 with 1 Axes>"
      ]
     },
     "metadata": {
      "needs_background": "light"
     },
     "output_type": "display_data"
    }
   ],
   "source": [
    "raw_images = list(all_data['drawing'])\n",
    "\n",
    "k = 0\n",
    "for i in range(len(raw_images[k])):\n",
    "    plt.plot(raw_images[k][i][0], raw_images[k][i][1],'o-')\n",
    "plt.show()"
   ]
  },
  {
   "cell_type": "code",
   "execution_count": null,
   "metadata": {},
   "outputs": [],
   "source": []
  },
  {
   "cell_type": "code",
   "execution_count": null,
   "metadata": {},
   "outputs": [],
   "source": []
  },
  {
   "cell_type": "code",
   "execution_count": 171,
   "metadata": {},
   "outputs": [
    {
     "ename": "NameError",
     "evalue": "name 'train_df' is not defined",
     "output_type": "error",
     "traceback": [
      "\u001b[1;31m---------------------------------------------------------------------------\u001b[0m",
      "\u001b[1;31mNameError\u001b[0m                                 Traceback (most recent call last)",
      "\u001b[1;32m<ipython-input-171-4ee7fa305e14>\u001b[0m in \u001b[0;36m<module>\u001b[1;34m\u001b[0m\n\u001b[0;32m      3\u001b[0m     \u001b[0my\u001b[0m \u001b[1;33m=\u001b[0m \u001b[0mto_categorical\u001b[0m\u001b[1;33m(\u001b[0m\u001b[0mword_encoder\u001b[0m\u001b[1;33m.\u001b[0m\u001b[0mtransform\u001b[0m\u001b[1;33m(\u001b[0m\u001b[0min_df\u001b[0m\u001b[1;33m[\u001b[0m\u001b[1;34m'word'\u001b[0m\u001b[1;33m]\u001b[0m\u001b[1;33m.\u001b[0m\u001b[0mvalues\u001b[0m\u001b[1;33m)\u001b[0m\u001b[1;33m)\u001b[0m\u001b[1;33m\u001b[0m\u001b[0m\n\u001b[0;32m      4\u001b[0m     \u001b[1;32mreturn\u001b[0m \u001b[0mX\u001b[0m\u001b[1;33m,\u001b[0m \u001b[0my\u001b[0m\u001b[1;33m\u001b[0m\u001b[0m\n\u001b[1;32m----> 5\u001b[1;33m \u001b[0mtrain_X\u001b[0m\u001b[1;33m,\u001b[0m \u001b[0mtrain_y\u001b[0m \u001b[1;33m=\u001b[0m \u001b[0mget_Xy\u001b[0m\u001b[1;33m(\u001b[0m\u001b[0mtrain_df\u001b[0m\u001b[1;33m)\u001b[0m\u001b[1;33m\u001b[0m\u001b[0m\n\u001b[0m\u001b[0;32m      6\u001b[0m \u001b[0mvalid_X\u001b[0m\u001b[1;33m,\u001b[0m \u001b[0mvalid_y\u001b[0m \u001b[1;33m=\u001b[0m \u001b[0mget_Xy\u001b[0m\u001b[1;33m(\u001b[0m\u001b[0mvalid_df\u001b[0m\u001b[1;33m)\u001b[0m\u001b[1;33m\u001b[0m\u001b[0m\n\u001b[0;32m      7\u001b[0m \u001b[0mtest_X\u001b[0m\u001b[1;33m,\u001b[0m \u001b[0mtest_y\u001b[0m \u001b[1;33m=\u001b[0m \u001b[0mget_Xy\u001b[0m\u001b[1;33m(\u001b[0m\u001b[0mtest_df\u001b[0m\u001b[1;33m)\u001b[0m\u001b[1;33m\u001b[0m\u001b[0m\n",
      "\u001b[1;31mNameError\u001b[0m: name 'train_df' is not defined"
     ]
    }
   ],
   "source": [
    "def get_Xy(in_df):\n",
    "    X = np.stack(in_df['drawing'], 0)\n",
    "    y = to_categorical(word_encoder.transform(in_df['word'].values))\n",
    "    return X, y\n",
    "train_X, train_y = get_Xy(train_df)\n",
    "valid_X, valid_y = get_Xy(valid_df)\n",
    "test_X, test_y = get_Xy(test_df)\n",
    "print(train_X.shape)"
   ]
  },
  {
   "cell_type": "code",
   "execution_count": null,
   "metadata": {},
   "outputs": [],
   "source": []
  },
  {
   "cell_type": "code",
   "execution_count": null,
   "metadata": {},
   "outputs": [],
   "source": []
  },
  {
   "cell_type": "code",
   "execution_count": 108,
   "metadata": {
    "collapsed": true
   },
   "outputs": [
    {
     "ename": "ValueError",
     "evalue": "Axis -1 of input tensor should have a defined dimension but the layer received an input with shape (None, None).",
     "output_type": "error",
     "traceback": [
      "\u001b[1;31m---------------------------------------------------------------------------\u001b[0m",
      "\u001b[1;31mValueError\u001b[0m                                Traceback (most recent call last)",
      "\u001b[1;32m<ipython-input-108-b80e3d33e5dc>\u001b[0m in \u001b[0;36m<module>\u001b[1;34m\u001b[0m\n\u001b[0;32m      1\u001b[0m \u001b[0mstroke_read_model\u001b[0m \u001b[1;33m=\u001b[0m \u001b[0mSequential\u001b[0m\u001b[1;33m(\u001b[0m\u001b[1;33m)\u001b[0m\u001b[1;33m\u001b[0m\u001b[0m\n\u001b[1;32m----> 2\u001b[1;33m \u001b[0mstroke_read_model\u001b[0m\u001b[1;33m.\u001b[0m\u001b[0madd\u001b[0m\u001b[1;33m(\u001b[0m\u001b[0mBatchNormalization\u001b[0m\u001b[1;33m(\u001b[0m\u001b[0minput_shape\u001b[0m \u001b[1;33m=\u001b[0m \u001b[1;33m(\u001b[0m\u001b[1;32mNone\u001b[0m\u001b[1;33m,\u001b[0m\u001b[1;33m)\u001b[0m\u001b[1;33m)\u001b[0m\u001b[1;33m)\u001b[0m\u001b[1;33m\u001b[0m\u001b[0m\n\u001b[0m\u001b[0;32m      3\u001b[0m \u001b[1;31m# filter count and length are taken from the script https://github.com/tensorflow/models/blob/master/tutorials/rnn/quickdraw/train_model.py\u001b[0m\u001b[1;33m\u001b[0m\u001b[1;33m\u001b[0m\u001b[0m\n\u001b[0;32m      4\u001b[0m \u001b[0mstroke_read_model\u001b[0m\u001b[1;33m.\u001b[0m\u001b[0madd\u001b[0m\u001b[1;33m(\u001b[0m\u001b[0mConv1D\u001b[0m\u001b[1;33m(\u001b[0m\u001b[1;36m48\u001b[0m\u001b[1;33m,\u001b[0m \u001b[1;33m(\u001b[0m\u001b[1;36m5\u001b[0m\u001b[1;33m,\u001b[0m\u001b[1;33m)\u001b[0m\u001b[1;33m)\u001b[0m\u001b[1;33m)\u001b[0m\u001b[1;33m\u001b[0m\u001b[0m\n\u001b[0;32m      5\u001b[0m \u001b[0mstroke_read_model\u001b[0m\u001b[1;33m.\u001b[0m\u001b[0madd\u001b[0m\u001b[1;33m(\u001b[0m\u001b[0mDropout\u001b[0m\u001b[1;33m(\u001b[0m\u001b[1;36m0.3\u001b[0m\u001b[1;33m)\u001b[0m\u001b[1;33m)\u001b[0m\u001b[1;33m\u001b[0m\u001b[0m\n",
      "\u001b[1;32mC:\\Users\\julia\\Desktop\\tf\\lib\\site-packages\\keras\\engine\\sequential.py\u001b[0m in \u001b[0;36madd\u001b[1;34m(self, layer)\u001b[0m\n\u001b[0;32m    164\u001b[0m                     \u001b[1;31m# and create the node connecting the current layer\u001b[0m\u001b[1;33m\u001b[0m\u001b[1;33m\u001b[0m\u001b[0m\n\u001b[0;32m    165\u001b[0m                     \u001b[1;31m# to the input layer we just created.\u001b[0m\u001b[1;33m\u001b[0m\u001b[1;33m\u001b[0m\u001b[0m\n\u001b[1;32m--> 166\u001b[1;33m                     \u001b[0mlayer\u001b[0m\u001b[1;33m(\u001b[0m\u001b[0mx\u001b[0m\u001b[1;33m)\u001b[0m\u001b[1;33m\u001b[0m\u001b[0m\n\u001b[0m\u001b[0;32m    167\u001b[0m                     \u001b[0mset_inputs\u001b[0m \u001b[1;33m=\u001b[0m \u001b[1;32mTrue\u001b[0m\u001b[1;33m\u001b[0m\u001b[0m\n\u001b[0;32m    168\u001b[0m             \u001b[1;32melse\u001b[0m\u001b[1;33m:\u001b[0m\u001b[1;33m\u001b[0m\u001b[0m\n",
      "\u001b[1;32mC:\\Users\\julia\\Desktop\\tf\\lib\\site-packages\\keras\\backend\\tensorflow_backend.py\u001b[0m in \u001b[0;36msymbolic_fn_wrapper\u001b[1;34m(*args, **kwargs)\u001b[0m\n\u001b[0;32m     73\u001b[0m         \u001b[1;32mif\u001b[0m \u001b[0m_SYMBOLIC_SCOPE\u001b[0m\u001b[1;33m.\u001b[0m\u001b[0mvalue\u001b[0m\u001b[1;33m:\u001b[0m\u001b[1;33m\u001b[0m\u001b[0m\n\u001b[0;32m     74\u001b[0m             \u001b[1;32mwith\u001b[0m \u001b[0mget_graph\u001b[0m\u001b[1;33m(\u001b[0m\u001b[1;33m)\u001b[0m\u001b[1;33m.\u001b[0m\u001b[0mas_default\u001b[0m\u001b[1;33m(\u001b[0m\u001b[1;33m)\u001b[0m\u001b[1;33m:\u001b[0m\u001b[1;33m\u001b[0m\u001b[0m\n\u001b[1;32m---> 75\u001b[1;33m                 \u001b[1;32mreturn\u001b[0m \u001b[0mfunc\u001b[0m\u001b[1;33m(\u001b[0m\u001b[1;33m*\u001b[0m\u001b[0margs\u001b[0m\u001b[1;33m,\u001b[0m \u001b[1;33m**\u001b[0m\u001b[0mkwargs\u001b[0m\u001b[1;33m)\u001b[0m\u001b[1;33m\u001b[0m\u001b[0m\n\u001b[0m\u001b[0;32m     76\u001b[0m         \u001b[1;32melse\u001b[0m\u001b[1;33m:\u001b[0m\u001b[1;33m\u001b[0m\u001b[0m\n\u001b[0;32m     77\u001b[0m             \u001b[1;32mreturn\u001b[0m \u001b[0mfunc\u001b[0m\u001b[1;33m(\u001b[0m\u001b[1;33m*\u001b[0m\u001b[0margs\u001b[0m\u001b[1;33m,\u001b[0m \u001b[1;33m**\u001b[0m\u001b[0mkwargs\u001b[0m\u001b[1;33m)\u001b[0m\u001b[1;33m\u001b[0m\u001b[0m\n",
      "\u001b[1;32mC:\\Users\\julia\\Desktop\\tf\\lib\\site-packages\\keras\\engine\\base_layer.py\u001b[0m in \u001b[0;36m__call__\u001b[1;34m(self, inputs, **kwargs)\u001b[0m\n\u001b[0;32m    461\u001b[0m                                          \u001b[1;34m'You can build it manually via: '\u001b[0m\u001b[1;33m\u001b[0m\u001b[0m\n\u001b[0;32m    462\u001b[0m                                          '`layer.build(batch_input_shape)`')\n\u001b[1;32m--> 463\u001b[1;33m                 \u001b[0mself\u001b[0m\u001b[1;33m.\u001b[0m\u001b[0mbuild\u001b[0m\u001b[1;33m(\u001b[0m\u001b[0munpack_singleton\u001b[0m\u001b[1;33m(\u001b[0m\u001b[0minput_shapes\u001b[0m\u001b[1;33m)\u001b[0m\u001b[1;33m)\u001b[0m\u001b[1;33m\u001b[0m\u001b[0m\n\u001b[0m\u001b[0;32m    464\u001b[0m                 \u001b[0mself\u001b[0m\u001b[1;33m.\u001b[0m\u001b[0mbuilt\u001b[0m \u001b[1;33m=\u001b[0m \u001b[1;32mTrue\u001b[0m\u001b[1;33m\u001b[0m\u001b[0m\n\u001b[0;32m    465\u001b[0m \u001b[1;33m\u001b[0m\u001b[0m\n",
      "\u001b[1;32mC:\\Users\\julia\\Desktop\\tf\\lib\\site-packages\\keras\\layers\\normalization.py\u001b[0m in \u001b[0;36mbuild\u001b[1;34m(self, input_shape)\u001b[0m\n\u001b[0;32m     97\u001b[0m                              \u001b[1;34m'input tensor should have a defined dimension '\u001b[0m\u001b[1;33m\u001b[0m\u001b[0m\n\u001b[0;32m     98\u001b[0m                              \u001b[1;34m'but the layer received an input with shape '\u001b[0m \u001b[1;33m+\u001b[0m\u001b[1;33m\u001b[0m\u001b[0m\n\u001b[1;32m---> 99\u001b[1;33m                              str(input_shape) + '.')\n\u001b[0m\u001b[0;32m    100\u001b[0m         self.input_spec = InputSpec(ndim=len(input_shape),\n\u001b[0;32m    101\u001b[0m                                     axes={self.axis: dim})\n",
      "\u001b[1;31mValueError\u001b[0m: Axis -1 of input tensor should have a defined dimension but the layer received an input with shape (None, None)."
     ]
    }
   ],
   "source": [
    "\n",
    "stroke_read_model = Sequential()\n",
    "stroke_read_model.add(BatchNormalization(input_shape = (None,)))\n",
    "# filter count and length are taken from the script https://github.com/tensorflow/models/blob/master/tutorials/rnn/quickdraw/train_model.py\n",
    "stroke_read_model.add(Conv1D(48, (5,)))\n",
    "stroke_read_model.add(Dropout(0.3))\n",
    "stroke_read_model.add(Conv1D(64, (5,)))\n",
    "stroke_read_model.add(Dropout(0.3))\n",
    "stroke_read_model.add(Conv1D(96, (3,)))\n",
    "stroke_read_model.add(Dropout(0.3))\n",
    "stroke_read_model.add(LSTM(128, return_sequences = True))\n",
    "stroke_read_model.add(Dropout(0.3))\n",
    "stroke_read_model.add(LSTM(128, return_sequences = False))\n",
    "stroke_read_model.add(Dropout(0.3))\n",
    "stroke_read_model.add(Dense(512))\n",
    "stroke_read_model.add(Dropout(0.3))\n",
    "stroke_read_model.add(Dense(len(word_encoder.classes_), activation = 'softmax'))\n",
    "stroke_read_model.compile(optimizer = 'adam', \n",
    "                          loss = 'categorical_crossentropy', \n",
    "                          metrics = ['categorical_accuracy', top_3_accuracy])\n",
    "stroke_read_model.summary()"
   ]
  },
  {
   "cell_type": "code",
   "execution_count": null,
   "metadata": {},
   "outputs": [],
   "source": []
  }
 ],
 "metadata": {
  "kernelspec": {
   "display_name": "Python3 tf",
   "language": "python",
   "name": "tf"
  },
  "language_info": {
   "codemirror_mode": {
    "name": "ipython",
    "version": 3
   },
   "file_extension": ".py",
   "mimetype": "text/x-python",
   "name": "python",
   "nbconvert_exporter": "python",
   "pygments_lexer": "ipython3",
   "version": "3.6.4"
  }
 },
 "nbformat": 4,
 "nbformat_minor": 2
}
