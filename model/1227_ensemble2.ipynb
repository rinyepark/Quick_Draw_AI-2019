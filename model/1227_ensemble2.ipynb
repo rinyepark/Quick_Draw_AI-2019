{
 "cells": [
  {
   "cell_type": "code",
   "execution_count": 1,
   "metadata": {},
   "outputs": [
    {
     "name": "stderr",
     "output_type": "stream",
     "text": [
      "Using TensorFlow backend.\n"
     ]
    }
   ],
   "source": [
    "import tensorflow as tf\n",
    "import numpy as np\n",
    "from tensorflow import keras\n",
    "\n",
    "from tensorflow.keras.utils import to_categorical\n",
    "from tensorflow.keras.metrics import categorical_accuracy, top_k_categorical_accuracy, categorical_crossentropy\n",
    "from keras.preprocessing.sequence import pad_sequences\n",
    "\n",
    "import pandas as pd\n",
    "import matplotlib as mpl\n",
    "import matplotlib.pylab as plt\n",
    "\n",
    "from sklearn.model_selection import train_test_split\n",
    "from sklearn.preprocessing import LabelEncoder\n",
    "\n",
    "\n",
    "import keras.backend as K \n",
    "\n",
    "from keras.callbacks import EarlyStopping,ModelCheckpoint\n",
    "\n",
    "from keras.utils import np_utils\n",
    "from keras.models import Sequential, load_model\n",
    "\n",
    "from keras.layers import BatchNormalization, Conv1D, LSTM,Input, Dense, Dropout,TimeDistributed, Flatten,MaxPooling1D\n",
    "from keras.optimizers import Adam\n",
    "from keras.models import Model\n",
    "\n",
    "from keras.callbacks import ReduceLROnPlateau\n",
    "from keras.applications.mobilenet import MobileNet, decode_predictions\n",
    "from keras.applications.resnet50 import ResNet50, decode_predictions\n",
    "\n",
    "from keras.preprocessing.image import ImageDataGenerator\n",
    "\n",
    "from sklearn.metrics import confusion_matrix, classification_report\n",
    "\n",
    "\n",
    "import random\n",
    "\n",
    "import ast\n",
    "import os\n",
    "import cv2\n",
    "from collections import Counter"
   ]
  },
  {
   "cell_type": "code",
   "execution_count": 2,
   "metadata": {},
   "outputs": [],
   "source": [
    "import winsound as ws\n",
    "\n",
    "def beepsound():\n",
    "    freq = 2000    # range : 37 ~ 32767\n",
    "    dur = 1000     # ms\n",
    "    ws.Beep(freq, dur) # winsound.Beep(frequency, duration)\n"
   ]
  },
  {
   "cell_type": "markdown",
   "metadata": {},
   "source": [
    "# Data Preparation(1)"
   ]
  },
  {
   "cell_type": "code",
   "execution_count": 2,
   "metadata": {},
   "outputs": [],
   "source": [
    "all_data = pd.read_pickle(\"new_true_split_data/dataset_1.pkl\")"
   ]
  },
  {
   "cell_type": "code",
   "execution_count": 3,
   "metadata": {},
   "outputs": [],
   "source": [
    "all_data2 = pd.read_pickle(\"new_true_split_data/dataset_2.pkl\")"
   ]
  },
  {
   "cell_type": "code",
   "execution_count": 4,
   "metadata": {},
   "outputs": [],
   "source": [
    "aa, bb = train_test_split(all_data2, test_size=0.2, shuffle = True,\n",
    "                                random_state = 42,\n",
    "                                stratify = all_data2[\"word\"])"
   ]
  },
  {
   "cell_type": "code",
   "execution_count": 5,
   "metadata": {},
   "outputs": [],
   "source": [
    "bb.reset_index(drop=True,inplace=True)"
   ]
  },
  {
   "cell_type": "code",
   "execution_count": 6,
   "metadata": {
    "scrolled": true
   },
   "outputs": [
    {
     "data": {
      "text/plain": [
       "(100000, 6)"
      ]
     },
     "execution_count": 6,
     "metadata": {},
     "output_type": "execute_result"
    }
   ],
   "source": [
    "bb.shape"
   ]
  },
  {
   "cell_type": "code",
   "execution_count": 3,
   "metadata": {},
   "outputs": [
    {
     "data": {
      "text/plain": [
       "(500000, 6)"
      ]
     },
     "execution_count": 3,
     "metadata": {},
     "output_type": "execute_result"
    }
   ],
   "source": [
    "all_data.shape"
   ]
  },
  {
   "cell_type": "code",
   "execution_count": 7,
   "metadata": {},
   "outputs": [],
   "source": [
    "word_lst = list(all_data2['word'].unique())"
   ]
  },
  {
   "cell_type": "code",
   "execution_count": 5,
   "metadata": {},
   "outputs": [],
   "source": [
    "train2, test = train_test_split(all_data, test_size=0.3, shuffle = True,\n",
    "                                random_state = 42,\n",
    "                                stratify = all_data[\"word\"])"
   ]
  },
  {
   "cell_type": "code",
   "execution_count": 6,
   "metadata": {},
   "outputs": [
    {
     "data": {
      "text/plain": [
       "Counter({'wine bottle': 17500,\n",
       "         'pond': 17500,\n",
       "         'cake': 17500,\n",
       "         'traffic light': 17500,\n",
       "         'sea turtle': 17500,\n",
       "         'carrot': 17500,\n",
       "         'microphone': 17500,\n",
       "         'snake': 17500,\n",
       "         'octopus': 17500,\n",
       "         'mermaid': 17500,\n",
       "         'chandelier': 17500,\n",
       "         'dog': 17500,\n",
       "         'bat': 17500,\n",
       "         'television': 17500,\n",
       "         'light bulb': 17500,\n",
       "         'computer': 17500,\n",
       "         'pliers': 17500,\n",
       "         'candle': 17500,\n",
       "         'monkey': 17500,\n",
       "         'couch': 17500})"
      ]
     },
     "execution_count": 6,
     "metadata": {},
     "output_type": "execute_result"
    }
   ],
   "source": [
    "Counter(train2[\"word\"])"
   ]
  },
  {
   "cell_type": "code",
   "execution_count": 7,
   "metadata": {},
   "outputs": [],
   "source": [
    "train, valid=  train_test_split(train2, test_size=0.3, shuffle = True, \n",
    "                                random_state = 42,\n",
    "                                stratify = train2[\"word\"])"
   ]
  },
  {
   "cell_type": "code",
   "execution_count": 8,
   "metadata": {},
   "outputs": [
    {
     "data": {
      "text/plain": [
       "Counter({'wine bottle': 25000,\n",
       "         'candle': 25000,\n",
       "         'computer': 25000,\n",
       "         'pond': 25000,\n",
       "         'light bulb': 25000,\n",
       "         'traffic light': 25000,\n",
       "         'bat': 25000,\n",
       "         'carrot': 25000,\n",
       "         'snake': 25000,\n",
       "         'dog': 25000,\n",
       "         'monkey': 25000,\n",
       "         'television': 25000,\n",
       "         'microphone': 25000,\n",
       "         'sea turtle': 25000,\n",
       "         'couch': 25000,\n",
       "         'cake': 25000,\n",
       "         'mermaid': 25000,\n",
       "         'chandelier': 25000,\n",
       "         'octopus': 25000,\n",
       "         'pliers': 25000})"
      ]
     },
     "execution_count": 8,
     "metadata": {},
     "output_type": "execute_result"
    }
   ],
   "source": [
    "Counter(all_data[\"word\"])"
   ]
  },
  {
   "cell_type": "code",
   "execution_count": 9,
   "metadata": {},
   "outputs": [
    {
     "name": "stdout",
     "output_type": "stream",
     "text": [
      "(245000, 6)\n",
      "(105000, 6)\n",
      "(150000, 6)\n"
     ]
    }
   ],
   "source": [
    "print(train.shape)\n",
    "print(valid.shape)\n",
    "print(test.shape)"
   ]
  },
  {
   "cell_type": "code",
   "execution_count": 8,
   "metadata": {},
   "outputs": [
    {
     "data": {
      "text/plain": [
       "LabelEncoder()"
      ]
     },
     "execution_count": 8,
     "metadata": {},
     "output_type": "execute_result"
    }
   ],
   "source": [
    "word_le = LabelEncoder()\n",
    "word_le.fit(all_data2['word'])"
   ]
  },
  {
   "cell_type": "code",
   "execution_count": 9,
   "metadata": {
    "scrolled": true
   },
   "outputs": [
    {
     "data": {
      "text/plain": [
       "array(['bat', 'cake', 'candle', 'carrot', 'chandelier', 'computer',\n",
       "       'couch', 'dog', 'light bulb', 'mermaid', 'microphone', 'monkey',\n",
       "       'octopus', 'pliers', 'pond', 'sea turtle', 'snake', 'television',\n",
       "       'traffic light', 'wine bottle'], dtype=object)"
      ]
     },
     "execution_count": 9,
     "metadata": {},
     "output_type": "execute_result"
    }
   ],
   "source": [
    "word_le.classes_"
   ]
  },
  {
   "cell_type": "markdown",
   "metadata": {},
   "source": [
    "# Data Preparation(2)"
   ]
  },
  {
   "cell_type": "markdown",
   "metadata": {},
   "source": [
    "* Input data 사용 가능하게 전처리([Kaggle](https://www.kaggle.com/kmader/quickdraw-baseline-lstm-reading-and-submission) 참조)"
   ]
  },
  {
   "cell_type": "code",
   "execution_count": 10,
   "metadata": {},
   "outputs": [],
   "source": [
    "word_num = len(word_lst)\n",
    "INPUT_DRAW = 200"
   ]
  },
  {
   "cell_type": "code",
   "execution_count": 11,
   "metadata": {},
   "outputs": [],
   "source": [
    "def stroke_to_input(draw):\n",
    "    \n",
    "    if type(draw) != type([]):\n",
    "        draw = eval(draw)\n",
    "        \n",
    "    # (x point, y point, order)의 형식으로 변환\n",
    "    redraw_lst = []\n",
    "    \n",
    "    for i, (x,y) in enumerate(draw):\n",
    "        for x2,y2 in zip(x,y):\n",
    "            redraw_lst.append([x2,y2,i])\n",
    "            \n",
    "    # array로 변환\n",
    "    redraw_arr = np.stack(redraw_lst)\n",
    "    \n",
    "    # order 전처리(새 stroke면 2, 아니면 1)\n",
    "    redraw_arr[:,2] = [2]+([1] + np.diff(redraw_arr[:,2])).tolist()\n",
    "    \n",
    "    # 일정한 길이로 만들기 위해 pad_sequences 사용\n",
    "    result = pad_sequences(redraw_arr.swapaxes(0,1),\n",
    "                          maxlen = INPUT_DRAW,\n",
    "                          padding = 'post').swapaxes(0,1)\n",
    "    \n",
    "    return result"
   ]
  },
  {
   "cell_type": "code",
   "execution_count": 12,
   "metadata": {},
   "outputs": [],
   "source": [
    "size = 64\n",
    "word_num = len(word_lst)\n",
    "BASE_SIZE = 256"
   ]
  },
  {
   "cell_type": "code",
   "execution_count": 13,
   "metadata": {},
   "outputs": [],
   "source": [
    "def reshape_draw(rs, size=256, lw=6):\n",
    "    img = np.zeros((BASE_SIZE, BASE_SIZE), np.uint8)\n",
    "    for s in rs:\n",
    "        for i in range(len(s[0]) - 1):\n",
    "            _ = cv2.line(img, (s[0][i], s[1][i]), (s[0][i + 1], s[1][i + 1]), 255, lw)\n",
    "#             print(_)\n",
    "\n",
    "    if size != BASE_SIZE:\n",
    "        return cv2.resize(img, (size, size))\n",
    "    else:\n",
    "        return img"
   ]
  },
  {
   "cell_type": "code",
   "execution_count": 14,
   "metadata": {},
   "outputs": [],
   "source": [
    "def drawing_make_array(df, size = size, lw = 6):\n",
    "    x = np.zeros((len(df),size,size))\n",
    "    for i, rs in enumerate(df.drawing.values):\n",
    "        x[i] = reshape_draw(rs,size=size,lw=lw)\n",
    "    x = x/255 # 정규화\n",
    "    x = x.reshape((len(df),size,size,1)).astype(np.float32)\n",
    "    return x"
   ]
  },
  {
   "cell_type": "markdown",
   "metadata": {},
   "source": [
    "# 직접 test set 구성"
   ]
  },
  {
   "cell_type": "code",
   "execution_count": 15,
   "metadata": {},
   "outputs": [],
   "source": [
    "test_df = pd.DataFrame()"
   ]
  },
  {
   "cell_type": "markdown",
   "metadata": {},
   "source": [
    "### 1. Dog"
   ]
  },
  {
   "cell_type": "code",
   "execution_count": 27,
   "metadata": {},
   "outputs": [],
   "source": [
    "raw_images = [[[102,65,52,74,140,193,205,184,141,105],[62,90,127,167,175,151,104,60,48,44]],\n",
    "             [[71,29,14,27,59],[44,47,81,95,95]],\n",
    "             [[181,219,244,242,214],[36,41,61,88,83]],\n",
    "             [[92],[99]],[[168],[100]],\n",
    "             [[132,122,120,137,140,133],[122,121,129,133,125,121]],\n",
    "             [[95,121,125,128,131,138,152,155],[150,153,142,138,149,154,154,147]]]"
   ]
  },
  {
   "cell_type": "code",
   "execution_count": 35,
   "metadata": {},
   "outputs": [
    {
     "data": {
      "image/png": "[encoded data removed]",
      "text/plain": [
       "<Figure size 432x288 with 1 Axes>"
      ]
     },
     "metadata": {
      "needs_background": "light"
     },
     "output_type": "display_data"
    }
   ],
   "source": [
    "for i in range(len(raw_images)):\n",
    "    plt.plot(raw_images[i][0], raw_images[i][1],'o-')\n",
    "plt.show()"
   ]
  },
  {
   "cell_type": "code",
   "execution_count": 31,
   "metadata": {},
   "outputs": [
    {
     "name": "stdout",
     "output_type": "stream",
     "text": [
      "[193, 165, 128, 88, 80, 104, 151, 195, 207, 211]\n",
      "[211, 208, 174, 160, 160]\n",
      "[219, 214, 194, 167, 172]\n",
      "[156]\n",
      "[155]\n",
      "[133, 134, 126, 122, 130, 134]\n",
      "[105, 102, 113, 117, 106, 101, 101, 108]\n"
     ]
    }
   ],
   "source": [
    "for i in range(len(raw_images)):\n",
    "    tp = []\n",
    "    for k in raw_images[i][1]:\n",
    "        tp.append(255-k)\n",
    "    print(tp)"
   ]
  },
  {
   "cell_type": "code",
   "execution_count": 16,
   "metadata": {},
   "outputs": [],
   "source": [
    "raw_images2 = [[[102,65,52,74,140,193,205,184,141,105],[193, 165, 128, 88, 80, 104, 151, 195, 207, 211]],\n",
    "             [[71,29,14,27,59],[211, 208, 174, 160, 160]],\n",
    "             [[181,219,244,242,214],[219, 214, 194, 167, 172]],\n",
    "             [[92],[156]],[[168],[155]],\n",
    "             [[132,122,120,137,140,133],[133, 134, 126, 122, 130, 134]],\n",
    "             [[95,121,125,128,131,138,152,155],[105, 102, 113, 117, 106, 101, 101, 108]]]"
   ]
  },
  {
   "cell_type": "code",
   "execution_count": 34,
   "metadata": {},
   "outputs": [
    {
     "data": {
      "image/png": "[encoded data removed]",
      "text/plain": [
       "<Figure size 432x288 with 1 Axes>"
      ]
     },
     "metadata": {
      "needs_background": "light"
     },
     "output_type": "display_data"
    }
   ],
   "source": [
    "for i in range(len(raw_images2)):\n",
    "    plt.plot(raw_images2[i][0], raw_images2[i][1],'o-')\n",
    "plt.show()"
   ]
  },
  {
   "cell_type": "code",
   "execution_count": 17,
   "metadata": {},
   "outputs": [],
   "source": [
    "tmp_d = str(raw_images2)"
   ]
  },
  {
   "cell_type": "code",
   "execution_count": 83,
   "metadata": {},
   "outputs": [],
   "source": [
    "# test_df[\"drawing\"] = [tmp_d]\n",
    "# test_df[\"word\"] = ['dog']"
   ]
  },
  {
   "cell_type": "code",
   "execution_count": 84,
   "metadata": {},
   "outputs": [
    {
     "data": {
      "text/html": [
       "<div>\n",
       "<style scoped>\n",
       "    .dataframe tbody tr th:only-of-type {\n",
       "        vertical-align: middle;\n",
       "    }\n",
       "\n",
       "    .dataframe tbody tr th {\n",
       "        vertical-align: top;\n",
       "    }\n",
       "\n",
       "    .dataframe thead th {\n",
       "        text-align: right;\n",
       "    }\n",
       "</style>\n",
       "<table border=\"1\" class=\"dataframe\">\n",
       "  <thead>\n",
       "    <tr style=\"text-align: right;\">\n",
       "      <th></th>\n",
       "      <th>drawing</th>\n",
       "      <th>word</th>\n",
       "    </tr>\n",
       "  </thead>\n",
       "  <tbody>\n",
       "    <tr>\n",
       "      <th>0</th>\n",
       "      <td>[[[102, 65, 52, 74, 140, 193, 205, 184, 141, 1...</td>\n",
       "      <td>dog</td>\n",
       "    </tr>\n",
       "  </tbody>\n",
       "</table>\n",
       "</div>"
      ],
      "text/plain": [
       "                                             drawing word\n",
       "0  [[[102, 65, 52, 74, 140, 193, 205, 184, 141, 1...  dog"
      ]
     },
     "execution_count": 84,
     "metadata": {},
     "output_type": "execute_result"
    }
   ],
   "source": [
    "test_df"
   ]
  },
  {
   "cell_type": "markdown",
   "metadata": {},
   "source": [
    "## 2. television"
   ]
  },
  {
   "cell_type": "code",
   "execution_count": 87,
   "metadata": {},
   "outputs": [],
   "source": [
    "raw_images = [[[53,51,51,62,136,180,215,215,216,173,103,50],[72,108,149,168,168,165,168,110,65,49,50,51]],\n",
    "             [[111,84,61],[58,40,23]],\n",
    "             [[111,137,163],[60,47,37]],\n",
    "             [[64,65,73,132,146,150,150,102,64],[94,137,154,154,154,91,78,73,71]],\n",
    "              [[182,170,167,179,189,189],[74,77,95,98,91,77]]]"
   ]
  },
  {
   "cell_type": "code",
   "execution_count": 88,
   "metadata": {},
   "outputs": [
    {
     "data": {
      "image/png": "[encoded data removed]",
      "text/plain": [
       "<Figure size 432x288 with 1 Axes>"
      ]
     },
     "metadata": {
      "needs_background": "light"
     },
     "output_type": "display_data"
    }
   ],
   "source": [
    "for i in range(len(raw_images)):\n",
    "    plt.plot(raw_images[i][0], raw_images[i][1],'o-')\n",
    "plt.show()"
   ]
  },
  {
   "cell_type": "code",
   "execution_count": 89,
   "metadata": {
    "scrolled": true
   },
   "outputs": [
    {
     "name": "stdout",
     "output_type": "stream",
     "text": [
      "[183, 147, 106, 87, 87, 90, 87, 145, 190, 206, 205, 204]\n",
      "[197, 215, 232]\n",
      "[195, 208, 218]\n",
      "[161, 118, 101, 101, 101, 164, 177, 182, 184]\n",
      "[181, 178, 160, 157, 164, 178]\n"
     ]
    }
   ],
   "source": [
    "for i in range(len(raw_images)):\n",
    "    tp = []\n",
    "    for k in raw_images[i][1]:\n",
    "        tp.append(255-k)\n",
    "    print(tp)"
   ]
  },
  {
   "cell_type": "code",
   "execution_count": 18,
   "metadata": {},
   "outputs": [],
   "source": [
    "raw_images2 = [[[53,51,51,62,136,180,215,215,216,173,103,50],[183, 147, 106, 87, 87, 90, 87, 145, 190, 206, 205, 204]],\n",
    "             [[111,84,61],[197, 215, 232]],\n",
    "             [[111,137,163],[195, 208, 218]],\n",
    "             [[64,65,73,132,146,150,150,102,64],[161, 118, 101, 101, 101, 164, 177, 182, 184]],\n",
    "              [[182,170,167,179,189,189],[181, 178, 160, 157, 164, 178]]]"
   ]
  },
  {
   "cell_type": "code",
   "execution_count": 91,
   "metadata": {},
   "outputs": [
    {
     "data": {
      "image/png": "[encoded data removed]",
      "text/plain": [
       "<Figure size 432x288 with 1 Axes>"
      ]
     },
     "metadata": {
      "needs_background": "light"
     },
     "output_type": "display_data"
    }
   ],
   "source": [
    "for i in range(len(raw_images2)):\n",
    "    plt.plot(raw_images2[i][0], raw_images2[i][1],'o-')\n",
    "plt.show()"
   ]
  },
  {
   "cell_type": "code",
   "execution_count": 19,
   "metadata": {},
   "outputs": [],
   "source": [
    "tmp_t = str(raw_images2)"
   ]
  },
  {
   "cell_type": "code",
   "execution_count": 20,
   "metadata": {},
   "outputs": [],
   "source": [
    "test_df[\"drawing\"] = [tmp_d,tmp_t]\n",
    "test_df[\"word\"] = ['dog','television']"
   ]
  },
  {
   "cell_type": "code",
   "execution_count": 21,
   "metadata": {},
   "outputs": [
    {
     "data": {
      "text/html": [
       "<div>\n",
       "<style scoped>\n",
       "    .dataframe tbody tr th:only-of-type {\n",
       "        vertical-align: middle;\n",
       "    }\n",
       "\n",
       "    .dataframe tbody tr th {\n",
       "        vertical-align: top;\n",
       "    }\n",
       "\n",
       "    .dataframe thead th {\n",
       "        text-align: right;\n",
       "    }\n",
       "</style>\n",
       "<table border=\"1\" class=\"dataframe\">\n",
       "  <thead>\n",
       "    <tr style=\"text-align: right;\">\n",
       "      <th></th>\n",
       "      <th>drawing</th>\n",
       "      <th>word</th>\n",
       "    </tr>\n",
       "  </thead>\n",
       "  <tbody>\n",
       "    <tr>\n",
       "      <th>0</th>\n",
       "      <td>[[[102, 65, 52, 74, 140, 193, 205, 184, 141, 1...</td>\n",
       "      <td>dog</td>\n",
       "    </tr>\n",
       "    <tr>\n",
       "      <th>1</th>\n",
       "      <td>[[[53, 51, 51, 62, 136, 180, 215, 215, 216, 17...</td>\n",
       "      <td>television</td>\n",
       "    </tr>\n",
       "  </tbody>\n",
       "</table>\n",
       "</div>"
      ],
      "text/plain": [
       "                                             drawing        word\n",
       "0  [[[102, 65, 52, 74, 140, 193, 205, 184, 141, 1...         dog\n",
       "1  [[[53, 51, 51, 62, 136, 180, 215, 215, 216, 17...  television"
      ]
     },
     "execution_count": 21,
     "metadata": {},
     "output_type": "execute_result"
    }
   ],
   "source": [
    "test_df"
   ]
  },
  {
   "cell_type": "code",
   "execution_count": 22,
   "metadata": {},
   "outputs": [
    {
     "name": "stderr",
     "output_type": "stream",
     "text": [
      "C:\\Users\\julia\\Desktop\\tf\\lib\\site-packages\\ipykernel_launcher.py:1: SettingWithCopyWarning: \n",
      "A value is trying to be set on a copy of a slice from a DataFrame\n",
      "\n",
      "See the caveats in the documentation: http://pandas.pydata.org/pandas-docs/stable/user_guide/indexing.html#returning-a-view-versus-a-copy\n",
      "  \"\"\"Entry point for launching an IPython kernel.\n"
     ]
    }
   ],
   "source": [
    "bb.loc[149998,\"drawing\"] = test_df.loc[0,\"drawing\"]\n",
    "bb.loc[149998,\"word\"] =  test_df.loc[0,\"word\"]"
   ]
  },
  {
   "cell_type": "code",
   "execution_count": 23,
   "metadata": {},
   "outputs": [],
   "source": [
    "bb.loc[149999,\"drawing\"] = test_df.loc[1,\"drawing\"]\n",
    "bb.loc[149999,\"word\"] =  test_df.loc[1,\"word\"]"
   ]
  },
  {
   "cell_type": "code",
   "execution_count": null,
   "metadata": {},
   "outputs": [],
   "source": []
  },
  {
   "cell_type": "code",
   "execution_count": 24,
   "metadata": {},
   "outputs": [],
   "source": [
    "test_X = np.stack(bb[\"drawing\"].map(stroke_to_input))\n",
    "test_y = to_categorical(word_le.transform(bb['word'].values))"
   ]
  },
  {
   "cell_type": "code",
   "execution_count": 25,
   "metadata": {},
   "outputs": [],
   "source": [
    "test_X2 = drawing_make_array(bb, size)\n",
    "test_y2 = to_categorical(word_le.transform(bb['word'].values))"
   ]
  },
  {
   "cell_type": "code",
   "execution_count": 26,
   "metadata": {},
   "outputs": [
    {
     "name": "stdout",
     "output_type": "stream",
     "text": [
      "Test shape: (100002, 200, 3)\n",
      "Test2 shape: (100002, 64, 64, 1)\n"
     ]
    }
   ],
   "source": [
    "print(\"Test shape:\",test_X.shape)\n",
    "print(\"Test2 shape:\",test_X2.shape)"
   ]
  },
  {
   "cell_type": "code",
   "execution_count": null,
   "metadata": {},
   "outputs": [],
   "source": []
  },
  {
   "cell_type": "code",
   "execution_count": null,
   "metadata": {},
   "outputs": [],
   "source": []
  },
  {
   "cell_type": "code",
   "execution_count": 15,
   "metadata": {},
   "outputs": [],
   "source": [
    "test_X = np.stack(test[\"drawing\"].map(stroke_to_input))\n",
    "test_y = to_categorical(word_le.transform(test['word'].values))"
   ]
  },
  {
   "cell_type": "code",
   "execution_count": 19,
   "metadata": {},
   "outputs": [],
   "source": [
    "test_X2 = drawing_make_array(test, size)\n",
    "test_y2 = to_categorical(word_le.transform(test['word'].values))"
   ]
  },
  {
   "cell_type": "code",
   "execution_count": 23,
   "metadata": {},
   "outputs": [
    {
     "name": "stdout",
     "output_type": "stream",
     "text": [
      "Test shape: (150000, 200, 3)\n",
      "Test2 shape: (150000, 64, 64, 1)\n"
     ]
    }
   ],
   "source": [
    "print(\"Test shape:\",test_X.shape)\n",
    "print(\"Test2 shape:\",test_X2.shape)"
   ]
  },
  {
   "cell_type": "code",
   "execution_count": 51,
   "metadata": {},
   "outputs": [],
   "source": [
    "beepsound()"
   ]
  },
  {
   "cell_type": "markdown",
   "metadata": {},
   "source": [
    "# Modeling"
   ]
  },
  {
   "cell_type": "code",
   "execution_count": 27,
   "metadata": {},
   "outputs": [],
   "source": [
    "STEPS= 200\n",
    "batch = 100\n",
    "epochs = 50"
   ]
  },
  {
   "cell_type": "code",
   "execution_count": 28,
   "metadata": {},
   "outputs": [],
   "source": [
    "model_1 = load_model('1225_cnnlstm/1225_cnnlstm_3.h5')"
   ]
  },
  {
   "cell_type": "code",
   "execution_count": 29,
   "metadata": {
    "scrolled": true
   },
   "outputs": [
    {
     "name": "stdout",
     "output_type": "stream",
     "text": [
      "100002/100002 [==============================] - 1540s 15ms/step\n"
     ]
    },
    {
     "data": {
      "text/plain": [
       "[0.24533615967468977, 0.9238515496253967]"
      ]
     },
     "execution_count": 29,
     "metadata": {},
     "output_type": "execute_result"
    }
   ],
   "source": [
    "model_1.evaluate(test_X, test_y, batch_size=1)"
   ]
  },
  {
   "cell_type": "code",
   "execution_count": 30,
   "metadata": {
    "scrolled": true
   },
   "outputs": [],
   "source": [
    "pred_y1 = model_1.predict(test_X)"
   ]
  },
  {
   "cell_type": "code",
   "execution_count": 31,
   "metadata": {},
   "outputs": [],
   "source": [
    "ppp1 = np.argmax(pred_y1,1)\n",
    "ttt = np.argmax(test_y,1)"
   ]
  },
  {
   "cell_type": "code",
   "execution_count": 32,
   "metadata": {},
   "outputs": [
    {
     "data": {
      "text/plain": [
       "<matplotlib.image.AxesImage at 0x256538169e8>"
      ]
     },
     "execution_count": 32,
     "metadata": {},
     "output_type": "execute_result"
    },
    {
     "data": {
      "image/png": "[encoded data removed]",
      "text/plain": [
       "<Figure size 288x288 with 1 Axes>"
      ]
     },
     "metadata": {
      "needs_background": "light"
     },
     "output_type": "display_data"
    }
   ],
   "source": [
    "plt.matshow(confusion_matrix(ttt,ppp1))"
   ]
  },
  {
   "cell_type": "code",
   "execution_count": 33,
   "metadata": {},
   "outputs": [
    {
     "name": "stdout",
     "output_type": "stream",
     "text": [
      "               precision    recall  f1-score   support\n",
      "\n",
      "          bat       0.94      0.91      0.92      5000\n",
      "         cake       0.94      0.94      0.94      5000\n",
      "       candle       0.92      0.92      0.92      5000\n",
      "       carrot       0.93      0.94      0.94      5000\n",
      "   chandelier       0.94      0.91      0.93      5000\n",
      "     computer       0.93      0.94      0.94      5000\n",
      "        couch       0.95      0.93      0.94      5000\n",
      "          dog       0.83      0.82      0.82      5001\n",
      "   light bulb       0.93      0.95      0.94      5000\n",
      "      mermaid       0.93      0.94      0.94      5000\n",
      "   microphone       0.96      0.93      0.94      5000\n",
      "       monkey       0.89      0.92      0.91      5000\n",
      "      octopus       0.93      0.96      0.95      5000\n",
      "       pliers       0.84      0.83      0.84      5000\n",
      "         pond       0.92      0.95      0.93      5000\n",
      "   sea turtle       0.91      0.94      0.92      5000\n",
      "        snake       0.93      0.90      0.92      5000\n",
      "   television       0.94      0.92      0.93      5001\n",
      "traffic light       0.98      0.97      0.98      5000\n",
      "  wine bottle       0.93      0.94      0.94      5000\n",
      "\n",
      "     accuracy                           0.92    100002\n",
      "    macro avg       0.92      0.92      0.92    100002\n",
      " weighted avg       0.92      0.92      0.92    100002\n",
      "\n"
     ]
    }
   ],
   "source": [
    "print(classification_report(ttt, ppp1, \n",
    "                            target_names = [x for x in word_le.classes_]))"
   ]
  },
  {
   "cell_type": "code",
   "execution_count": null,
   "metadata": {},
   "outputs": [],
   "source": []
  },
  {
   "cell_type": "code",
   "execution_count": null,
   "metadata": {},
   "outputs": [],
   "source": []
  },
  {
   "cell_type": "code",
   "execution_count": 34,
   "metadata": {},
   "outputs": [],
   "source": [
    "model_2 = load_model('1224_resnet/1224_resnet_3.h5')"
   ]
  },
  {
   "cell_type": "code",
   "execution_count": 35,
   "metadata": {},
   "outputs": [
    {
     "name": "stdout",
     "output_type": "stream",
     "text": [
      "100002/100002 [==============================] - 245s 2ms/step\n"
     ]
    },
    {
     "data": {
      "text/plain": [
       "[0.2706163377116982, 0.9371112585067749]"
      ]
     },
     "execution_count": 35,
     "metadata": {},
     "output_type": "execute_result"
    }
   ],
   "source": [
    "model_2.evaluate(test_X2, test_y2)"
   ]
  },
  {
   "cell_type": "code",
   "execution_count": 36,
   "metadata": {},
   "outputs": [],
   "source": [
    "pred_y2 = model_2.predict(test_X2, batch_size= batch)"
   ]
  },
  {
   "cell_type": "code",
   "execution_count": 37,
   "metadata": {},
   "outputs": [],
   "source": [
    "ppp2 = np.argmax(pred_y2,1)"
   ]
  },
  {
   "cell_type": "code",
   "execution_count": 38,
   "metadata": {},
   "outputs": [
    {
     "data": {
      "text/plain": [
       "<matplotlib.image.AxesImage at 0x2579bc794e0>"
      ]
     },
     "execution_count": 38,
     "metadata": {},
     "output_type": "execute_result"
    },
    {
     "data": {
      "image/png": "[encoded data removed]",
      "text/plain": [
       "<Figure size 288x288 with 1 Axes>"
      ]
     },
     "metadata": {
      "needs_background": "light"
     },
     "output_type": "display_data"
    }
   ],
   "source": [
    "plt.matshow(confusion_matrix(ttt,ppp2))"
   ]
  },
  {
   "cell_type": "code",
   "execution_count": 39,
   "metadata": {},
   "outputs": [
    {
     "name": "stdout",
     "output_type": "stream",
     "text": [
      "               precision    recall  f1-score   support\n",
      "\n",
      "          bat       0.89      0.95      0.92      5000\n",
      "         cake       0.95      0.96      0.96      5000\n",
      "       candle       0.97      0.96      0.96      5000\n",
      "       carrot       0.96      0.94      0.95      5000\n",
      "   chandelier       0.95      0.93      0.94      5000\n",
      "     computer       0.94      0.95      0.95      5000\n",
      "        couch       0.97      0.95      0.96      5000\n",
      "          dog       0.85      0.86      0.86      5001\n",
      "   light bulb       0.98      0.96      0.97      5000\n",
      "      mermaid       0.91      0.94      0.93      5000\n",
      "   microphone       0.93      0.91      0.92      5000\n",
      "       monkey       0.89      0.89      0.89      5000\n",
      "      octopus       0.97      0.94      0.95      5000\n",
      "       pliers       0.88      0.90      0.89      5000\n",
      "         pond       0.90      0.96      0.93      5000\n",
      "   sea turtle       0.95      0.90      0.92      5000\n",
      "        snake       0.91      0.94      0.93      5000\n",
      "   television       0.98      0.93      0.95      5001\n",
      "traffic light       0.97      0.98      0.97      5000\n",
      "  wine bottle       1.00      1.00      1.00      5000\n",
      "\n",
      "     accuracy                           0.94    100002\n",
      "    macro avg       0.94      0.94      0.94    100002\n",
      " weighted avg       0.94      0.94      0.94    100002\n",
      "\n"
     ]
    }
   ],
   "source": [
    "print(classification_report(ttt, ppp2, \n",
    "                            target_names = [x for x in word_le.classes_]))"
   ]
  },
  {
   "cell_type": "code",
   "execution_count": null,
   "metadata": {},
   "outputs": [],
   "source": []
  },
  {
   "cell_type": "code",
   "execution_count": 40,
   "metadata": {},
   "outputs": [
    {
     "data": {
      "text/plain": [
       "(100002, 20)"
      ]
     },
     "execution_count": 40,
     "metadata": {},
     "output_type": "execute_result"
    }
   ],
   "source": [
    "pred_y1.shape"
   ]
  },
  {
   "cell_type": "code",
   "execution_count": 41,
   "metadata": {},
   "outputs": [
    {
     "data": {
      "text/plain": [
       "(100002, 20)"
      ]
     },
     "execution_count": 41,
     "metadata": {},
     "output_type": "execute_result"
    }
   ],
   "source": [
    "pred_y2.shape"
   ]
  },
  {
   "cell_type": "code",
   "execution_count": 42,
   "metadata": {},
   "outputs": [],
   "source": [
    "pred_Y = pred_y1+pred_y2"
   ]
  },
  {
   "cell_type": "code",
   "execution_count": 43,
   "metadata": {},
   "outputs": [],
   "source": [
    "PPP = np.argmax(pred_Y,1)"
   ]
  },
  {
   "cell_type": "code",
   "execution_count": 44,
   "metadata": {},
   "outputs": [
    {
     "data": {
      "text/plain": [
       "array([ 2, 17, 15, ...,  5, 19, 19], dtype=int64)"
      ]
     },
     "execution_count": 44,
     "metadata": {},
     "output_type": "execute_result"
    }
   ],
   "source": [
    "PPP"
   ]
  },
  {
   "cell_type": "code",
   "execution_count": 45,
   "metadata": {},
   "outputs": [
    {
     "data": {
      "text/plain": [
       "<matplotlib.image.AxesImage at 0x2579d44b710>"
      ]
     },
     "execution_count": 45,
     "metadata": {},
     "output_type": "execute_result"
    },
    {
     "data": {
      "image/png": "[encoded data removed]",
      "text/plain": [
       "<Figure size 288x288 with 1 Axes>"
      ]
     },
     "metadata": {
      "needs_background": "light"
     },
     "output_type": "display_data"
    }
   ],
   "source": [
    "plt.matshow(confusion_matrix(ttt,PPP))"
   ]
  },
  {
   "cell_type": "code",
   "execution_count": 46,
   "metadata": {},
   "outputs": [
    {
     "name": "stdout",
     "output_type": "stream",
     "text": [
      "               precision    recall  f1-score   support\n",
      "\n",
      "          bat       0.93      0.96      0.94      5000\n",
      "         cake       0.97      0.97      0.97      5000\n",
      "       candle       0.98      0.97      0.97      5000\n",
      "       carrot       0.97      0.97      0.97      5000\n",
      "   chandelier       0.97      0.95      0.96      5000\n",
      "     computer       0.95      0.96      0.96      5000\n",
      "        couch       0.98      0.97      0.97      5000\n",
      "          dog       0.90      0.88      0.89      5001\n",
      "   light bulb       0.98      0.97      0.97      5000\n",
      "      mermaid       0.95      0.97      0.96      5000\n",
      "   microphone       0.96      0.95      0.96      5000\n",
      "       monkey       0.92      0.94      0.93      5000\n",
      "      octopus       0.98      0.97      0.97      5000\n",
      "       pliers       0.91      0.92      0.91      5000\n",
      "         pond       0.95      0.97      0.96      5000\n",
      "   sea turtle       0.96      0.95      0.95      5000\n",
      "        snake       0.94      0.95      0.95      5000\n",
      "   television       0.98      0.95      0.96      5001\n",
      "traffic light       0.98      0.99      0.98      5000\n",
      "  wine bottle       0.99      1.00      0.99      5000\n",
      "\n",
      "     accuracy                           0.96    100002\n",
      "    macro avg       0.96      0.96      0.96    100002\n",
      " weighted avg       0.96      0.96      0.96    100002\n",
      "\n"
     ]
    }
   ],
   "source": [
    "print(classification_report(ttt, PPP, \n",
    "                            target_names = [x for x in word_le.classes_]))"
   ]
  },
  {
   "cell_type": "code",
   "execution_count": null,
   "metadata": {},
   "outputs": [],
   "source": []
  },
  {
   "cell_type": "code",
   "execution_count": null,
   "metadata": {},
   "outputs": [],
   "source": []
  },
  {
   "cell_type": "code",
   "execution_count": 52,
   "metadata": {},
   "outputs": [],
   "source": [
    "a = [1,2,3,4]"
   ]
  },
  {
   "cell_type": "code",
   "execution_count": 53,
   "metadata": {},
   "outputs": [
    {
     "data": {
      "text/plain": [
       "[3, 4]"
      ]
     },
     "execution_count": 53,
     "metadata": {},
     "output_type": "execute_result"
    }
   ],
   "source": [
    "a[-2:]"
   ]
  },
  {
   "cell_type": "code",
   "execution_count": 50,
   "metadata": {},
   "outputs": [
    {
     "data": {
      "text/plain": [
       "array([19, 19], dtype=int64)"
      ]
     },
     "execution_count": 50,
     "metadata": {},
     "output_type": "execute_result"
    }
   ],
   "source": [
    "ppp2[-2:]"
   ]
  },
  {
   "cell_type": "code",
   "execution_count": 51,
   "metadata": {},
   "outputs": [
    {
     "data": {
      "text/plain": [
       "array([4, 4], dtype=int64)"
      ]
     },
     "execution_count": 51,
     "metadata": {},
     "output_type": "execute_result"
    }
   ],
   "source": [
    "ppp1[-2:]"
   ]
  },
  {
   "cell_type": "code",
   "execution_count": 54,
   "metadata": {},
   "outputs": [
    {
     "data": {
      "text/plain": [
       "array([19, 19], dtype=int64)"
      ]
     },
     "execution_count": 54,
     "metadata": {},
     "output_type": "execute_result"
    }
   ],
   "source": [
    "PPP[-2:]"
   ]
  },
  {
   "cell_type": "code",
   "execution_count": 55,
   "metadata": {},
   "outputs": [
    {
     "data": {
      "text/plain": [
       "array([ 7, 17], dtype=int64)"
      ]
     },
     "execution_count": 55,
     "metadata": {},
     "output_type": "execute_result"
    }
   ],
   "source": [
    "ttt[-2:]"
   ]
  },
  {
   "cell_type": "code",
   "execution_count": 77,
   "metadata": {},
   "outputs": [
    {
     "data": {
      "text/plain": [
       "array([ 3,  5,  7, ..., 14,  5,  0], dtype=int64)"
      ]
     },
     "execution_count": 77,
     "metadata": {},
     "output_type": "execute_result"
    }
   ],
   "source": [
    "ppp1"
   ]
  },
  {
   "cell_type": "code",
   "execution_count": 78,
   "metadata": {},
   "outputs": [
    {
     "data": {
      "text/plain": [
       "array([3, 5, 7, ..., 1, 5, 0], dtype=int64)"
      ]
     },
     "execution_count": 78,
     "metadata": {},
     "output_type": "execute_result"
    }
   ],
   "source": [
    "ttt"
   ]
  },
  {
   "cell_type": "code",
   "execution_count": 101,
   "metadata": {},
   "outputs": [],
   "source": [
    "pp1_idx = []\n",
    "for i in range(len(ppp1)):\n",
    "    if ppp1[i] != ttt[i]:\n",
    "        pp1_idx.append(i)"
   ]
  },
  {
   "cell_type": "code",
   "execution_count": 102,
   "metadata": {},
   "outputs": [
    {
     "data": {
      "text/plain": [
       "11562"
      ]
     },
     "execution_count": 102,
     "metadata": {},
     "output_type": "execute_result"
    }
   ],
   "source": [
    "len(p1)"
   ]
  },
  {
   "cell_type": "code",
   "execution_count": 103,
   "metadata": {},
   "outputs": [],
   "source": [
    "pp2_idx = []\n",
    "for i in range(len(ppp2)):\n",
    "    if ppp2[i] != ttt[i]:\n",
    "        pp2_idx.append(i)"
   ]
  },
  {
   "cell_type": "code",
   "execution_count": 104,
   "metadata": {},
   "outputs": [
    {
     "data": {
      "text/plain": [
       "9638"
      ]
     },
     "execution_count": 104,
     "metadata": {},
     "output_type": "execute_result"
    }
   ],
   "source": [
    "len(p2)"
   ]
  },
  {
   "cell_type": "code",
   "execution_count": 126,
   "metadata": {},
   "outputs": [],
   "source": [
    "pp_idx = []\n",
    "for i in range(len(PPP)):\n",
    "    if PPP[i] != ttt[i]:\n",
    "        pp_idx.append(i)"
   ]
  },
  {
   "cell_type": "code",
   "execution_count": 128,
   "metadata": {},
   "outputs": [
    {
     "data": {
      "text/plain": [
       "6594"
      ]
     },
     "execution_count": 128,
     "metadata": {},
     "output_type": "execute_result"
    }
   ],
   "source": [
    "len(pp_idx)"
   ]
  },
  {
   "cell_type": "code",
   "execution_count": 129,
   "metadata": {
    "collapsed": true
   },
   "outputs": [
    {
     "data": {
      "text/plain": [
       "[30,\n",
       " 71,\n",
       " 80,\n",
       " 120,\n",
       " 188,\n",
       " 195,\n",
       " 200,\n",
       " 223,\n",
       " 243,\n",
       " 259,\n",
       " 356,\n",
       " 358,\n",
       " 379,\n",
       " 411,\n",
       " 429,\n",
       " 433,\n",
       " 464,\n",
       " 481,\n",
       " 495,\n",
       " 502,\n",
       " 534,\n",
       " 546,\n",
       " 548,\n",
       " 563,\n",
       " 564,\n",
       " 573,\n",
       " 600,\n",
       " 605,\n",
       " 608,\n",
       " 615,\n",
       " 630,\n",
       " 637,\n",
       " 649,\n",
       " 650,\n",
       " 653,\n",
       " 692,\n",
       " 705,\n",
       " 736,\n",
       " 741,\n",
       " 760,\n",
       " 763,\n",
       " 764,\n",
       " 816,\n",
       " 834,\n",
       " 838,\n",
       " 847,\n",
       " 870,\n",
       " 915,\n",
       " 926,\n",
       " 930,\n",
       " 932,\n",
       " 938,\n",
       " 943,\n",
       " 983,\n",
       " 986,\n",
       " 989,\n",
       " 1002,\n",
       " 1028,\n",
       " 1043,\n",
       " 1070,\n",
       " 1080,\n",
       " 1085,\n",
       " 1099,\n",
       " 1120,\n",
       " 1130,\n",
       " 1140,\n",
       " 1172,\n",
       " 1193,\n",
       " 1225,\n",
       " 1258,\n",
       " 1275,\n",
       " 1291,\n",
       " 1306,\n",
       " 1325,\n",
       " 1327,\n",
       " 1339,\n",
       " 1429,\n",
       " 1431,\n",
       " 1529,\n",
       " 1538,\n",
       " 1564,\n",
       " 1575,\n",
       " 1582,\n",
       " 1588,\n",
       " 1593,\n",
       " 1604,\n",
       " 1608,\n",
       " 1646,\n",
       " 1679,\n",
       " 1713,\n",
       " 1740,\n",
       " 1788,\n",
       " 1810,\n",
       " 1812,\n",
       " 1818,\n",
       " 1826,\n",
       " 1839,\n",
       " 1842,\n",
       " 1847,\n",
       " 1881,\n",
       " 1885,\n",
       " 1942,\n",
       " 1971,\n",
       " 1983,\n",
       " 1994,\n",
       " 2105,\n",
       " 2107,\n",
       " 2172,\n",
       " 2190,\n",
       " 2200,\n",
       " 2237,\n",
       " 2259,\n",
       " 2285,\n",
       " 2333,\n",
       " 2355,\n",
       " 2418,\n",
       " 2429,\n",
       " 2444,\n",
       " 2483,\n",
       " 2486,\n",
       " 2490,\n",
       " 2499,\n",
       " 2503,\n",
       " 2569,\n",
       " 2582,\n",
       " 2652,\n",
       " 2672,\n",
       " 2694,\n",
       " 2734,\n",
       " 2762,\n",
       " 2773,\n",
       " 2775,\n",
       " 2829,\n",
       " 2839,\n",
       " 2858,\n",
       " 2878,\n",
       " 2881,\n",
       " 2884,\n",
       " 2886,\n",
       " 2888,\n",
       " 2902,\n",
       " 2915,\n",
       " 2926,\n",
       " 2931,\n",
       " 2937,\n",
       " 2953,\n",
       " 2967,\n",
       " 2994,\n",
       " 2999,\n",
       " 3037,\n",
       " 3062,\n",
       " 3068,\n",
       " 3079,\n",
       " 3152,\n",
       " 3160,\n",
       " 3177,\n",
       " 3209,\n",
       " 3223,\n",
       " 3287,\n",
       " 3294,\n",
       " 3344,\n",
       " 3386,\n",
       " 3485,\n",
       " 3530,\n",
       " 3537,\n",
       " 3554,\n",
       " 3580,\n",
       " 3588,\n",
       " 3595,\n",
       " 3612,\n",
       " 3627,\n",
       " 3634,\n",
       " 3701,\n",
       " 3706,\n",
       " 3711,\n",
       " 3721,\n",
       " 3722,\n",
       " 3728,\n",
       " 3731,\n",
       " 3775,\n",
       " 3798,\n",
       " 3815,\n",
       " 3819,\n",
       " 3866,\n",
       " 3896,\n",
       " 3909,\n",
       " 3926,\n",
       " 3951,\n",
       " 3974,\n",
       " 3982,\n",
       " 3989,\n",
       " 4000,\n",
       " 4017,\n",
       " 4069,\n",
       " 4085,\n",
       " 4086,\n",
       " 4095,\n",
       " 4118,\n",
       " 4174,\n",
       " 4261,\n",
       " 4265,\n",
       " 4288,\n",
       " 4292,\n",
       " 4341,\n",
       " 4361,\n",
       " 4378,\n",
       " 4402,\n",
       " 4456,\n",
       " 4462,\n",
       " 4483,\n",
       " 4497,\n",
       " 4519,\n",
       " 4559,\n",
       " 4591,\n",
       " 4604,\n",
       " 4612,\n",
       " 4667,\n",
       " 4689,\n",
       " 4702,\n",
       " 4719,\n",
       " 4738,\n",
       " 4784,\n",
       " 4802,\n",
       " 4804,\n",
       " 4809,\n",
       " 4818,\n",
       " 4821,\n",
       " 4850,\n",
       " 4858,\n",
       " 4889,\n",
       " 4915,\n",
       " 4928,\n",
       " 4972,\n",
       " 5060,\n",
       " 5071,\n",
       " 5084,\n",
       " 5108,\n",
       " 5129,\n",
       " 5162,\n",
       " 5210,\n",
       " 5230,\n",
       " 5242,\n",
       " 5246,\n",
       " 5293,\n",
       " 5309,\n",
       " 5312,\n",
       " 5352,\n",
       " 5359,\n",
       " 5361,\n",
       " 5375,\n",
       " 5423,\n",
       " 5436,\n",
       " 5437,\n",
       " 5440,\n",
       " 5446,\n",
       " 5451,\n",
       " 5457,\n",
       " 5521,\n",
       " 5535,\n",
       " 5555,\n",
       " 5557,\n",
       " 5563,\n",
       " 5601,\n",
       " 5614,\n",
       " 5637,\n",
       " 5656,\n",
       " 5694,\n",
       " 5708,\n",
       " 5723,\n",
       " 5728,\n",
       " 5754,\n",
       " 5767,\n",
       " 5806,\n",
       " 5811,\n",
       " 5834,\n",
       " 5841,\n",
       " 5985,\n",
       " 6013,\n",
       " 6024,\n",
       " 6025,\n",
       " 6029,\n",
       " 6034,\n",
       " 6080,\n",
       " 6087,\n",
       " 6108,\n",
       " 6116,\n",
       " 6162,\n",
       " 6167,\n",
       " 6184,\n",
       " 6201,\n",
       " 6203,\n",
       " 6214,\n",
       " 6254,\n",
       " 6255,\n",
       " 6292,\n",
       " 6300,\n",
       " 6336,\n",
       " 6368,\n",
       " 6373,\n",
       " 6393,\n",
       " 6407,\n",
       " 6488,\n",
       " 6493,\n",
       " 6542,\n",
       " 6554,\n",
       " 6565,\n",
       " 6569,\n",
       " 6592,\n",
       " 6626,\n",
       " 6650,\n",
       " 6675,\n",
       " 6690,\n",
       " 6692,\n",
       " 6713,\n",
       " 6743,\n",
       " 6757,\n",
       " 6771,\n",
       " 6808,\n",
       " 6861,\n",
       " 6898,\n",
       " 6903,\n",
       " 6949,\n",
       " 6959,\n",
       " 6989,\n",
       " 7011,\n",
       " 7038,\n",
       " 7076,\n",
       " 7085,\n",
       " 7091,\n",
       " 7093,\n",
       " 7109,\n",
       " 7113,\n",
       " 7161,\n",
       " 7206,\n",
       " 7207,\n",
       " 7279,\n",
       " 7291,\n",
       " 7298,\n",
       " 7326,\n",
       " 7329,\n",
       " 7330,\n",
       " 7359,\n",
       " 7368,\n",
       " 7412,\n",
       " 7416,\n",
       " 7437,\n",
       " 7439,\n",
       " 7531,\n",
       " 7541,\n",
       " 7560,\n",
       " 7571,\n",
       " 7586,\n",
       " 7589,\n",
       " 7626,\n",
       " 7643,\n",
       " 7648,\n",
       " 7662,\n",
       " 7730,\n",
       " 7745,\n",
       " 7767,\n",
       " 7781,\n",
       " 7783,\n",
       " 7822,\n",
       " 7841,\n",
       " 7848,\n",
       " 7854,\n",
       " 7877,\n",
       " 7905,\n",
       " 7912,\n",
       " 7913,\n",
       " 7916,\n",
       " 7933,\n",
       " 7946,\n",
       " 7976,\n",
       " 7989,\n",
       " 8011,\n",
       " 8026,\n",
       " 8027,\n",
       " 8046,\n",
       " 8089,\n",
       " 8093,\n",
       " 8125,\n",
       " 8139,\n",
       " 8171,\n",
       " 8186,\n",
       " 8205,\n",
       " 8245,\n",
       " 8256,\n",
       " 8305,\n",
       " 8324,\n",
       " 8336,\n",
       " 8344,\n",
       " 8367,\n",
       " 8399,\n",
       " 8414,\n",
       " 8425,\n",
       " 8426,\n",
       " 8450,\n",
       " 8453,\n",
       " 8505,\n",
       " 8506,\n",
       " 8537,\n",
       " 8543,\n",
       " 8546,\n",
       " 8596,\n",
       " 8632,\n",
       " 8636,\n",
       " 8659,\n",
       " 8690,\n",
       " 8701,\n",
       " 8710,\n",
       " 8716,\n",
       " 8764,\n",
       " 8791,\n",
       " 8807,\n",
       " 8817,\n",
       " 8845,\n",
       " 8863,\n",
       " 8890,\n",
       " 8896,\n",
       " 8933,\n",
       " 8937,\n",
       " 8946,\n",
       " 8981,\n",
       " 8994,\n",
       " 8999,\n",
       " 9000,\n",
       " 9006,\n",
       " 9067,\n",
       " 9070,\n",
       " 9075,\n",
       " 9082,\n",
       " 9100,\n",
       " 9119,\n",
       " 9135,\n",
       " 9175,\n",
       " 9190,\n",
       " 9191,\n",
       " 9234,\n",
       " 9309,\n",
       " 9347,\n",
       " 9351,\n",
       " 9384,\n",
       " 9388,\n",
       " 9400,\n",
       " 9420,\n",
       " 9421,\n",
       " 9472,\n",
       " 9485,\n",
       " 9492,\n",
       " 9499,\n",
       " 9512,\n",
       " 9540,\n",
       " 9631,\n",
       " 9679,\n",
       " 9701,\n",
       " 9713,\n",
       " 9727,\n",
       " 9755,\n",
       " 9805,\n",
       " 9808,\n",
       " 9854,\n",
       " 9901,\n",
       " 9911,\n",
       " 9928,\n",
       " 9934,\n",
       " 9962,\n",
       " 9999,\n",
       " 10033,\n",
       " 10055,\n",
       " 10071,\n",
       " 10091,\n",
       " 10093,\n",
       " 10097,\n",
       " 10102,\n",
       " 10103,\n",
       " 10147,\n",
       " 10257,\n",
       " 10294,\n",
       " 10296,\n",
       " 10298,\n",
       " 10304,\n",
       " 10411,\n",
       " 10421,\n",
       " 10446,\n",
       " 10451,\n",
       " 10457,\n",
       " 10462,\n",
       " 10471,\n",
       " 10506,\n",
       " 10516,\n",
       " 10528,\n",
       " 10531,\n",
       " 10538,\n",
       " 10556,\n",
       " 10575,\n",
       " 10578,\n",
       " 10586,\n",
       " 10591,\n",
       " 10601,\n",
       " 10623,\n",
       " 10643,\n",
       " 10672,\n",
       " 10680,\n",
       " 10692,\n",
       " 10696,\n",
       " 10708,\n",
       " 10712,\n",
       " 10718,\n",
       " 10729,\n",
       " 10738,\n",
       " 10743,\n",
       " 10746,\n",
       " 10754,\n",
       " 10758,\n",
       " 10777,\n",
       " 10778,\n",
       " 10794,\n",
       " 10801,\n",
       " 10817,\n",
       " 10840,\n",
       " 10868,\n",
       " 10872,\n",
       " 10924,\n",
       " 10937,\n",
       " 10940,\n",
       " 10964,\n",
       " 10994,\n",
       " 11016,\n",
       " 11017,\n",
       " 11051,\n",
       " 11059,\n",
       " 11089,\n",
       " 11091,\n",
       " 11100,\n",
       " 11112,\n",
       " 11137,\n",
       " 11153,\n",
       " 11186,\n",
       " 11190,\n",
       " 11209,\n",
       " 11221,\n",
       " 11225,\n",
       " 11242,\n",
       " 11247,\n",
       " 11256,\n",
       " 11276,\n",
       " 11281,\n",
       " 11342,\n",
       " 11352,\n",
       " 11369,\n",
       " 11409,\n",
       " 11447,\n",
       " 11473,\n",
       " 11486,\n",
       " 11494,\n",
       " 11563,\n",
       " 11619,\n",
       " 11665,\n",
       " 11682,\n",
       " 11732,\n",
       " 11738,\n",
       " 11753,\n",
       " 11771,\n",
       " 11795,\n",
       " 11808,\n",
       " 11867,\n",
       " 11869,\n",
       " 11895,\n",
       " 11913,\n",
       " 11978,\n",
       " 11995,\n",
       " 12048,\n",
       " 12071,\n",
       " 12161,\n",
       " 12164,\n",
       " 12192,\n",
       " 12212,\n",
       " 12219,\n",
       " 12235,\n",
       " 12242,\n",
       " 12249,\n",
       " 12250,\n",
       " 12260,\n",
       " 12314,\n",
       " 12318,\n",
       " 12334,\n",
       " 12335,\n",
       " 12339,\n",
       " 12340,\n",
       " 12357,\n",
       " 12406,\n",
       " 12435,\n",
       " 12437,\n",
       " 12468,\n",
       " 12527,\n",
       " 12566,\n",
       " 12610,\n",
       " 12649,\n",
       " 12727,\n",
       " 12729,\n",
       " 12730,\n",
       " 12731,\n",
       " 12748,\n",
       " 12749,\n",
       " 12792,\n",
       " 12805,\n",
       " 12806,\n",
       " 12818,\n",
       " 12821,\n",
       " 12832,\n",
       " 12838,\n",
       " 12866,\n",
       " 12882,\n",
       " 12888,\n",
       " 12903,\n",
       " 12913,\n",
       " 12934,\n",
       " 12936,\n",
       " 12946,\n",
       " 12954,\n",
       " 12997,\n",
       " 13073,\n",
       " 13120,\n",
       " 13175,\n",
       " 13183,\n",
       " 13200,\n",
       " 13271,\n",
       " 13288,\n",
       " 13313,\n",
       " 13315,\n",
       " 13331,\n",
       " 13333,\n",
       " 13369,\n",
       " 13393,\n",
       " 13422,\n",
       " 13428,\n",
       " 13446,\n",
       " 13453,\n",
       " 13467,\n",
       " 13468,\n",
       " 13470,\n",
       " 13496,\n",
       " 13559,\n",
       " 13560,\n",
       " 13581,\n",
       " 13595,\n",
       " 13608,\n",
       " 13609,\n",
       " 13610,\n",
       " 13615,\n",
       " 13654,\n",
       " 13712,\n",
       " 13722,\n",
       " 13778,\n",
       " 13784,\n",
       " 13791,\n",
       " 13885,\n",
       " 13912,\n",
       " 13916,\n",
       " 13925,\n",
       " 13932,\n",
       " 13935,\n",
       " 13989,\n",
       " 14001,\n",
       " 14009,\n",
       " 14016,\n",
       " 14090,\n",
       " 14125,\n",
       " 14181,\n",
       " 14198,\n",
       " 14211,\n",
       " 14233,\n",
       " 14300,\n",
       " 14355,\n",
       " 14391,\n",
       " 14402,\n",
       " 14414,\n",
       " 14438,\n",
       " 14456,\n",
       " 14484,\n",
       " 14491,\n",
       " 14506,\n",
       " 14520,\n",
       " 14533,\n",
       " 14534,\n",
       " 14536,\n",
       " 14546,\n",
       " 14576,\n",
       " 14676,\n",
       " 14703,\n",
       " 14724,\n",
       " 14732,\n",
       " 14757,\n",
       " 14774,\n",
       " 14777,\n",
       " 14785,\n",
       " 14828,\n",
       " 14836,\n",
       " 14872,\n",
       " 14892,\n",
       " 14900,\n",
       " 14904,\n",
       " 14930,\n",
       " 14934,\n",
       " 14940,\n",
       " 14979,\n",
       " 14982,\n",
       " 14994,\n",
       " 15019,\n",
       " 15021,\n",
       " 15034,\n",
       " 15078,\n",
       " 15085,\n",
       " 15129,\n",
       " 15134,\n",
       " 15137,\n",
       " 15145,\n",
       " 15176,\n",
       " 15206,\n",
       " 15212,\n",
       " 15244,\n",
       " 15251,\n",
       " 15317,\n",
       " 15339,\n",
       " 15400,\n",
       " 15411,\n",
       " 15426,\n",
       " 15427,\n",
       " 15440,\n",
       " 15459,\n",
       " 15472,\n",
       " 15486,\n",
       " 15538,\n",
       " 15564,\n",
       " 15611,\n",
       " 15615,\n",
       " 15642,\n",
       " 15661,\n",
       " 15664,\n",
       " 15679,\n",
       " 15691,\n",
       " 15701,\n",
       " 15749,\n",
       " 15857,\n",
       " 15862,\n",
       " 15882,\n",
       " 15941,\n",
       " 15945,\n",
       " 15962,\n",
       " 15973,\n",
       " 15981,\n",
       " 15995,\n",
       " 16013,\n",
       " 16020,\n",
       " 16027,\n",
       " 16046,\n",
       " 16069,\n",
       " 16133,\n",
       " 16134,\n",
       " 16141,\n",
       " 16145,\n",
       " 16156,\n",
       " 16173,\n",
       " 16174,\n",
       " 16192,\n",
       " 16212,\n",
       " 16217,\n",
       " 16250,\n",
       " 16280,\n",
       " 16329,\n",
       " 16366,\n",
       " 16368,\n",
       " 16369,\n",
       " 16392,\n",
       " 16455,\n",
       " 16491,\n",
       " 16538,\n",
       " 16543,\n",
       " 16548,\n",
       " 16562,\n",
       " 16573,\n",
       " 16584,\n",
       " 16600,\n",
       " 16634,\n",
       " 16651,\n",
       " 16661,\n",
       " 16672,\n",
       " 16677,\n",
       " 16700,\n",
       " 16736,\n",
       " 16769,\n",
       " 16771,\n",
       " 16784,\n",
       " 16791,\n",
       " 16799,\n",
       " 16812,\n",
       " 16868,\n",
       " 16876,\n",
       " 16901,\n",
       " 16905,\n",
       " 16931,\n",
       " 16957,\n",
       " 16970,\n",
       " 16984,\n",
       " 16994,\n",
       " 17009,\n",
       " 17014,\n",
       " 17030,\n",
       " 17061,\n",
       " 17069,\n",
       " 17083,\n",
       " 17097,\n",
       " 17127,\n",
       " 17166,\n",
       " 17171,\n",
       " 17193,\n",
       " 17244,\n",
       " 17282,\n",
       " 17292,\n",
       " 17323,\n",
       " 17335,\n",
       " 17369,\n",
       " 17370,\n",
       " 17406,\n",
       " 17439,\n",
       " 17460,\n",
       " 17476,\n",
       " 17546,\n",
       " 17555,\n",
       " 17576,\n",
       " 17581,\n",
       " 17584,\n",
       " 17596,\n",
       " 17633,\n",
       " 17639,\n",
       " 17699,\n",
       " 17702,\n",
       " 17713,\n",
       " 17741,\n",
       " 17761,\n",
       " 17793,\n",
       " 17795,\n",
       " 17804,\n",
       " 17840,\n",
       " 17845,\n",
       " 17866,\n",
       " 17884,\n",
       " 17889,\n",
       " 17891,\n",
       " 17903,\n",
       " 17974,\n",
       " 17996,\n",
       " 18041,\n",
       " 18082,\n",
       " 18084,\n",
       " 18099,\n",
       " 18113,\n",
       " 18169,\n",
       " 18198,\n",
       " 18202,\n",
       " 18206,\n",
       " 18236,\n",
       " 18246,\n",
       " 18255,\n",
       " 18295,\n",
       " 18359,\n",
       " 18376,\n",
       " 18525,\n",
       " 18528,\n",
       " 18557,\n",
       " 18561,\n",
       " 18573,\n",
       " 18592,\n",
       " 18637,\n",
       " 18649,\n",
       " 18653,\n",
       " 18658,\n",
       " 18687,\n",
       " 18690,\n",
       " 18726,\n",
       " 18746,\n",
       " 18782,\n",
       " 18825,\n",
       " 18847,\n",
       " 18853,\n",
       " 18892,\n",
       " 18898,\n",
       " 18915,\n",
       " 18936,\n",
       " 18974,\n",
       " 18987,\n",
       " 18988,\n",
       " 18990,\n",
       " 19012,\n",
       " 19018,\n",
       " 19022,\n",
       " 19072,\n",
       " 19073,\n",
       " 19144,\n",
       " 19148,\n",
       " 19167,\n",
       " 19177,\n",
       " 19178,\n",
       " 19185,\n",
       " 19218,\n",
       " 19221,\n",
       " 19354,\n",
       " 19369,\n",
       " 19376,\n",
       " 19419,\n",
       " 19432,\n",
       " 19435,\n",
       " 19460,\n",
       " 19474,\n",
       " 19477,\n",
       " 19509,\n",
       " 19544,\n",
       " 19558,\n",
       " 19563,\n",
       " 19588,\n",
       " 19635,\n",
       " 19650,\n",
       " 19656,\n",
       " 19661,\n",
       " 19719,\n",
       " 19788,\n",
       " 19790,\n",
       " 19845,\n",
       " 19884,\n",
       " 19897,\n",
       " 19913,\n",
       " 19932,\n",
       " 19951,\n",
       " 19962,\n",
       " 19969,\n",
       " 19988,\n",
       " 20019,\n",
       " 20041,\n",
       " 20053,\n",
       " 20059,\n",
       " 20065,\n",
       " 20074,\n",
       " 20114,\n",
       " 20142,\n",
       " 20158,\n",
       " 20175,\n",
       " 20205,\n",
       " 20213,\n",
       " 20214,\n",
       " 20235,\n",
       " 20249,\n",
       " 20264,\n",
       " 20284,\n",
       " 20360,\n",
       " 20368,\n",
       " 20382,\n",
       " 20411,\n",
       " 20413,\n",
       " 20447,\n",
       " 20451,\n",
       " 20467,\n",
       " 20499,\n",
       " 20510,\n",
       " 20514,\n",
       " 20565,\n",
       " 20599,\n",
       " 20629,\n",
       " 20635,\n",
       " 20681,\n",
       " 20683,\n",
       " 20746,\n",
       " 20755,\n",
       " 20764,\n",
       " 20765,\n",
       " 20781,\n",
       " 20797,\n",
       " 20798,\n",
       " 20836,\n",
       " 20862,\n",
       " 20866,\n",
       " 20870,\n",
       " 20887,\n",
       " 20942,\n",
       " 20980,\n",
       " 21010,\n",
       " 21012,\n",
       " 21022,\n",
       " 21024,\n",
       " 21030,\n",
       " 21064,\n",
       " 21068,\n",
       " 21082,\n",
       " 21086,\n",
       " 21096,\n",
       " 21198,\n",
       " 21232,\n",
       " 21260,\n",
       " 21323,\n",
       " 21341,\n",
       " ...]"
      ]
     },
     "execution_count": 129,
     "metadata": {},
     "output_type": "execute_result"
    }
   ],
   "source": [
    "pp_idx"
   ]
  },
  {
   "cell_type": "code",
   "execution_count": 130,
   "metadata": {
    "collapsed": true
   },
   "outputs": [
    {
     "data": {
      "text/plain": [
       "[30,\n",
       " 80,\n",
       " 120,\n",
       " 154,\n",
       " 195,\n",
       " 200,\n",
       " 223,\n",
       " 356,\n",
       " 358,\n",
       " 429,\n",
       " 433,\n",
       " 464,\n",
       " 495,\n",
       " 502,\n",
       " 564,\n",
       " 600,\n",
       " 605,\n",
       " 630,\n",
       " 649,\n",
       " 653,\n",
       " 692,\n",
       " 705,\n",
       " 741,\n",
       " 764,\n",
       " 915,\n",
       " 926,\n",
       " 932,\n",
       " 943,\n",
       " 989,\n",
       " 1043,\n",
       " 1085,\n",
       " 1099,\n",
       " 1130,\n",
       " 1140,\n",
       " 1172,\n",
       " 1225,\n",
       " 1275,\n",
       " 1306,\n",
       " 1429,\n",
       " 1528,\n",
       " 1529,\n",
       " 1564,\n",
       " 1575,\n",
       " 1582,\n",
       " 1588,\n",
       " 1593,\n",
       " 1604,\n",
       " 1608,\n",
       " 1646,\n",
       " 1788,\n",
       " 1812,\n",
       " 1818,\n",
       " 1839,\n",
       " 1842,\n",
       " 1847,\n",
       " 1881,\n",
       " 1885,\n",
       " 1942,\n",
       " 1994,\n",
       " 2107,\n",
       " 2200,\n",
       " 2237,\n",
       " 2333,\n",
       " 2355,\n",
       " 2418,\n",
       " 2429,\n",
       " 2483,\n",
       " 2490,\n",
       " 2499,\n",
       " 2503,\n",
       " 2569,\n",
       " 2652,\n",
       " 2734,\n",
       " 2762,\n",
       " 2775,\n",
       " 2858,\n",
       " 2881,\n",
       " 2888,\n",
       " 2926,\n",
       " 2931,\n",
       " 2999,\n",
       " 3037,\n",
       " 3062,\n",
       " 3068,\n",
       " 3152,\n",
       " 3160,\n",
       " 3209,\n",
       " 3344,\n",
       " 3485,\n",
       " 3537,\n",
       " 3580,\n",
       " 3588,\n",
       " 3627,\n",
       " 3634,\n",
       " 3711,\n",
       " 3721,\n",
       " 3722,\n",
       " 3731,\n",
       " 3775,\n",
       " 3798,\n",
       " 3815,\n",
       " 3896,\n",
       " 3982,\n",
       " 3989,\n",
       " 4000,\n",
       " 4086,\n",
       " 4174,\n",
       " 4288,\n",
       " 4292,\n",
       " 4341,\n",
       " 4378,\n",
       " 4402,\n",
       " 4456,\n",
       " 4462,\n",
       " 4483,\n",
       " 4497,\n",
       " 4559,\n",
       " 4604,\n",
       " 4612,\n",
       " 4667,\n",
       " 4689,\n",
       " 4702,\n",
       " 4719,\n",
       " 4738,\n",
       " 4802,\n",
       " 4804,\n",
       " 4818,\n",
       " 4821,\n",
       " 4850,\n",
       " 4928,\n",
       " 4972,\n",
       " 5060,\n",
       " 5084,\n",
       " 5108,\n",
       " 5129,\n",
       " 5242,\n",
       " 5246,\n",
       " 5277,\n",
       " 5293,\n",
       " 5312,\n",
       " 5359,\n",
       " 5361,\n",
       " 5375,\n",
       " 5423,\n",
       " 5436,\n",
       " 5437,\n",
       " 5440,\n",
       " 5521,\n",
       " 5535,\n",
       " 5557,\n",
       " 5563,\n",
       " 5601,\n",
       " 5656,\n",
       " 5708,\n",
       " 5806,\n",
       " 5811,\n",
       " 5834,\n",
       " 5841,\n",
       " 5946,\n",
       " 6025,\n",
       " 6034,\n",
       " 6108,\n",
       " 6116,\n",
       " 6167,\n",
       " 6203,\n",
       " 6214,\n",
       " 6254,\n",
       " 6300,\n",
       " 6368,\n",
       " 6407,\n",
       " 6488,\n",
       " 6493,\n",
       " 6569,\n",
       " 6592,\n",
       " 6626,\n",
       " 6650,\n",
       " 6675,\n",
       " 6713,\n",
       " 6757,\n",
       " 6771,\n",
       " 6861,\n",
       " 6898,\n",
       " 6903,\n",
       " 6949,\n",
       " 6989,\n",
       " 7076,\n",
       " 7085,\n",
       " 7091,\n",
       " 7109,\n",
       " 7113,\n",
       " 7161,\n",
       " 7206,\n",
       " 7207,\n",
       " 7279,\n",
       " 7291,\n",
       " 7326,\n",
       " 7329,\n",
       " 7330,\n",
       " 7412,\n",
       " 7437,\n",
       " 7439,\n",
       " 7531,\n",
       " 7541,\n",
       " 7571,\n",
       " 7643,\n",
       " 7662,\n",
       " 7730,\n",
       " 7767,\n",
       " 7781,\n",
       " 7783,\n",
       " 7854,\n",
       " 7905,\n",
       " 7912,\n",
       " 7913,\n",
       " 7916,\n",
       " 7933,\n",
       " 7946,\n",
       " 8011,\n",
       " 8026,\n",
       " 8027,\n",
       " 8089,\n",
       " 8125,\n",
       " 8130,\n",
       " 8139,\n",
       " 8156,\n",
       " 8186,\n",
       " 8245,\n",
       " 8256,\n",
       " 8367,\n",
       " 8399,\n",
       " 8414,\n",
       " 8425,\n",
       " 8450,\n",
       " 8506,\n",
       " 8543,\n",
       " 8546,\n",
       " 8632,\n",
       " 8636,\n",
       " 8690,\n",
       " 8701,\n",
       " 8716,\n",
       " 8764,\n",
       " 8845,\n",
       " 8890,\n",
       " 8933,\n",
       " 8937,\n",
       " 8946,\n",
       " 8981,\n",
       " 8994,\n",
       " 8999,\n",
       " 9006,\n",
       " 9067,\n",
       " 9075,\n",
       " 9082,\n",
       " 9100,\n",
       " 9135,\n",
       " 9190,\n",
       " 9234,\n",
       " 9306,\n",
       " 9347,\n",
       " 9351,\n",
       " 9384,\n",
       " 9400,\n",
       " 9420,\n",
       " 9421,\n",
       " 9472,\n",
       " 9631,\n",
       " 9679,\n",
       " 9701,\n",
       " 9911,\n",
       " 9928,\n",
       " 9962,\n",
       " 10055,\n",
       " 10091,\n",
       " 10147,\n",
       " 10294,\n",
       " 10296,\n",
       " 10298,\n",
       " 10304,\n",
       " 10421,\n",
       " 10457,\n",
       " 10471,\n",
       " 10506,\n",
       " 10516,\n",
       " 10578,\n",
       " 10591,\n",
       " 10601,\n",
       " 10708,\n",
       " 10712,\n",
       " 10718,\n",
       " 10729,\n",
       " 10738,\n",
       " 10743,\n",
       " 10754,\n",
       " 10758,\n",
       " 10794,\n",
       " 10868,\n",
       " 10924,\n",
       " 10937,\n",
       " 10940,\n",
       " 10964,\n",
       " 11016,\n",
       " 11017,\n",
       " 11041,\n",
       " 11051,\n",
       " 11091,\n",
       " 11100,\n",
       " 11112,\n",
       " 11137,\n",
       " 11190,\n",
       " 11221,\n",
       " 11242,\n",
       " 11276,\n",
       " 11281,\n",
       " 11342,\n",
       " 11369,\n",
       " 11409,\n",
       " 11447,\n",
       " 11494,\n",
       " 11563,\n",
       " 11619,\n",
       " 11682,\n",
       " 11753,\n",
       " 11771,\n",
       " 11795,\n",
       " 11808,\n",
       " 11867,\n",
       " 11869,\n",
       " 11895,\n",
       " 11995,\n",
       " 12071,\n",
       " 12164,\n",
       " 12192,\n",
       " 12250,\n",
       " 12260,\n",
       " 12318,\n",
       " 12335,\n",
       " 12340,\n",
       " 12357,\n",
       " 12435,\n",
       " 12437,\n",
       " 12729,\n",
       " 12731,\n",
       " 12748,\n",
       " 12749,\n",
       " 12818,\n",
       " 12832,\n",
       " 12866,\n",
       " 12882,\n",
       " 12891,\n",
       " 12903,\n",
       " 12913,\n",
       " 12946,\n",
       " 12997,\n",
       " 13073,\n",
       " 13120,\n",
       " 13183,\n",
       " 13200,\n",
       " 13271,\n",
       " 13288,\n",
       " 13313,\n",
       " 13331,\n",
       " 13369,\n",
       " 13393,\n",
       " 13428,\n",
       " 13446,\n",
       " 13467,\n",
       " 13470,\n",
       " 13496,\n",
       " 13559,\n",
       " 13581,\n",
       " 13591,\n",
       " 13595,\n",
       " 13609,\n",
       " 13615,\n",
       " 13654,\n",
       " 13712,\n",
       " 13778,\n",
       " 13784,\n",
       " 13916,\n",
       " 13935,\n",
       " 14009,\n",
       " 14016,\n",
       " 14090,\n",
       " 14181,\n",
       " 14198,\n",
       " 14300,\n",
       " 14355,\n",
       " 14402,\n",
       " 14414,\n",
       " 14438,\n",
       " 14484,\n",
       " 14491,\n",
       " 14506,\n",
       " 14520,\n",
       " 14536,\n",
       " 14546,\n",
       " 14676,\n",
       " 14724,\n",
       " 14732,\n",
       " 14757,\n",
       " 14774,\n",
       " 14777,\n",
       " 14785,\n",
       " 14836,\n",
       " 14872,\n",
       " 14892,\n",
       " 14900,\n",
       " 14904,\n",
       " 14979,\n",
       " 14982,\n",
       " 14994,\n",
       " 15021,\n",
       " 15034,\n",
       " 15078,\n",
       " 15085,\n",
       " 15145,\n",
       " 15176,\n",
       " 15212,\n",
       " 15244,\n",
       " 15251,\n",
       " 15317,\n",
       " 15400,\n",
       " 15459,\n",
       " 15472,\n",
       " 15538,\n",
       " 15611,\n",
       " 15615,\n",
       " 15642,\n",
       " 15701,\n",
       " 15749,\n",
       " 15857,\n",
       " 15862,\n",
       " 15882,\n",
       " 15941,\n",
       " 15945,\n",
       " 15962,\n",
       " 15973,\n",
       " 15981,\n",
       " 15995,\n",
       " 16013,\n",
       " 16069,\n",
       " 16134,\n",
       " 16141,\n",
       " 16145,\n",
       " 16174,\n",
       " 16212,\n",
       " 16217,\n",
       " 16366,\n",
       " 16491,\n",
       " 16543,\n",
       " 16573,\n",
       " 16600,\n",
       " 16651,\n",
       " 16661,\n",
       " 16672,\n",
       " 16677,\n",
       " 16700,\n",
       " 16769,\n",
       " 16771,\n",
       " 16784,\n",
       " 16876,\n",
       " 16905,\n",
       " 17030,\n",
       " 17083,\n",
       " 17127,\n",
       " 17171,\n",
       " 17244,\n",
       " 17370,\n",
       " 17406,\n",
       " 17460,\n",
       " 17476,\n",
       " 17546,\n",
       " 17555,\n",
       " 17576,\n",
       " 17584,\n",
       " 17596,\n",
       " 17639,\n",
       " 17699,\n",
       " 17713,\n",
       " 17761,\n",
       " 17795,\n",
       " 17804,\n",
       " 17840,\n",
       " 17845,\n",
       " 17866,\n",
       " 17884,\n",
       " 17889,\n",
       " 17891,\n",
       " 17903,\n",
       " 17996,\n",
       " 18041,\n",
       " 18082,\n",
       " 18084,\n",
       " 18099,\n",
       " 18113,\n",
       " 18236,\n",
       " 18255,\n",
       " 18376,\n",
       " 18525,\n",
       " 18528,\n",
       " 18557,\n",
       " 18561,\n",
       " 18573,\n",
       " 18592,\n",
       " 18687,\n",
       " 18726,\n",
       " 18746,\n",
       " 18825,\n",
       " 18847,\n",
       " 18853,\n",
       " 18898,\n",
       " 18915,\n",
       " 18936,\n",
       " 18988,\n",
       " 19012,\n",
       " 19018,\n",
       " 19022,\n",
       " 19167,\n",
       " 19177,\n",
       " 19185,\n",
       " 19218,\n",
       " 19221,\n",
       " 19354,\n",
       " 19460,\n",
       " 19477,\n",
       " 19563,\n",
       " 19588,\n",
       " 19656,\n",
       " 19661,\n",
       " 19790,\n",
       " 19897,\n",
       " 19913,\n",
       " 19932,\n",
       " 19951,\n",
       " 19962,\n",
       " 19969,\n",
       " 20019,\n",
       " 20053,\n",
       " 20059,\n",
       " 20065,\n",
       " 20074,\n",
       " 20114,\n",
       " 20142,\n",
       " 20158,\n",
       " 20175,\n",
       " 20214,\n",
       " 20264,\n",
       " 20368,\n",
       " 20382,\n",
       " 20413,\n",
       " 20447,\n",
       " 20467,\n",
       " 20510,\n",
       " 20514,\n",
       " 20565,\n",
       " 20635,\n",
       " 20683,\n",
       " 20746,\n",
       " 20764,\n",
       " 20765,\n",
       " 20781,\n",
       " 20866,\n",
       " 20870,\n",
       " 20887,\n",
       " 20943,\n",
       " 20980,\n",
       " 21010,\n",
       " 21068,\n",
       " 21082,\n",
       " 21096,\n",
       " 21198,\n",
       " 21260,\n",
       " 21323,\n",
       " 21341,\n",
       " 21361,\n",
       " 21364,\n",
       " 21377,\n",
       " 21391,\n",
       " 21392,\n",
       " 21409,\n",
       " 21504,\n",
       " 21607,\n",
       " 21620,\n",
       " 21682,\n",
       " 21683,\n",
       " 21821,\n",
       " 21956,\n",
       " 21985,\n",
       " 22006,\n",
       " 22037,\n",
       " 22139,\n",
       " 22160,\n",
       " 22293,\n",
       " 22312,\n",
       " 22343,\n",
       " 22371,\n",
       " 22434,\n",
       " 22592,\n",
       " 22596,\n",
       " 22605,\n",
       " 22610,\n",
       " 22637,\n",
       " 22638,\n",
       " 22644,\n",
       " 22695,\n",
       " 22709,\n",
       " 22774,\n",
       " 22842,\n",
       " 22843,\n",
       " 22881,\n",
       " 22904,\n",
       " 22935,\n",
       " 22968,\n",
       " 22976,\n",
       " 22987,\n",
       " 22996,\n",
       " 23072,\n",
       " 23129,\n",
       " 23160,\n",
       " 23170,\n",
       " 23200,\n",
       " 23264,\n",
       " 23265,\n",
       " 23295,\n",
       " 23318,\n",
       " 23344,\n",
       " 23350,\n",
       " 23400,\n",
       " 23412,\n",
       " 23450,\n",
       " 23452,\n",
       " 23531,\n",
       " 23545,\n",
       " 23632,\n",
       " 23671,\n",
       " 23673,\n",
       " 23686,\n",
       " 23690,\n",
       " 23735,\n",
       " 23803,\n",
       " 23805,\n",
       " 23815,\n",
       " 23817,\n",
       " 23829,\n",
       " 23866,\n",
       " 23893,\n",
       " 23894,\n",
       " 24035,\n",
       " 24095,\n",
       " 24103,\n",
       " 24177,\n",
       " 24183,\n",
       " 24186,\n",
       " 24197,\n",
       " 24198,\n",
       " 24215,\n",
       " 24256,\n",
       " 24313,\n",
       " 24329,\n",
       " 24340,\n",
       " 24341,\n",
       " 24397,\n",
       " 24405,\n",
       " 24503,\n",
       " 24507,\n",
       " 24542,\n",
       " 24565,\n",
       " 24709,\n",
       " 24710,\n",
       " 24738,\n",
       " 24847,\n",
       " 24850,\n",
       " 24854,\n",
       " 24893,\n",
       " 24922,\n",
       " 24966,\n",
       " 24981,\n",
       " 25096,\n",
       " 25104,\n",
       " 25220,\n",
       " 25234,\n",
       " 25243,\n",
       " 25337,\n",
       " 25353,\n",
       " 25389,\n",
       " 25397,\n",
       " 25474,\n",
       " 25505,\n",
       " 25589,\n",
       " 25630,\n",
       " 25657,\n",
       " 25679,\n",
       " 25686,\n",
       " 25707,\n",
       " 25721,\n",
       " 25724,\n",
       " 25729,\n",
       " 25737,\n",
       " 25766,\n",
       " 25777,\n",
       " 25786,\n",
       " 25861,\n",
       " 25893,\n",
       " 25894,\n",
       " 25898,\n",
       " 25907,\n",
       " 25922,\n",
       " 25975,\n",
       " 25988,\n",
       " 26028,\n",
       " 26039,\n",
       " 26056,\n",
       " 26108,\n",
       " 26173,\n",
       " 26180,\n",
       " 26201,\n",
       " 26223,\n",
       " 26249,\n",
       " 26302,\n",
       " 26304,\n",
       " 26373,\n",
       " 26392,\n",
       " 26423,\n",
       " 26454,\n",
       " 26535,\n",
       " 26560,\n",
       " 26626,\n",
       " 26635,\n",
       " 26645,\n",
       " 26663,\n",
       " 26710,\n",
       " 26765,\n",
       " 26827,\n",
       " 26891,\n",
       " 26916,\n",
       " 27079,\n",
       " 27088,\n",
       " 27149,\n",
       " 27162,\n",
       " 27219,\n",
       " 27226,\n",
       " 27305,\n",
       " 27351,\n",
       " 27369,\n",
       " 27371,\n",
       " 27404,\n",
       " 27438,\n",
       " 27463,\n",
       " 27475,\n",
       " 27493,\n",
       " 27502,\n",
       " 27540,\n",
       " 27577,\n",
       " 27672,\n",
       " 27730,\n",
       " 27735,\n",
       " 27882,\n",
       " 27955,\n",
       " 27987,\n",
       " 27994,\n",
       " 28007,\n",
       " 28015,\n",
       " 28017,\n",
       " 28063,\n",
       " 28094,\n",
       " 28099,\n",
       " 28101,\n",
       " 28130,\n",
       " 28137,\n",
       " 28189,\n",
       " 28196,\n",
       " 28297,\n",
       " 28323,\n",
       " 28434,\n",
       " 28473,\n",
       " 28546,\n",
       " 28594,\n",
       " 28596,\n",
       " 28599,\n",
       " 28604,\n",
       " 28612,\n",
       " 28684,\n",
       " 28723,\n",
       " 28745,\n",
       " 28750,\n",
       " 28781,\n",
       " 28823,\n",
       " 28900,\n",
       " 29029,\n",
       " 29043,\n",
       " 29070,\n",
       " 29219,\n",
       " 29257,\n",
       " 29275,\n",
       " 29351,\n",
       " 29357,\n",
       " 29482,\n",
       " 29514,\n",
       " 29773,\n",
       " 29795,\n",
       " 29840,\n",
       " 29848,\n",
       " 29852,\n",
       " 29866,\n",
       " 29914,\n",
       " 29985,\n",
       " 29992,\n",
       " 30094,\n",
       " 30184,\n",
       " 30186,\n",
       " 30269,\n",
       " 30288,\n",
       " 30361,\n",
       " 30374,\n",
       " 30391,\n",
       " 30454,\n",
       " 30483,\n",
       " 30545,\n",
       " 30557,\n",
       " 30571,\n",
       " 30643,\n",
       " 30701,\n",
       " 30720,\n",
       " 30771,\n",
       " 30831,\n",
       " 30937,\n",
       " 30989,\n",
       " 31166,\n",
       " 31174,\n",
       " 31176,\n",
       " 31182,\n",
       " 31195,\n",
       " 31212,\n",
       " 31238,\n",
       " 31250,\n",
       " 31266,\n",
       " 31279,\n",
       " 31347,\n",
       " 31350,\n",
       " 31375,\n",
       " 31391,\n",
       " 31479,\n",
       " 31578,\n",
       " 31585,\n",
       " 31598,\n",
       " 31625,\n",
       " 31634,\n",
       " 31753,\n",
       " 31798,\n",
       " 31816,\n",
       " 31855,\n",
       " 31908,\n",
       " 31942,\n",
       " 31970,\n",
       " 31974,\n",
       " 32014,\n",
       " 32059,\n",
       " 32076,\n",
       " 32144,\n",
       " 32149,\n",
       " 32178,\n",
       " 32190,\n",
       " 32226,\n",
       " 32364,\n",
       " 32414,\n",
       " 32423,\n",
       " 32430,\n",
       " 32475,\n",
       " 32502,\n",
       " 32554,\n",
       " 32639,\n",
       " 32683,\n",
       " 32722,\n",
       " 32746,\n",
       " 32770,\n",
       " 32782,\n",
       " 32796,\n",
       " 32887,\n",
       " 32901,\n",
       " 32929,\n",
       " 32946,\n",
       " 32947,\n",
       " 32967,\n",
       " 33020,\n",
       " 33098,\n",
       " 33133,\n",
       " 33139,\n",
       " 33189,\n",
       " 33217,\n",
       " 33244,\n",
       " 33251,\n",
       " 33255,\n",
       " 33354,\n",
       " 33360,\n",
       " 33366,\n",
       " 33388,\n",
       " 33415,\n",
       " 33418,\n",
       " 33427,\n",
       " 33473,\n",
       " 33502,\n",
       " 33523,\n",
       " 33631,\n",
       " 33650,\n",
       " 33701,\n",
       " 33762,\n",
       " 33790,\n",
       " 33866,\n",
       " 33962,\n",
       " 33984,\n",
       " 34025,\n",
       " 34210,\n",
       " 34269,\n",
       " 34274,\n",
       " 34333,\n",
       " 34422,\n",
       " 34445,\n",
       " 34455,\n",
       " 34457,\n",
       " 34515,\n",
       " 34526,\n",
       " 34577,\n",
       " 34622,\n",
       " 34850,\n",
       " 34853,\n",
       " 34856,\n",
       " 34872,\n",
       " 34888,\n",
       " 34909,\n",
       " 34929,\n",
       " 34989,\n",
       " 35099,\n",
       " 35100,\n",
       " 35105,\n",
       " 35158,\n",
       " 35185,\n",
       " 35245,\n",
       " 35306,\n",
       " 35317,\n",
       " 35320,\n",
       " 35348,\n",
       " 35373,\n",
       " 35438,\n",
       " 35452,\n",
       " 35475,\n",
       " 35488,\n",
       " 35493,\n",
       " 35501,\n",
       " 35592,\n",
       " 35607,\n",
       " 35778,\n",
       " 35786,\n",
       " 35816,\n",
       " 35845,\n",
       " 36000,\n",
       " 36003,\n",
       " 36084,\n",
       " 36141,\n",
       " 36167,\n",
       " 36248,\n",
       " 36326,\n",
       " 36334,\n",
       " 36361,\n",
       " 36378,\n",
       " 36429,\n",
       " 36432,\n",
       " 36449,\n",
       " 36475,\n",
       " 36562,\n",
       " 36582,\n",
       " 36608,\n",
       " 36609,\n",
       " 36669,\n",
       " 36698,\n",
       " 36738,\n",
       " 36745,\n",
       " 36747,\n",
       " 36852,\n",
       " 36901,\n",
       " 36905,\n",
       " 36913,\n",
       " 36935,\n",
       " 36985,\n",
       " 37019,\n",
       " 37022,\n",
       " 37024,\n",
       " 37027,\n",
       " 37141,\n",
       " 37154,\n",
       " 37158,\n",
       " 37243,\n",
       " 37302,\n",
       " 37307,\n",
       " 37330,\n",
       " 37355,\n",
       " 37453,\n",
       " 37517,\n",
       " 37522,\n",
       " 37529,\n",
       " ...]"
      ]
     },
     "execution_count": 130,
     "metadata": {},
     "output_type": "execute_result"
    }
   ],
   "source": [
    "inter_idx"
   ]
  },
  {
   "cell_type": "code",
   "execution_count": null,
   "metadata": {},
   "outputs": [],
   "source": []
  },
  {
   "cell_type": "code",
   "execution_count": null,
   "metadata": {},
   "outputs": [],
   "source": []
  },
  {
   "cell_type": "code",
   "execution_count": 107,
   "metadata": {},
   "outputs": [],
   "source": [
    "inter_idx = list(set(pp1_idx) & set(pp2_idx))"
   ]
  },
  {
   "cell_type": "code",
   "execution_count": 138,
   "metadata": {},
   "outputs": [],
   "source": [
    "inter_idx.sort()"
   ]
  },
  {
   "cell_type": "code",
   "execution_count": 139,
   "metadata": {},
   "outputs": [
    {
     "data": {
      "text/plain": [
       "3883"
      ]
     },
     "execution_count": 139,
     "metadata": {},
     "output_type": "execute_result"
    }
   ],
   "source": [
    "len(inter_idx)"
   ]
  },
  {
   "cell_type": "code",
   "execution_count": 114,
   "metadata": {},
   "outputs": [
    {
     "data": {
      "text/plain": [
       "0"
      ]
     },
     "execution_count": 114,
     "metadata": {},
     "output_type": "execute_result"
    }
   ],
   "source": [
    "ppp1[inter_idx[0]]"
   ]
  },
  {
   "cell_type": "code",
   "execution_count": 125,
   "metadata": {},
   "outputs": [
    {
     "data": {
      "text/plain": [
       "7"
      ]
     },
     "execution_count": 125,
     "metadata": {},
     "output_type": "execute_result"
    }
   ],
   "source": [
    "ttt[inter_idx[0]]"
   ]
  },
  {
   "cell_type": "code",
   "execution_count": 135,
   "metadata": {},
   "outputs": [],
   "source": [
    "target_idx = list(set(inter_idx) - set(pp_idx))"
   ]
  },
  {
   "cell_type": "code",
   "execution_count": 136,
   "metadata": {},
   "outputs": [],
   "source": [
    "target_idx.sort()"
   ]
  },
  {
   "cell_type": "code",
   "execution_count": 178,
   "metadata": {},
   "outputs": [
    {
     "data": {
      "text/plain": [
       "52"
      ]
     },
     "execution_count": 178,
     "metadata": {},
     "output_type": "execute_result"
    }
   ],
   "source": [
    "len(target_idx)"
   ]
  },
  {
   "cell_type": "code",
   "execution_count": 65,
   "metadata": {},
   "outputs": [
    {
     "name": "stdout",
     "output_type": "stream",
     "text": [
      "0 0.001 bat\n",
      "1 0.021 cake\n",
      "2 0.001 candle\n",
      "3 0.011 carrot\n",
      "4 0.72 chandelier\n",
      "5 0.069 computer\n",
      "6 0.003 couch\n",
      "7 0.026 dog\n",
      "8 0.003 light bulb\n",
      "9 0.001 mermaid\n",
      "10 0.002 microphone\n",
      "11 0.0 monkey\n",
      "12 0.0 octopus\n",
      "13 0.009 pliers\n",
      "14 0.004 pond\n",
      "15 0.004 sea turtle\n",
      "16 0.001 snake\n",
      "17 0.122 television\n",
      "18 0.001 traffic light\n",
      "19 0.001 wine bottle\n"
     ]
    }
   ],
   "source": [
    "idx = 0\n",
    "for k in pred_y1[-2]:\n",
    "    print(idx, round(k,3), word_le.classes_[idx])\n",
    "    idx += 1"
   ]
  },
  {
   "cell_type": "code",
   "execution_count": 66,
   "metadata": {},
   "outputs": [
    {
     "name": "stdout",
     "output_type": "stream",
     "text": [
      "0 0.0 bat\n",
      "1 0.0 cake\n",
      "2 0.0 candle\n",
      "3 0.0 carrot\n",
      "4 0.0 chandelier\n",
      "5 0.0 computer\n",
      "6 0.0 couch\n",
      "7 0.0 dog\n",
      "8 0.0 light bulb\n",
      "9 0.0 mermaid\n",
      "10 0.0 microphone\n",
      "11 0.0 monkey\n",
      "12 0.0 octopus\n",
      "13 0.0 pliers\n",
      "14 0.0 pond\n",
      "15 0.0 sea turtle\n",
      "16 0.0 snake\n",
      "17 0.0 television\n",
      "18 0.0 traffic light\n",
      "19 1.0 wine bottle\n"
     ]
    }
   ],
   "source": [
    "idx = 0\n",
    "for k in pred_y2[-2]:\n",
    "    print(idx, round(k,3), word_le.classes_[idx])\n",
    "    idx += 1"
   ]
  },
  {
   "cell_type": "code",
   "execution_count": 64,
   "metadata": {},
   "outputs": [
    {
     "name": "stdout",
     "output_type": "stream",
     "text": [
      "0 0.0 bat\n",
      "1 0.003 cake\n",
      "2 0.0 candle\n",
      "3 0.013 carrot\n",
      "4 0.425 chandelier\n",
      "5 0.29 computer\n",
      "6 0.003 couch\n",
      "7 0.019 dog\n",
      "8 0.006 light bulb\n",
      "9 0.0 mermaid\n",
      "10 0.002 microphone\n",
      "11 0.0 monkey\n",
      "12 0.001 octopus\n",
      "13 0.008 pliers\n",
      "14 0.001 pond\n",
      "15 0.005 sea turtle\n",
      "16 0.0 snake\n",
      "17 0.223 television\n",
      "18 0.002 traffic light\n",
      "19 1.001 wine bottle\n"
     ]
    }
   ],
   "source": [
    "idx = 0\n",
    "for k in pred_Y[-1]:\n",
    "    print(idx, round(k,3), word_le.classes_[idx])\n",
    "    idx += 1"
   ]
  },
  {
   "cell_type": "code",
   "execution_count": 60,
   "metadata": {},
   "outputs": [
    {
     "data": {
      "text/plain": [
       "array([2.5486536e-04, 3.0175846e-03, 1.1960301e-04, 1.2662814e-02,\n",
       "       4.2450112e-01, 2.8996137e-01, 2.5722554e-03, 1.8832657e-02,\n",
       "       5.8219465e-03, 5.0084032e-05, 1.6801091e-03, 3.6757760e-05,\n",
       "       5.4587907e-04, 8.0404487e-03, 1.2511888e-03, 5.0523086e-03,\n",
       "       3.2677414e-04, 2.2281049e-01, 1.6710965e-03, 7.9062453e-04],\n",
       "      dtype=float32)"
      ]
     },
     "execution_count": 60,
     "metadata": {},
     "output_type": "execute_result"
    }
   ],
   "source": [
    "pred_y1[-1]"
   ]
  },
  {
   "cell_type": "code",
   "execution_count": null,
   "metadata": {},
   "outputs": [],
   "source": []
  },
  {
   "cell_type": "code",
   "execution_count": null,
   "metadata": {},
   "outputs": [],
   "source": []
  },
  {
   "cell_type": "code",
   "execution_count": 206,
   "metadata": {},
   "outputs": [],
   "source": [
    "pp1_name = []\n",
    "for i in range(len(pp1_idx)):\n",
    "    pp1_name.append(word_le.classes_[ppp1[pp1_idx[i]]])"
   ]
  },
  {
   "cell_type": "code",
   "execution_count": 207,
   "metadata": {},
   "outputs": [],
   "source": [
    "pp1_dict = Counter(pp1_name)\n",
    "\n",
    "pp1_df = pd.DataFrame()\n",
    "\n",
    "pp1_df['Key'] = pp1_dict.keys()\n",
    "pp1_df['Values'] = pp1_dict.values()"
   ]
  },
  {
   "cell_type": "code",
   "execution_count": 208,
   "metadata": {},
   "outputs": [],
   "source": [
    "pp1_df.sort_values([\"Values\"],ascending=False, inplace=True)"
   ]
  },
  {
   "cell_type": "code",
   "execution_count": 209,
   "metadata": {},
   "outputs": [],
   "source": [
    "pp1_df.reset_index(inplace=True, drop=True)"
   ]
  },
  {
   "cell_type": "code",
   "execution_count": 210,
   "metadata": {
    "scrolled": true
   },
   "outputs": [
    {
     "data": {
      "text/html": [
       "<div>\n",
       "<style scoped>\n",
       "    .dataframe tbody tr th:only-of-type {\n",
       "        vertical-align: middle;\n",
       "    }\n",
       "\n",
       "    .dataframe tbody tr th {\n",
       "        vertical-align: top;\n",
       "    }\n",
       "\n",
       "    .dataframe thead th {\n",
       "        text-align: right;\n",
       "    }\n",
       "</style>\n",
       "<table border=\"1\" class=\"dataframe\">\n",
       "  <thead>\n",
       "    <tr style=\"text-align: right;\">\n",
       "      <th></th>\n",
       "      <th>Key</th>\n",
       "      <th>Values</th>\n",
       "    </tr>\n",
       "  </thead>\n",
       "  <tbody>\n",
       "    <tr>\n",
       "      <th>0</th>\n",
       "      <td>dog</td>\n",
       "      <td>1301</td>\n",
       "    </tr>\n",
       "    <tr>\n",
       "      <th>1</th>\n",
       "      <td>pliers</td>\n",
       "      <td>1265</td>\n",
       "    </tr>\n",
       "    <tr>\n",
       "      <th>2</th>\n",
       "      <td>monkey</td>\n",
       "      <td>893</td>\n",
       "    </tr>\n",
       "    <tr>\n",
       "      <th>3</th>\n",
       "      <td>sea turtle</td>\n",
       "      <td>742</td>\n",
       "    </tr>\n",
       "    <tr>\n",
       "      <th>4</th>\n",
       "      <td>pond</td>\n",
       "      <td>607</td>\n",
       "    </tr>\n",
       "    <tr>\n",
       "      <th>5</th>\n",
       "      <td>mermaid</td>\n",
       "      <td>582</td>\n",
       "    </tr>\n",
       "    <tr>\n",
       "      <th>6</th>\n",
       "      <td>candle</td>\n",
       "      <td>553</td>\n",
       "    </tr>\n",
       "    <tr>\n",
       "      <th>7</th>\n",
       "      <td>carrot</td>\n",
       "      <td>540</td>\n",
       "    </tr>\n",
       "    <tr>\n",
       "      <th>8</th>\n",
       "      <td>snake</td>\n",
       "      <td>536</td>\n",
       "    </tr>\n",
       "    <tr>\n",
       "      <th>9</th>\n",
       "      <td>octopus</td>\n",
       "      <td>506</td>\n",
       "    </tr>\n",
       "    <tr>\n",
       "      <th>10</th>\n",
       "      <td>wine bottle</td>\n",
       "      <td>500</td>\n",
       "    </tr>\n",
       "    <tr>\n",
       "      <th>11</th>\n",
       "      <td>bat</td>\n",
       "      <td>493</td>\n",
       "    </tr>\n",
       "    <tr>\n",
       "      <th>12</th>\n",
       "      <td>computer</td>\n",
       "      <td>492</td>\n",
       "    </tr>\n",
       "    <tr>\n",
       "      <th>13</th>\n",
       "      <td>light bulb</td>\n",
       "      <td>476</td>\n",
       "    </tr>\n",
       "    <tr>\n",
       "      <th>14</th>\n",
       "      <td>cake</td>\n",
       "      <td>439</td>\n",
       "    </tr>\n",
       "    <tr>\n",
       "      <th>15</th>\n",
       "      <td>chandelier</td>\n",
       "      <td>416</td>\n",
       "    </tr>\n",
       "    <tr>\n",
       "      <th>16</th>\n",
       "      <td>television</td>\n",
       "      <td>408</td>\n",
       "    </tr>\n",
       "    <tr>\n",
       "      <th>17</th>\n",
       "      <td>microphone</td>\n",
       "      <td>341</td>\n",
       "    </tr>\n",
       "    <tr>\n",
       "      <th>18</th>\n",
       "      <td>couch</td>\n",
       "      <td>335</td>\n",
       "    </tr>\n",
       "    <tr>\n",
       "      <th>19</th>\n",
       "      <td>traffic light</td>\n",
       "      <td>137</td>\n",
       "    </tr>\n",
       "  </tbody>\n",
       "</table>\n",
       "</div>"
      ],
      "text/plain": [
       "              Key  Values\n",
       "0             dog    1301\n",
       "1          pliers    1265\n",
       "2          monkey     893\n",
       "3      sea turtle     742\n",
       "4            pond     607\n",
       "5         mermaid     582\n",
       "6          candle     553\n",
       "7          carrot     540\n",
       "8           snake     536\n",
       "9         octopus     506\n",
       "10    wine bottle     500\n",
       "11            bat     493\n",
       "12       computer     492\n",
       "13     light bulb     476\n",
       "14           cake     439\n",
       "15     chandelier     416\n",
       "16     television     408\n",
       "17     microphone     341\n",
       "18          couch     335\n",
       "19  traffic light     137"
      ]
     },
     "execution_count": 210,
     "metadata": {},
     "output_type": "execute_result"
    }
   ],
   "source": [
    "pp1_df"
   ]
  },
  {
   "cell_type": "code",
   "execution_count": null,
   "metadata": {},
   "outputs": [],
   "source": []
  },
  {
   "cell_type": "code",
   "execution_count": null,
   "metadata": {},
   "outputs": [],
   "source": []
  },
  {
   "cell_type": "code",
   "execution_count": 211,
   "metadata": {},
   "outputs": [],
   "source": [
    "pp2_name = []\n",
    "for i in range(len(pp2_idx)):\n",
    "    pp2_name.append(word_le.classes_[ppp2[pp2_idx[i]]])"
   ]
  },
  {
   "cell_type": "code",
   "execution_count": 212,
   "metadata": {},
   "outputs": [],
   "source": [
    "pp2_dict = Counter(pp2_name)\n",
    "\n",
    "pp2_df = pd.DataFrame()\n",
    "\n",
    "pp2_df['Key'] = pp2_dict.keys()\n",
    "pp2_df['Values'] = pp2_dict.values()"
   ]
  },
  {
   "cell_type": "code",
   "execution_count": 213,
   "metadata": {},
   "outputs": [],
   "source": [
    "pp2_df.sort_values([\"Values\"],ascending=False, inplace=True)"
   ]
  },
  {
   "cell_type": "code",
   "execution_count": 214,
   "metadata": {},
   "outputs": [],
   "source": [
    "pp2_df.reset_index(inplace=True, drop=True)"
   ]
  },
  {
   "cell_type": "code",
   "execution_count": 215,
   "metadata": {
    "scrolled": true
   },
   "outputs": [
    {
     "data": {
      "text/html": [
       "<div>\n",
       "<style scoped>\n",
       "    .dataframe tbody tr th:only-of-type {\n",
       "        vertical-align: middle;\n",
       "    }\n",
       "\n",
       "    .dataframe tbody tr th {\n",
       "        vertical-align: top;\n",
       "    }\n",
       "\n",
       "    .dataframe thead th {\n",
       "        text-align: right;\n",
       "    }\n",
       "</style>\n",
       "<table border=\"1\" class=\"dataframe\">\n",
       "  <thead>\n",
       "    <tr style=\"text-align: right;\">\n",
       "      <th></th>\n",
       "      <th>Key</th>\n",
       "      <th>Values</th>\n",
       "    </tr>\n",
       "  </thead>\n",
       "  <tbody>\n",
       "    <tr>\n",
       "      <th>0</th>\n",
       "      <td>dog</td>\n",
       "      <td>1049</td>\n",
       "    </tr>\n",
       "    <tr>\n",
       "      <th>1</th>\n",
       "      <td>pliers</td>\n",
       "      <td>994</td>\n",
       "    </tr>\n",
       "    <tr>\n",
       "      <th>2</th>\n",
       "      <td>monkey</td>\n",
       "      <td>899</td>\n",
       "    </tr>\n",
       "    <tr>\n",
       "      <th>3</th>\n",
       "      <td>bat</td>\n",
       "      <td>840</td>\n",
       "    </tr>\n",
       "    <tr>\n",
       "      <th>4</th>\n",
       "      <td>pond</td>\n",
       "      <td>752</td>\n",
       "    </tr>\n",
       "    <tr>\n",
       "      <th>5</th>\n",
       "      <td>snake</td>\n",
       "      <td>736</td>\n",
       "    </tr>\n",
       "    <tr>\n",
       "      <th>6</th>\n",
       "      <td>mermaid</td>\n",
       "      <td>718</td>\n",
       "    </tr>\n",
       "    <tr>\n",
       "      <th>7</th>\n",
       "      <td>microphone</td>\n",
       "      <td>513</td>\n",
       "    </tr>\n",
       "    <tr>\n",
       "      <th>8</th>\n",
       "      <td>computer</td>\n",
       "      <td>416</td>\n",
       "    </tr>\n",
       "    <tr>\n",
       "      <th>9</th>\n",
       "      <td>cake</td>\n",
       "      <td>409</td>\n",
       "    </tr>\n",
       "    <tr>\n",
       "      <th>10</th>\n",
       "      <td>sea turtle</td>\n",
       "      <td>381</td>\n",
       "    </tr>\n",
       "    <tr>\n",
       "      <th>11</th>\n",
       "      <td>chandelier</td>\n",
       "      <td>343</td>\n",
       "    </tr>\n",
       "    <tr>\n",
       "      <th>12</th>\n",
       "      <td>carrot</td>\n",
       "      <td>299</td>\n",
       "    </tr>\n",
       "    <tr>\n",
       "      <th>13</th>\n",
       "      <td>traffic light</td>\n",
       "      <td>254</td>\n",
       "    </tr>\n",
       "    <tr>\n",
       "      <th>14</th>\n",
       "      <td>candle</td>\n",
       "      <td>228</td>\n",
       "    </tr>\n",
       "    <tr>\n",
       "      <th>15</th>\n",
       "      <td>light bulb</td>\n",
       "      <td>210</td>\n",
       "    </tr>\n",
       "    <tr>\n",
       "      <th>16</th>\n",
       "      <td>television</td>\n",
       "      <td>210</td>\n",
       "    </tr>\n",
       "    <tr>\n",
       "      <th>17</th>\n",
       "      <td>octopus</td>\n",
       "      <td>199</td>\n",
       "    </tr>\n",
       "    <tr>\n",
       "      <th>18</th>\n",
       "      <td>couch</td>\n",
       "      <td>186</td>\n",
       "    </tr>\n",
       "    <tr>\n",
       "      <th>19</th>\n",
       "      <td>wine bottle</td>\n",
       "      <td>2</td>\n",
       "    </tr>\n",
       "  </tbody>\n",
       "</table>\n",
       "</div>"
      ],
      "text/plain": [
       "              Key  Values\n",
       "0             dog    1049\n",
       "1          pliers     994\n",
       "2          monkey     899\n",
       "3             bat     840\n",
       "4            pond     752\n",
       "5           snake     736\n",
       "6         mermaid     718\n",
       "7      microphone     513\n",
       "8        computer     416\n",
       "9            cake     409\n",
       "10     sea turtle     381\n",
       "11     chandelier     343\n",
       "12         carrot     299\n",
       "13  traffic light     254\n",
       "14         candle     228\n",
       "15     light bulb     210\n",
       "16     television     210\n",
       "17        octopus     199\n",
       "18          couch     186\n",
       "19    wine bottle       2"
      ]
     },
     "execution_count": 215,
     "metadata": {},
     "output_type": "execute_result"
    }
   ],
   "source": [
    "pp2_df"
   ]
  },
  {
   "cell_type": "code",
   "execution_count": null,
   "metadata": {},
   "outputs": [],
   "source": []
  },
  {
   "cell_type": "code",
   "execution_count": null,
   "metadata": {},
   "outputs": [],
   "source": []
  },
  {
   "cell_type": "code",
   "execution_count": 184,
   "metadata": {},
   "outputs": [],
   "source": [
    "pp_name = []\n",
    "for i in range(len(pp_idx)):\n",
    "    pp_name.append(word_le.classes_[PPP[pp_idx[i]]])"
   ]
  },
  {
   "cell_type": "code",
   "execution_count": 186,
   "metadata": {},
   "outputs": [],
   "source": [
    "pp_dict = Counter(pp_name)"
   ]
  },
  {
   "cell_type": "code",
   "execution_count": 202,
   "metadata": {},
   "outputs": [],
   "source": [
    "pp_df = pd.DataFrame()\n",
    "\n",
    "pp_df['Key'] = pp_dict.keys()\n",
    "pp_df['Values'] = pp_dict.values()"
   ]
  },
  {
   "cell_type": "code",
   "execution_count": 203,
   "metadata": {
    "scrolled": true
   },
   "outputs": [],
   "source": [
    "pp_df.sort_values([\"Values\"],ascending=False, inplace=True)"
   ]
  },
  {
   "cell_type": "code",
   "execution_count": 204,
   "metadata": {},
   "outputs": [],
   "source": [
    "pp_df.reset_index(inplace=True, drop=True)"
   ]
  },
  {
   "cell_type": "code",
   "execution_count": 205,
   "metadata": {
    "scrolled": true
   },
   "outputs": [
    {
     "data": {
      "text/html": [
       "<div>\n",
       "<style scoped>\n",
       "    .dataframe tbody tr th:only-of-type {\n",
       "        vertical-align: middle;\n",
       "    }\n",
       "\n",
       "    .dataframe tbody tr th {\n",
       "        vertical-align: top;\n",
       "    }\n",
       "\n",
       "    .dataframe thead th {\n",
       "        text-align: right;\n",
       "    }\n",
       "</style>\n",
       "<table border=\"1\" class=\"dataframe\">\n",
       "  <thead>\n",
       "    <tr style=\"text-align: right;\">\n",
       "      <th></th>\n",
       "      <th>Key</th>\n",
       "      <th>Values</th>\n",
       "    </tr>\n",
       "  </thead>\n",
       "  <tbody>\n",
       "    <tr>\n",
       "      <th>0</th>\n",
       "      <td>dog</td>\n",
       "      <td>760</td>\n",
       "    </tr>\n",
       "    <tr>\n",
       "      <th>1</th>\n",
       "      <td>pliers</td>\n",
       "      <td>702</td>\n",
       "    </tr>\n",
       "    <tr>\n",
       "      <th>2</th>\n",
       "      <td>monkey</td>\n",
       "      <td>557</td>\n",
       "    </tr>\n",
       "    <tr>\n",
       "      <th>3</th>\n",
       "      <td>bat</td>\n",
       "      <td>532</td>\n",
       "    </tr>\n",
       "    <tr>\n",
       "      <th>4</th>\n",
       "      <td>snake</td>\n",
       "      <td>469</td>\n",
       "    </tr>\n",
       "    <tr>\n",
       "      <th>5</th>\n",
       "      <td>pond</td>\n",
       "      <td>430</td>\n",
       "    </tr>\n",
       "    <tr>\n",
       "      <th>6</th>\n",
       "      <td>mermaid</td>\n",
       "      <td>409</td>\n",
       "    </tr>\n",
       "    <tr>\n",
       "      <th>7</th>\n",
       "      <td>computer</td>\n",
       "      <td>352</td>\n",
       "    </tr>\n",
       "    <tr>\n",
       "      <th>8</th>\n",
       "      <td>sea turtle</td>\n",
       "      <td>326</td>\n",
       "    </tr>\n",
       "    <tr>\n",
       "      <th>9</th>\n",
       "      <td>microphone</td>\n",
       "      <td>292</td>\n",
       "    </tr>\n",
       "    <tr>\n",
       "      <th>10</th>\n",
       "      <td>cake</td>\n",
       "      <td>229</td>\n",
       "    </tr>\n",
       "    <tr>\n",
       "      <th>11</th>\n",
       "      <td>chandelier</td>\n",
       "      <td>227</td>\n",
       "    </tr>\n",
       "    <tr>\n",
       "      <th>12</th>\n",
       "      <td>carrot</td>\n",
       "      <td>215</td>\n",
       "    </tr>\n",
       "    <tr>\n",
       "      <th>13</th>\n",
       "      <td>light bulb</td>\n",
       "      <td>196</td>\n",
       "    </tr>\n",
       "    <tr>\n",
       "      <th>14</th>\n",
       "      <td>octopus</td>\n",
       "      <td>192</td>\n",
       "    </tr>\n",
       "    <tr>\n",
       "      <th>15</th>\n",
       "      <td>television</td>\n",
       "      <td>181</td>\n",
       "    </tr>\n",
       "    <tr>\n",
       "      <th>16</th>\n",
       "      <td>candle</td>\n",
       "      <td>170</td>\n",
       "    </tr>\n",
       "    <tr>\n",
       "      <th>17</th>\n",
       "      <td>couch</td>\n",
       "      <td>149</td>\n",
       "    </tr>\n",
       "    <tr>\n",
       "      <th>18</th>\n",
       "      <td>traffic light</td>\n",
       "      <td>122</td>\n",
       "    </tr>\n",
       "    <tr>\n",
       "      <th>19</th>\n",
       "      <td>wine bottle</td>\n",
       "      <td>84</td>\n",
       "    </tr>\n",
       "  </tbody>\n",
       "</table>\n",
       "</div>"
      ],
      "text/plain": [
       "              Key  Values\n",
       "0             dog     760\n",
       "1          pliers     702\n",
       "2          monkey     557\n",
       "3             bat     532\n",
       "4           snake     469\n",
       "5            pond     430\n",
       "6         mermaid     409\n",
       "7        computer     352\n",
       "8      sea turtle     326\n",
       "9      microphone     292\n",
       "10           cake     229\n",
       "11     chandelier     227\n",
       "12         carrot     215\n",
       "13     light bulb     196\n",
       "14        octopus     192\n",
       "15     television     181\n",
       "16         candle     170\n",
       "17          couch     149\n",
       "18  traffic light     122\n",
       "19    wine bottle      84"
      ]
     },
     "execution_count": 205,
     "metadata": {},
     "output_type": "execute_result"
    }
   ],
   "source": [
    "pp_df"
   ]
  },
  {
   "cell_type": "code",
   "execution_count": null,
   "metadata": {},
   "outputs": [],
   "source": []
  },
  {
   "cell_type": "code",
   "execution_count": null,
   "metadata": {},
   "outputs": [],
   "source": []
  },
  {
   "cell_type": "code",
   "execution_count": 140,
   "metadata": {},
   "outputs": [
    {
     "data": {
      "text/plain": [
       "7"
      ]
     },
     "execution_count": 140,
     "metadata": {},
     "output_type": "execute_result"
    }
   ],
   "source": [
    "ppp1[target_idx[0]]"
   ]
  },
  {
   "cell_type": "code",
   "execution_count": 141,
   "metadata": {},
   "outputs": [
    {
     "data": {
      "text/plain": [
       "13"
      ]
     },
     "execution_count": 141,
     "metadata": {},
     "output_type": "execute_result"
    }
   ],
   "source": [
    "ppp2[target_idx[0]]"
   ]
  },
  {
   "cell_type": "code",
   "execution_count": 143,
   "metadata": {},
   "outputs": [
    {
     "data": {
      "text/plain": [
       "11"
      ]
     },
     "execution_count": 143,
     "metadata": {},
     "output_type": "execute_result"
    }
   ],
   "source": [
    "PPP[target_idx[0]]"
   ]
  },
  {
   "cell_type": "code",
   "execution_count": 142,
   "metadata": {},
   "outputs": [
    {
     "data": {
      "text/plain": [
       "11"
      ]
     },
     "execution_count": 142,
     "metadata": {},
     "output_type": "execute_result"
    }
   ],
   "source": [
    "ttt[target_idx[0]]"
   ]
  },
  {
   "cell_type": "code",
   "execution_count": 154,
   "metadata": {
    "scrolled": true
   },
   "outputs": [
    {
     "name": "stdout",
     "output_type": "stream",
     "text": [
      "0 0.002 bat\n",
      "1 0.0 cake\n",
      "2 0.0 candle\n",
      "3 0.0 carrot\n",
      "4 0.0 chandelier\n",
      "5 0.0 computer\n",
      "6 0.0 couch\n",
      "7 0.499 dog\n",
      "8 0.0 light bulb\n",
      "9 0.024 mermaid\n",
      "10 0.001 microphone\n",
      "11 0.466 monkey\n",
      "12 0.001 octopus\n",
      "13 0.002 pliers\n",
      "14 0.0 pond\n",
      "15 0.004 sea turtle\n",
      "16 0.0 snake\n",
      "17 0.0 television\n",
      "18 0.0 traffic light\n",
      "19 0.0 wine bottle\n"
     ]
    }
   ],
   "source": [
    "idx = 0\n",
    "for k in pred_y1[target_idx[0]]:\n",
    "    print(idx, round(k,3), word_le.classes_[idx])\n",
    "    idx += 1"
   ]
  },
  {
   "cell_type": "code",
   "execution_count": 155,
   "metadata": {},
   "outputs": [
    {
     "name": "stdout",
     "output_type": "stream",
     "text": [
      "0 0.013 bat\n",
      "1 0.003 cake\n",
      "2 0.017 candle\n",
      "3 0.12 carrot\n",
      "4 0.014 chandelier\n",
      "5 0.002 computer\n",
      "6 0.001 couch\n",
      "7 0.064 dog\n",
      "8 0.004 light bulb\n",
      "9 0.246 mermaid\n",
      "10 0.066 microphone\n",
      "11 0.12 monkey\n",
      "12 0.019 octopus\n",
      "13 0.27 pliers\n",
      "14 0.005 pond\n",
      "15 0.001 sea turtle\n",
      "16 0.029 snake\n",
      "17 0.006 television\n",
      "18 0.002 traffic light\n",
      "19 0.0 wine bottle\n"
     ]
    }
   ],
   "source": [
    "idx = 0\n",
    "for k in pred_y2[target_idx[0]]:\n",
    "    print(idx, round(k,3), word_le.classes_[idx])\n",
    "    idx += 1"
   ]
  },
  {
   "cell_type": "code",
   "execution_count": 156,
   "metadata": {},
   "outputs": [
    {
     "name": "stdout",
     "output_type": "stream",
     "text": [
      "0 0.014 bat\n",
      "1 0.003 cake\n",
      "2 0.017 candle\n",
      "3 0.12 carrot\n",
      "4 0.015 chandelier\n",
      "5 0.002 computer\n",
      "6 0.001 couch\n",
      "7 0.563 dog\n",
      "8 0.004 light bulb\n",
      "9 0.269 mermaid\n",
      "10 0.068 microphone\n",
      "11 0.586 monkey\n",
      "12 0.02 octopus\n",
      "13 0.272 pliers\n",
      "14 0.005 pond\n",
      "15 0.005 sea turtle\n",
      "16 0.029 snake\n",
      "17 0.006 television\n",
      "18 0.003 traffic light\n",
      "19 0.0 wine bottle\n"
     ]
    }
   ],
   "source": [
    "idx = 0\n",
    "for k in pred_Y[target_idx[0]]:\n",
    "    print(idx, round(k,3), word_le.classes_[idx])\n",
    "    idx += 1"
   ]
  },
  {
   "cell_type": "code",
   "execution_count": 115,
   "metadata": {},
   "outputs": [
    {
     "data": {
      "text/plain": [
       "15"
      ]
     },
     "execution_count": 115,
     "metadata": {},
     "output_type": "execute_result"
    }
   ],
   "source": [
    "ppp2[inter_idx[0]]"
   ]
  },
  {
   "cell_type": "code",
   "execution_count": 116,
   "metadata": {},
   "outputs": [
    {
     "data": {
      "text/plain": [
       "7"
      ]
     },
     "execution_count": 116,
     "metadata": {},
     "output_type": "execute_result"
    }
   ],
   "source": [
    "ttt[inter_idx[0]]"
   ]
  },
  {
   "cell_type": "code",
   "execution_count": null,
   "metadata": {},
   "outputs": [],
   "source": []
  },
  {
   "cell_type": "code",
   "execution_count": null,
   "metadata": {},
   "outputs": [],
   "source": []
  },
  {
   "cell_type": "markdown",
   "metadata": {},
   "source": [
    "##  이미지 그리기"
   ]
  },
  {
   "cell_type": "code",
   "execution_count": 163,
   "metadata": {
    "scrolled": true
   },
   "outputs": [
    {
     "data": {
      "text/plain": [
       "[[[40,\n",
       "   45,\n",
       "   37,\n",
       "   1,\n",
       "   0,\n",
       "   8,\n",
       "   15,\n",
       "   28,\n",
       "   84,\n",
       "   109,\n",
       "   127,\n",
       "   132,\n",
       "   136,\n",
       "   136,\n",
       "   133,\n",
       "   125,\n",
       "   78,\n",
       "   62,\n",
       "   58,\n",
       "   61,\n",
       "   59,\n",
       "   48,\n",
       "   32],\n",
       "  [7,\n",
       "   82,\n",
       "   92,\n",
       "   120,\n",
       "   162,\n",
       "   226,\n",
       "   245,\n",
       "   251,\n",
       "   255,\n",
       "   248,\n",
       "   236,\n",
       "   223,\n",
       "   147,\n",
       "   121,\n",
       "   103,\n",
       "   93,\n",
       "   83,\n",
       "   75,\n",
       "   62,\n",
       "   5,\n",
       "   1,\n",
       "   0,\n",
       "   11]]]"
      ]
     },
     "execution_count": 163,
     "metadata": {},
     "output_type": "execute_result"
    }
   ],
   "source": [
    "eval(test.loc[target_idx[0],\"drawing\"])"
   ]
  },
  {
   "cell_type": "code",
   "execution_count": 227,
   "metadata": {},
   "outputs": [],
   "source": [
    "tt = test.reset_index(drop=True)"
   ]
  },
  {
   "cell_type": "code",
   "execution_count": 57,
   "metadata": {},
   "outputs": [
    {
     "name": "stdout",
     "output_type": "stream",
     "text": [
      "television\n"
     ]
    },
    {
     "data": {
      "image/png": "[encoded data removed]",
      "text/plain": [
       "<Figure size 432x288 with 1 Axes>"
      ]
     },
     "metadata": {
      "needs_background": "light"
     },
     "output_type": "display_data"
    }
   ],
   "source": [
    "ii = 0\n",
    "raw_images = eval(bb.loc[149999,\"drawing\"])\n",
    "\n",
    "k = 0\n",
    "print(bb.loc[149999,\"word\"])\n",
    "for i in range(len(raw_images)):\n",
    "    plt.plot(raw_images[i][0], raw_images[i][1],'o-')\n",
    "plt.show()"
   ]
  },
  {
   "cell_type": "code",
   "execution_count": 58,
   "metadata": {},
   "outputs": [
    {
     "name": "stdout",
     "output_type": "stream",
     "text": [
      "dog\n"
     ]
    },
    {
     "data": {
      "image/png": "[encoded data removed]",
      "text/plain": [
       "<Figure size 432x288 with 1 Axes>"
      ]
     },
     "metadata": {
      "needs_background": "light"
     },
     "output_type": "display_data"
    }
   ],
   "source": [
    "ii = 0\n",
    "raw_images = eval(bb.loc[149998,\"drawing\"])\n",
    "\n",
    "k = 0\n",
    "print(bb.loc[149998,\"word\"])\n",
    "for i in range(len(raw_images)):\n",
    "    plt.plot(raw_images[i][0], raw_images[i][1],'o-')\n",
    "plt.show()"
   ]
  },
  {
   "cell_type": "code",
   "execution_count": null,
   "metadata": {},
   "outputs": [],
   "source": []
  },
  {
   "cell_type": "code",
   "execution_count": null,
   "metadata": {},
   "outputs": [],
   "source": []
  },
  {
   "cell_type": "code",
   "execution_count": 171,
   "metadata": {},
   "outputs": [
    {
     "ename": "NameError",
     "evalue": "name 'train_df' is not defined",
     "output_type": "error",
     "traceback": [
      "\u001b[1;31m---------------------------------------------------------------------------\u001b[0m",
      "\u001b[1;31mNameError\u001b[0m                                 Traceback (most recent call last)",
      "\u001b[1;32m<ipython-input-171-4ee7fa305e14>\u001b[0m in \u001b[0;36m<module>\u001b[1;34m\u001b[0m\n\u001b[0;32m      3\u001b[0m     \u001b[0my\u001b[0m \u001b[1;33m=\u001b[0m \u001b[0mto_categorical\u001b[0m\u001b[1;33m(\u001b[0m\u001b[0mword_encoder\u001b[0m\u001b[1;33m.\u001b[0m\u001b[0mtransform\u001b[0m\u001b[1;33m(\u001b[0m\u001b[0min_df\u001b[0m\u001b[1;33m[\u001b[0m\u001b[1;34m'word'\u001b[0m\u001b[1;33m]\u001b[0m\u001b[1;33m.\u001b[0m\u001b[0mvalues\u001b[0m\u001b[1;33m)\u001b[0m\u001b[1;33m)\u001b[0m\u001b[1;33m\u001b[0m\u001b[0m\n\u001b[0;32m      4\u001b[0m     \u001b[1;32mreturn\u001b[0m \u001b[0mX\u001b[0m\u001b[1;33m,\u001b[0m \u001b[0my\u001b[0m\u001b[1;33m\u001b[0m\u001b[0m\n\u001b[1;32m----> 5\u001b[1;33m \u001b[0mtrain_X\u001b[0m\u001b[1;33m,\u001b[0m \u001b[0mtrain_y\u001b[0m \u001b[1;33m=\u001b[0m \u001b[0mget_Xy\u001b[0m\u001b[1;33m(\u001b[0m\u001b[0mtrain_df\u001b[0m\u001b[1;33m)\u001b[0m\u001b[1;33m\u001b[0m\u001b[0m\n\u001b[0m\u001b[0;32m      6\u001b[0m \u001b[0mvalid_X\u001b[0m\u001b[1;33m,\u001b[0m \u001b[0mvalid_y\u001b[0m \u001b[1;33m=\u001b[0m \u001b[0mget_Xy\u001b[0m\u001b[1;33m(\u001b[0m\u001b[0mvalid_df\u001b[0m\u001b[1;33m)\u001b[0m\u001b[1;33m\u001b[0m\u001b[0m\n\u001b[0;32m      7\u001b[0m \u001b[0mtest_X\u001b[0m\u001b[1;33m,\u001b[0m \u001b[0mtest_y\u001b[0m \u001b[1;33m=\u001b[0m \u001b[0mget_Xy\u001b[0m\u001b[1;33m(\u001b[0m\u001b[0mtest_df\u001b[0m\u001b[1;33m)\u001b[0m\u001b[1;33m\u001b[0m\u001b[0m\n",
      "\u001b[1;31mNameError\u001b[0m: name 'train_df' is not defined"
     ]
    }
   ],
   "source": [
    "def get_Xy(in_df):\n",
    "    X = np.stack(in_df['drawing'], 0)\n",
    "    y = to_categorical(word_encoder.transform(in_df['word'].values))\n",
    "    return X, y\n",
    "train_X, train_y = get_Xy(train_df)\n",
    "valid_X, valid_y = get_Xy(valid_df)\n",
    "test_X, test_y = get_Xy(test_df)\n",
    "print(train_X.shape)"
   ]
  },
  {
   "cell_type": "code",
   "execution_count": null,
   "metadata": {},
   "outputs": [],
   "source": []
  },
  {
   "cell_type": "code",
   "execution_count": null,
   "metadata": {},
   "outputs": [],
   "source": []
  },
  {
   "cell_type": "code",
   "execution_count": 108,
   "metadata": {
    "collapsed": true
   },
   "outputs": [
    {
     "ename": "ValueError",
     "evalue": "Axis -1 of input tensor should have a defined dimension but the layer received an input with shape (None, None).",
     "output_type": "error",
     "traceback": [
      "\u001b[1;31m---------------------------------------------------------------------------\u001b[0m",
      "\u001b[1;31mValueError\u001b[0m                                Traceback (most recent call last)",
      "\u001b[1;32m<ipython-input-108-b80e3d33e5dc>\u001b[0m in \u001b[0;36m<module>\u001b[1;34m\u001b[0m\n\u001b[0;32m      1\u001b[0m \u001b[0mstroke_read_model\u001b[0m \u001b[1;33m=\u001b[0m \u001b[0mSequential\u001b[0m\u001b[1;33m(\u001b[0m\u001b[1;33m)\u001b[0m\u001b[1;33m\u001b[0m\u001b[0m\n\u001b[1;32m----> 2\u001b[1;33m \u001b[0mstroke_read_model\u001b[0m\u001b[1;33m.\u001b[0m\u001b[0madd\u001b[0m\u001b[1;33m(\u001b[0m\u001b[0mBatchNormalization\u001b[0m\u001b[1;33m(\u001b[0m\u001b[0minput_shape\u001b[0m \u001b[1;33m=\u001b[0m \u001b[1;33m(\u001b[0m\u001b[1;32mNone\u001b[0m\u001b[1;33m,\u001b[0m\u001b[1;33m)\u001b[0m\u001b[1;33m)\u001b[0m\u001b[1;33m)\u001b[0m\u001b[1;33m\u001b[0m\u001b[0m\n\u001b[0m\u001b[0;32m      3\u001b[0m \u001b[1;31m# filter count and length are taken from the script https://github.com/tensorflow/models/blob/master/tutorials/rnn/quickdraw/train_model.py\u001b[0m\u001b[1;33m\u001b[0m\u001b[1;33m\u001b[0m\u001b[0m\n\u001b[0;32m      4\u001b[0m \u001b[0mstroke_read_model\u001b[0m\u001b[1;33m.\u001b[0m\u001b[0madd\u001b[0m\u001b[1;33m(\u001b[0m\u001b[0mConv1D\u001b[0m\u001b[1;33m(\u001b[0m\u001b[1;36m48\u001b[0m\u001b[1;33m,\u001b[0m \u001b[1;33m(\u001b[0m\u001b[1;36m5\u001b[0m\u001b[1;33m,\u001b[0m\u001b[1;33m)\u001b[0m\u001b[1;33m)\u001b[0m\u001b[1;33m)\u001b[0m\u001b[1;33m\u001b[0m\u001b[0m\n\u001b[0;32m      5\u001b[0m \u001b[0mstroke_read_model\u001b[0m\u001b[1;33m.\u001b[0m\u001b[0madd\u001b[0m\u001b[1;33m(\u001b[0m\u001b[0mDropout\u001b[0m\u001b[1;33m(\u001b[0m\u001b[1;36m0.3\u001b[0m\u001b[1;33m)\u001b[0m\u001b[1;33m)\u001b[0m\u001b[1;33m\u001b[0m\u001b[0m\n",
      "\u001b[1;32mC:\\Users\\julia\\Desktop\\tf\\lib\\site-packages\\keras\\engine\\sequential.py\u001b[0m in \u001b[0;36madd\u001b[1;34m(self, layer)\u001b[0m\n\u001b[0;32m    164\u001b[0m                     \u001b[1;31m# and create the node connecting the current layer\u001b[0m\u001b[1;33m\u001b[0m\u001b[1;33m\u001b[0m\u001b[0m\n\u001b[0;32m    165\u001b[0m                     \u001b[1;31m# to the input layer we just created.\u001b[0m\u001b[1;33m\u001b[0m\u001b[1;33m\u001b[0m\u001b[0m\n\u001b[1;32m--> 166\u001b[1;33m                     \u001b[0mlayer\u001b[0m\u001b[1;33m(\u001b[0m\u001b[0mx\u001b[0m\u001b[1;33m)\u001b[0m\u001b[1;33m\u001b[0m\u001b[0m\n\u001b[0m\u001b[0;32m    167\u001b[0m                     \u001b[0mset_inputs\u001b[0m \u001b[1;33m=\u001b[0m \u001b[1;32mTrue\u001b[0m\u001b[1;33m\u001b[0m\u001b[0m\n\u001b[0;32m    168\u001b[0m             \u001b[1;32melse\u001b[0m\u001b[1;33m:\u001b[0m\u001b[1;33m\u001b[0m\u001b[0m\n",
      "\u001b[1;32mC:\\Users\\julia\\Desktop\\tf\\lib\\site-packages\\keras\\backend\\tensorflow_backend.py\u001b[0m in \u001b[0;36msymbolic_fn_wrapper\u001b[1;34m(*args, **kwargs)\u001b[0m\n\u001b[0;32m     73\u001b[0m         \u001b[1;32mif\u001b[0m \u001b[0m_SYMBOLIC_SCOPE\u001b[0m\u001b[1;33m.\u001b[0m\u001b[0mvalue\u001b[0m\u001b[1;33m:\u001b[0m\u001b[1;33m\u001b[0m\u001b[0m\n\u001b[0;32m     74\u001b[0m             \u001b[1;32mwith\u001b[0m \u001b[0mget_graph\u001b[0m\u001b[1;33m(\u001b[0m\u001b[1;33m)\u001b[0m\u001b[1;33m.\u001b[0m\u001b[0mas_default\u001b[0m\u001b[1;33m(\u001b[0m\u001b[1;33m)\u001b[0m\u001b[1;33m:\u001b[0m\u001b[1;33m\u001b[0m\u001b[0m\n\u001b[1;32m---> 75\u001b[1;33m                 \u001b[1;32mreturn\u001b[0m \u001b[0mfunc\u001b[0m\u001b[1;33m(\u001b[0m\u001b[1;33m*\u001b[0m\u001b[0margs\u001b[0m\u001b[1;33m,\u001b[0m \u001b[1;33m**\u001b[0m\u001b[0mkwargs\u001b[0m\u001b[1;33m)\u001b[0m\u001b[1;33m\u001b[0m\u001b[0m\n\u001b[0m\u001b[0;32m     76\u001b[0m         \u001b[1;32melse\u001b[0m\u001b[1;33m:\u001b[0m\u001b[1;33m\u001b[0m\u001b[0m\n\u001b[0;32m     77\u001b[0m             \u001b[1;32mreturn\u001b[0m \u001b[0mfunc\u001b[0m\u001b[1;33m(\u001b[0m\u001b[1;33m*\u001b[0m\u001b[0margs\u001b[0m\u001b[1;33m,\u001b[0m \u001b[1;33m**\u001b[0m\u001b[0mkwargs\u001b[0m\u001b[1;33m)\u001b[0m\u001b[1;33m\u001b[0m\u001b[0m\n",
      "\u001b[1;32mC:\\Users\\julia\\Desktop\\tf\\lib\\site-packages\\keras\\engine\\base_layer.py\u001b[0m in \u001b[0;36m__call__\u001b[1;34m(self, inputs, **kwargs)\u001b[0m\n\u001b[0;32m    461\u001b[0m                                          \u001b[1;34m'You can build it manually via: '\u001b[0m\u001b[1;33m\u001b[0m\u001b[0m\n\u001b[0;32m    462\u001b[0m                                          '`layer.build(batch_input_shape)`')\n\u001b[1;32m--> 463\u001b[1;33m                 \u001b[0mself\u001b[0m\u001b[1;33m.\u001b[0m\u001b[0mbuild\u001b[0m\u001b[1;33m(\u001b[0m\u001b[0munpack_singleton\u001b[0m\u001b[1;33m(\u001b[0m\u001b[0minput_shapes\u001b[0m\u001b[1;33m)\u001b[0m\u001b[1;33m)\u001b[0m\u001b[1;33m\u001b[0m\u001b[0m\n\u001b[0m\u001b[0;32m    464\u001b[0m                 \u001b[0mself\u001b[0m\u001b[1;33m.\u001b[0m\u001b[0mbuilt\u001b[0m \u001b[1;33m=\u001b[0m \u001b[1;32mTrue\u001b[0m\u001b[1;33m\u001b[0m\u001b[0m\n\u001b[0;32m    465\u001b[0m \u001b[1;33m\u001b[0m\u001b[0m\n",
      "\u001b[1;32mC:\\Users\\julia\\Desktop\\tf\\lib\\site-packages\\keras\\layers\\normalization.py\u001b[0m in \u001b[0;36mbuild\u001b[1;34m(self, input_shape)\u001b[0m\n\u001b[0;32m     97\u001b[0m                              \u001b[1;34m'input tensor should have a defined dimension '\u001b[0m\u001b[1;33m\u001b[0m\u001b[0m\n\u001b[0;32m     98\u001b[0m                              \u001b[1;34m'but the layer received an input with shape '\u001b[0m \u001b[1;33m+\u001b[0m\u001b[1;33m\u001b[0m\u001b[0m\n\u001b[1;32m---> 99\u001b[1;33m                              str(input_shape) + '.')\n\u001b[0m\u001b[0;32m    100\u001b[0m         self.input_spec = InputSpec(ndim=len(input_shape),\n\u001b[0;32m    101\u001b[0m                                     axes={self.axis: dim})\n",
      "\u001b[1;31mValueError\u001b[0m: Axis -1 of input tensor should have a defined dimension but the layer received an input with shape (None, None)."
     ]
    }
   ],
   "source": [
    "\n",
    "stroke_read_model = Sequential()\n",
    "stroke_read_model.add(BatchNormalization(input_shape = (None,)))\n",
    "# filter count and length are taken from the script https://github.com/tensorflow/models/blob/master/tutorials/rnn/quickdraw/train_model.py\n",
    "stroke_read_model.add(Conv1D(48, (5,)))\n",
    "stroke_read_model.add(Dropout(0.3))\n",
    "stroke_read_model.add(Conv1D(64, (5,)))\n",
    "stroke_read_model.add(Dropout(0.3))\n",
    "stroke_read_model.add(Conv1D(96, (3,)))\n",
    "stroke_read_model.add(Dropout(0.3))\n",
    "stroke_read_model.add(LSTM(128, return_sequences = True))\n",
    "stroke_read_model.add(Dropout(0.3))\n",
    "stroke_read_model.add(LSTM(128, return_sequences = False))\n",
    "stroke_read_model.add(Dropout(0.3))\n",
    "stroke_read_model.add(Dense(512))\n",
    "stroke_read_model.add(Dropout(0.3))\n",
    "stroke_read_model.add(Dense(len(word_encoder.classes_), activation = 'softmax'))\n",
    "stroke_read_model.compile(optimizer = 'adam', \n",
    "                          loss = 'categorical_crossentropy', \n",
    "                          metrics = ['categorical_accuracy', top_3_accuracy])\n",
    "stroke_read_model.summary()"
   ]
  },
  {
   "cell_type": "code",
   "execution_count": null,
   "metadata": {},
   "outputs": [],
   "source": []
  }
 ],
 "metadata": {
  "kernelspec": {
   "display_name": "Python3 tf",
   "language": "python",
   "name": "tf"
  },
  "language_info": {
   "codemirror_mode": {
    "name": "ipython",
    "version": 3
   },
   "file_extension": ".py",
   "mimetype": "text/x-python",
   "name": "python",
   "nbconvert_exporter": "python",
   "pygments_lexer": "ipython3",
   "version": "3.6.4"
  }
 },
 "nbformat": 4,
 "nbformat_minor": 2
}
